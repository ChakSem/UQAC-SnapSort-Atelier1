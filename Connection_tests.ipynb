{
 "cells": [
  {
   "cell_type": "code",
   "id": "initial_id",
   "metadata": {
    "collapsed": true,
    "ExecuteTime": {
     "end_time": "2025-03-10T21:52:51.135940Z",
     "start_time": "2025-03-10T21:52:51.130200Z"
    }
   },
   "source": [
    "from openai import OpenAI\n",
    "from prompt_toolkit.key_binding.bindings.named_commands import downcase_word\n",
    "\n",
    "from secret import OPENAI_API_KEY\n",
    "from PIL import Image\n",
    "import base64\n",
    "import os\n",
    "import json\n",
    "import re\n",
    "import pandas as pd\n",
    "import io\n",
    "from tabulate import tabulate"
   ],
   "outputs": [],
   "execution_count": 301
  },
  {
   "cell_type": "code",
   "id": "ce982c45fb8473a0",
   "metadata": {
    "ExecuteTime": {
     "end_time": "2025-03-10T21:52:51.328500Z",
     "start_time": "2025-03-10T21:52:51.146202Z"
    }
   },
   "source": [
    "client = OpenAI(api_key=OPENAI_API_KEY)\n",
    "model = \"gpt-4o-mini\""
   ],
   "outputs": [],
   "execution_count": 302
  },
  {
   "cell_type": "code",
   "id": "1f40ab4f21fdd05e",
   "metadata": {
    "ExecuteTime": {
     "end_time": "2025-03-10T21:52:51.338968Z",
     "start_time": "2025-03-10T21:52:51.335375Z"
    }
   },
   "source": [
    "def encode_image(image_path, max_size=(512, 512), quality=80):\n",
    "    image = Image.open(image_path)\n",
    "\n",
    "    # Redimensionner l'image\n",
    "    image.thumbnail(max_size)\n",
    "\n",
    "    # Convertir en bytes avec compression\n",
    "    buffer = io.BytesIO()\n",
    "    image.save(buffer, format=\"JPEG\", quality=quality)\n",
    "\n",
    "    # Encoder en Base64\n",
    "    encoded_string = base64.b64encode(buffer.getvalue()).decode(\"utf-8\")\n",
    "\n",
    "    return encoded_string"
   ],
   "outputs": [],
   "execution_count": 303
  },
  {
   "metadata": {},
   "cell_type": "raw",
   "source": [
    "def old_encode_image(image_path):\n",
    "     try:\n",
    "        with open(image_path, \"rb\") as image_file:\n",
    "            return base64.b64encode(image_file.read()).decode(\"utf-8\")\n",
    "\n",
    "     except Exception as e:\n",
    "\n",
    "        print(f\"Erreur lors de l'encodage de l'image {image_path} : {e}\")\n",
    "        return None"
   ],
   "id": "af4fab82627f88e8"
  },
  {
   "metadata": {
    "ExecuteTime": {
     "end_time": "2025-03-10T21:52:51.348063Z",
     "start_time": "2025-03-10T21:52:51.344484Z"
    }
   },
   "cell_type": "code",
   "source": [
    "def send_chat_request(message):\n",
    "    try:\n",
    "        response = client.chat.completions.create(\n",
    "            model=model, messages=message\n",
    "        )\n",
    "\n",
    "        result = response.choices[0].message.content.strip()\n",
    "        result = extract_json(result)\n",
    "\n",
    "        tokens = response.usage.total_tokens\n",
    "\n",
    "        return result, tokens\n",
    "\n",
    "\n",
    "    except Exception as e:\n",
    "        print(f\"Erreur OpenAI : {e}\")\n",
    "        return -1, None"
   ],
   "id": "f7cde3da756c024a",
   "outputs": [],
   "execution_count": 304
  },
  {
   "cell_type": "code",
   "id": "70c40a8c6b3ff456",
   "metadata": {
    "ExecuteTime": {
     "end_time": "2025-03-10T21:52:51.358937Z",
     "start_time": "2025-03-10T21:52:51.354412Z"
    }
   },
   "source": [
    "def chat_get_key_words(image_paths):\n",
    "\n",
    "    # Liste pour chaque image et chaque texte associé\n",
    "    content_list = []\n",
    "    for image_path in image_paths:\n",
    "        base64_image = encode_image(image_path)\n",
    "        image_name = os.path.basename(image_path)\n",
    "        content_list.append({\n",
    "            \"type\": \"text\",\n",
    "            \"text\": f\"\"\"Décris moi l'image avec 5 mots-clés.Retourne le résultat au format JSON : {{ {image_name} : [mot-clé1, mot-clé2, mot-clé3, mot-clé4, mot-clé5] }}\n",
    "            Si tu ne trouves pas de mot-clé, renvoie {{ {image_name} : \"nan\" }}\"\"\"\n",
    "        })\n",
    "        content_list.append({\n",
    "            \"type\": \"image_url\",\n",
    "            \"image_url\": {\"url\": f\"data:image/jpeg;base64,{base64_image}\"}\n",
    "        })\n",
    "\n",
    "    messages = [\n",
    "        {\n",
    "            \"role\": \"user\",\n",
    "            \"content\": content_list\n",
    "        }\n",
    "    ]\n",
    "\n",
    "    return send_chat_request(messages)\n"
   ],
   "outputs": [],
   "execution_count": 305
  },
  {
   "cell_type": "code",
   "id": "081bfdc4",
   "metadata": {
    "ExecuteTime": {
     "end_time": "2025-03-10T21:52:51.369315Z",
     "start_time": "2025-03-10T21:52:51.365638Z"
    }
   },
   "source": [
    "def extract_json(response_text):\n",
    "    \"\"\"\n",
    "    Extrait la portion JSON (délimitée par {}) de la réponse textuelle pour seulement avoir le dictionnaire et non le texte généré par l'ia.\n",
    "    \"\"\"\n",
    "    match = re.search(r'\\{.*\\}', response_text, re.DOTALL)\n",
    "    if match:\n",
    "        json_str = match.group()\n",
    "        try:\n",
    "            return json.loads(json_str)\n",
    "        except Exception as e:\n",
    "            print(f\"Erreur lors du chargement du JSON : {e}\")\n",
    "            return None\n",
    "    else:\n",
    "        print(\"Aucun JSON trouvé dans la réponse.\")\n",
    "        return None"
   ],
   "outputs": [],
   "execution_count": 306
  },
  {
   "cell_type": "code",
   "id": "88672749",
   "metadata": {
    "ExecuteTime": {
     "end_time": "2025-03-10T21:52:51.378415Z",
     "start_time": "2025-03-10T21:52:51.375324Z"
    }
   },
   "source": [
    "def chat_get_categories(keywords_output):\n",
    "    \"\"\"\n",
    "    Utilise les mots-clés extraits pour regrouper les images similaires en catégories.\n",
    "    Les images sont identifiées par leur ordre dans la liste.\n",
    "    \"\"\"\n",
    "\n",
    "    # Préparation d'un prompt détaillé incluant le résultat des mots-clés et l'ordre des images\n",
    "    prompt = f\"\"\"Voici les listes de mots-clés obtenues pour chaque image (dans l'ordre) : {keywords_output}\n",
    "    Regroupe les images similaires dans des catégories. Une catégorie est décrite par un seul mot-clé. Une image ne peut appartenir qu'à une seule catégorie. Retourne le résultat au format JSON : {{ \"categorie1\": [ \"name\", \"name\" ], \"categorie2\": [ \"name\", \"name\" ],...}}\"\"\"\n",
    "\n",
    "    messages = [\n",
    "        {\n",
    "            \"role\": \"user\",\n",
    "            \"content\": prompt\n",
    "        }\n",
    "    ]\n",
    "\n",
    "    return send_chat_request(messages)"
   ],
   "outputs": [],
   "execution_count": 307
  },
  {
   "cell_type": "code",
   "id": "81f3cc2e7fc615cc",
   "metadata": {
    "ExecuteTime": {
     "end_time": "2025-03-10T21:52:51.387762Z",
     "start_time": "2025-03-10T21:52:51.384337Z"
    }
   },
   "source": [
    "directory = \"test_data\"\n",
    "allowed_extensions = {\".jpg\", \".jpeg\", \".png\"}\n",
    "image_paths = [\n",
    "    os.path.join(directory, filename)\n",
    "    for filename in os.listdir(directory)\n",
    "    if os.path.splitext(filename)[1].lower() in allowed_extensions\n",
    "]"
   ],
   "outputs": [],
   "execution_count": 308
  },
  {
   "metadata": {},
   "cell_type": "raw",
   "source": [
    "keywords_output, tokens_keywords = chat_get_key_words(image_paths)\n",
    "print(\"Mots-clés par image :\")\n",
    "print(keywords_output)\n",
    "print(tokens_keywords)"
   ],
   "id": "906f23564b3acac4"
  },
  {
   "metadata": {},
   "cell_type": "raw",
   "source": [
    "categories_output, tokens_categories = chat_get_categories(keywords_output)\n",
    "print(\"Catégorisation des images :\")\n",
    "print(categories_output)\n",
    "print(tokens_categories)"
   ],
   "id": "dd28a19504306b02"
  },
  {
   "metadata": {},
   "cell_type": "raw",
   "source": [
    "total_tokens = tokens_keywords + tokens_categories\n",
    "total_tokens"
   ],
   "id": "ba560112a2582625"
  },
  {
   "metadata": {},
   "cell_type": "markdown",
   "source": "## Ajout des données au DataFrame",
   "id": "c81b0975cdb5e8a5"
  },
  {
   "metadata": {
    "ExecuteTime": {
     "end_time": "2025-03-10T21:52:51.403899Z",
     "start_time": "2025-03-10T21:52:51.399875Z"
    }
   },
   "cell_type": "code",
   "source": [
    "def create_df(image_paths):\n",
    "    image_list = []\n",
    "    for path in image_paths:\n",
    "        image = Image.open(path)\n",
    "        image_name = os.path.basename(path)\n",
    "        exifdata = image._getexif()\n",
    "        date_time, localisation = None, None\n",
    "        if exifdata:\n",
    "            for tag_id, value in exifdata.items():\n",
    "                tag = Image.ExifTags.TAGS.get(tag_id, tag_id)\n",
    "                if tag == \"DateTime\":\n",
    "                    date_time = value\n",
    "                elif tag == \"GPSInfo\":\n",
    "                    localisation = value\n",
    "\n",
    "            image_list.append((image_name, path, date_time, localisation))\n",
    "\n",
    "        else:\n",
    "            print(\"Aucune donnée EXIF trouvée.\")\n",
    "\n",
    "    df = pd.DataFrame(image_list, columns=[\"image_name\", \"path\", \"date_time\", \"localisation\"])\n",
    "    df[\"keywords\"] = \"\"\n",
    "    df[\"categories\"] = \"\"\n",
    "\n",
    "    return df"
   ],
   "id": "bb1f1aa40bd23944",
   "outputs": [],
   "execution_count": 309
  },
  {
   "metadata": {
    "ExecuteTime": {
     "end_time": "2025-03-10T21:52:51.414149Z",
     "start_time": "2025-03-10T21:52:51.410263Z"
    }
   },
   "cell_type": "code",
   "source": [
    "def add_keywords_to_df(image_data, keywords_output):\n",
    "    if keywords_output:\n",
    "        # Mise à jour uniquement pour les images présentes dans keywords_output\n",
    "        image_data[\"keywords\"] = image_data.apply(\n",
    "            lambda row: keywords_output[row[\"image_name\"]]\n",
    "            if row[\"image_name\"] in keywords_output else row[\"keywords\"], axis=1\n",
    "        )\n",
    "    else:\n",
    "        print(\"Aucun mot clé fourni ! \")\n",
    "    return image_data\n"
   ],
   "id": "96e1f2b510c0411a",
   "outputs": [],
   "execution_count": 310
  },
  {
   "metadata": {
    "ExecuteTime": {
     "end_time": "2025-03-10T21:52:51.425473Z",
     "start_time": "2025-03-10T21:52:51.420881Z"
    }
   },
   "cell_type": "code",
   "source": [
    "def add_categories_to_df(image_data, categories_output):\n",
    "    if categories_output:\n",
    "        #Inversion du dict : on associe une categorie a chaque image\n",
    "        image_to_categories = {img: cat for cat, images in categories_output.items() for img in images}\n",
    "\n",
    "        image_data.loc[image_data[\"image_name\"].isin(image_to_categories.keys()), \"categories\"] = image_data[\"image_name\"].map(image_to_categories)\n",
    "    else:\n",
    "        print(\"Aucune catégorisation trouvée !\")\n",
    "\n",
    "    return image_data"
   ],
   "id": "26fd4a27adc7d223",
   "outputs": [],
   "execution_count": 311
  },
  {
   "metadata": {
    "ExecuteTime": {
     "end_time": "2025-03-10T21:52:51.440989Z",
     "start_time": "2025-03-10T21:52:51.431616Z"
    }
   },
   "cell_type": "code",
   "source": [
    "def get_missing_values(dictionnary):\n",
    "    missing_values = {}\n",
    "    for key, value in dictionnary.items():\n",
    "        if value is None or value == \"\" or value == \"nan\" or value == \"None\":\n",
    "            missing_values.update({key: value})\n",
    "\n",
    "    return missing_values"
   ],
   "id": "9d9dd707ebf57f51",
   "outputs": [],
   "execution_count": 312
  },
  {
   "metadata": {
    "ExecuteTime": {
     "end_time": "2025-03-10T21:52:51.450450Z",
     "start_time": "2025-03-10T21:52:51.446819Z"
    }
   },
   "cell_type": "code",
   "source": [
    "def get_missing_path(paths, dictionnary):\n",
    "    missing_paths = []\n",
    "    for path in paths:\n",
    "        image_name = os.path.split(path)[-1]\n",
    "        #print(f\"image_name : {image_name}\")\n",
    "        if image_name in dictionnary.keys() or path in dictionnary.keys():\n",
    "            missing_paths.append(path)\n",
    "\n",
    "    return missing_paths"
   ],
   "id": "9fedf899d9476b87",
   "outputs": [],
   "execution_count": 313
  },
  {
   "metadata": {
    "ExecuteTime": {
     "end_time": "2025-03-10T21:52:51.460082Z",
     "start_time": "2025-03-10T21:52:51.456694Z"
    }
   },
   "cell_type": "code",
   "source": [
    "def get_missing_values_path(paths, dictionnary):\n",
    "    missing_values = get_missing_values(dictionnary)\n",
    "    missing_paths = get_missing_path(paths, missing_values)\n",
    "    print(f\"Images détectées avec valeurs manquantes : {missing_values.keys()}\")\n",
    "    print(f\"Chemins renvoyés pour traitement : {missing_paths}\")\n",
    "    return missing_paths"
   ],
   "id": "73579f00f47caa21",
   "outputs": [],
   "execution_count": 314
  },
  {
   "metadata": {
    "ExecuteTime": {
     "end_time": "2025-03-10T21:52:51.471062Z",
     "start_time": "2025-03-10T21:52:51.466255Z"
    }
   },
   "cell_type": "code",
   "source": [
    "def pipeline_keywords(image_paths, limit_size=10):\n",
    "    image_data = create_df(image_paths)\n",
    "    new_image_paths = image_paths[:]\n",
    "    total_keywords_tokens = 0\n",
    "\n",
    "    all_keywords = False\n",
    "    keywords_output = {}\n",
    "    only_once = True\n",
    "\n",
    "    while not all_keywords :\n",
    "        #print(f\"Entree dans la boucle avec {new_image_paths}\")\n",
    "        for i in range(0, len(new_image_paths), limit_size):\n",
    "            interval = [i, min(i + limit_size, len(image_paths))]\n",
    "            subset_image_paths = new_image_paths[interval[0]:interval[1]]\n",
    "            print(f\"Image paths : {subset_image_paths}\")\n",
    "\n",
    "            keywords_output, keywords_tokens = chat_get_key_words(subset_image_paths)\n",
    "            print(f\"Keywords : {keywords_output}\")\n",
    "            total_keywords_tokens += keywords_tokens\n",
    "\n",
    "            image_data = add_keywords_to_df(image_data, keywords_output)\n",
    "\n",
    "            print(f\"Total tokens : {total_keywords_tokens}\")\n",
    "\n",
    "        if only_once:\n",
    "            fake_image_path = \"photos_victor/IMG_20241228_132157.jpg\"\n",
    "            keywords_output[fake_image_path] = \"nan\"\n",
    "            new_image_paths.append(fake_image_path)\n",
    "\n",
    "            new_row = pd.DataFrame({\"image_name\" : \"IMG_20241228_132157.jpg\",\"path\": [fake_image_path]})\n",
    "            image_data = pd.concat([image_data, new_row], ignore_index=True)\n",
    "\n",
    "            only_once = False\n",
    "\n",
    "        new_image_paths = get_missing_values_path(new_image_paths, keywords_output)\n",
    "        print(f\"Images à traiter après filtrage : {new_image_paths}\")\n",
    "\n",
    "\n",
    "        if not new_image_paths :\n",
    "            all_keywords = True\n",
    "\n",
    "    return image_data, total_keywords_tokens"
   ],
   "id": "af629d4ce56965d6",
   "outputs": [],
   "execution_count": 315
  },
  {
   "metadata": {
    "ExecuteTime": {
     "end_time": "2025-03-10T21:53:09.064070Z",
     "start_time": "2025-03-10T21:52:51.477215Z"
    }
   },
   "cell_type": "code",
   "source": "image_data, keywords_tokens = pipeline_keywords(image_paths, 10)",
   "id": "a4496ec0f27068e6",
   "outputs": [
    {
     "name": "stdout",
     "output_type": "stream",
     "text": [
      "Image paths : ['test_data\\\\20240822_142034.jpg', 'test_data\\\\20240822_142036.jpg', 'test_data\\\\20240822_142048.jpg', 'test_data\\\\20240825_121144.jpg', 'test_data\\\\20240826_184159.jpg', 'test_data\\\\20240827_084810.jpg', 'test_data\\\\20240827_084914.jpg', 'test_data\\\\20240827_092136.jpg', 'test_data\\\\20240828_141857.jpg', 'test_data\\\\20240828_174310.jpg']\n",
      "Keywords : {'20240822_142034.jpg': ['bâtiment', 'brouillard', 'urbain', 'routes', 'arbres'], '20240822_142036.jpg': ['bâtiment', 'moderne', 'fenêtres', 'architecture', 'urbain'], '20240822_142048.jpg': ['bâtiment', 'historique', 'pierres', 'voitures', 'rond-point'], '20240825_121144.jpg': ['beurre', 'cacahuète', 'pot', 'animal', 'épicerie'], '20240826_184159.jpg': ['sentier', 'forêt', 'nature', 'plantes', 'jouer'], '20240827_084810.jpg': ['bâtiment', 'herbe', 'architecture', 'extérieur', 'verre'], '20240827_084914.jpg': 'nan', '20240827_092136.jpg': ['évenement', 'tente', 'bacs', 'groupe', 'activités'], '20240828_141857.jpg': ['bâtiment', 'drapeaux', 'événement', 'herbe', 'extérieur'], '20240828_174310.jpg': ['boîtes', 'courriers', 'parc', 'herbe', 'chemin']}\n",
      "Total tokens : 86191\n",
      "Image paths : ['test_data\\\\20240828_211839.jpg', 'test_data\\\\20240830_104749.jpg', 'test_data\\\\20240831_160656.jpg', 'test_data\\\\20240831_161613.jpg', 'test_data\\\\20240831_180654.jpg', 'test_data\\\\20240831_194108.jpg', 'test_data\\\\20240902_150137.jpg', 'test_data\\\\20240902_152654.jpg', 'test_data\\\\20240902_162507.jpg', 'test_data\\\\20250213_165625.jpg']\n",
      "Keywords : {'20240828_211839.jpg': ['lasagne', 'plats', 'cuisine', 'repas', 'appétit'], '20240830_104749.jpg': ['enveloppes', 'étiquettes', 'papeterie', 'organisation', 'bureau'], '20240831_160656.jpg': ['chaussures', 'couleurs', 'vente', 'commerce', 'magasin'], '20240831_161613.jpg': ['costumes', 'Halloween', 'magasin', 'décoration', 'fête'], '20240831_180654.jpg': ['infuseur', 'thé', 'licorne', 'utilitaire', 'accessoire'], '20240831_194108.jpg': ['crêpes', 'repas', 'cuisine', 'délicieux', 'table'], '20240902_150137.jpg': ['crêpes', 'matériaux', 'ingrédients', 'cuisine', 'table'], '20240902_152654.jpg': ['arbres', 'forêt', 'nature', 'paysage', 'verdoyant'], '20240902_162507.jpg': ['arbre', 'ciel', 'nature', 'branches', 'bleu'], '20250213_165625.jpg': ['neige', 'hiver', 'tempête', 'paysage', 'froid']}\n",
      "Total tokens : 172397\n",
      "Image paths : ['test_data\\\\20250217_081138.jpg', 'test_data\\\\20250219_084504.jpg']\n",
      "Keywords : {'20250217_081138.jpg': ['neige', 'voiture', 'pelleteuse', 'paysage', 'hiver'], '20250219_084504.jpg': ['route', 'bus', 'neige', 'circulation', 'feux']}\n",
      "Total tokens : 189643\n",
      "Images détectées avec valeurs manquantes : dict_keys(['photos_victor/IMG_20241228_132157.jpg'])\n",
      "Chemins renvoyés pour traitement : ['photos_victor/IMG_20241228_132157.jpg']\n",
      "Images à traiter après filtrage : ['photos_victor/IMG_20241228_132157.jpg']\n",
      "Image paths : ['photos_victor/IMG_20241228_132157.jpg']\n",
      "Keywords : {'IMG_20241228_132157.jpg': ['dessert', 'glace', 'chocolat', 'sauce', 'assiette']}\n",
      "Total tokens : 198277\n",
      "Images détectées avec valeurs manquantes : dict_keys([])\n",
      "Chemins renvoyés pour traitement : []\n",
      "Images à traiter après filtrage : []\n"
     ]
    }
   ],
   "execution_count": 316
  },
  {
   "metadata": {
    "ExecuteTime": {
     "end_time": "2025-03-10T21:53:09.078375Z",
     "start_time": "2025-03-10T21:53:09.074362Z"
    }
   },
   "cell_type": "code",
   "source": "print(tabulate(image_data, headers=\"keys\", tablefmt=\"psql\"))",
   "id": "45ae9e48232a4aa6",
   "outputs": [
    {
     "name": "stdout",
     "output_type": "stream",
     "text": [
      "+----+-------------------------+---------------------------------------+---------------------+---------------------------------------------------------------------+---------------------------------------------------------------------+--------------+\n",
      "|    | image_name              | path                                  | date_time           | localisation                                                        | keywords                                                            | categories   |\n",
      "|----+-------------------------+---------------------------------------+---------------------+---------------------------------------------------------------------+---------------------------------------------------------------------+--------------|\n",
      "|  0 | 20240822_142034.jpg     | test_data\\20240822_142034.jpg         | 2024:08:22 14:20:34 |                                                                     | ['bâtiment', 'brouillard', 'urbain', 'routes', 'arbres']            |              |\n",
      "|  1 | 20240822_142036.jpg     | test_data\\20240822_142036.jpg         | 2024:08:22 14:20:37 |                                                                     | ['bâtiment', 'moderne', 'fenêtres', 'architecture', 'urbain']       |              |\n",
      "|  2 | 20240822_142048.jpg     | test_data\\20240822_142048.jpg         | 2024:08:22 14:20:48 |                                                                     | ['bâtiment', 'historique', 'pierres', 'voitures', 'rond-point']     |              |\n",
      "|  3 | 20240825_121144.jpg     | test_data\\20240825_121144.jpg         | 2024:08:25 12:11:44 |                                                                     | ['beurre', 'cacahuète', 'pot', 'animal', 'épicerie']                |              |\n",
      "|  4 | 20240826_184159.jpg     | test_data\\20240826_184159.jpg         | 2024:08:26 18:41:59 |                                                                     | ['sentier', 'forêt', 'nature', 'plantes', 'jouer']                  |              |\n",
      "|  5 | 20240827_084810.jpg     | test_data\\20240827_084810.jpg         | 2024:08:27 08:48:10 |                                                                     | ['bâtiment', 'herbe', 'architecture', 'extérieur', 'verre']         |              |\n",
      "|  6 | 20240827_084914.jpg     | test_data\\20240827_084914.jpg         | 2024:08:27 08:49:14 |                                                                     | nan                                                                 |              |\n",
      "|  7 | 20240827_092136.jpg     | test_data\\20240827_092136.jpg         | 2024:08:27 09:21:36 |                                                                     | ['évenement', 'tente', 'bacs', 'groupe', 'activités']               |              |\n",
      "|  8 | 20240828_141857.jpg     | test_data\\20240828_141857.jpg         | 2024:08:28 14:18:58 |                                                                     | ['bâtiment', 'drapeaux', 'événement', 'herbe', 'extérieur']         |              |\n",
      "|  9 | 20240828_174310.jpg     | test_data\\20240828_174310.jpg         | 2024:08:28 17:43:11 |                                                                     | ['boîtes', 'courriers', 'parc', 'herbe', 'chemin']                  |              |\n",
      "| 10 | 20240828_211839.jpg     | test_data\\20240828_211839.jpg         | 2024:08:28 21:18:39 |                                                                     | ['lasagne', 'plats', 'cuisine', 'repas', 'appétit']                 |              |\n",
      "| 11 | 20240830_104749.jpg     | test_data\\20240830_104749.jpg         | 2024:08:30 10:47:50 |                                                                     | ['enveloppes', 'étiquettes', 'papeterie', 'organisation', 'bureau'] |              |\n",
      "| 12 | 20240831_160656.jpg     | test_data\\20240831_160656.jpg         | 2024:08:31 16:06:57 |                                                                     | ['chaussures', 'couleurs', 'vente', 'commerce', 'magasin']          |              |\n",
      "| 13 | 20240831_161613.jpg     | test_data\\20240831_161613.jpg         | 2024:08:31 16:16:13 |                                                                     | ['costumes', 'Halloween', 'magasin', 'décoration', 'fête']          |              |\n",
      "| 14 | 20240831_180654.jpg     | test_data\\20240831_180654.jpg         | 2024:08:31 18:06:55 |                                                                     | ['infuseur', 'thé', 'licorne', 'utilitaire', 'accessoire']          |              |\n",
      "| 15 | 20240831_194108.jpg     | test_data\\20240831_194108.jpg         | 2024:08:31 19:41:08 |                                                                     | ['crêpes', 'repas', 'cuisine', 'délicieux', 'table']                |              |\n",
      "| 16 | 20240902_150137.jpg     | test_data\\20240902_150137.jpg         | 2024:09:02 15:01:38 |                                                                     | ['crêpes', 'matériaux', 'ingrédients', 'cuisine', 'table']          |              |\n",
      "| 17 | 20240902_152654.jpg     | test_data\\20240902_152654.jpg         | 2024:09:02 15:26:54 |                                                                     | ['arbres', 'forêt', 'nature', 'paysage', 'verdoyant']               |              |\n",
      "| 18 | 20240902_162507.jpg     | test_data\\20240902_162507.jpg         | 2024:09:02 16:25:07 |                                                                     | ['arbre', 'ciel', 'nature', 'branches', 'bleu']                     |              |\n",
      "| 19 | 20250213_165625.jpg     | test_data\\20250213_165625.jpg         | 2025:02:13 16:56:25 |                                                                     | ['neige', 'hiver', 'tempête', 'paysage', 'froid']                   |              |\n",
      "| 20 | 20250217_081138.jpg     | test_data\\20250217_081138.jpg         | 2025:02:17 08:11:38 |                                                                     | ['neige', 'voiture', 'pelleteuse', 'paysage', 'hiver']              |              |\n",
      "| 21 | 20250219_084504.jpg     | test_data\\20250219_084504.jpg         | 2025:02:19 08:45:04 | {1: 'N', 2: (48.0, 24.0, 43.5582), 3: 'W', 4: (71.0, 3.0, 4.06764)} | ['route', 'bus', 'neige', 'circulation', 'feux']                    |              |\n",
      "| 22 | IMG_20241228_132157.jpg | photos_victor/IMG_20241228_132157.jpg | nan                 | nan                                                                 | ['dessert', 'glace', 'chocolat', 'sauce', 'assiette']               | nan          |\n",
      "+----+-------------------------+---------------------------------------+---------------------+---------------------------------------------------------------------+---------------------------------------------------------------------+--------------+\n"
     ]
    }
   ],
   "execution_count": 317
  },
  {
   "metadata": {
    "ExecuteTime": {
     "end_time": "2025-03-10T21:35:10.908977Z",
     "start_time": "2025-03-10T21:35:10.904222Z"
    }
   },
   "cell_type": "code",
   "source": "copy_image_data = image_data.copy()",
   "id": "e02aab71493f884f",
   "outputs": [],
   "execution_count": 229
  },
  {
   "metadata": {
    "ExecuteTime": {
     "end_time": "2025-03-10T21:35:11.201465Z",
     "start_time": "2025-03-10T21:35:11.192343Z"
    }
   },
   "cell_type": "code",
   "source": [
    "def pipeline_categories(image_data, limit_size=200):\n",
    "    keywords = image_data.set_index(\"image_name\")[\"keywords\"].to_dict()\n",
    "    total_categories_tokens = 0\n",
    "\n",
    "    for i in range(0, len(keywords), limit_size):\n",
    "        interval = [i, min(i + limit_size, len(image_data))]\n",
    "        subset_keys = list(keywords.keys())[interval[0]:interval[1]]\n",
    "\n",
    "        subset_keywords = {key: keywords[key] for key in subset_keys}\n",
    "\n",
    "        categories_output, categories_tokens = chat_get_categories(subset_keywords)\n",
    "        total_categories_tokens += categories_tokens\n",
    "\n",
    "        image_data = add_categories_to_df(image_data, categories_output)\n",
    "\n",
    "    return image_data, total_categories_tokens"
   ],
   "id": "f0fa26ead8957b75",
   "outputs": [],
   "execution_count": 230
  },
  {
   "metadata": {
    "ExecuteTime": {
     "end_time": "2025-03-10T21:35:14.881273Z",
     "start_time": "2025-03-10T21:35:11.604639Z"
    }
   },
   "cell_type": "code",
   "source": "copy_image_data, categories_tokens = pipeline_categories(copy_image_data)",
   "id": "6b9eaa330ea7cd2d",
   "outputs": [],
   "execution_count": 231
  },
  {
   "metadata": {
    "ExecuteTime": {
     "end_time": "2025-03-10T21:35:14.892038Z",
     "start_time": "2025-03-10T21:35:14.885148Z"
    }
   },
   "cell_type": "code",
   "source": "print(tabulate(copy_image_data, headers=\"keys\", tablefmt=\"psql\"))",
   "id": "b4aee09bd551e549",
   "outputs": [
    {
     "name": "stdout",
     "output_type": "stream",
     "text": [
      "+----+-------------------------+---------------------------------------+---------------------+---------------------------------------------------------------------+--------------------------------------------------------------------------------+----------------+\n",
      "|    | image_name              | path                                  | date_time           | localisation                                                        | keywords                                                                       | categories     |\n",
      "|----+-------------------------+---------------------------------------+---------------------+---------------------------------------------------------------------+--------------------------------------------------------------------------------+----------------|\n",
      "|  0 | 20240822_142034.jpg     | test_data\\20240822_142034.jpg         | 2024:08:22 14:20:34 |                                                                     | ['bâtiments', 'rue', 'arbre', 'ciel nuageux', 'angle de vue']                  | architecture   |\n",
      "|  1 | 20240822_142036.jpg     | test_data\\20240822_142036.jpg         | 2024:08:22 14:20:37 |                                                                     | ['bâtiment moderne', 'fenêtres', 'entrée', 'rue', 'végétation']                | architecture   |\n",
      "|  2 | 20240822_142048.jpg     | test_data\\20240822_142048.jpg         | 2024:08:22 14:20:48 |                                                                     | ['architecture', 'rue', 'voiture', 'feu de circulation', 'détails de façade']  | architecture   |\n",
      "|  3 | 20240825_121144.jpg     | test_data\\20240825_121144.jpg         | 2024:08:25 12:11:44 |                                                                     | ['pot', \"beurre d'arachide\", 'étiquette', 'ours', 'magasin']                   | achat          |\n",
      "|  4 | 20240826_184159.jpg     | test_data\\20240826_184159.jpg         | 2024:08:26 18:41:59 |                                                                     | ['sentier', 'arbres', 'nature', 'feuilles', 'silence']                         | nature         |\n",
      "|  5 | 20240827_084810.jpg     | test_data\\20240827_084810.jpg         | 2024:08:27 08:48:10 |                                                                     | ['bâtiment', 'espace vert', 'mobilier', 'végétation', 'design moderne']        | architecture   |\n",
      "|  6 | 20240827_084914.jpg     | test_data\\20240827_084914.jpg         | 2024:08:27 08:49:14 |                                                                     | ['événement', 'tente', 'participants', 'panneau', 'mobilier']                  | événement      |\n",
      "|  7 | 20240827_092136.jpg     | test_data\\20240827_092136.jpg         | 2024:08:27 09:21:36 |                                                                     | ['bâtiment', 'drapeaux', 'esplanade', 'événement', 'végétation']               | architecture   |\n",
      "|  8 | 20240828_141857.jpg     | test_data\\20240828_141857.jpg         | 2024:08:28 14:18:58 |                                                                     | ['packaging', 'collation', 'chocolat', 'bretzels', 'magasin']                  | achat          |\n",
      "|  9 | 20240828_174310.jpg     | test_data\\20240828_174310.jpg         | 2024:08:28 17:43:11 |                                                                     | ['boîtes aux lettres', 'extérieur', 'paysage', 'brouillard', 'infrastructure'] | infrastructure |\n",
      "| 10 | 20240828_211839.jpg     | test_data\\20240828_211839.jpg         | 2024:08:28 21:18:39 |                                                                     | ['lasagne', 'plat', 'repas', 'cuisine', 'verre']                               | cuisine        |\n",
      "| 11 | 20240830_104749.jpg     | test_data\\20240830_104749.jpg         | 2024:08:30 10:47:50 |                                                                     | ['enveloppes', 'étiquettes', 'organisation', 'correspondance', 'bureau']       | bureau         |\n",
      "| 12 | 20240831_160656.jpg     | test_data\\20240831_160656.jpg         | 2024:08:31 16:06:57 |                                                                     | ['ciabattini', 'couleurs', 'chaussures', 'marche', 'accessoires']              |                |\n",
      "| 13 | 20240831_161613.jpg     | test_data\\20240831_161613.jpg         | 2024:08:31 16:16:13 |                                                                     | ['Halloween', 'costumes', 'magasin', 'décorations', 'fête']                    | achat          |\n",
      "| 14 | 20240831_180654.jpg     | test_data\\20240831_180654.jpg         | 2024:08:31 18:06:55 |                                                                     | ['infuseur', 'thé', 'licorne', 'utilisation', 'maison']                        | cuisine        |\n",
      "| 15 | 20240831_194108.jpg     | test_data\\20240831_194108.jpg         | 2024:08:31 19:41:08 |                                                                     |                                                                                |                |\n",
      "| 16 | 20240902_150137.jpg     | test_data\\20240902_150137.jpg         | 2024:09:02 15:01:38 |                                                                     | ['crêpes', 'repas', 'table', 'ingrédients', 'cuisine']                         | cuisine        |\n",
      "| 17 | 20240902_152654.jpg     | test_data\\20240902_152654.jpg         | 2024:09:02 15:26:54 |                                                                     | ['arbres', 'nature', 'forêt', 'soleil', 'verdure']                             | nature         |\n",
      "| 18 | 20240902_162507.jpg     | test_data\\20240902_162507.jpg         | 2024:09:02 16:25:07 |                                                                     | ['branche', 'ciel', 'arbre', 'nature', 'bleu']                                 | nature         |\n",
      "| 19 | 20250213_165625.jpg     | test_data\\20250213_165625.jpg         | 2025:02:13 16:56:25 |                                                                     | ['neige', 'hiver', 'rues', 'tempête', 'paysage']                               | hiver          |\n",
      "| 20 | 20250217_081138.jpg     | test_data\\20250217_081138.jpg         | 2025:02:17 08:11:38 |                                                                     | ['neige', 'voiture', 'paysage', 'hiver', 'pelleteuse']                         | hiver          |\n",
      "| 21 | 20250219_084504.jpg     | test_data\\20250219_084504.jpg         | 2025:02:19 08:45:04 | {1: 'N', 2: (48.0, 24.0, 43.5582), 3: 'W', 4: (71.0, 3.0, 4.06764)} | ['route', 'bus', 'neige', 'circulation', 'feu']                                | hiver          |\n",
      "| 22 | IMG_20241228_132157.jpg | photos_victor/IMG_20241228_132157.jpg | nan                 | nan                                                                 | ['dessert', 'glace', 'chocolat', 'assiette', 'sauce']                          | décoration     |\n",
      "+----+-------------------------+---------------------------------------+---------------------+---------------------------------------------------------------------+--------------------------------------------------------------------------------+----------------+\n"
     ]
    }
   ],
   "execution_count": 232
  },
  {
   "metadata": {
    "ExecuteTime": {
     "end_time": "2025-02-28T20:54:27.737386Z",
     "start_time": "2025-02-28T20:54:27.734919Z"
    }
   },
   "cell_type": "code",
   "source": "",
   "id": "3e936fe30f48a13",
   "outputs": [],
   "execution_count": null
  }
 ],
 "metadata": {
  "kernelspec": {
   "display_name": "Python (SnapSort)",
   "language": "python",
   "name": "snapsort_venv"
  },
  "language_info": {
   "codemirror_mode": {
    "name": "ipython",
    "version": 3
   },
   "file_extension": ".py",
   "mimetype": "text/x-python",
   "name": "python",
   "nbconvert_exporter": "python",
   "pygments_lexer": "ipython3",
   "version": "3.13.0"
  }
 },
 "nbformat": 4,
 "nbformat_minor": 5
}
