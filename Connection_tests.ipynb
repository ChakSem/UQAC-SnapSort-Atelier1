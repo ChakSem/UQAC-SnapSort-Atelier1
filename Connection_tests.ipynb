{
 "cells": [
  {
   "cell_type": "code",
   "execution_count": 36,
   "id": "initial_id",
   "metadata": {
    "ExecuteTime": {
     "end_time": "2025-02-20T15:59:49.078171Z",
     "start_time": "2025-02-20T15:59:49.073805Z"
    },
    "collapsed": true
   },
   "outputs": [],
   "source": [
    "from openai import OpenAI\n",
    "from secret import OPENAI_API_KEY\n",
    "import base64\n",
    "import os\n",
    "import json\n",
    "import re"
   ]
  },
  {
   "cell_type": "code",
   "execution_count": 37,
   "id": "ce982c45fb8473a0",
   "metadata": {
    "ExecuteTime": {
     "end_time": "2025-02-20T15:59:49.290796Z",
     "start_time": "2025-02-20T15:59:49.089205Z"
    }
   },
   "outputs": [],
   "source": [
    "client = OpenAI(api_key=OPENAI_API_KEY)"
   ]
  },
  {
   "cell_type": "code",
   "execution_count": 38,
   "id": "1f40ab4f21fdd05e",
   "metadata": {
    "ExecuteTime": {
     "end_time": "2025-02-20T15:59:49.296761Z",
     "start_time": "2025-02-20T15:59:49.292801Z"
    }
   },
   "outputs": [],
   "source": [
    "def encode_image(image_path):\n",
    "    with open(image_path, \"rb\") as image_file:\n",
    "        return base64.b64encode(image_file.read()).decode(\"utf-8\")"
   ]
  },
  {
   "cell_type": "code",
   "execution_count": 39,
   "id": "70c40a8c6b3ff456",
   "metadata": {
    "ExecuteTime": {
     "end_time": "2025-02-20T15:59:49.303889Z",
     "start_time": "2025-02-20T15:59:49.300497Z"
    }
   },
   "outputs": [],
   "source": [
    "def chat(base64_images):\n",
    "    try:\n",
    "        # Liste pour chaque image et chaque texte associé\n",
    "        content_list = []\n",
    "        for i, base64_image in enumerate(base64_images):\n",
    "            content_list.append({\n",
    "                \"type\": \"text\",\n",
    "                \"text\": f\"Décris moi l'image {i+1} avec 5 mots-clés. Le format est le suivant : [mot-clé1, mot-clé2, mot-clé3, mot-clé4, mot-clé5]\"\n",
    "            })\n",
    "            content_list.append({\n",
    "                \"type\": \"image_url\",\n",
    "                \"image_url\": {\"url\": f\"data:image/jpeg;base64,{base64_image}\"}\n",
    "            })\n",
    "\n",
    "        messages = [\n",
    "            {\n",
    "                \"role\": \"user\",\n",
    "                \"content\": content_list\n",
    "            }\n",
    "        ]\n",
    "\n",
    "        chat_completion = client.chat.completions.create(\n",
    "            model=\"gpt-4o-mini\", messages=messages\n",
    "        )\n",
    "\n",
    "        return chat_completion.choices[0].message.content.strip()\n",
    "\n",
    "    except Exception as e:\n",
    "        print(f\"Erreur OpenAI : {e}\")\n",
    "        return None"
   ]
  },
  {
   "cell_type": "code",
   "execution_count": null,
   "id": "081bfdc4",
   "metadata": {},
   "outputs": [],
   "source": [
    "def extract_json(response_text):\n",
    "    \"\"\"\n",
    "    Extrait la portion JSON (délimitée par {}) de la réponse textuelle pour seulement avoir le dictionnaire et non le texte généré par l'ia.\n",
    "    \"\"\"\n",
    "    match = re.search(r'\\{.*\\}', response_text, re.DOTALL)\n",
    "    if match:\n",
    "        json_str = match.group()\n",
    "        try:\n",
    "            return json.loads(json_str)\n",
    "        except Exception as e:\n",
    "            print(f\"Erreur lors du chargement du JSON : {e}\")\n",
    "            return None\n",
    "    else:\n",
    "        print(\"Aucun JSON trouvé dans la réponse.\")\n",
    "        return None"
   ]
  },
  {
   "cell_type": "code",
   "execution_count": null,
   "id": "88672749",
   "metadata": {},
   "outputs": [],
   "source": [
    "def categorize_photos(keywords_output, image_paths):\n",
    "    \"\"\"\n",
    "    Utilise les mots-clés extraits pour regrouper les images similaires en catégories.\n",
    "    Les images sont identifiées par leur ordre dans la liste.\n",
    "    \"\"\"\n",
    "    try:\n",
    "        # Préparation d'un prompt détaillé incluant le résultat des mots-clés et l'ordre des images\n",
    "        prompt = f\"\"\"Voici les listes de mots-clés obtenues pour chaque image (dans l'ordre) : {keywords_output}\n",
    "\n",
    "        L'ordre des images est le suivant : {chr(10).join([f\"Image {i+1} : {path}\" for i, path in enumerate(image_paths)])}\n",
    "\n",
    "        En te basant sur ces informations, regroupe les images similaires dans des catégories.\n",
    "        Retourne le résultat au format JSON en indiquant pour chaque catégorie la liste des indices des images (par exemple : \"Image 1\", \"Image 3\", etc.) qui appartiennent à cette catégorie.\n",
    "        Le format attendu est :\n",
    "        {{\n",
    "            \"categorie1\": [ \"Image 1\", \"Image 3\" ],\n",
    "            \"categorie2\": [ \"Image 2\", \"Image 4\" ],\n",
    "            ...\n",
    "        }}\n",
    "        \"\"\"\n",
    "        messages = [\n",
    "            {\n",
    "                \"role\": \"user\",\n",
    "                \"content\": prompt\n",
    "            }\n",
    "        ]\n",
    "        chat_completion = client.chat.completions.create(\n",
    "            model=\"gpt-4o-mini\", messages=messages\n",
    "        )\n",
    "        response_text = chat_completion.choices[0].message.content.strip()\n",
    "        return extract_json(response_text)\n",
    "\n",
    "    except Exception as e:\n",
    "        print(f\"Erreur OpenAI : {e}\")\n",
    "        return None"
   ]
  },
  {
   "cell_type": "code",
   "execution_count": 42,
   "id": "81f3cc2e7fc615cc",
   "metadata": {
    "ExecuteTime": {
     "end_time": "2025-02-20T15:59:49.322478Z",
     "start_time": "2025-02-20T15:59:49.307940Z"
    }
   },
   "outputs": [],
   "source": [
    "directory = \"test_data\"\n",
    "allowed_extensions = {\".jpg\", \".jpeg\", \".png\"}\n",
    "image_paths = [\n",
    "    os.path.join(directory, filename)\n",
    "    for filename in os.listdir(directory)\n",
    "    if os.path.splitext(filename)[1].lower() in allowed_extensions\n",
    "]\n",
    "\n",
    "base64_images = [encode_image(path) for path in image_paths]"
   ]
  },
  {
   "cell_type": "code",
   "execution_count": 43,
   "id": "b4fb5c4f85a589af",
   "metadata": {
    "ExecuteTime": {
     "end_time": "2025-02-20T15:59:56.923615Z",
     "start_time": "2025-02-20T15:59:49.331318Z"
    }
   },
   "outputs": [
    {
     "name": "stdout",
     "output_type": "stream",
     "text": [
      "Mots-clés par image :\n",
      "1. [sentier, arbres, nature, verdure, tranquillité]\n",
      "2. [lasagnes, nourriture, plat, cuisine, récipient]\n",
      "3. [chaussures, couleurs, rangement, commerce, accessoire]\n",
      "4. [ordinateur, programmation, notes, travail, emploi du temps]\n"
     ]
    }
   ],
   "source": [
    "keywords_output = chat(base64_images)\n",
    "print(\"Mots-clés par image :\")\n",
    "print(keywords_output)"
   ]
  },
  {
   "cell_type": "markdown",
   "id": "a23082d7",
   "metadata": {},
   "source": [
    "9s -> 1 image\n",
    "\n",
    "22s - 42s -> 4 images (pas constant)"
   ]
  },
  {
   "cell_type": "code",
   "execution_count": 44,
   "id": "376366d43581ff86",
   "metadata": {
    "ExecuteTime": {
     "end_time": "2025-02-20T15:59:56.938314Z",
     "start_time": "2025-02-20T15:59:56.933181Z"
    }
   },
   "outputs": [
    {
     "name": "stdout",
     "output_type": "stream",
     "text": [
      "Catégorisation des images :\n",
      "{'nature': ['Image 1'], 'nourriture': ['Image 2'], 'mode': ['Image 3'], 'technologie': ['Image 4']}\n"
     ]
    }
   ],
   "source": [
    "categories = categorize_photos(keywords_output, image_paths)\n",
    "print(\"Catégorisation des images :\")\n",
    "print(categories)"
   ]
  },
  {
   "cell_type": "code",
   "execution_count": null,
   "id": "a3da7edc6c2b974",
   "metadata": {
    "ExecuteTime": {
     "end_time": "2025-02-20T15:59:56.955794Z",
     "start_time": "2025-02-20T15:59:56.953344Z"
    }
   },
   "outputs": [],
   "source": []
  }
 ],
 "metadata": {
  "kernelspec": {
   "display_name": "myenv",
   "language": "python",
   "name": "python3"
  },
  "language_info": {
   "codemirror_mode": {
    "name": "ipython",
    "version": 3
   },
   "file_extension": ".py",
   "mimetype": "text/x-python",
   "name": "python",
   "nbconvert_exporter": "python",
   "pygments_lexer": "ipython3",
   "version": "3.13.0"
  }
 },
 "nbformat": 4,
 "nbformat_minor": 5
}
