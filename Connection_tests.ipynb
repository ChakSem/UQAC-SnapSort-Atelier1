{
 "cells": [
  {
   "cell_type": "code",
   "id": "initial_id",
   "metadata": {
    "collapsed": true,
    "ExecuteTime": {
     "end_time": "2025-02-28T20:25:15.743372Z",
     "start_time": "2025-02-28T20:25:15.726042Z"
    }
   },
   "source": [
    "from openai import OpenAI\n",
    "from secret import OPENAI_API_KEY\n",
    "from PIL import Image\n",
    "import base64\n",
    "import os\n",
    "import json\n",
    "import re\n",
    "import pandas as pd\n",
    "import io\n",
    "from tabulate import tabulate"
   ],
   "outputs": [],
   "execution_count": 234
  },
  {
   "cell_type": "code",
   "id": "ce982c45fb8473a0",
   "metadata": {
    "ExecuteTime": {
     "end_time": "2025-02-28T20:25:15.930454Z",
     "start_time": "2025-02-28T20:25:15.753440Z"
    }
   },
   "source": [
    "client = OpenAI(api_key=OPENAI_API_KEY)\n",
    "model = \"gpt-4o-mini\""
   ],
   "outputs": [],
   "execution_count": 235
  },
  {
   "cell_type": "code",
   "id": "1f40ab4f21fdd05e",
   "metadata": {
    "ExecuteTime": {
     "end_time": "2025-02-28T20:25:15.937798Z",
     "start_time": "2025-02-28T20:25:15.932835Z"
    }
   },
   "source": [
    "def encode_image(image_path, max_size=(512, 512), quality=80):\n",
    "    image = Image.open(image_path)\n",
    "\n",
    "    # Redimensionner l'image\n",
    "    image.thumbnail(max_size)\n",
    "\n",
    "    # Convertir en bytes avec compression\n",
    "    buffer = io.BytesIO()\n",
    "    image.save(buffer, format=\"JPEG\", quality=quality)\n",
    "\n",
    "    # Encoder en Base64\n",
    "    encoded_string = base64.b64encode(buffer.getvalue()).decode(\"utf-8\")\n",
    "\n",
    "    return encoded_string"
   ],
   "outputs": [],
   "execution_count": 236
  },
  {
   "metadata": {
    "ExecuteTime": {
     "end_time": "2025-02-28T20:25:15.947992Z",
     "start_time": "2025-02-28T20:25:15.944671Z"
    }
   },
   "cell_type": "code",
   "source": [
    "def old_encode_image(image_path):\n",
    "     try:\n",
    "        with open(image_path, \"rb\") as image_file:\n",
    "            return base64.b64encode(image_file.read()).decode(\"utf-8\")\n",
    "\n",
    "     except Exception as e:\n",
    "\n",
    "        print(f\"Erreur lors de l'encodage de l'image {image_path} : {e}\")\n",
    "        return None"
   ],
   "id": "79600210bb511e65",
   "outputs": [],
   "execution_count": 237
  },
  {
   "metadata": {
    "ExecuteTime": {
     "end_time": "2025-02-28T20:25:15.956663Z",
     "start_time": "2025-02-28T20:25:15.953617Z"
    }
   },
   "cell_type": "code",
   "source": [
    "def send_chat_request(message):\n",
    "    try:\n",
    "        response = client.chat.completions.create(\n",
    "            model=model, messages=message\n",
    "        )\n",
    "\n",
    "        result = response.choices[0].message.content.strip()\n",
    "        result = extract_json(result)\n",
    "\n",
    "        tokens = response.usage.total_tokens\n",
    "\n",
    "        return result, tokens\n",
    "\n",
    "\n",
    "    except Exception as e:\n",
    "        print(f\"Erreur OpenAI : {e}\")\n",
    "        return -1, None"
   ],
   "id": "f7cde3da756c024a",
   "outputs": [],
   "execution_count": 238
  },
  {
   "cell_type": "code",
   "id": "70c40a8c6b3ff456",
   "metadata": {
    "ExecuteTime": {
     "end_time": "2025-02-28T20:25:15.966179Z",
     "start_time": "2025-02-28T20:25:15.962794Z"
    }
   },
   "source": [
    "def chat_get_key_words(image_paths):\n",
    "\n",
    "    # Liste pour chaque image et chaque texte associé\n",
    "    content_list = []\n",
    "    for image_path in image_paths:\n",
    "        base64_image = encode_image(image_path)\n",
    "        image_name = os.path.basename(image_path)\n",
    "        content_list.append({\n",
    "            \"type\": \"text\",\n",
    "            \"text\": f\"\"\"Décris moi l'image avec 5 mots-clés.Retourne le résultat au format JSON : {{ {image_name} : [mot-clé1, mot-clé2, mot-clé3, mot-clé4, mot-clé5] }} \"\"\"\n",
    "        })\n",
    "        content_list.append({\n",
    "            \"type\": \"image_url\",\n",
    "            \"image_url\": {\"url\": f\"data:image/jpeg;base64,{base64_image}\"}\n",
    "        })\n",
    "\n",
    "    messages = [\n",
    "        {\n",
    "            \"role\": \"user\",\n",
    "            \"content\": content_list\n",
    "        }\n",
    "    ]\n",
    "\n",
    "    return send_chat_request(messages)\n"
   ],
   "outputs": [],
   "execution_count": 239
  },
  {
   "cell_type": "code",
   "id": "081bfdc4",
   "metadata": {
    "ExecuteTime": {
     "end_time": "2025-02-28T20:25:15.975249Z",
     "start_time": "2025-02-28T20:25:15.972061Z"
    }
   },
   "source": [
    "def extract_json(response_text):\n",
    "    \"\"\"\n",
    "    Extrait la portion JSON (délimitée par {}) de la réponse textuelle pour seulement avoir le dictionnaire et non le texte généré par l'ia.\n",
    "    \"\"\"\n",
    "    match = re.search(r'\\{.*\\}', response_text, re.DOTALL)\n",
    "    if match:\n",
    "        json_str = match.group()\n",
    "        try:\n",
    "            return json.loads(json_str)\n",
    "        except Exception as e:\n",
    "            print(f\"Erreur lors du chargement du JSON : {e}\")\n",
    "            return None\n",
    "    else:\n",
    "        print(\"Aucun JSON trouvé dans la réponse.\")\n",
    "        return None"
   ],
   "outputs": [],
   "execution_count": 240
  },
  {
   "cell_type": "code",
   "id": "88672749",
   "metadata": {
    "ExecuteTime": {
     "end_time": "2025-02-28T20:25:15.983762Z",
     "start_time": "2025-02-28T20:25:15.980636Z"
    }
   },
   "source": [
    "def chat_get_categories(keywords_output):\n",
    "    \"\"\"\n",
    "    Utilise les mots-clés extraits pour regrouper les images similaires en catégories.\n",
    "    Les images sont identifiées par leur ordre dans la liste.\n",
    "    \"\"\"\n",
    "\n",
    "    # Préparation d'un prompt détaillé incluant le résultat des mots-clés et l'ordre des images\n",
    "    prompt = f\"\"\"Voici les listes de mots-clés obtenues pour chaque image (dans l'ordre) : {keywords_output}\n",
    "    Regroupe les images similaires dans des catégories. Une catégorie est décrite par un seul mot-clé. Une image ne peut appartenir qu'à une seule catégorie. Retourne le résultat au format JSON : {{ \"categorie1\": [ \"name\", \"name\" ], \"categorie2\": [ \"name\", \"name\" ],...}}\"\"\"\n",
    "\n",
    "    messages = [\n",
    "        {\n",
    "            \"role\": \"user\",\n",
    "            \"content\": prompt\n",
    "        }\n",
    "    ]\n",
    "\n",
    "    return send_chat_request(messages)"
   ],
   "outputs": [],
   "execution_count": 241
  },
  {
   "cell_type": "code",
   "id": "81f3cc2e7fc615cc",
   "metadata": {
    "ExecuteTime": {
     "end_time": "2025-02-28T20:25:15.992552Z",
     "start_time": "2025-02-28T20:25:15.989297Z"
    }
   },
   "source": [
    "directory = \"test_data\"\n",
    "allowed_extensions = {\".jpg\", \".jpeg\", \".png\"}\n",
    "image_paths = [\n",
    "    os.path.join(directory, filename)\n",
    "    for filename in os.listdir(directory)\n",
    "    if os.path.splitext(filename)[1].lower() in allowed_extensions\n",
    "]"
   ],
   "outputs": [],
   "execution_count": 242
  },
  {
   "metadata": {},
   "cell_type": "raw",
   "source": [
    "keywords_output, tokens_keywords = chat_get_key_words(image_paths)\n",
    "print(\"Mots-clés par image :\")\n",
    "print(keywords_output)\n",
    "print(tokens_keywords)"
   ],
   "id": "987516cac4bc0c53"
  },
  {
   "metadata": {},
   "cell_type": "raw",
   "source": [
    "categories_output, tokens_categories = chat_get_categories(keywords_output)\n",
    "print(\"Catégorisation des images :\")\n",
    "print(categories_output)\n",
    "print(tokens_categories)"
   ],
   "id": "bc61f8211a3fbbf2"
  },
  {
   "metadata": {},
   "cell_type": "raw",
   "source": [
    "total_tokens = tokens_keywords + tokens_categories\n",
    "total_tokens"
   ],
   "id": "ba560112a2582625"
  },
  {
   "metadata": {},
   "cell_type": "markdown",
   "source": "## Ajout des données au DataFrame",
   "id": "c81b0975cdb5e8a5"
  },
  {
   "metadata": {
    "ExecuteTime": {
     "end_time": "2025-02-28T20:25:16.002222Z",
     "start_time": "2025-02-28T20:25:15.998134Z"
    }
   },
   "cell_type": "code",
   "source": [
    "def create_df(image_paths):\n",
    "    image_list = []\n",
    "    for path in image_paths:\n",
    "        image = Image.open(path)\n",
    "        image_name = os.path.basename(path)\n",
    "        exifdata = image._getexif()\n",
    "        date_time, localisation = None, None\n",
    "        if exifdata:\n",
    "            for tag_id, value in exifdata.items():\n",
    "                tag = Image.ExifTags.TAGS.get(tag_id, tag_id)\n",
    "                if tag == \"DateTime\":\n",
    "                    date_time = value\n",
    "                elif tag == \"GPSInfo\":\n",
    "                    localisation = value\n",
    "\n",
    "            image_list.append((image_name, path, date_time, localisation))\n",
    "\n",
    "        else:\n",
    "            print(\"Aucune donnée EXIF trouvée.\")\n",
    "\n",
    "    df = pd.DataFrame(image_list, columns=[\"image_name\", \"path\", \"date_time\", \"localisation\"])\n",
    "\n",
    "    return df"
   ],
   "id": "bb1f1aa40bd23944",
   "outputs": [],
   "execution_count": 243
  },
  {
   "metadata": {
    "ExecuteTime": {
     "end_time": "2025-02-28T20:25:16.011265Z",
     "start_time": "2025-02-28T20:25:16.007983Z"
    }
   },
   "cell_type": "code",
   "source": [
    "def add_keywords_to_df(image_data, keywords_output):\n",
    "    if keywords_output:\n",
    "        image_data.loc[image_data[\"image_name\"].isin(keywords_output.keys()), \"keywords\"] = image_data[\"image_name\"].map(keywords_output)\n",
    "    else :\n",
    "        print(\"Aucun mot clé fourni ! \")\n",
    "    return image_data\n"
   ],
   "id": "96e1f2b510c0411a",
   "outputs": [],
   "execution_count": 244
  },
  {
   "metadata": {
    "ExecuteTime": {
     "end_time": "2025-02-28T20:25:16.020135Z",
     "start_time": "2025-02-28T20:25:16.016929Z"
    }
   },
   "cell_type": "code",
   "source": [
    "def add_categories_to_df(image_data, categories_output):\n",
    "    if categories_output:\n",
    "        #Inversion du dict : on associe une categorie a chaque image\n",
    "        image_to_categories = {img: cat for cat, images in categories_output.items() for img in images}\n",
    "\n",
    "        image_data.loc[image_data[\"image_name\"].isin(image_to_categories.keys()), \"categories\"] = image_data[\"image_name\"].map(image_to_categories)\n",
    "    else:\n",
    "        print(\"Aucune catégorisation trouvée !\")\n",
    "\n",
    "    return image_data"
   ],
   "id": "26fd4a27adc7d223",
   "outputs": [],
   "execution_count": 245
  },
  {
   "metadata": {
    "ExecuteTime": {
     "end_time": "2025-02-28T20:25:16.029299Z",
     "start_time": "2025-02-28T20:25:16.026598Z"
    }
   },
   "cell_type": "code",
   "source": [
    "def pipeline_keywords(image_paths, limit_size=22):\n",
    "    image_data = create_df(image_paths)\n",
    "    stop = False\n",
    "    total_keywords_tokens = 0\n",
    "    for i in range(0, len(image_paths), limit_size):\n",
    "        interval = [i, min(i + limit_size, len(image_paths))]\n",
    "        subset_image_paths = image_paths[interval[0]:interval[1]]\n",
    "        print(f\"Image paths : {subset_image_paths}\")\n",
    "\n",
    "        keywords_output, keywords_tokens = chat_get_key_words(subset_image_paths)\n",
    "        total_keywords_tokens += keywords_tokens\n",
    "\n",
    "        image_data = add_keywords_to_df(image_data, keywords_output)\n",
    "\n",
    "        print(f\"Total tokens : {total_keywords_tokens}\")\n",
    "\n",
    "        if stop :\n",
    "            break\n",
    "\n",
    "    return image_data, total_keywords_tokens"
   ],
   "id": "af629d4ce56965d6",
   "outputs": [],
   "execution_count": 246
  },
  {
   "metadata": {
    "ExecuteTime": {
     "end_time": "2025-02-28T20:25:28.061003Z",
     "start_time": "2025-02-28T20:25:16.035306Z"
    }
   },
   "cell_type": "code",
   "source": "image_data, keywords_tokens = pipeline_keywords(image_paths, 22)",
   "id": "a4496ec0f27068e6",
   "outputs": [
    {
     "name": "stdout",
     "output_type": "stream",
     "text": [
      "Image paths : ['test_data\\\\20240822_142034.jpg', 'test_data\\\\20240822_142036.jpg', 'test_data\\\\20240822_142048.jpg', 'test_data\\\\20240825_121144.jpg', 'test_data\\\\20240826_184159.jpg', 'test_data\\\\20240827_084810.jpg', 'test_data\\\\20240827_084914.jpg', 'test_data\\\\20240827_092136.jpg', 'test_data\\\\20240828_141857.jpg', 'test_data\\\\20240828_174310.jpg', 'test_data\\\\20240828_211839.jpg', 'test_data\\\\20240830_104749.jpg', 'test_data\\\\20240831_160656.jpg', 'test_data\\\\20240831_161613.jpg', 'test_data\\\\20240831_180654.jpg', 'test_data\\\\20240831_194108.jpg', 'test_data\\\\20240902_150137.jpg', 'test_data\\\\20240902_152654.jpg', 'test_data\\\\20240902_162507.jpg', 'test_data\\\\20250213_165625.jpg', 'test_data\\\\20250217_081138.jpg', 'test_data\\\\20250219_084504.jpg']\n",
      "Total tokens : 6832\n"
     ]
    }
   ],
   "execution_count": 247
  },
  {
   "metadata": {
    "ExecuteTime": {
     "end_time": "2025-02-28T20:25:28.073005Z",
     "start_time": "2025-02-28T20:25:28.068574Z"
    }
   },
   "cell_type": "code",
   "source": "print(tabulate(image_data, headers=\"keys\", tablefmt=\"psql\"))",
   "id": "45ae9e48232a4aa6",
   "outputs": [
    {
     "name": "stdout",
     "output_type": "stream",
     "text": [
      "+----+---------------------+-------------------------------+---------------------+---------------------------------------------------------------------+------------------------------------------------------------------------------------+\n",
      "|    | image_name          | path                          | date_time           | localisation                                                        | keywords                                                                           |\n",
      "|----+---------------------+-------------------------------+---------------------+---------------------------------------------------------------------+------------------------------------------------------------------------------------|\n",
      "|  0 | 20240822_142034.jpg | test_data\\20240822_142034.jpg | 2024:08:22 14:20:34 |                                                                     | ['bâtiment', 'brouillard', 'arbres', 'rue', 'voiture']                             |\n",
      "|  1 | 20240822_142036.jpg | test_data\\20240822_142036.jpg | 2024:08:22 14:20:37 |                                                                     | ['bâtiment', 'fenêtres', 'rue', 'bandeja', 'maison']                               |\n",
      "|  2 | 20240822_142048.jpg | test_data\\20240822_142048.jpg | 2024:08:22 14:20:48 |                                                                     | ['bâtiment', 'route', 'voiture', 'feux de circulation', 'pavé']                    |\n",
      "|  3 | 20240825_121144.jpg | test_data\\20240825_121144.jpg | 2024:08:25 12:11:44 |                                                                     | ['beurre', 'cacahuète', 'pot', 'marque', 'animaux']                                |\n",
      "|  4 | 20240826_184159.jpg | test_data\\20240826_184159.jpg | 2024:08:26 18:41:59 |                                                                     | ['sentier', 'nature', 'arbres', 'feuilles', 'verdure']                             |\n",
      "|  5 | 20240827_084810.jpg | test_data\\20240827_084810.jpg | 2024:08:27 08:48:10 |                                                                     | ['bâtiment', 'herbe', 'espace extérieur', 'mobilier', 'fenêtre']                   |\n",
      "|  6 | 20240827_084914.jpg | test_data\\20240827_084914.jpg | 2024:08:27 08:49:14 |                                                                     | ['événement', 'installation', 'tentes', 'participants', 'préparation']             |\n",
      "|  7 | 20240827_092136.jpg | test_data\\20240827_092136.jpg | 2024:08:27 09:21:36 |                                                                     | ['bâtiment', 'enseignes', 'drapeaux', 'espace ouvert', 'promotion']                |\n",
      "|  8 | 20240828_141857.jpg | test_data\\20240828_141857.jpg | 2024:08:28 14:18:58 |                                                                     | ['collations', 'bretzels', 'emballage', 'marque', 'sucre']                         |\n",
      "|  9 | 20240828_174310.jpg | test_data\\20240828_174310.jpg | 2024:08:28 17:43:11 |                                                                     | ['boîtes aux lettres', 'jardin', 'plantes', 'zone résidentielle', 'environnement'] |\n",
      "| 10 | 20240828_211839.jpg | test_data\\20240828_211839.jpg | 2024:08:28 21:18:39 |                                                                     | ['plat', 'lasagnes', 'cuisine', 'recette', 'servir']                               |\n",
      "| 11 | 20240830_104749.jpg | test_data\\20240830_104749.jpg | 2024:08:30 10:47:50 |                                                                     | ['enveloppes', 'étiquettes', 'carton', 'organisation', 'emballage']                |\n",
      "| 12 | 20240831_160656.jpg | test_data\\20240831_160656.jpg | 2024:08:31 16:06:57 |                                                                     | ['chaussures', 'magasin', 'étagères', 'couleurs', 'mode']                          |\n",
      "| 13 | 20240831_161613.jpg | test_data\\20240831_161613.jpg | 2024:08:31 16:16:13 |                                                                     | ['décorations', 'Halloween', 'magasin', 'costumes', 'type']                        |\n",
      "| 14 | 20240831_180654.jpg | test_data\\20240831_180654.jpg | 2024:08:31 18:06:55 |                                                                     | ['infuseur', 'thé', 'licorne', 'accessoire', 'design']                             |\n",
      "| 15 | 20240831_194108.jpg | test_data\\20240831_194108.jpg | 2024:08:31 19:41:08 |                                                                     | ['repas', 'table', 'cuisine', 'ingrédients', 'préparation']                        |\n",
      "| 16 | 20240902_150137.jpg | test_data\\20240902_150137.jpg | 2024:09:02 15:01:38 |                                                                     | ['nature', 'arbres', 'verdure', 'terrain', 'soleil']                               |\n",
      "| 17 | 20240902_152654.jpg | test_data\\20240902_152654.jpg | 2024:09:02 15:26:54 |                                                                     | ['branche', 'ciel', 'éclaircissement', 'arbre', 'nature']                          |\n",
      "| 18 | 20240902_162507.jpg | test_data\\20240902_162507.jpg | 2024:09:02 16:25:07 |                                                                     | ['piste', 'pont', 'nature', 'sentier', 'verdoyant']                                |\n",
      "| 19 | 20250213_165625.jpg | test_data\\20250213_165625.jpg | 2025:02:13 16:56:25 |                                                                     | ['neige', 'hiver', 'paysage', 'routes', 'visibilité']                              |\n",
      "| 20 | 20250217_081138.jpg | test_data\\20250217_081138.jpg | 2025:02:17 08:11:38 |                                                                     | ['neige', 'voiture', 'tempête', 'hiver', 'difficulté']                             |\n",
      "| 21 | 20250219_084504.jpg | test_data\\20250219_084504.jpg | 2025:02:19 08:45:04 | {1: 'N', 2: (48.0, 24.0, 43.5582), 3: 'W', 4: (71.0, 3.0, 4.06764)} | ['neige', 'traffic', 'bus', 'voitures', 'hiver']                                   |\n",
      "+----+---------------------+-------------------------------+---------------------+---------------------------------------------------------------------+------------------------------------------------------------------------------------+\n"
     ]
    }
   ],
   "execution_count": 248
  },
  {
   "metadata": {
    "ExecuteTime": {
     "end_time": "2025-02-28T20:25:28.105905Z",
     "start_time": "2025-02-28T20:25:28.102862Z"
    }
   },
   "cell_type": "code",
   "source": "copy_image_data = image_data.copy()",
   "id": "e02aab71493f884f",
   "outputs": [],
   "execution_count": 249
  },
  {
   "metadata": {
    "ExecuteTime": {
     "end_time": "2025-02-28T20:25:28.164985Z",
     "start_time": "2025-02-28T20:25:28.160639Z"
    }
   },
   "cell_type": "code",
   "source": [
    "def pipeline_categories(image_data, limit_size=200):\n",
    "    keywords = image_data.set_index(\"image_name\")[\"keywords\"].to_dict()\n",
    "    total_categories_tokens = 0\n",
    "\n",
    "    for i in range(0, len(keywords), limit_size):\n",
    "        interval = [i, min(i + limit_size, len(image_data))]\n",
    "        subset_keys = list(keywords.keys())[interval[0]:interval[1]]\n",
    "\n",
    "        subset_keywords = {key: keywords[key] for key in subset_keys}\n",
    "\n",
    "        categories_output, categories_tokens = chat_get_categories(subset_keywords)\n",
    "        total_categories_tokens += categories_tokens\n",
    "\n",
    "        image_data = add_categories_to_df(image_data, categories_output)\n",
    "\n",
    "    return image_data, total_categories_tokens"
   ],
   "id": "f0fa26ead8957b75",
   "outputs": [],
   "execution_count": 250
  },
  {
   "metadata": {
    "ExecuteTime": {
     "end_time": "2025-02-28T20:25:34.838465Z",
     "start_time": "2025-02-28T20:25:28.182131Z"
    }
   },
   "cell_type": "code",
   "source": "copy_image_data, categories_tokens = pipeline_categories(copy_image_data)",
   "id": "6b9eaa330ea7cd2d",
   "outputs": [],
   "execution_count": 251
  },
  {
   "metadata": {
    "ExecuteTime": {
     "end_time": "2025-02-28T20:25:34.853363Z",
     "start_time": "2025-02-28T20:25:34.848268Z"
    }
   },
   "cell_type": "code",
   "source": "print(tabulate(copy_image_data, headers=\"keys\", tablefmt=\"psql\"))",
   "id": "b4aee09bd551e549",
   "outputs": [
    {
     "name": "stdout",
     "output_type": "stream",
     "text": [
      "+----+---------------------+-------------------------------+---------------------+---------------------------------------------------------------------+------------------------------------------------------------------------------------+---------------+\n",
      "|    | image_name          | path                          | date_time           | localisation                                                        | keywords                                                                           | categories    |\n",
      "|----+---------------------+-------------------------------+---------------------+---------------------------------------------------------------------+------------------------------------------------------------------------------------+---------------|\n",
      "|  0 | 20240822_142034.jpg | test_data\\20240822_142034.jpg | 2024:08:22 14:20:34 |                                                                     | ['bâtiment', 'brouillard', 'arbres', 'rue', 'voiture']                             | bâtiment      |\n",
      "|  1 | 20240822_142036.jpg | test_data\\20240822_142036.jpg | 2024:08:22 14:20:37 |                                                                     | ['bâtiment', 'fenêtres', 'rue', 'bandeja', 'maison']                               | bâtiment      |\n",
      "|  2 | 20240822_142048.jpg | test_data\\20240822_142048.jpg | 2024:08:22 14:20:48 |                                                                     | ['bâtiment', 'route', 'voiture', 'feux de circulation', 'pavé']                    | bâtiment      |\n",
      "|  3 | 20240825_121144.jpg | test_data\\20240825_121144.jpg | 2024:08:25 12:11:44 |                                                                     | ['beurre', 'cacahuète', 'pot', 'marque', 'animaux']                                | nourriture    |\n",
      "|  4 | 20240826_184159.jpg | test_data\\20240826_184159.jpg | 2024:08:26 18:41:59 |                                                                     | ['sentier', 'nature', 'arbres', 'feuilles', 'verdure']                             | nature        |\n",
      "|  5 | 20240827_084810.jpg | test_data\\20240827_084810.jpg | 2024:08:27 08:48:10 |                                                                     | ['bâtiment', 'herbe', 'espace extérieur', 'mobilier', 'fenêtre']                   | bâtiment      |\n",
      "|  6 | 20240827_084914.jpg | test_data\\20240827_084914.jpg | 2024:08:27 08:49:14 |                                                                     | ['événement', 'installation', 'tentes', 'participants', 'préparation']             | événement     |\n",
      "|  7 | 20240827_092136.jpg | test_data\\20240827_092136.jpg | 2024:08:27 09:21:36 |                                                                     | ['bâtiment', 'enseignes', 'drapeaux', 'espace ouvert', 'promotion']                | bâtiment      |\n",
      "|  8 | 20240828_141857.jpg | test_data\\20240828_141857.jpg | 2024:08:28 14:18:58 |                                                                     | ['collations', 'bretzels', 'emballage', 'marque', 'sucre']                         | nourriture    |\n",
      "|  9 | 20240828_174310.jpg | test_data\\20240828_174310.jpg | 2024:08:28 17:43:11 |                                                                     | ['boîtes aux lettres', 'jardin', 'plantes', 'zone résidentielle', 'environnement'] | environnement |\n",
      "| 10 | 20240828_211839.jpg | test_data\\20240828_211839.jpg | 2024:08:28 21:18:39 |                                                                     | ['plat', 'lasagnes', 'cuisine', 'recette', 'servir']                               | cuisine       |\n",
      "| 11 | 20240830_104749.jpg | test_data\\20240830_104749.jpg | 2024:08:30 10:47:50 |                                                                     | ['enveloppes', 'étiquettes', 'carton', 'organisation', 'emballage']                | organisation  |\n",
      "| 12 | 20240831_160656.jpg | test_data\\20240831_160656.jpg | 2024:08:31 16:06:57 |                                                                     | ['chaussures', 'magasin', 'étagères', 'couleurs', 'mode']                          | mode          |\n",
      "| 13 | 20240831_161613.jpg | test_data\\20240831_161613.jpg | 2024:08:31 16:16:13 |                                                                     | ['décorations', 'Halloween', 'magasin', 'costumes', 'type']                        | Halloween     |\n",
      "| 14 | 20240831_180654.jpg | test_data\\20240831_180654.jpg | 2024:08:31 18:06:55 |                                                                     | ['infuseur', 'thé', 'licorne', 'accessoire', 'design']                             | accessoires   |\n",
      "| 15 | 20240831_194108.jpg | test_data\\20240831_194108.jpg | 2024:08:31 19:41:08 |                                                                     | ['repas', 'table', 'cuisine', 'ingrédients', 'préparation']                        | cuisine       |\n",
      "| 16 | 20240902_150137.jpg | test_data\\20240902_150137.jpg | 2024:09:02 15:01:38 |                                                                     | ['nature', 'arbres', 'verdure', 'terrain', 'soleil']                               | nature        |\n",
      "| 17 | 20240902_152654.jpg | test_data\\20240902_152654.jpg | 2024:09:02 15:26:54 |                                                                     | ['branche', 'ciel', 'éclaircissement', 'arbre', 'nature']                          | nature        |\n",
      "| 18 | 20240902_162507.jpg | test_data\\20240902_162507.jpg | 2024:09:02 16:25:07 |                                                                     | ['piste', 'pont', 'nature', 'sentier', 'verdoyant']                                | nature        |\n",
      "| 19 | 20250213_165625.jpg | test_data\\20250213_165625.jpg | 2025:02:13 16:56:25 |                                                                     | ['neige', 'hiver', 'paysage', 'routes', 'visibilité']                              | hiver         |\n",
      "| 20 | 20250217_081138.jpg | test_data\\20250217_081138.jpg | 2025:02:17 08:11:38 |                                                                     | ['neige', 'voiture', 'tempête', 'hiver', 'difficulté']                             | tempête       |\n",
      "| 21 | 20250219_084504.jpg | test_data\\20250219_084504.jpg | 2025:02:19 08:45:04 | {1: 'N', 2: (48.0, 24.0, 43.5582), 3: 'W', 4: (71.0, 3.0, 4.06764)} | ['neige', 'traffic', 'bus', 'voitures', 'hiver']                                   | circulation   |\n",
      "+----+---------------------+-------------------------------+---------------------+---------------------------------------------------------------------+------------------------------------------------------------------------------------+---------------+\n"
     ]
    }
   ],
   "execution_count": 252
  },
  {
   "metadata": {
    "ExecuteTime": {
     "end_time": "2025-02-28T20:25:34.862974Z",
     "start_time": "2025-02-28T20:25:34.861227Z"
    }
   },
   "cell_type": "code",
   "source": "",
   "id": "3e936fe30f48a13",
   "outputs": [],
   "execution_count": null
  }
 ],
 "metadata": {
  "kernelspec": {
   "display_name": "Python (SnapSort)",
   "language": "python",
   "name": "snapsort_venv"
  },
  "language_info": {
   "codemirror_mode": {
    "name": "ipython",
    "version": 3
   },
   "file_extension": ".py",
   "mimetype": "text/x-python",
   "name": "python",
   "nbconvert_exporter": "python",
   "pygments_lexer": "ipython3",
   "version": "3.13.0"
  }
 },
 "nbformat": 4,
 "nbformat_minor": 5
}
