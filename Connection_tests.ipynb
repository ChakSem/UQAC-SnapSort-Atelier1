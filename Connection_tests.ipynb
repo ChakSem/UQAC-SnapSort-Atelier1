{
 "cells": [
  {
   "cell_type": "code",
   "id": "initial_id",
   "metadata": {
    "collapsed": true,
    "ExecuteTime": {
     "end_time": "2025-02-28T20:52:28.212760Z",
     "start_time": "2025-02-28T20:52:28.195482Z"
    }
   },
   "source": [
    "from openai import OpenAI\n",
    "from secret import OPENAI_API_KEY\n",
    "from PIL import Image\n",
    "import base64\n",
    "import os\n",
    "import json\n",
    "import re\n",
    "import pandas as pd\n",
    "import io\n",
    "from tabulate import tabulate"
   ],
   "outputs": [],
   "execution_count": 343
  },
  {
   "cell_type": "code",
   "id": "ce982c45fb8473a0",
   "metadata": {
    "ExecuteTime": {
     "end_time": "2025-02-28T20:52:28.427420Z",
     "start_time": "2025-02-28T20:52:28.212760Z"
    }
   },
   "source": [
    "client = OpenAI(api_key=OPENAI_API_KEY)\n",
    "model = \"gpt-4o\""
   ],
   "outputs": [],
   "execution_count": 344
  },
  {
   "cell_type": "code",
   "id": "1f40ab4f21fdd05e",
   "metadata": {
    "ExecuteTime": {
     "end_time": "2025-02-28T20:52:28.441926Z",
     "start_time": "2025-02-28T20:52:28.438028Z"
    }
   },
   "source": [
    "def encode_image(image_path, max_size=(512, 512), quality=80):\n",
    "    image = Image.open(image_path)\n",
    "\n",
    "    # Redimensionner l'image\n",
    "    image.thumbnail(max_size)\n",
    "\n",
    "    # Convertir en bytes avec compression\n",
    "    buffer = io.BytesIO()\n",
    "    image.save(buffer, format=\"JPEG\", quality=quality)\n",
    "\n",
    "    # Encoder en Base64\n",
    "    encoded_string = base64.b64encode(buffer.getvalue()).decode(\"utf-8\")\n",
    "\n",
    "    return encoded_string"
   ],
   "outputs": [],
   "execution_count": 345
  },
  {
   "metadata": {
    "ExecuteTime": {
     "end_time": "2025-02-28T20:52:28.456857Z",
     "start_time": "2025-02-28T20:52:28.453906Z"
    }
   },
   "cell_type": "code",
   "source": [
    "def old_encode_image(image_path):\n",
    "     try:\n",
    "        with open(image_path, \"rb\") as image_file:\n",
    "            return base64.b64encode(image_file.read()).decode(\"utf-8\")\n",
    "\n",
    "     except Exception as e:\n",
    "\n",
    "        print(f\"Erreur lors de l'encodage de l'image {image_path} : {e}\")\n",
    "        return None"
   ],
   "id": "79600210bb511e65",
   "outputs": [],
   "execution_count": 346
  },
  {
   "metadata": {
    "ExecuteTime": {
     "end_time": "2025-02-28T20:52:28.469025Z",
     "start_time": "2025-02-28T20:52:28.464740Z"
    }
   },
   "cell_type": "code",
   "source": [
    "def send_chat_request(message):\n",
    "    try:\n",
    "        response = client.chat.completions.create(\n",
    "            model=model, messages=message\n",
    "        )\n",
    "\n",
    "        result = response.choices[0].message.content.strip()\n",
    "        result = extract_json(result)\n",
    "\n",
    "        tokens = response.usage.total_tokens\n",
    "\n",
    "        return result, tokens\n",
    "\n",
    "\n",
    "    except Exception as e:\n",
    "        print(f\"Erreur OpenAI : {e}\")\n",
    "        return -1, None"
   ],
   "id": "f7cde3da756c024a",
   "outputs": [],
   "execution_count": 347
  },
  {
   "cell_type": "code",
   "id": "70c40a8c6b3ff456",
   "metadata": {
    "ExecuteTime": {
     "end_time": "2025-02-28T20:52:28.482035Z",
     "start_time": "2025-02-28T20:52:28.477864Z"
    }
   },
   "source": [
    "def chat_get_key_words(image_paths):\n",
    "\n",
    "    # Liste pour chaque image et chaque texte associé\n",
    "    content_list = []\n",
    "    for image_path in image_paths:\n",
    "        base64_image = encode_image(image_path)\n",
    "        image_name = os.path.basename(image_path)\n",
    "        content_list.append({\n",
    "            \"type\": \"text\",\n",
    "            \"text\": f\"\"\"Décris moi l'image avec 5 mots-clés.Retourne le résultat au format JSON : {{ {image_name} : [mot-clé1, mot-clé2, mot-clé3, mot-clé4, mot-clé5] }} \"\"\"\n",
    "        })\n",
    "        content_list.append({\n",
    "            \"type\": \"image_url\",\n",
    "            \"image_url\": {\"url\": f\"data:image/jpeg;base64,{base64_image}\"}\n",
    "        })\n",
    "\n",
    "    messages = [\n",
    "        {\n",
    "            \"role\": \"user\",\n",
    "            \"content\": content_list\n",
    "        }\n",
    "    ]\n",
    "\n",
    "    return send_chat_request(messages)\n"
   ],
   "outputs": [],
   "execution_count": 348
  },
  {
   "cell_type": "code",
   "id": "081bfdc4",
   "metadata": {
    "ExecuteTime": {
     "end_time": "2025-02-28T20:52:28.495521Z",
     "start_time": "2025-02-28T20:52:28.491763Z"
    }
   },
   "source": [
    "def extract_json(response_text):\n",
    "    \"\"\"\n",
    "    Extrait la portion JSON (délimitée par {}) de la réponse textuelle pour seulement avoir le dictionnaire et non le texte généré par l'ia.\n",
    "    \"\"\"\n",
    "    match = re.search(r'\\{.*\\}', response_text, re.DOTALL)\n",
    "    if match:\n",
    "        json_str = match.group()\n",
    "        try:\n",
    "            return json.loads(json_str)\n",
    "        except Exception as e:\n",
    "            print(f\"Erreur lors du chargement du JSON : {e}\")\n",
    "            return None\n",
    "    else:\n",
    "        print(\"Aucun JSON trouvé dans la réponse.\")\n",
    "        return None"
   ],
   "outputs": [],
   "execution_count": 349
  },
  {
   "cell_type": "code",
   "id": "88672749",
   "metadata": {
    "ExecuteTime": {
     "end_time": "2025-02-28T20:52:28.508373Z",
     "start_time": "2025-02-28T20:52:28.503518Z"
    }
   },
   "source": [
    "def chat_get_categories(keywords_output):\n",
    "    \"\"\"\n",
    "    Utilise les mots-clés extraits pour regrouper les images similaires en catégories.\n",
    "    Les images sont identifiées par leur ordre dans la liste.\n",
    "    \"\"\"\n",
    "\n",
    "    # Préparation d'un prompt détaillé incluant le résultat des mots-clés et l'ordre des images\n",
    "    prompt = f\"\"\"Voici les listes de mots-clés obtenues pour chaque image (dans l'ordre) : {keywords_output}\n",
    "    Regroupe les images similaires dans des catégories. Une catégorie est décrite par un seul mot-clé. Une image ne peut appartenir qu'à une seule catégorie. Retourne le résultat au format JSON : {{ \"categorie1\": [ \"name\", \"name\" ], \"categorie2\": [ \"name\", \"name\" ],...}}\"\"\"\n",
    "\n",
    "    messages = [\n",
    "        {\n",
    "            \"role\": \"user\",\n",
    "            \"content\": prompt\n",
    "        }\n",
    "    ]\n",
    "\n",
    "    return send_chat_request(messages)"
   ],
   "outputs": [],
   "execution_count": 350
  },
  {
   "cell_type": "code",
   "id": "81f3cc2e7fc615cc",
   "metadata": {
    "ExecuteTime": {
     "end_time": "2025-02-28T20:52:28.523342Z",
     "start_time": "2025-02-28T20:52:28.517756Z"
    }
   },
   "source": [
    "directory = \"photos_victor\"\n",
    "allowed_extensions = {\".jpg\", \".jpeg\", \".png\"}\n",
    "image_paths = [\n",
    "    os.path.join(directory, filename)\n",
    "    for filename in os.listdir(directory)\n",
    "    if os.path.splitext(filename)[1].lower() in allowed_extensions\n",
    "]"
   ],
   "outputs": [],
   "execution_count": 351
  },
  {
   "metadata": {},
   "cell_type": "raw",
   "source": [
    "keywords_output, tokens_keywords = chat_get_key_words(image_paths)\n",
    "print(\"Mots-clés par image :\")\n",
    "print(keywords_output)\n",
    "print(tokens_keywords)"
   ],
   "id": "987516cac4bc0c53"
  },
  {
   "metadata": {},
   "cell_type": "raw",
   "source": [
    "categories_output, tokens_categories = chat_get_categories(keywords_output)\n",
    "print(\"Catégorisation des images :\")\n",
    "print(categories_output)\n",
    "print(tokens_categories)"
   ],
   "id": "bc61f8211a3fbbf2"
  },
  {
   "metadata": {},
   "cell_type": "raw",
   "source": [
    "total_tokens = tokens_keywords + tokens_categories\n",
    "total_tokens"
   ],
   "id": "ba560112a2582625"
  },
  {
   "metadata": {},
   "cell_type": "markdown",
   "source": "## Ajout des données au DataFrame",
   "id": "c81b0975cdb5e8a5"
  },
  {
   "metadata": {
    "ExecuteTime": {
     "end_time": "2025-02-28T20:52:28.540838Z",
     "start_time": "2025-02-28T20:52:28.536334Z"
    }
   },
   "cell_type": "code",
   "source": [
    "def create_df(image_paths):\n",
    "    image_list = []\n",
    "    for path in image_paths:\n",
    "        image = Image.open(path)\n",
    "        image_name = os.path.basename(path)\n",
    "        exifdata = image._getexif()\n",
    "        date_time, localisation = None, None\n",
    "        if exifdata:\n",
    "            for tag_id, value in exifdata.items():\n",
    "                tag = Image.ExifTags.TAGS.get(tag_id, tag_id)\n",
    "                if tag == \"DateTime\":\n",
    "                    date_time = value\n",
    "                elif tag == \"GPSInfo\":\n",
    "                    localisation = value\n",
    "\n",
    "            image_list.append((image_name, path, date_time, localisation))\n",
    "\n",
    "        else:\n",
    "            print(\"Aucune donnée EXIF trouvée.\")\n",
    "\n",
    "    df = pd.DataFrame(image_list, columns=[\"image_name\", \"path\", \"date_time\", \"localisation\"])\n",
    "\n",
    "    return df"
   ],
   "id": "bb1f1aa40bd23944",
   "outputs": [],
   "execution_count": 352
  },
  {
   "metadata": {
    "ExecuteTime": {
     "end_time": "2025-02-28T20:52:28.554196Z",
     "start_time": "2025-02-28T20:52:28.549193Z"
    }
   },
   "cell_type": "code",
   "source": [
    "def add_keywords_to_df(image_data, keywords_output):\n",
    "    if keywords_output:\n",
    "        image_data.loc[image_data[\"image_name\"].isin(keywords_output.keys()), \"keywords\"] = image_data[\"image_name\"].map(keywords_output)\n",
    "    else :\n",
    "        print(\"Aucun mot clé fourni ! \")\n",
    "    return image_data\n"
   ],
   "id": "96e1f2b510c0411a",
   "outputs": [],
   "execution_count": 353
  },
  {
   "metadata": {
    "ExecuteTime": {
     "end_time": "2025-02-28T20:52:28.567155Z",
     "start_time": "2025-02-28T20:52:28.562883Z"
    }
   },
   "cell_type": "code",
   "source": [
    "def add_categories_to_df(image_data, categories_output):\n",
    "    if categories_output:\n",
    "        #Inversion du dict : on associe une categorie a chaque image\n",
    "        image_to_categories = {img: cat for cat, images in categories_output.items() for img in images}\n",
    "\n",
    "        image_data.loc[image_data[\"image_name\"].isin(image_to_categories.keys()), \"categories\"] = image_data[\"image_name\"].map(image_to_categories)\n",
    "    else:\n",
    "        print(\"Aucune catégorisation trouvée !\")\n",
    "\n",
    "    return image_data"
   ],
   "id": "26fd4a27adc7d223",
   "outputs": [],
   "execution_count": 354
  },
  {
   "metadata": {
    "ExecuteTime": {
     "end_time": "2025-02-28T20:52:28.580683Z",
     "start_time": "2025-02-28T20:52:28.576095Z"
    }
   },
   "cell_type": "code",
   "source": [
    "def pipeline_keywords(image_paths, limit_size=10):\n",
    "    image_data = create_df(image_paths)\n",
    "    stop = False\n",
    "    total_keywords_tokens = 0\n",
    "    for i in range(0, len(image_paths), limit_size):\n",
    "        interval = [i, min(i + limit_size, len(image_paths))]\n",
    "        subset_image_paths = image_paths[interval[0]:interval[1]]\n",
    "        print(f\"Image paths : {subset_image_paths}\")\n",
    "\n",
    "        keywords_output, keywords_tokens = chat_get_key_words(subset_image_paths)\n",
    "        total_keywords_tokens += keywords_tokens\n",
    "\n",
    "        image_data = add_keywords_to_df(image_data, keywords_output)\n",
    "\n",
    "        print(f\"Total tokens : {total_keywords_tokens}\")\n",
    "\n",
    "        if stop :\n",
    "            break\n",
    "\n",
    "    return image_data, total_keywords_tokens"
   ],
   "id": "af629d4ce56965d6",
   "outputs": [],
   "execution_count": 355
  },
  {
   "metadata": {
    "ExecuteTime": {
     "end_time": "2025-02-28T20:53:50.490747Z",
     "start_time": "2025-02-28T20:52:28.590510Z"
    }
   },
   "cell_type": "code",
   "source": "image_data, keywords_tokens = pipeline_keywords(image_paths, 10)",
   "id": "a4496ec0f27068e6",
   "outputs": [
    {
     "name": "stdout",
     "output_type": "stream",
     "text": [
      "Image paths : ['photos_victor\\\\IMG_20241228_124125_1.jpg', 'photos_victor\\\\IMG_20241228_124128.jpg', 'photos_victor\\\\IMG_20241228_124135.jpg', 'photos_victor\\\\IMG_20241228_124137.jpg', 'photos_victor\\\\IMG_20241228_124140.jpg', 'photos_victor\\\\IMG_20241228_124648.jpg', 'photos_victor\\\\IMG_20241228_132157.jpg', 'photos_victor\\\\IMG_20241228_141921.jpg', 'photos_victor\\\\IMG_20241229_123811.jpg', 'photos_victor\\\\IMG_20241229_123828.jpg']\n",
      "Total tokens : 3272\n",
      "Image paths : ['photos_victor\\\\IMG_20241229_123844.jpg', 'photos_victor\\\\IMG_20241229_124813.jpg', 'photos_victor\\\\IMG_20241229_124828.jpg', 'photos_victor\\\\IMG_20241229_125737.jpg', 'photos_victor\\\\IMG_20241229_125929.jpg', 'photos_victor\\\\IMG_20241229_130006.jpg', 'photos_victor\\\\IMG_20241229_130244.jpg', 'photos_victor\\\\IMG_20241229_130249.jpg', 'photos_victor\\\\IMG_20241229_130430.jpg', 'photos_victor\\\\IMG_20241229_130435.jpg']\n",
      "Total tokens : 6527\n",
      "Image paths : ['photos_victor\\\\IMG_20241229_130635.jpg', 'photos_victor\\\\IMG_20241229_130721.jpg', 'photos_victor\\\\IMG_20250105_142604.jpg', 'photos_victor\\\\IMG_20250105_142818.jpg', 'photos_victor\\\\IMG_20250105_144147.jpg', 'photos_victor\\\\IMG_20250105_144436.jpg', 'photos_victor\\\\IMG_20250105_144540.jpg', 'photos_victor\\\\IMG_20250105_144750.jpg', 'photos_victor\\\\IMG_20250105_145543_BURST1.jpg', 'photos_victor\\\\IMG_20250105_150144.jpg']\n",
      "Total tokens : 9820\n",
      "Image paths : ['photos_victor\\\\IMG_20250105_150831.jpg', 'photos_victor\\\\IMG_20250105_150850.jpg', 'photos_victor\\\\IMG_20250105_151136.jpg', 'photos_victor\\\\IMG_20250105_151214.jpg', 'photos_victor\\\\IMG_20250105_151457.jpg', 'photos_victor\\\\IMG_20250105_151458.jpg', 'photos_victor\\\\IMG_20250105_161636.jpg', 'photos_victor\\\\IMG_20250105_165438.jpg', 'photos_victor\\\\IMG_20250105_165450.jpg', 'photos_victor\\\\IMG_20250105_165457.jpg']\n",
      "Total tokens : 13089\n",
      "Image paths : ['photos_victor\\\\IMG_20250107_180316.jpg', 'photos_victor\\\\IMG_20250108_143517.jpg', 'photos_victor\\\\IMG_20250109_174849.jpg', 'photos_victor\\\\IMG_20250110_163528.jpg', 'photos_victor\\\\IMG_20250110_164345.jpg', 'photos_victor\\\\IMG_20250111_152149.jpg', 'photos_victor\\\\IMG_20250111_152150.jpg', 'photos_victor\\\\IMG_20250111_154046.jpg', 'photos_victor\\\\IMG_20250113_143633.jpg', 'photos_victor\\\\IMG_20250113_143716.jpg']\n",
      "Total tokens : 16349\n",
      "Image paths : ['photos_victor\\\\IMG_20250113_145037.jpg', 'photos_victor\\\\IMG_20250113_150228.jpg', 'photos_victor\\\\IMG_20250113_201010.jpg', 'photos_victor\\\\IMG_20250114_193654.jpg', 'photos_victor\\\\IMG_20250117_131914.jpg', 'photos_victor\\\\IMG_20250118_185321.jpg', 'photos_victor\\\\IMG_20250119_131124_BURST1.jpg', 'photos_victor\\\\IMG_20250119_131214_BURST1.jpg', 'photos_victor\\\\IMG_20250119_131317.jpg', 'photos_victor\\\\IMG_20250119_131334_BURST1.jpg']\n",
      "Total tokens : 19633\n",
      "Image paths : ['photos_victor\\\\IMG_20250119_131335.jpg', 'photos_victor\\\\IMG_20250119_131815_BURST1.jpg', 'photos_victor\\\\IMG_20250122_093940.jpg', 'photos_victor\\\\IMG_20250122_155558.jpg', 'photos_victor\\\\IMG_20250122_162438.jpg', 'photos_victor\\\\IMG_20250124_092053.jpg', 'photos_victor\\\\IMG_20250124_092101.jpg', 'photos_victor\\\\IMG_20250124_092335.jpg', 'photos_victor\\\\IMG_20250124_122637.jpg', 'photos_victor\\\\IMG_20250217_082849.jpg']\n",
      "Total tokens : 22902\n",
      "Image paths : ['photos_victor\\\\IMG_20250217_082926.jpg', 'photos_victor\\\\IMG_20250217_082952.jpg', 'photos_victor\\\\IMG_20250217_082956.jpg', 'photos_victor\\\\IMG_20250217_083141.jpg', 'photos_victor\\\\IMG_20250218_184256.jpg', 'photos_victor\\\\IMG_20250218_184300.jpg', 'photos_victor\\\\IMG_20250219_082942.jpg', 'photos_victor\\\\IMG_20250219_082954.jpg', 'photos_victor\\\\IMG_20250219_083342.jpg', 'photos_victor\\\\IMG_20250219_085328.jpg']\n",
      "Total tokens : 26161\n",
      "Image paths : ['photos_victor\\\\IMG_20250220_085521.jpg', 'photos_victor\\\\IMG_20250220_085523.jpg', 'photos_victor\\\\IMG_20250220_085526.jpg', 'photos_victor\\\\IMG_20250220_162206.jpg', 'photos_victor\\\\IMG_20250221_101424.jpg', 'photos_victor\\\\IMG_20250221_155338.jpg', 'photos_victor\\\\IMG_20250222_113748.jpg', 'photos_victor\\\\IMG_20250222_113756.jpg', 'photos_victor\\\\IMG_20250222_113802.jpg', 'photos_victor\\\\IMG_20250222_115044.jpg']\n",
      "Total tokens : 29419\n",
      "Image paths : ['photos_victor\\\\IMG_20250222_115520.jpg', 'photos_victor\\\\IMG_20250222_121148.jpg', 'photos_victor\\\\IMG_20250222_121156.jpg', 'photos_victor\\\\IMG_20250222_134940.jpg', 'photos_victor\\\\IMG_20250222_171439.jpg', 'photos_victor\\\\IMG_20250222_221529.jpg', 'photos_victor\\\\IMG_20250222_221833.jpg', 'photos_victor\\\\IMG_20250224_144236.jpg', 'photos_victor\\\\IMG_20250228_085044.jpg', 'photos_victor\\\\IMG_20250228_085048.jpg']\n",
      "Total tokens : 32681\n"
     ]
    }
   ],
   "execution_count": 356
  },
  {
   "metadata": {
    "ExecuteTime": {
     "end_time": "2025-02-28T20:53:50.520319Z",
     "start_time": "2025-02-28T20:53:50.508738Z"
    }
   },
   "cell_type": "code",
   "source": "print(tabulate(image_data, headers=\"keys\", tablefmt=\"psql\"))",
   "id": "45ae9e48232a4aa6",
   "outputs": [
    {
     "name": "stdout",
     "output_type": "stream",
     "text": [
      "+----+--------------------------------+----------------------------------------------+---------------------+----------------------------------------------------------------------------------------------------------------------------------------------------------------------+---------------------------------------------------------------------+\n",
      "|    | image_name                     | path                                         | date_time           | localisation                                                                                                                                                         | keywords                                                            |\n",
      "|----+--------------------------------+----------------------------------------------+---------------------+----------------------------------------------------------------------------------------------------------------------------------------------------------------------+---------------------------------------------------------------------|\n",
      "|  0 | IMG_20241228_124125_1.jpg      | photos_victor\\IMG_20241228_124125_1.jpg      | 2024:12:28 12:41:25 | {1: 'N', 2: (40.0, 44.0, 10.13), 3: 'W', 4: (73.0, 59.0, 21.91), 5: b'\\x01', 6: 19.1, 7: (17.0, 41.0, 19.0), 27: b'ASCII\\x00\\x00\\x00CELLID\\x00', 29: '2024:12:28'}   | ['ville', 'pluie', 'piste', 'bâtiments', 'trafic']                  |\n",
      "|  1 | IMG_20241228_124128.jpg        | photos_victor\\IMG_20241228_124128.jpg        | 2024:12:28 12:41:29 | {1: 'N', 2: (40.0, 44.0, 9.92), 3: 'W', 4: (73.0, 59.0, 21.88), 5: b'\\x01', 6: 19.1, 7: (17.0, 41.0, 24.0), 27: b'ASCII\\x00\\x00\\x00CELLID\\x00', 29: '2024:12:28'}    | ['ville', 'pluie', 'piste', 'bâtiments', 'trafic']                  |\n",
      "|  2 | IMG_20241228_124135.jpg        | photos_victor\\IMG_20241228_124135.jpg        | 2024:12:28 12:41:36 | {1: 'N', 2: (40.0, 44.0, 9.92), 3: 'W', 4: (73.0, 59.0, 21.88), 5: b'\\x01', 6: 19.1, 7: (17.0, 41.0, 24.0), 27: b'ASCII\\x00\\x00\\x00CELLID\\x00', 29: '2024:12:28'}    | ['ville', 'vélos', 'piste', 'bâtiments', 'pluie']                   |\n",
      "|  3 | IMG_20241228_124137.jpg        | photos_victor\\IMG_20241228_124137.jpg        | 2024:12:28 12:41:37 | {1: 'N', 2: (40.0, 44.0, 9.92), 3: 'W', 4: (73.0, 59.0, 21.88), 5: b'\\x01', 6: 19.1, 7: (17.0, 41.0, 24.0), 27: b'ASCII\\x00\\x00\\x00CELLID\\x00', 29: '2024:12:28'}    | ['ville', 'cycliste', 'piste', 'bâtiments', 'pluie']                |\n",
      "|  4 | IMG_20241228_124140.jpg        | photos_victor\\IMG_20241228_124140.jpg        | 2024:12:28 12:41:40 | {1: 'N', 2: (40.0, 44.0, 9.85), 3: 'W', 4: (73.0, 59.0, 22.09), 5: b'\\x01', 6: 19.1, 7: (17.0, 41.0, 37.0), 27: b'ASCII\\x00\\x00\\x00CELLID\\x00', 29: '2024:12:28'}    | ['ville', 'cycliste', 'piste', 'bâtiments', 'pluie']                |\n",
      "|  5 | IMG_20241228_124648.jpg        | photos_victor\\IMG_20241228_124648.jpg        | 2024:12:28 12:46:48 | {1: 'N', 2: (40.0, 44.0, 6.82), 3: 'W', 4: (73.0, 59.0, 9.61), 5: b'\\x01', 6: 29.234, 7: (17.0, 46.0, 47.0), 27: b'ASCII\\x00\\x00\\x00GPS\\x00', 29: '2024:12:28'}      | ['ville', 'pluie', 'piste', 'bâtiments', 'trafic']                  |\n",
      "|  6 | IMG_20241228_132157.jpg        | photos_victor\\IMG_20241228_132157.jpg        | 2024:12:28 13:21:57 | {1: 'N', 2: (40.0, 44.0, 7.19), 3: 'W', 4: (73.0, 59.0, 9.85), 5: b'\\x01', 6: 22.2, 7: (18.0, 21.0, 53.0), 27: b'ASCII\\x00\\x00\\x00CELLID\\x00', 29: '2024:12:28'}     | ['restaurant', 'façade', 'brique', 'décoration', 'extérieur']       |\n",
      "|  7 | IMG_20241228_141921.jpg        | photos_victor\\IMG_20241228_141921.jpg        | 2024:12:28 14:19:22 | {1: 'N', 2: (40.0, 44.0, 6.6), 3: 'W', 4: (73.0, 59.0, 9.79), 5: b'\\x01', 6: 22.0, 7: (19.0, 19.0, 8.0), 27: b'ASCII\\x00\\x00\\x00CELLID\\x00', 29: '2024:12:28'}       | ['dessert', 'chocolat', 'glace', 'assiette', 'gourmand']            |\n",
      "|  8 | IMG_20241229_123811.jpg        | photos_victor\\IMG_20241229_123811.jpg        | 2024:12:29 12:38:11 | {1: 'N', 2: (40.0, 46.0, 9.54), 3: 'W', 4: (74.0, 0.0, 29.38), 5: b'\\x00', 6: 0.0, 7: (17.0, 38.0, 8.0), 27: b'ASCII\\x00\\x00\\x00CELLID\\x00', 29: '2024:12:29'}       | ['inconnu', 'extérieur', 'rue', 'immeubles', 'vêtements']           |\n",
      "|  9 | IMG_20241229_123828.jpg        | photos_victor\\IMG_20241229_123828.jpg        | 2024:12:29 12:38:28 | {1: 'N', 2: (40.0, 46.0, 9.54), 3: 'W', 4: (74.0, 0.0, 29.38), 5: b'\\x00', 6: 0.0, 7: (17.0, 38.0, 28.0), 27: b'ASCII\\x00\\x00\\x00CELLID\\x00', 29: '2024:12:29'}      | ['avion', 'exposition', 'musée', 'histoire', 'intérieur']           |\n",
      "| 10 | IMG_20241229_123844.jpg        | photos_victor\\IMG_20241229_123844.jpg        | 2024:12:29 12:38:44 | {1: 'N', 2: (40.0, 46.0, 9.54), 3: 'W', 4: (74.0, 0.0, 29.38), 5: b'\\x00', 6: 0.0, 7: (17.0, 38.0, 28.0), 27: b'ASCII\\x00\\x00\\x00CELLID\\x00', 29: '2024:12:29'}      | ['avion', 'intérieur', 'exposition', 'militaire', 'navire']         |\n",
      "| 11 | IMG_20241229_124813.jpg        | photos_victor\\IMG_20241229_124813.jpg        | 2024:12:29 12:48:14 | {1: 'N', 2: (40.0, 46.0, 4.46), 3: 'W', 4: (73.0, 59.0, 45.75), 5: b'\\x00', 6: 0.0, 7: (17.0, 48.0, 9.0), 27: b'ASCII\\x00\\x00\\x00CELLID\\x00', 29: '2024:12:29'}      | ['canon', 'métal', 'structure', 'militaire', 'historique']          |\n",
      "| 12 | IMG_20241229_124828.jpg        | photos_victor\\IMG_20241229_124828.jpg        | 2024:12:29 12:48:29 | {1: 'N', 2: (40.0, 46.0, 4.46), 3: 'W', 4: (73.0, 59.0, 45.75), 5: b'\\x00', 6: 0.0, 7: (17.0, 48.0, 9.0), 27: b'ASCII\\x00\\x00\\x00CELLID\\x00', 29: '2024:12:29'}      | ['radar', 'installation', 'navire', 'extérieure', 'système']        |\n",
      "| 13 | IMG_20241229_125737.jpg        | photos_victor\\IMG_20241229_125737.jpg        | 2024:12:29 12:57:38 | {1: 'N', 2: (40.0, 46.0, 4.46), 3: 'W', 4: (73.0, 59.0, 45.75), 5: b'\\x00', 6: 0.0, 7: (17.0, 57.0, 28.0), 27: b'ASCII\\x00\\x00\\x00CELLID\\x00', 29: '2024:12:29'}     | ['jet', 'piste', 'extérieur', 'ciel', 'avion']                      |\n",
      "| 14 | IMG_20241229_125929.jpg        | photos_victor\\IMG_20241229_125929.jpg        | 2024:12:29 12:59:30 | {1: 'N', 2: (40.0, 46.0, 4.46), 3: 'W', 4: (73.0, 59.0, 45.75), 5: b'\\x00', 6: 0.0, 7: (17.0, 59.0, 18.0), 27: b'ASCII\\x00\\x00\\x00CELLID\\x00', 29: '2024:12:29'}     | ['pont', 'navire', 'tour', 'militaire', 'extérieur']                |\n",
      "| 15 | IMG_20241229_130006.jpg        | photos_victor\\IMG_20241229_130006.jpg        | 2024:12:29 13:00:06 | {1: 'N', 2: (40.0, 46.0, 4.46), 3: 'W', 4: (73.0, 59.0, 45.75), 5: b'\\x00', 6: 0.0, 7: (17.0, 59.0, 58.0), 27: b'ASCII\\x00\\x00\\x00CELLID\\x00', 29: '2024:12:29'}     | ['élévateur', 'panneau', 'extérieure', 'balustrade', 'skyline']     |\n",
      "| 16 | IMG_20241229_130244.jpg        | photos_victor\\IMG_20241229_130244.jpg        | 2024:12:29 13:02:45 | {1: 'N', 2: (40.0, 45.0, 45.05), 3: 'W', 4: (74.0, 0.0, 5.58), 5: b'\\x00', 6: 0.0, 7: (18.0, 2.0, 44.0), 27: b'ASCII\\x00\\x00\\x00CELLID\\x00', 29: '2024:12:29'}       | ['avion', 'propeller', 'pont', 'navire', 'enfants']                 |\n",
      "| 17 | IMG_20241229_130249.jpg        | photos_victor\\IMG_20241229_130249.jpg        | 2024:12:29 13:02:50 | {1: 'N', 2: (40.0, 45.0, 45.05), 3: 'W', 4: (74.0, 0.0, 5.58), 5: b'\\x00', 6: 0.0, 7: (18.0, 2.0, 44.0), 27: b'ASCII\\x00\\x00\\x00CELLID\\x00', 29: '2024:12:29'}       | ['jets', 'gratte-ciel', 'extérieur', 'ciel', 'exposition']          |\n",
      "| 18 | IMG_20241229_130430.jpg        | photos_victor\\IMG_20241229_130430.jpg        | 2024:12:29 13:04:30 | {1: 'N', 2: (40.0, 45.0, 45.05), 3: 'W', 4: (74.0, 0.0, 5.58), 5: b'\\x00', 6: 0.0, 7: (18.0, 4.0, 18.0), 27: b'ASCII\\x00\\x00\\x00CELLID\\x00', 29: '2024:12:29'}       | ['panneau', 'information', 'avion', 'texte', 'historique']          |\n",
      "| 19 | IMG_20241229_130435.jpg        | photos_victor\\IMG_20241229_130435.jpg        | 2024:12:29 13:04:35 | {1: 'N', 2: (40.0, 45.0, 45.05), 3: 'W', 4: (74.0, 0.0, 5.58), 5: b'\\x00', 6: 0.0, 7: (18.0, 4.0, 18.0), 27: b'ASCII\\x00\\x00\\x00CELLID\\x00', 29: '2024:12:29'}       | ['jet', 'extérieur', 'pont', 'visiteurs', 'militaire']              |\n",
      "| 20 | IMG_20241229_130635.jpg        | photos_victor\\IMG_20241229_130635.jpg        | 2024:12:29 13:06:35 | {1: 'N', 2: (40.0, 45.0, 45.05), 3: 'W', 4: (74.0, 0.0, 5.58), 5: b'\\x00', 6: 0.0, 7: (18.0, 6.0, 18.0), 27: b'ASCII\\x00\\x00\\x00CELLID\\x00', 29: '2024:12:29'}       | ['avion', 'A-6', 'démonté', 'roue', 'plafond']                      |\n",
      "| 21 | IMG_20241229_130721.jpg        | photos_victor\\IMG_20241229_130721.jpg        | 2024:12:29 13:07:22 | {1: 'N', 2: (40.0, 46.0, 4.46), 3: 'W', 4: (73.0, 59.0, 45.75), 5: b'\\x00', 6: 0.0, 7: (18.0, 7.0, 19.0), 27: b'ASCII\\x00\\x00\\x00CELLID\\x00', 29: '2024:12:29'}      | ['Grumman', 'F-14D', 'Tomcat', 'musée', 'immeubles']                |\n",
      "| 22 | IMG_20250105_142604.jpg        | photos_victor\\IMG_20250105_142604.jpg        | 2025:01:05 14:26:05 | {1: 'N', 2: (46.0, 48.0, 43.69), 3: 'W', 4: (71.0, 12.0, 17.52), 5: b'\\x00', 6: 37.599, 7: (19.0, 25.0, 46.0), 27: b'ASCII\\x00\\x00\\x00CELLID\\x00', 29: '2025:01:05'} | ['cheminée', 'sapin', 'décoration', 'chandelier', 'festif']         |\n",
      "| 23 | IMG_20250105_142818.jpg        | photos_victor\\IMG_20250105_142818.jpg        | 2025:01:05 14:28:18 | {1: 'N', 2: (46.0, 48.0, 43.74), 3: 'W', 4: (71.0, 12.0, 17.6), 5: b'\\x00', 6: 37.599, 7: (19.0, 28.0, 6.0), 27: b'ASCII\\x00\\x00\\x00CELLID\\x00', 29: '2025:01:05'}   | ['personne', 'costume', 'sapin', 'décor', 'vintage']                |\n",
      "| 24 | IMG_20250105_144147.jpg        | photos_victor\\IMG_20250105_144147.jpg        | 2025:01:05 14:41:47 | {1: 'N', 2: (46.0, 48.0, 43.43), 3: 'W', 4: (71.0, 12.0, 19.53), 5: b'\\x00', 6: 33.7, 7: (19.0, 41.0, 48.0), 27: b'ASCII\\x00\\x00\\x00CELLID\\x00', 29: '2025:01:05'}   | ['couloir', 'palmiers', 'arcades', 'lumière', 'élégance']           |\n",
      "| 25 | IMG_20250105_144436.jpg        | photos_victor\\IMG_20250105_144436.jpg        | 2025:01:05 14:44:36 | {1: 'N', 2: (46.0, 48.0, 43.43), 3: 'W', 4: (71.0, 12.0, 19.53), 5: b'\\x00', 6: 34.5, 7: (19.0, 44.0, 36.0), 27: b'ASCII\\x00\\x00\\x00CELLID\\x00', 29: '2025:01:05'}   | ['chandelier', 'balcon', 'décoration', 'lumières', 'étage']         |\n",
      "| 26 | IMG_20250105_144540.jpg        | photos_victor\\IMG_20250105_144540.jpg        | 2025:01:05 14:45:40 | {1: 'N', 2: (46.0, 48.0, 43.31), 3: 'W', 4: (71.0, 12.0, 20.08), 5: b'\\x00', 6: 35.099, 7: (19.0, 45.0, 29.0), 27: b'ASCII\\x00\\x00\\x00CELLID\\x00', 29: '2025:01:05'} | ['salle', 'personnes', 'grand', 'chandeliers', 'réunion']           |\n",
      "| 27 | IMG_20250105_144750.jpg        | photos_victor\\IMG_20250105_144750.jpg        | 2025:01:05 14:47:50 | {1: 'N', 2: (46.0, 48.0, 43.31), 3: 'W', 4: (71.0, 12.0, 20.25), 5: b'\\x00', 6: 35.099, 7: (19.0, 47.0, 30.0), 27: b'ASCII\\x00\\x00\\x00CELLID\\x00', 29: '2025:01:05'} | ['lustre', 'détail', 'plafond', 'élégance', 'fenêtres']             |\n",
      "| 28 | IMG_20250105_145543_BURST1.jpg | photos_victor\\IMG_20250105_145543_BURST1.jpg | 2025:01:05 14:55:42 | {1: 'N', 2: (46.0, 48.0, 43.17), 3: 'W', 4: (71.0, 12.0, 19.66), 5: b'\\x00', 6: 34.2, 7: (19.0, 55.0, 42.0), 27: b'ASCII\\x00\\x00\\x00CELLID\\x00', 29: '2025:01:05'}   | ['plafond', 'chandelier', 'ornement', 'architecture', 'lumières']   |\n",
      "| 29 | IMG_20250105_150144.jpg        | photos_victor\\IMG_20250105_150144.jpg        | 2025:01:05 15:01:45 | {1: 'N', 2: (46.0, 48.0, 43.33), 3: 'W', 4: (71.0, 12.0, 19.84), 5: b'\\x00', 6: 33.4, 7: (20.0, 1.0, 44.0), 27: b'ASCII\\x00\\x00\\x00CELLID\\x00', 29: '2025:01:05'}    | ['drapeaux', 'chandelier', 'vue', 'balustrade', 'décor']            |\n",
      "| 30 | IMG_20250105_150831.jpg        | photos_victor\\IMG_20250105_150831.jpg        | 2025:01:05 15:08:32 | {1: 'N', 2: (46.0, 48.0, 43.99), 3: 'W', 4: (71.0, 12.0, 18.26), 5: b'\\x00', 6: 30.3, 7: (20.0, 8.0, 28.0), 27: b'ASCII\\x00\\x00\\x00CELLID\\x00', 29: '2025:01:05'}    | ['assiettes', 'historique', 'exposition', 'époque', 'vaisselle']    |\n",
      "| 31 | IMG_20250105_150850.jpg        | photos_victor\\IMG_20250105_150850.jpg        | 2025:01:05 15:08:50 | {1: 'N', 2: (46.0, 48.0, 43.9), 3: 'W', 4: (71.0, 12.0, 18.06), 5: b'\\x00', 6: 30.3, 7: (20.0, 8.0, 48.0), 27: b'ASCII\\x00\\x00\\x00CELLID\\x00', 29: '2025:01:05'}     | ['bouteilles', 'historique', 'exposition', 'table', 'verres']       |\n",
      "| 32 | IMG_20250105_151136.jpg        | photos_victor\\IMG_20250105_151136.jpg        | 2025:01:05 15:11:36 | {1: 'N', 2: (46.0, 48.0, 43.89), 3: 'W', 4: (71.0, 12.0, 17.85), 5: b'\\x00', 6: 30.3, 7: (20.0, 11.0, 29.0), 27: b'ASCII\\x00\\x00\\x00CELLID\\x00', 29: '2025:01:05'}   | ['menu', 'vins', 'champagnes', 'liste', 'prix']                     |\n",
      "| 33 | IMG_20250105_151214.jpg        | photos_victor\\IMG_20250105_151214.jpg        | 2025:01:05 15:12:14 | {1: 'N', 2: (46.0, 48.0, 43.36), 3: 'W', 4: (71.0, 12.0, 17.58), 5: b'\\x00', 6: 30.3, 7: (20.0, 12.0, 9.0), 27: b'ASCII\\x00\\x00\\x00CELLID\\x00', 29: '2025:01:05'}    | ['escalier', 'décoration', 'lumières', 'arbres', 'intérieur']       |\n",
      "| 34 | IMG_20250105_151457.jpg        | photos_victor\\IMG_20250105_151457.jpg        | 2025:01:05 15:14:57 | {1: 'N', 2: (46.0, 48.0, 43.47), 3: 'W', 4: (71.0, 12.0, 17.83), 5: b'\\x00', 6: 33.2, 7: (20.0, 14.0, 50.0), 27: b'ASCII\\x00\\x00\\x00CELLID\\x00', 29: '2025:01:05'}   | ['peinture', 'abstrait', 'couleurs', 'fleurs', 'art']               |\n",
      "| 35 | IMG_20250105_151458.jpg        | photos_victor\\IMG_20250105_151458.jpg        | 2025:01:05 15:14:58 | {1: 'N', 2: (46.0, 48.0, 43.47), 3: 'W', 4: (71.0, 12.0, 17.83), 5: b'\\x00', 6: 33.2, 7: (20.0, 14.0, 50.0), 27: b'ASCII\\x00\\x00\\x00CELLID\\x00', 29: '2025:01:05'}   | ['peinture', 'abstrait', 'couleurs', 'fleurs', 'art']               |\n",
      "| 36 | IMG_20250105_161636.jpg        | photos_victor\\IMG_20250105_161636.jpg        | 2025:01:05 16:16:36 | {1: 'N', 2: (46.0, 48.0, 48.99), 3: 'W', 4: (71.0, 12.0, 11.3), 5: b'\\x01', 6: 14.5, 7: (21.0, 16.0, 31.0), 27: b'ASCII\\x00\\x00\\x00CELLID\\x00', 29: '2025:01:05'}    | ['luge', 'neige', 'hiver', 'personnes', 'extérieur']                |\n",
      "| 37 | IMG_20250105_165438.jpg        | photos_victor\\IMG_20250105_165438.jpg        | 2025:01:05 16:54:39 | {1: 'N', 2: (46.0, 48.0, 44.34), 3: 'W', 4: (71.0, 12.0, 12.05), 5: b'\\x01', 6: 21.2, 7: (21.0, 54.0, 41.0), 27: b'ASCII\\x00\\x00\\x00CELLID\\x00', 29: '2025:01:05'}   | ['rue', 'éclairage', 'noël', 'hiver', 'décoration']                 |\n",
      "| 38 | IMG_20250105_165450.jpg        | photos_victor\\IMG_20250105_165450.jpg        | 2025:01:05 16:54:51 | {1: 'N', 2: (46.0, 48.0, 44.58), 3: 'W', 4: (71.0, 12.0, 11.98), 5: b'\\x01', 6: 20.4, 7: (21.0, 54.0, 52.0), 27: b'ASCII\\x00\\x00\\x00CELLID\\x00', 29: '2025:01:05'}   | ['flocon', 'lumières', 'noël', 'décoration', 'nuit']                |\n",
      "| 39 | IMG_20250105_165457.jpg        | photos_victor\\IMG_20250105_165457.jpg        | 2025:01:05 16:54:58 | {1: 'N', 2: (46.0, 48.0, 44.62), 3: 'W', 4: (71.0, 12.0, 12.01), 5: b'\\x01', 6: 17.5, 7: (21.0, 54.0, 57.0), 27: b'ASCII\\x00\\x00\\x00CELLID\\x00', 29: '2025:01:05'}   | ['flocon', 'lumières', 'noël', 'décoration', 'nuit']                |\n",
      "| 40 | IMG_20250107_180316.jpg        | photos_victor\\IMG_20250107_180316.jpg        | 2025:01:07 18:03:17 | {1: 'N', 2: (48.0, 25.0, 18.32), 3: 'W', 4: (71.0, 3.0, 14.16), 5: b'\\x00', 6: 56.899, 7: (23.0, 3.0, 15.0), 27: b'ASCII\\x00\\x00\\x00CELLID\\x00', 29: '2025:01:07'}   | ['neige', 'forêt', 'nuit', 'sentier', 'hiver']                      |\n",
      "| 41 | IMG_20250108_143517.jpg        | photos_victor\\IMG_20250108_143517.jpg        | 2025:01:08 14:35:18 | {1: 'N', 2: (48.0, 24.0, 57.39), 3: 'W', 4: (71.0, 2.0, 46.71), 5: b'\\x00', 6: 66.5, 7: (19.0, 35.0, 21.0), 27: b'ASCII\\x00\\x00\\x00CELLID\\x00', 29: '2025:01:08'}    | ['burger', 'frites', 'salade', 'repas', 'boisson']                  |\n",
      "| 42 | IMG_20250109_174849.jpg        | photos_victor\\IMG_20250109_174849.jpg        | 2025:01:09 17:48:49 | {1: 'N', 2: (48.0, 25.0, 33.31), 3: 'W', 4: (71.0, 4.0, 13.44), 5: b'\\x00', 6: 0.0, 7: (22.0, 48.0, 47.0), 27: b'ASCII\\x00\\x00\\x00CELLID\\x00', 29: '2025:01:09'}     | ['bière', 'canettes', 'étagère', 'magasin', 'marque']               |\n",
      "| 43 | IMG_20250110_163528.jpg        | photos_victor\\IMG_20250110_163528.jpg        | 2025:01:10 16:35:29 | {1: 'N', 2: (48.0, 24.0, 59.05), 3: 'W', 4: (71.0, 2.0, 43.08), 5: b'\\x00', 6: 60.936, 7: (21.0, 35.0, 31.0), 27: b'ASCII\\x00\\x00\\x00GPS\\x00', 29: '2025:01:10'}     | ['miroir', 'brasserie', 'intérieur', 'personnes', 'vue']            |\n",
      "| 44 | IMG_20250110_164345.jpg        | photos_victor\\IMG_20250110_164345.jpg        | 2025:01:10 16:43:46 | {1: 'N', 2: (48.0, 24.0, 59.88), 3: 'W', 4: (71.0, 2.0, 44.46), 5: b'\\x00', 6: 0.0, 7: (21.0, 43.0, 43.0), 27: b'ASCII\\x00\\x00\\x00CELLID\\x00', 29: '2025:01:10'}     | ['bière', 'verre', 'table', 'menu', 'boisson']                      |\n",
      "| 45 | IMG_20250111_152149.jpg        | photos_victor\\IMG_20250111_152149.jpg        | 2025:01:11 15:21:49 | {1: 'N', 2: (48.0, 24.0, 18.55), 3: 'W', 4: (71.0, 3.0, 24.87), 5: b'\\x00', 6: 0.0, 7: (20.0, 21.0, 33.0), 27: b'ASCII\\x00\\x00\\x00CELLID\\x00', 29: '2025:01:11'}     | ['ski', 'neige', 'groupe', 'forêt', 'loisir']                       |\n",
      "| 46 | IMG_20250111_152150.jpg        | photos_victor\\IMG_20250111_152150.jpg        | 2025:01:11 15:21:50 | {1: 'N', 2: (48.0, 24.0, 18.55), 3: 'W', 4: (71.0, 3.0, 24.87), 5: b'\\x00', 6: 0.0, 7: (20.0, 21.0, 33.0), 27: b'ASCII\\x00\\x00\\x00CELLID\\x00', 29: '2025:01:11'}     | ['ski', 'neige', 'groupe', 'forêt', 'loisir']                       |\n",
      "| 47 | IMG_20250111_154046.jpg        | photos_victor\\IMG_20250111_154046.jpg        | 2025:01:11 15:40:46 | {1: 'N', 2: (48.0, 23.0, 22.08), 3: 'W', 4: (71.0, 2.0, 40.32), 5: b'\\x00', 6: 0.0, 7: (20.0, 40.0, 32.0), 27: b'ASCII\\x00\\x00\\x00CELLID\\x00', 29: '2025:01:11'}     | ['ski', 'hiver', 'groupe', 'plein air', 'neige']                    |\n",
      "| 48 | IMG_20250113_143633.jpg        | photos_victor\\IMG_20250113_143633.jpg        | 2025:01:13 14:36:33 | {1: 'N', 2: (48.0, 23.0, 1.02), 3: 'W', 4: (71.0, 4.0, 59.88), 5: b'\\x00', 6: 116.699, 7: (19.0, 36.0, 28.0), 27: b'ASCII\\x00\\x00\\x00CELLID\\x00', 29: '2025:01:13'}  | ['course', 'chariot', 'légumes', 'fruits', 'épicerie']              |\n",
      "| 49 | IMG_20250113_143716.jpg        | photos_victor\\IMG_20250113_143716.jpg        | 2025:01:13 14:37:16 | {1: 'N', 2: (48.0, 23.0, 0.75), 3: 'W', 4: (71.0, 4.0, 59.58), 5: b'\\x00', 6: 116.699, 7: (19.0, 36.0, 59.0), 27: b'ASCII\\x00\\x00\\x00CELLID\\x00', 29: '2025:01:13'}  | ['épicerie', 'chariot', 'aliments', 'courses', 'fruits']            |\n",
      "| 50 | IMG_20250113_145037.jpg        | photos_victor\\IMG_20250113_145037.jpg        | 2025:01:13 14:50:37 | {1: 'N', 2: (48.0, 23.0, 0.4), 3: 'W', 4: (71.0, 5.0, 0.24), 5: b'\\x00', 6: 116.599, 7: (19.0, 50.0, 31.0), 27: b'ASCII\\x00\\x00\\x00CELLID\\x00', 29: '2025:01:13'}    | ['haricots', 'verts', 'congelés', 'prix', 'supermarché']            |\n",
      "| 51 | IMG_20250113_150228.jpg        | photos_victor\\IMG_20250113_150228.jpg        | 2025:01:13 15:02:29 | {1: 'N', 2: (48.0, 22.0, 59.35), 3: 'W', 4: (71.0, 5.0, 1.62), 5: b'\\x00', 6: 116.699, 7: (20.0, 2.0, 26.0), 27: b'ASCII\\x00\\x00\\x00CELLID\\x00', 29: '2025:01:13'}   | ['chariot', 'courses', 'épicerie', 'aliments', 'produits']          |\n",
      "| 52 | IMG_20250113_201010.jpg        | photos_victor\\IMG_20250113_201010.jpg        | 2025:01:13 20:10:11 | {1: 'N', 2: (48.0, 25.0, 30.81), 3: 'W', 4: (71.0, 4.0, 2.26), 5: b'\\x00', 6: 7.8, 7: (1.0, 10.0, 8.0), 27: b'ASCII\\x00\\x00\\x00CELLID\\x00', 29: '2025:01:14'}        | ['riz', 'courgettes', 'curry', 'plat', 'repas']                     |\n",
      "| 53 | IMG_20250114_193654.jpg        | photos_victor\\IMG_20250114_193654.jpg        | 2025:01:14 19:36:55 | {}                                                                                                                                                                   | ['burger', 'fromage', 'pickle', 'pain', 'repas']                    |\n",
      "| 54 | IMG_20250117_131914.jpg        | photos_victor\\IMG_20250117_131914.jpg        | 2025:01:17 13:19:15 | {}                                                                                                                                                                   | ['riz', 'légumes', 'sauce', 'assiette', 'repas']                    |\n",
      "| 55 | IMG_20250118_185321.jpg        | photos_victor\\IMG_20250118_185321.jpg        | 2025:01:18 18:53:22 | {1: 'N', 2: (48.0, 24.0, 57.28), 3: 'W', 4: (71.0, 2.0, 46.87), 5: b'\\x00', 6: 66.8, 7: (23.0, 53.0, 17.0), 27: b'ASCII\\x00\\x00\\x00CELLID\\x00', 29: '2025:01:18'}    | ['pizza', 'spaghetti', 'tomate', 'fromage', 'repas']                |\n",
      "| 56 | IMG_20250119_131124_BURST1.jpg | photos_victor\\IMG_20250119_131124_BURST1.jpg | 2025:01:19 13:11:23 | {1: 'N', 2: (48.0, 25.0, 0.36), 3: 'W', 4: (71.0, 3.0, 52.35), 5: b'\\x00', 6: 66.871, 7: (18.0, 11.0, 21.0), 27: b'ASCII\\x00\\x00\\x00GPS\\x00', 29: '2025:01:19'}      | ['neige', 'arbres', 'hiver', 'parc', 'extérieur']                   |\n",
      "| 57 | IMG_20250119_131214_BURST1.jpg | photos_victor\\IMG_20250119_131214_BURST1.jpg | 2025:01:19 13:12:13 | {1: 'N', 2: (48.0, 25.0, 3.5), 3: 'W', 4: (71.0, 3.0, 46.03), 5: b'\\x00', 6: 57.632, 7: (18.0, 12.0, 11.0), 27: b'ASCII\\x00\\x00\\x00GPS\\x00', 29: '2025:01:19'}       | ['neige', 'parc', 'hiver', 'plein air', 'calme']                    |\n",
      "| 58 | IMG_20250119_131317.jpg        | photos_victor\\IMG_20250119_131317.jpg        | 2025:01:19 13:13:18 | {1: 'N', 2: (48.0, 25.0, 5.47), 3: 'W', 4: (71.0, 3.0, 47.65), 5: b'\\x00', 6: 55.899, 7: (18.0, 13.0, 7.0), 27: b'ASCII\\x00\\x00\\x00CELLID\\x00', 29: '2025:01:19'}    | ['affiche', 'patinoire', 'horaires', 'extérieur', 'plaque']         |\n",
      "| 59 | IMG_20250119_131334_BURST1.jpg | photos_victor\\IMG_20250119_131334_BURST1.jpg | 2025:01:19 13:13:33 | {1: 'N', 2: (48.0, 25.0, 0.34), 3: 'W', 4: (71.0, 4.0, 2.87), 5: b'\\x00', 6: 51.099, 7: (18.0, 13.0, 28.0), 27: b'ASCII\\x00\\x00\\x00CELLID\\x00', 29: '2025:01:19'}    | ['neige', 'patinage', 'parc', 'enfants', 'hiver']                   |\n",
      "| 60 | IMG_20250119_131335.jpg        | photos_victor\\IMG_20250119_131335.jpg        | 2025:01:19 13:13:35 | {1: 'N', 2: (48.0, 25.0, 0.34), 3: 'W', 4: (71.0, 4.0, 2.87), 5: b'\\x00', 6: 51.099, 7: (18.0, 13.0, 28.0), 27: b'ASCII\\x00\\x00\\x00CELLID\\x00', 29: '2025:01:19'}    | ['neige', 'sentier', 'hiver', 'personnes', 'forêt']                 |\n",
      "| 61 | IMG_20250119_131815_BURST1.jpg | photos_victor\\IMG_20250119_131815_BURST1.jpg | 2025:01:19 13:18:14 | {1: 'N', 2: (48.0, 25.0, 0.86), 3: 'W', 4: (71.0, 4.0, 3.32), 5: b'\\x00', 6: 51.099, 7: (18.0, 18.0, 12.0), 27: b'ASCII\\x00\\x00\\x00CELLID\\x00', 29: '2025:01:19'}    | ['neige', 'chemin', 'arbres', 'hiver', 'calme']                     |\n",
      "| 62 | IMG_20250122_093940.jpg        | photos_victor\\IMG_20250122_093940.jpg        | 2025:01:22 09:39:41 | {1: 'N', 2: (48.0, 25.0, 30.81), 3: 'W', 4: (71.0, 4.0, 2.12), 5: b'\\x01', 6: 19.6, 7: (14.0, 39.0, 39.0), 27: b'ASCII\\x00\\x00\\x00CELLID\\x00', 29: '2025:01:22'}     | ['thermomètre', 'température', 'intérieur', 'extérieur', 'écran']   |\n",
      "| 63 | IMG_20250122_155558.jpg        | photos_victor\\IMG_20250122_155558.jpg        | 2025:01:22 15:55:59 | {1: 'N', 2: (48.0, 24.0, 22.71), 3: 'W', 4: (71.0, 3.0, 13.79), 5: b'\\x00', 6: 80.699, 7: (20.0, 55.0, 56.0), 27: b'ASCII\\x00\\x00\\x00CELLID\\x00', 29: '2025:01:22'}  | ['ticket', 'nombre', 'imprimeurs', 'noir', 'texture']               |\n",
      "| 64 | IMG_20250122_162438.jpg        | photos_victor\\IMG_20250122_162438.jpg        | 2025:01:22 16:24:38 | {1: 'N', 2: (48.0, 24.0, 22.63), 3: 'W', 4: (71.0, 3.0, 13.63), 5: b'\\x00', 6: 81.099, 7: (21.0, 24.0, 35.0), 27: b'ASCII\\x00\\x00\\x00CELLID\\x00', 29: '2025:01:22'}  | ['ticket', 'nombre', 'imprimeurs', 'surface', 'texture']            |\n",
      "| 65 | IMG_20250124_092053.jpg        | photos_victor\\IMG_20250124_092053.jpg        | 2025:01:24 09:20:53 | {1: 'N', 2: (48.0, 25.0, 30.42), 3: 'W', 4: (71.0, 4.0, 2.25), 5: b'\\x01', 6: 19.1, 7: (14.0, 20.0, 47.0), 27: b'ASCII\\x00\\x00\\x00CELLID\\x00', 29: '2025:01:24'}     | ['voiture', 'skis', 'pare-brise', 'hiver', 'soleil']                |\n",
      "| 66 | IMG_20250124_092101.jpg        | photos_victor\\IMG_20250124_092101.jpg        | 2025:01:24 09:21:01 | {1: 'N', 2: (48.0, 25.0, 30.47), 3: 'W', 4: (71.0, 4.0, 2.31), 5: b'\\x01', 6: 19.1, 7: (14.0, 21.0, 0.0), 27: b'ASCII\\x00\\x00\\x00CELLID\\x00', 29: '2025:01:24'}      | ['voiture', 'intérieur', 'jeune', 'skis', 'hiver']                  |\n",
      "| 67 | IMG_20250124_092335.jpg        | photos_victor\\IMG_20250124_092335.jpg        | 2025:01:24 09:23:35 | {1: 'N', 2: (48.0, 25.0, 30.44), 3: 'W', 4: (71.0, 4.0, 2.18), 5: b'\\x01', 6: 19.1, 7: (14.0, 23.0, 21.0), 27: b'ASCII\\x00\\x00\\x00CELLID\\x00', 29: '2025:01:24'}     | ['compteur', 'vitesse', 'voiture', 'affichage', 'voyants']          |\n",
      "| 68 | IMG_20250124_122637.jpg        | photos_victor\\IMG_20250124_122637.jpg        | 2025:01:24 12:26:38 | {1: 'N', 2: (48.0, 24.0, 8.12), 3: 'W', 4: (71.0, 3.0, 40.32), 5: b'\\x00', 6: 76.921, 7: (17.0, 26.0, 38.0), 27: b'ASCII\\x00\\x00\\x00GPS\\x00', 29: '2025:01:24'}      | ['nourriture', 'plat', 'salade', 'boisson', 'table']                |\n",
      "| 69 | IMG_20250217_082849.jpg        | photos_victor\\IMG_20250217_082849.jpg        | 2025:02:17 08:28:49 | {1: 'N', 2: (48.0, 25.0, 27.83), 3: 'W', 4: (71.0, 3.0, 17.51), 5: b'\\x00', 6: 47.318, 7: (13.0, 28.0, 47.0), 27: b'ASCII\\x00\\x00\\x00GPS\\x00', 29: '2025:02:17'}     | ['neige', 'stationnement', 'voiture', 'bancs', 'hiver']             |\n",
      "| 70 | IMG_20250217_082926.jpg        | photos_victor\\IMG_20250217_082926.jpg        | 2025:02:17 08:29:27 | {1: 'N', 2: (48.0, 25.0, 37.42), 3: 'W', 4: (71.0, 3.0, 9.59), 5: b'\\x00', 6: 0.0, 7: (13.0, 29.0, 24.0), 27: b'ASCII\\x00\\x00\\x00CELLID\\x00', 29: '2025:02:17'}      | ['neige', 'arbres', 'hiver', 'poubelles', 'extérieur']              |\n",
      "| 71 | IMG_20250217_082952.jpg        | photos_victor\\IMG_20250217_082952.jpg        | 2025:02:17 08:29:52 | {1: 'N', 2: (48.0, 25.0, 26.61), 3: 'W', 4: (71.0, 3.0, 16.49), 5: b'\\x00', 6: 48.2, 7: (13.0, 29.0, 42.0), 27: b'ASCII\\x00\\x00\\x00CELLID\\x00', 29: '2025:02:17'}    | ['neige', 'chemin', 'hiver', 'personne', 'antenne']                 |\n",
      "| 72 | IMG_20250217_082956.jpg        | photos_victor\\IMG_20250217_082956.jpg        | 2025:02:17 08:29:56 | {1: 'N', 2: (48.0, 25.0, 26.61), 3: 'W', 4: (71.0, 3.0, 16.49), 5: b'\\x00', 6: 48.2, 7: (13.0, 29.0, 42.0), 27: b'ASCII\\x00\\x00\\x00CELLID\\x00', 29: '2025:02:17'}    | ['neige', 'personne', 'hiver', 'colline', 'antenne']                |\n",
      "| 73 | IMG_20250217_083141.jpg        | photos_victor\\IMG_20250217_083141.jpg        | 2025:02:17 08:31:42 | {1: 'N', 2: (48.0, 25.0, 26.64), 3: 'W', 4: (71.0, 3.0, 16.32), 5: b'\\x00', 6: 54.099, 7: (13.0, 31.0, 41.0), 27: b'ASCII\\x00\\x00\\x00CELLID\\x00', 29: '2025:02:17'}  | ['neige', 'personne', 'hiver', 'froid', 'plein-air']                |\n",
      "| 74 | IMG_20250218_184256.jpg        | photos_victor\\IMG_20250218_184256.jpg        | 2025:02:18 18:42:57 | {1: 'N', 2: (48.0, 25.0, 23.88), 3: 'W', 4: (71.0, 3.0, 6.67), 5: b'\\x00', 6: 49.099, 7: (23.0, 42.0, 53.0), 27: b'ASCII\\x00\\x00\\x00CELLID\\x00', 29: '2025:02:18'}   | ['neige', 'nuit', 'arbres', 'hiver', 'personne']                    |\n",
      "| 75 | IMG_20250218_184300.jpg        | photos_victor\\IMG_20250218_184300.jpg        | 2025:02:18 18:43:00 | {1: 'N', 2: (48.0, 25.0, 23.88), 3: 'W', 4: (71.0, 3.0, 6.67), 5: b'\\x00', 6: 49.099, 7: (23.0, 42.0, 53.0), 27: b'ASCII\\x00\\x00\\x00CELLID\\x00', 29: '2025:02:18'}   | ['nuit', 'neige', 'chemin', 'arbres', 'personne']                   |\n",
      "| 76 | IMG_20250219_082942.jpg        | photos_victor\\IMG_20250219_082942.jpg        | 2025:02:19 08:29:43 | {1: 'N', 2: (48.0, 25.0, 30.45), 3: 'W', 4: (71.0, 4.0, 2.19), 5: b'\\x01', 6: 18.7, 7: (13.0, 29.0, 42.0), 27: b'ASCII\\x00\\x00\\x00CELLID\\x00', 29: '2025:02:19'}     | ['neige', 'voiture', 'hiver', 'stationnement', 'extérieur']         |\n",
      "| 77 | IMG_20250219_082954.jpg        | photos_victor\\IMG_20250219_082954.jpg        | 2025:02:19 08:29:54 | {1: 'N', 2: (48.0, 25.0, 30.45), 3: 'W', 4: (71.0, 4.0, 2.19), 5: b'\\x01', 6: 18.7, 7: (13.0, 29.0, 42.0), 27: b'ASCII\\x00\\x00\\x00CELLID\\x00', 29: '2025:02:19'}     | ['voitures', 'neige', 'hiver', 'stationnement', 'extérieur']        |\n",
      "| 78 | IMG_20250219_083342.jpg        | photos_victor\\IMG_20250219_083342.jpg        | 2025:02:19 08:33:42 | {1: 'N', 2: (48.0, 25.0, 30.29), 3: 'W', 4: (71.0, 4.0, 2.37), 5: b'\\x01', 6: 18.7, 7: (13.0, 33.0, 39.0), 27: b'ASCII\\x00\\x00\\x00CELLID\\x00', 29: '2025:02:19'}     | ['neige', 'voiture', 'stationnement', 'hiver', 'extérieur']         |\n",
      "| 79 | IMG_20250219_085328.jpg        | photos_victor\\IMG_20250219_085328.jpg        | 2025:02:19 08:53:29 | {1: 'N', 2: (48.0, 25.0, 10.4), 3: 'W', 4: (71.0, 3.0, 21.7), 5: b'\\x00', 6: 57.099, 7: (13.0, 53.0, 26.0), 27: b'ASCII\\x00\\x00\\x00CELLID\\x00', 29: '2025:02:19'}    | ['neige', 'route', 'hiver', 'stationnement', 'amas']                |\n",
      "| 80 | IMG_20250220_085521.jpg        | photos_victor\\IMG_20250220_085521.jpg        | 2025:02:20 08:55:21 | {1: 'N', 2: (48.0, 25.0, 26.68), 3: 'W', 4: (71.0, 3.0, 14.99), 5: b'\\x00', 6: 54.099, 7: (13.0, 55.0, 19.0), 27: b'ASCII\\x00\\x00\\x00CELLID\\x00', 29: '2025:02:20'}  | ['neige', 'route', 'église', 'hiver', 'ville']                      |\n",
      "| 81 | IMG_20250220_085523.jpg        | photos_victor\\IMG_20250220_085523.jpg        | 2025:02:20 08:55:24 | {1: 'N', 2: (48.0, 25.0, 26.68), 3: 'W', 4: (71.0, 3.0, 14.99), 5: b'\\x00', 6: 54.099, 7: (13.0, 55.0, 19.0), 27: b'ASCII\\x00\\x00\\x00CELLID\\x00', 29: '2025:02:20'}  | ['neige', 'route', 'église', 'hiver', 'ville']                      |\n",
      "| 82 | IMG_20250220_085526.jpg        | photos_victor\\IMG_20250220_085526.jpg        | 2025:02:20 08:55:26 | {1: 'N', 2: (48.0, 25.0, 26.68), 3: 'W', 4: (71.0, 3.0, 14.99), 5: b'\\x00', 6: 54.099, 7: (13.0, 55.0, 19.0), 27: b'ASCII\\x00\\x00\\x00CELLID\\x00', 29: '2025:02:20'}  | ['neige', 'route', 'église', 'hiver', 'ville']                      |\n",
      "| 83 | IMG_20250220_162206.jpg        | photos_victor\\IMG_20250220_162206.jpg        | 2025:02:20 16:22:06 | {1: 'N', 2: (48.0, 25.0, 11.32), 3: 'W', 4: (71.0, 3.0, 9.62), 5: b'\\x00', 6: 75.099, 7: (21.0, 21.0, 51.0), 27: b'ASCII\\x00\\x00\\x00CELLID\\x00', 29: '2025:02:20'}   | ['interface', 'application', 'VS Code', 'ordinateur', 'permission'] |\n",
      "| 84 | IMG_20250221_101424.jpg        | photos_victor\\IMG_20250221_101424.jpg        | 2025:02:21 10:14:24 | {1: 'N', 2: (48.0, 25.0, 11.53), 3: 'W', 4: (71.0, 3.0, 9.94), 5: b'\\x00', 6: 74.8, 7: (15.0, 14.0, 27.0), 27: b'ASCII\\x00\\x00\\x00CELLID\\x00', 29: '2025:02:21'}     | ['tableau', 'dessin', 'calculs', 'notes', 'schémas']                |\n",
      "| 85 | IMG_20250221_155338.jpg        | photos_victor\\IMG_20250221_155338.jpg        | 2025:02:21 15:53:38 | {1: 'N', 2: (48.0, 25.0, 13.31), 3: 'W', 4: (71.0, 3.0, 12.03), 5: b'\\x00', 6: 59.399, 7: (20.0, 53.0, 31.0), 27: b'ASCII\\x00\\x00\\x00CELLID\\x00', 29: '2025:02:21'}  | ['lait', 'produit', 'supermarché', 'Nutrimor', 'rayon']             |\n",
      "| 86 | IMG_20250222_113748.jpg        | photos_victor\\IMG_20250222_113748.jpg        | 2025:02:22 11:37:48 | {1: 'N', 2: (48.0, 23.0, 29.89), 3: 'W', 4: (71.0, 2.0, 58.8), 5: b'\\x00', 6: 0.0, 7: (16.0, 37.0, 47.0), 27: b'ASCII\\x00\\x00\\x00CELLID\\x00', 29: '2025:02:22'}      | ['neige', 'forêt', 'ciel', 'hiver', 'paysage']                      |\n",
      "| 87 | IMG_20250222_113756.jpg        | photos_victor\\IMG_20250222_113756.jpg        | 2025:02:22 11:37:57 | {1: 'N', 2: (48.0, 23.0, 29.89), 3: 'W', 4: (71.0, 2.0, 58.8), 5: b'\\x00', 6: 0.0, 7: (16.0, 37.0, 52.0), 27: b'ASCII\\x00\\x00\\x00CELLID\\x00', 29: '2025:02:22'}      | ['neige', 'sentier', 'forêt', 'hiver', 'paysage']                   |\n",
      "| 88 | IMG_20250222_113802.jpg        | photos_victor\\IMG_20250222_113802.jpg        | 2025:02:22 11:38:02 | {1: 'N', 2: (48.0, 23.0, 29.89), 3: 'W', 4: (71.0, 2.0, 58.8), 5: b'\\x00', 6: 0.0, 7: (16.0, 38.0, 2.0), 27: b'ASCII\\x00\\x00\\x00CELLID\\x00', 29: '2025:02:22'}       | ['ski', 'neige', 'hiver', 'équipement', 'sport']                    |\n",
      "| 89 | IMG_20250222_115044.jpg        | photos_victor\\IMG_20250222_115044.jpg        | 2025:02:22 11:50:44 | {1: 'N', 2: (48.0, 23.0, 29.89), 3: 'W', 4: (71.0, 2.0, 58.8), 5: b'\\x00', 6: 0.0, 7: (16.0, 50.0, 43.0), 27: b'ASCII\\x00\\x00\\x00CELLID\\x00', 29: '2025:02:22'}      | ['neige', 'sentier', 'hiver', 'forêt', 'paysage']                   |\n",
      "| 90 | IMG_20250222_115520.jpg        | photos_victor\\IMG_20250222_115520.jpg        | 2025:02:22 11:55:20 | {1: 'N', 2: (48.0, 23.0, 37.94), 3: 'W', 4: (71.0, 4.0, 27.04), 5: b'\\x00', 6: 0.0, 7: (16.0, 55.0, 16.0), 27: b'ASCII\\x00\\x00\\x00CELLID\\x00', 29: '2025:02:22'}     | ['neige', 'forêt', 'sentier', 'hiver', 'paysage']                   |\n",
      "| 91 | IMG_20250222_121148.jpg        | photos_victor\\IMG_20250222_121148.jpg        | 2025:02:22 12:11:48 | {1: 'N', 2: (48.0, 24.0, 5.54), 3: 'W', 4: (71.0, 3.0, 3.15), 5: b'\\x00', 6: 0.0, 7: (17.0, 11.0, 46.0), 27: b'ASCII\\x00\\x00\\x00CELLID\\x00', 29: '2025:02:22'}       | ['pont', 'neige', 'rivière', 'forêt', 'hiver']                      |\n",
      "| 92 | IMG_20250222_121156.jpg        | photos_victor\\IMG_20250222_121156.jpg        | 2025:02:22 12:11:57 | {1: 'N', 2: (48.0, 24.0, 9.7), 3: 'W', 4: (71.0, 3.0, 7.1), 5: b'\\x00', 6: 0.0, 7: (17.0, 11.0, 56.0), 27: b'ASCII\\x00\\x00\\x00CELLID\\x00', 29: '2025:02:22'}         | ['personne', 'hiver', 'forêt', 'casque', 'lunettes']                |\n",
      "| 93 | IMG_20250222_134940.jpg        | photos_victor\\IMG_20250222_134940.jpg        | 2025:02:22 13:49:40 | {1: 'N', 2: (48.0, 24.0, 57.48), 3: 'W', 4: (71.0, 2.0, 46.7), 5: b'\\x00', 6: 67.3, 7: (18.0, 49.0, 37.0), 27: b'ASCII\\x00\\x00\\x00CELLID\\x00', 29: '2025:02:22'}     | ['poutine', 'frites', 'sauce', 'fromage', 'nourriture']             |\n",
      "| 94 | IMG_20250222_171439.jpg        | photos_victor\\IMG_20250222_171439.jpg        | 2025:02:22 17:14:40 | {1: 'N', 2: (48.0, 25.0, 30.47), 3: 'W', 4: (71.0, 4.0, 2.17), 5: b'\\x01', 6: 18.7, 7: (22.0, 14.0, 35.0), 27: b'ASCII\\x00\\x00\\x00CELLID\\x00', 29: '2025:02:22'}     | ['cuisine', 'provisions', 'table', 'courses', 'intérieur']          |\n",
      "| 95 | IMG_20250222_221529.jpg        | photos_victor\\IMG_20250222_221529.jpg        | 2025:02:22 22:15:30 | {}                                                                                                                                                                   | ['couteau', 'charcuterie', 'fromage', 'pain', 'table']              |\n",
      "| 96 | IMG_20250222_221833.jpg        | photos_victor\\IMG_20250222_221833.jpg        | 2025:02:22 22:18:33 | {}                                                                                                                                                                   | ['charcuterie', 'fromage', 'pain', 'repas', 'soda']                 |\n",
      "| 97 | IMG_20250224_144236.jpg        | photos_victor\\IMG_20250224_144236.jpg        | 2025:02:24 14:42:37 | {1: 'N', 2: (48.0, 25.0, 11.0), 3: 'W', 4: (71.0, 3.0, 10.09), 5: b'\\x00', 6: 75.599, 7: (19.0, 42.0, 35.0), 27: b'ASCII\\x00\\x00\\x00CELLID\\x00', 29: '2025:02:24'}   | ['tableau', 'dessins', 'calculs', 'écriture', 'technique']          |\n",
      "| 98 | IMG_20250228_085044.jpg        | photos_victor\\IMG_20250228_085044.jpg        | 2025:02:28 08:50:44 | {1: 'N', 2: (48.0, 25.0, 11.35), 3: 'W', 4: (71.0, 3.0, 10.04), 5: b'\\x00', 6: 74.8, 7: (13.0, 50.0, 37.0), 27: b'ASCII\\x00\\x00\\x00CELLID\\x00', 29: '2025:02:28'}    | ['routeur', 'étiquette', 'bureau', 'antennes', 'prise']             |\n",
      "| 99 | IMG_20250228_085048.jpg        | photos_victor\\IMG_20250228_085048.jpg        | 2025:02:28 08:50:48 | {1: 'N', 2: (48.0, 25.0, 11.35), 3: 'W', 4: (71.0, 3.0, 10.04), 5: b'\\x00', 6: 74.8, 7: (13.0, 50.0, 37.0), 27: b'ASCII\\x00\\x00\\x00CELLID\\x00', 29: '2025:02:28'}    | ['routeur', 'bureau', 'antennes', 'électronique', 'étiquette']      |\n",
      "+----+--------------------------------+----------------------------------------------+---------------------+----------------------------------------------------------------------------------------------------------------------------------------------------------------------+---------------------------------------------------------------------+\n"
     ]
    }
   ],
   "execution_count": 357
  },
  {
   "metadata": {
    "ExecuteTime": {
     "end_time": "2025-02-28T20:53:50.540971Z",
     "start_time": "2025-02-28T20:53:50.537933Z"
    }
   },
   "cell_type": "code",
   "source": "copy_image_data = image_data.copy()",
   "id": "e02aab71493f884f",
   "outputs": [],
   "execution_count": 358
  },
  {
   "metadata": {
    "ExecuteTime": {
     "end_time": "2025-02-28T20:53:50.586413Z",
     "start_time": "2025-02-28T20:53:50.582880Z"
    }
   },
   "cell_type": "code",
   "source": [
    "def pipeline_categories(image_data, limit_size=200):\n",
    "    keywords = image_data.set_index(\"image_name\")[\"keywords\"].to_dict()\n",
    "    total_categories_tokens = 0\n",
    "\n",
    "    for i in range(0, len(keywords), limit_size):\n",
    "        interval = [i, min(i + limit_size, len(image_data))]\n",
    "        subset_keys = list(keywords.keys())[interval[0]:interval[1]]\n",
    "\n",
    "        subset_keywords = {key: keywords[key] for key in subset_keys}\n",
    "\n",
    "        categories_output, categories_tokens = chat_get_categories(subset_keywords)\n",
    "        total_categories_tokens += categories_tokens\n",
    "\n",
    "        image_data = add_categories_to_df(image_data, categories_output)\n",
    "\n",
    "    return image_data, total_categories_tokens"
   ],
   "id": "f0fa26ead8957b75",
   "outputs": [],
   "execution_count": 359
  },
  {
   "metadata": {
    "ExecuteTime": {
     "end_time": "2025-02-28T20:54:27.706798Z",
     "start_time": "2025-02-28T20:53:50.640969Z"
    }
   },
   "cell_type": "code",
   "source": "copy_image_data, categories_tokens = pipeline_categories(copy_image_data)",
   "id": "6b9eaa330ea7cd2d",
   "outputs": [],
   "execution_count": 360
  },
  {
   "metadata": {
    "ExecuteTime": {
     "end_time": "2025-02-28T20:54:27.727352Z",
     "start_time": "2025-02-28T20:54:27.711899Z"
    }
   },
   "cell_type": "code",
   "source": "print(tabulate(copy_image_data, headers=\"keys\", tablefmt=\"psql\"))",
   "id": "b4aee09bd551e549",
   "outputs": [
    {
     "name": "stdout",
     "output_type": "stream",
     "text": [
      "+----+--------------------------------+----------------------------------------------+---------------------+----------------------------------------------------------------------------------------------------------------------------------------------------------------------+---------------------------------------------------------------------+--------------+\n",
      "|    | image_name                     | path                                         | date_time           | localisation                                                                                                                                                         | keywords                                                            | categories   |\n",
      "|----+--------------------------------+----------------------------------------------+---------------------+----------------------------------------------------------------------------------------------------------------------------------------------------------------------+---------------------------------------------------------------------+--------------|\n",
      "|  0 | IMG_20241228_124125_1.jpg      | photos_victor\\IMG_20241228_124125_1.jpg      | 2024:12:28 12:41:25 | {1: 'N', 2: (40.0, 44.0, 10.13), 3: 'W', 4: (73.0, 59.0, 21.91), 5: b'\\x01', 6: 19.1, 7: (17.0, 41.0, 19.0), 27: b'ASCII\\x00\\x00\\x00CELLID\\x00', 29: '2024:12:28'}   | ['ville', 'pluie', 'piste', 'bâtiments', 'trafic']                  | ville        |\n",
      "|  1 | IMG_20241228_124128.jpg        | photos_victor\\IMG_20241228_124128.jpg        | 2024:12:28 12:41:29 | {1: 'N', 2: (40.0, 44.0, 9.92), 3: 'W', 4: (73.0, 59.0, 21.88), 5: b'\\x01', 6: 19.1, 7: (17.0, 41.0, 24.0), 27: b'ASCII\\x00\\x00\\x00CELLID\\x00', 29: '2024:12:28'}    | ['ville', 'pluie', 'piste', 'bâtiments', 'trafic']                  | ville        |\n",
      "|  2 | IMG_20241228_124135.jpg        | photos_victor\\IMG_20241228_124135.jpg        | 2024:12:28 12:41:36 | {1: 'N', 2: (40.0, 44.0, 9.92), 3: 'W', 4: (73.0, 59.0, 21.88), 5: b'\\x01', 6: 19.1, 7: (17.0, 41.0, 24.0), 27: b'ASCII\\x00\\x00\\x00CELLID\\x00', 29: '2024:12:28'}    | ['ville', 'vélos', 'piste', 'bâtiments', 'pluie']                   | ville        |\n",
      "|  3 | IMG_20241228_124137.jpg        | photos_victor\\IMG_20241228_124137.jpg        | 2024:12:28 12:41:37 | {1: 'N', 2: (40.0, 44.0, 9.92), 3: 'W', 4: (73.0, 59.0, 21.88), 5: b'\\x01', 6: 19.1, 7: (17.0, 41.0, 24.0), 27: b'ASCII\\x00\\x00\\x00CELLID\\x00', 29: '2024:12:28'}    | ['ville', 'cycliste', 'piste', 'bâtiments', 'pluie']                | ville        |\n",
      "|  4 | IMG_20241228_124140.jpg        | photos_victor\\IMG_20241228_124140.jpg        | 2024:12:28 12:41:40 | {1: 'N', 2: (40.0, 44.0, 9.85), 3: 'W', 4: (73.0, 59.0, 22.09), 5: b'\\x01', 6: 19.1, 7: (17.0, 41.0, 37.0), 27: b'ASCII\\x00\\x00\\x00CELLID\\x00', 29: '2024:12:28'}    | ['ville', 'cycliste', 'piste', 'bâtiments', 'pluie']                | ville        |\n",
      "|  5 | IMG_20241228_124648.jpg        | photos_victor\\IMG_20241228_124648.jpg        | 2024:12:28 12:46:48 | {1: 'N', 2: (40.0, 44.0, 6.82), 3: 'W', 4: (73.0, 59.0, 9.61), 5: b'\\x01', 6: 29.234, 7: (17.0, 46.0, 47.0), 27: b'ASCII\\x00\\x00\\x00GPS\\x00', 29: '2024:12:28'}      | ['ville', 'pluie', 'piste', 'bâtiments', 'trafic']                  | ville        |\n",
      "|  6 | IMG_20241228_132157.jpg        | photos_victor\\IMG_20241228_132157.jpg        | 2024:12:28 13:21:57 | {1: 'N', 2: (40.0, 44.0, 7.19), 3: 'W', 4: (73.0, 59.0, 9.85), 5: b'\\x01', 6: 22.2, 7: (18.0, 21.0, 53.0), 27: b'ASCII\\x00\\x00\\x00CELLID\\x00', 29: '2024:12:28'}     | ['restaurant', 'façade', 'brique', 'décoration', 'extérieur']       | restaurant   |\n",
      "|  7 | IMG_20241228_141921.jpg        | photos_victor\\IMG_20241228_141921.jpg        | 2024:12:28 14:19:22 | {1: 'N', 2: (40.0, 44.0, 6.6), 3: 'W', 4: (73.0, 59.0, 9.79), 5: b'\\x01', 6: 22.0, 7: (19.0, 19.0, 8.0), 27: b'ASCII\\x00\\x00\\x00CELLID\\x00', 29: '2024:12:28'}       | ['dessert', 'chocolat', 'glace', 'assiette', 'gourmand']            | dessert      |\n",
      "|  8 | IMG_20241229_123811.jpg        | photos_victor\\IMG_20241229_123811.jpg        | 2024:12:29 12:38:11 | {1: 'N', 2: (40.0, 46.0, 9.54), 3: 'W', 4: (74.0, 0.0, 29.38), 5: b'\\x00', 6: 0.0, 7: (17.0, 38.0, 8.0), 27: b'ASCII\\x00\\x00\\x00CELLID\\x00', 29: '2024:12:29'}       | ['inconnu', 'extérieur', 'rue', 'immeubles', 'vêtements']           | nan          |\n",
      "|  9 | IMG_20241229_123828.jpg        | photos_victor\\IMG_20241229_123828.jpg        | 2024:12:29 12:38:28 | {1: 'N', 2: (40.0, 46.0, 9.54), 3: 'W', 4: (74.0, 0.0, 29.38), 5: b'\\x00', 6: 0.0, 7: (17.0, 38.0, 28.0), 27: b'ASCII\\x00\\x00\\x00CELLID\\x00', 29: '2024:12:29'}      | ['avion', 'exposition', 'musée', 'histoire', 'intérieur']           | avion        |\n",
      "| 10 | IMG_20241229_123844.jpg        | photos_victor\\IMG_20241229_123844.jpg        | 2024:12:29 12:38:44 | {1: 'N', 2: (40.0, 46.0, 9.54), 3: 'W', 4: (74.0, 0.0, 29.38), 5: b'\\x00', 6: 0.0, 7: (17.0, 38.0, 28.0), 27: b'ASCII\\x00\\x00\\x00CELLID\\x00', 29: '2024:12:29'}      | ['avion', 'intérieur', 'exposition', 'militaire', 'navire']         | avion        |\n",
      "| 11 | IMG_20241229_124813.jpg        | photos_victor\\IMG_20241229_124813.jpg        | 2024:12:29 12:48:14 | {1: 'N', 2: (40.0, 46.0, 4.46), 3: 'W', 4: (73.0, 59.0, 45.75), 5: b'\\x00', 6: 0.0, 7: (17.0, 48.0, 9.0), 27: b'ASCII\\x00\\x00\\x00CELLID\\x00', 29: '2024:12:29'}      | ['canon', 'métal', 'structure', 'militaire', 'historique']          | militaire    |\n",
      "| 12 | IMG_20241229_124828.jpg        | photos_victor\\IMG_20241229_124828.jpg        | 2024:12:29 12:48:29 | {1: 'N', 2: (40.0, 46.0, 4.46), 3: 'W', 4: (73.0, 59.0, 45.75), 5: b'\\x00', 6: 0.0, 7: (17.0, 48.0, 9.0), 27: b'ASCII\\x00\\x00\\x00CELLID\\x00', 29: '2024:12:29'}      | ['radar', 'installation', 'navire', 'extérieure', 'système']        | nan          |\n",
      "| 13 | IMG_20241229_125737.jpg        | photos_victor\\IMG_20241229_125737.jpg        | 2024:12:29 12:57:38 | {1: 'N', 2: (40.0, 46.0, 4.46), 3: 'W', 4: (73.0, 59.0, 45.75), 5: b'\\x00', 6: 0.0, 7: (17.0, 57.0, 28.0), 27: b'ASCII\\x00\\x00\\x00CELLID\\x00', 29: '2024:12:29'}     | ['jet', 'piste', 'extérieur', 'ciel', 'avion']                      | nan          |\n",
      "| 14 | IMG_20241229_125929.jpg        | photos_victor\\IMG_20241229_125929.jpg        | 2024:12:29 12:59:30 | {1: 'N', 2: (40.0, 46.0, 4.46), 3: 'W', 4: (73.0, 59.0, 45.75), 5: b'\\x00', 6: 0.0, 7: (17.0, 59.0, 18.0), 27: b'ASCII\\x00\\x00\\x00CELLID\\x00', 29: '2024:12:29'}     | ['pont', 'navire', 'tour', 'militaire', 'extérieur']                | militaire    |\n",
      "| 15 | IMG_20241229_130006.jpg        | photos_victor\\IMG_20241229_130006.jpg        | 2024:12:29 13:00:06 | {1: 'N', 2: (40.0, 46.0, 4.46), 3: 'W', 4: (73.0, 59.0, 45.75), 5: b'\\x00', 6: 0.0, 7: (17.0, 59.0, 58.0), 27: b'ASCII\\x00\\x00\\x00CELLID\\x00', 29: '2024:12:29'}     | ['élévateur', 'panneau', 'extérieure', 'balustrade', 'skyline']     | nan          |\n",
      "| 16 | IMG_20241229_130244.jpg        | photos_victor\\IMG_20241229_130244.jpg        | 2024:12:29 13:02:45 | {1: 'N', 2: (40.0, 45.0, 45.05), 3: 'W', 4: (74.0, 0.0, 5.58), 5: b'\\x00', 6: 0.0, 7: (18.0, 2.0, 44.0), 27: b'ASCII\\x00\\x00\\x00CELLID\\x00', 29: '2024:12:29'}       | ['avion', 'propeller', 'pont', 'navire', 'enfants']                 | avion        |\n",
      "| 17 | IMG_20241229_130249.jpg        | photos_victor\\IMG_20241229_130249.jpg        | 2024:12:29 13:02:50 | {1: 'N', 2: (40.0, 45.0, 45.05), 3: 'W', 4: (74.0, 0.0, 5.58), 5: b'\\x00', 6: 0.0, 7: (18.0, 2.0, 44.0), 27: b'ASCII\\x00\\x00\\x00CELLID\\x00', 29: '2024:12:29'}       | ['jets', 'gratte-ciel', 'extérieur', 'ciel', 'exposition']          | nan          |\n",
      "| 18 | IMG_20241229_130430.jpg        | photos_victor\\IMG_20241229_130430.jpg        | 2024:12:29 13:04:30 | {1: 'N', 2: (40.0, 45.0, 45.05), 3: 'W', 4: (74.0, 0.0, 5.58), 5: b'\\x00', 6: 0.0, 7: (18.0, 4.0, 18.0), 27: b'ASCII\\x00\\x00\\x00CELLID\\x00', 29: '2024:12:29'}       | ['panneau', 'information', 'avion', 'texte', 'historique']          | historique   |\n",
      "| 19 | IMG_20241229_130435.jpg        | photos_victor\\IMG_20241229_130435.jpg        | 2024:12:29 13:04:35 | {1: 'N', 2: (40.0, 45.0, 45.05), 3: 'W', 4: (74.0, 0.0, 5.58), 5: b'\\x00', 6: 0.0, 7: (18.0, 4.0, 18.0), 27: b'ASCII\\x00\\x00\\x00CELLID\\x00', 29: '2024:12:29'}       | ['jet', 'extérieur', 'pont', 'visiteurs', 'militaire']              | militaire    |\n",
      "| 20 | IMG_20241229_130635.jpg        | photos_victor\\IMG_20241229_130635.jpg        | 2024:12:29 13:06:35 | {1: 'N', 2: (40.0, 45.0, 45.05), 3: 'W', 4: (74.0, 0.0, 5.58), 5: b'\\x00', 6: 0.0, 7: (18.0, 6.0, 18.0), 27: b'ASCII\\x00\\x00\\x00CELLID\\x00', 29: '2024:12:29'}       | ['avion', 'A-6', 'démonté', 'roue', 'plafond']                      | avion        |\n",
      "| 21 | IMG_20241229_130721.jpg        | photos_victor\\IMG_20241229_130721.jpg        | 2024:12:29 13:07:22 | {1: 'N', 2: (40.0, 46.0, 4.46), 3: 'W', 4: (73.0, 59.0, 45.75), 5: b'\\x00', 6: 0.0, 7: (18.0, 7.0, 19.0), 27: b'ASCII\\x00\\x00\\x00CELLID\\x00', 29: '2024:12:29'}      | ['Grumman', 'F-14D', 'Tomcat', 'musée', 'immeubles']                | avion        |\n",
      "| 22 | IMG_20250105_142604.jpg        | photos_victor\\IMG_20250105_142604.jpg        | 2025:01:05 14:26:05 | {1: 'N', 2: (46.0, 48.0, 43.69), 3: 'W', 4: (71.0, 12.0, 17.52), 5: b'\\x00', 6: 37.599, 7: (19.0, 25.0, 46.0), 27: b'ASCII\\x00\\x00\\x00CELLID\\x00', 29: '2025:01:05'} | ['cheminée', 'sapin', 'décoration', 'chandelier', 'festif']         | chandelier   |\n",
      "| 23 | IMG_20250105_142818.jpg        | photos_victor\\IMG_20250105_142818.jpg        | 2025:01:05 14:28:18 | {1: 'N', 2: (46.0, 48.0, 43.74), 3: 'W', 4: (71.0, 12.0, 17.6), 5: b'\\x00', 6: 37.599, 7: (19.0, 28.0, 6.0), 27: b'ASCII\\x00\\x00\\x00CELLID\\x00', 29: '2025:01:05'}   | ['personne', 'costume', 'sapin', 'décor', 'vintage']                | sapin        |\n",
      "| 24 | IMG_20250105_144147.jpg        | photos_victor\\IMG_20250105_144147.jpg        | 2025:01:05 14:41:47 | {1: 'N', 2: (46.0, 48.0, 43.43), 3: 'W', 4: (71.0, 12.0, 19.53), 5: b'\\x00', 6: 33.7, 7: (19.0, 41.0, 48.0), 27: b'ASCII\\x00\\x00\\x00CELLID\\x00', 29: '2025:01:05'}   | ['couloir', 'palmiers', 'arcades', 'lumière', 'élégance']           | nan          |\n",
      "| 25 | IMG_20250105_144436.jpg        | photos_victor\\IMG_20250105_144436.jpg        | 2025:01:05 14:44:36 | {1: 'N', 2: (46.0, 48.0, 43.43), 3: 'W', 4: (71.0, 12.0, 19.53), 5: b'\\x00', 6: 34.5, 7: (19.0, 44.0, 36.0), 27: b'ASCII\\x00\\x00\\x00CELLID\\x00', 29: '2025:01:05'}   | ['chandelier', 'balcon', 'décoration', 'lumières', 'étage']         | lumières     |\n",
      "| 26 | IMG_20250105_144540.jpg        | photos_victor\\IMG_20250105_144540.jpg        | 2025:01:05 14:45:40 | {1: 'N', 2: (46.0, 48.0, 43.31), 3: 'W', 4: (71.0, 12.0, 20.08), 5: b'\\x00', 6: 35.099, 7: (19.0, 45.0, 29.0), 27: b'ASCII\\x00\\x00\\x00CELLID\\x00', 29: '2025:01:05'} | ['salle', 'personnes', 'grand', 'chandeliers', 'réunion']           | nan          |\n",
      "| 27 | IMG_20250105_144750.jpg        | photos_victor\\IMG_20250105_144750.jpg        | 2025:01:05 14:47:50 | {1: 'N', 2: (46.0, 48.0, 43.31), 3: 'W', 4: (71.0, 12.0, 20.25), 5: b'\\x00', 6: 35.099, 7: (19.0, 47.0, 30.0), 27: b'ASCII\\x00\\x00\\x00CELLID\\x00', 29: '2025:01:05'} | ['lustre', 'détail', 'plafond', 'élégance', 'fenêtres']             | nan          |\n",
      "| 28 | IMG_20250105_145543_BURST1.jpg | photos_victor\\IMG_20250105_145543_BURST1.jpg | 2025:01:05 14:55:42 | {1: 'N', 2: (46.0, 48.0, 43.17), 3: 'W', 4: (71.0, 12.0, 19.66), 5: b'\\x00', 6: 34.2, 7: (19.0, 55.0, 42.0), 27: b'ASCII\\x00\\x00\\x00CELLID\\x00', 29: '2025:01:05'}   | ['plafond', 'chandelier', 'ornement', 'architecture', 'lumières']   | chandelier   |\n",
      "| 29 | IMG_20250105_150144.jpg        | photos_victor\\IMG_20250105_150144.jpg        | 2025:01:05 15:01:45 | {1: 'N', 2: (46.0, 48.0, 43.33), 3: 'W', 4: (71.0, 12.0, 19.84), 5: b'\\x00', 6: 33.4, 7: (20.0, 1.0, 44.0), 27: b'ASCII\\x00\\x00\\x00CELLID\\x00', 29: '2025:01:05'}    | ['drapeaux', 'chandelier', 'vue', 'balustrade', 'décor']            | chandelier   |\n",
      "| 30 | IMG_20250105_150831.jpg        | photos_victor\\IMG_20250105_150831.jpg        | 2025:01:05 15:08:32 | {1: 'N', 2: (46.0, 48.0, 43.99), 3: 'W', 4: (71.0, 12.0, 18.26), 5: b'\\x00', 6: 30.3, 7: (20.0, 8.0, 28.0), 27: b'ASCII\\x00\\x00\\x00CELLID\\x00', 29: '2025:01:05'}    | ['assiettes', 'historique', 'exposition', 'époque', 'vaisselle']    | historique   |\n",
      "| 31 | IMG_20250105_150850.jpg        | photos_victor\\IMG_20250105_150850.jpg        | 2025:01:05 15:08:50 | {1: 'N', 2: (46.0, 48.0, 43.9), 3: 'W', 4: (71.0, 12.0, 18.06), 5: b'\\x00', 6: 30.3, 7: (20.0, 8.0, 48.0), 27: b'ASCII\\x00\\x00\\x00CELLID\\x00', 29: '2025:01:05'}     | ['bouteilles', 'historique', 'exposition', 'table', 'verres']       | historique   |\n",
      "| 32 | IMG_20250105_151136.jpg        | photos_victor\\IMG_20250105_151136.jpg        | 2025:01:05 15:11:36 | {1: 'N', 2: (46.0, 48.0, 43.89), 3: 'W', 4: (71.0, 12.0, 17.85), 5: b'\\x00', 6: 30.3, 7: (20.0, 11.0, 29.0), 27: b'ASCII\\x00\\x00\\x00CELLID\\x00', 29: '2025:01:05'}   | ['menu', 'vins', 'champagnes', 'liste', 'prix']                     | nan          |\n",
      "| 33 | IMG_20250105_151214.jpg        | photos_victor\\IMG_20250105_151214.jpg        | 2025:01:05 15:12:14 | {1: 'N', 2: (46.0, 48.0, 43.36), 3: 'W', 4: (71.0, 12.0, 17.58), 5: b'\\x00', 6: 30.3, 7: (20.0, 12.0, 9.0), 27: b'ASCII\\x00\\x00\\x00CELLID\\x00', 29: '2025:01:05'}    | ['escalier', 'décoration', 'lumières', 'arbres', 'intérieur']       | lumières     |\n",
      "| 34 | IMG_20250105_151457.jpg        | photos_victor\\IMG_20250105_151457.jpg        | 2025:01:05 15:14:57 | {1: 'N', 2: (46.0, 48.0, 43.47), 3: 'W', 4: (71.0, 12.0, 17.83), 5: b'\\x00', 6: 33.2, 7: (20.0, 14.0, 50.0), 27: b'ASCII\\x00\\x00\\x00CELLID\\x00', 29: '2025:01:05'}   | ['peinture', 'abstrait', 'couleurs', 'fleurs', 'art']               | peinture     |\n",
      "| 35 | IMG_20250105_151458.jpg        | photos_victor\\IMG_20250105_151458.jpg        | 2025:01:05 15:14:58 | {1: 'N', 2: (46.0, 48.0, 43.47), 3: 'W', 4: (71.0, 12.0, 17.83), 5: b'\\x00', 6: 33.2, 7: (20.0, 14.0, 50.0), 27: b'ASCII\\x00\\x00\\x00CELLID\\x00', 29: '2025:01:05'}   | ['peinture', 'abstrait', 'couleurs', 'fleurs', 'art']               | peinture     |\n",
      "| 36 | IMG_20250105_161636.jpg        | photos_victor\\IMG_20250105_161636.jpg        | 2025:01:05 16:16:36 | {1: 'N', 2: (46.0, 48.0, 48.99), 3: 'W', 4: (71.0, 12.0, 11.3), 5: b'\\x01', 6: 14.5, 7: (21.0, 16.0, 31.0), 27: b'ASCII\\x00\\x00\\x00CELLID\\x00', 29: '2025:01:05'}    | ['luge', 'neige', 'hiver', 'personnes', 'extérieur']                | neige        |\n",
      "| 37 | IMG_20250105_165438.jpg        | photos_victor\\IMG_20250105_165438.jpg        | 2025:01:05 16:54:39 | {1: 'N', 2: (46.0, 48.0, 44.34), 3: 'W', 4: (71.0, 12.0, 12.05), 5: b'\\x01', 6: 21.2, 7: (21.0, 54.0, 41.0), 27: b'ASCII\\x00\\x00\\x00CELLID\\x00', 29: '2025:01:05'}   | ['rue', 'éclairage', 'noël', 'hiver', 'décoration']                 | neige        |\n",
      "| 38 | IMG_20250105_165450.jpg        | photos_victor\\IMG_20250105_165450.jpg        | 2025:01:05 16:54:51 | {1: 'N', 2: (46.0, 48.0, 44.58), 3: 'W', 4: (71.0, 12.0, 11.98), 5: b'\\x01', 6: 20.4, 7: (21.0, 54.0, 52.0), 27: b'ASCII\\x00\\x00\\x00CELLID\\x00', 29: '2025:01:05'}   | ['flocon', 'lumières', 'noël', 'décoration', 'nuit']                | noël         |\n",
      "| 39 | IMG_20250105_165457.jpg        | photos_victor\\IMG_20250105_165457.jpg        | 2025:01:05 16:54:58 | {1: 'N', 2: (46.0, 48.0, 44.62), 3: 'W', 4: (71.0, 12.0, 12.01), 5: b'\\x01', 6: 17.5, 7: (21.0, 54.0, 57.0), 27: b'ASCII\\x00\\x00\\x00CELLID\\x00', 29: '2025:01:05'}   | ['flocon', 'lumières', 'noël', 'décoration', 'nuit']                | noël         |\n",
      "| 40 | IMG_20250107_180316.jpg        | photos_victor\\IMG_20250107_180316.jpg        | 2025:01:07 18:03:17 | {1: 'N', 2: (48.0, 25.0, 18.32), 3: 'W', 4: (71.0, 3.0, 14.16), 5: b'\\x00', 6: 56.899, 7: (23.0, 3.0, 15.0), 27: b'ASCII\\x00\\x00\\x00CELLID\\x00', 29: '2025:01:07'}   | ['neige', 'forêt', 'nuit', 'sentier', 'hiver']                      | neige        |\n",
      "| 41 | IMG_20250108_143517.jpg        | photos_victor\\IMG_20250108_143517.jpg        | 2025:01:08 14:35:18 | {1: 'N', 2: (48.0, 24.0, 57.39), 3: 'W', 4: (71.0, 2.0, 46.71), 5: b'\\x00', 6: 66.5, 7: (19.0, 35.0, 21.0), 27: b'ASCII\\x00\\x00\\x00CELLID\\x00', 29: '2025:01:08'}    | ['burger', 'frites', 'salade', 'repas', 'boisson']                  | repas        |\n",
      "| 42 | IMG_20250109_174849.jpg        | photos_victor\\IMG_20250109_174849.jpg        | 2025:01:09 17:48:49 | {1: 'N', 2: (48.0, 25.0, 33.31), 3: 'W', 4: (71.0, 4.0, 13.44), 5: b'\\x00', 6: 0.0, 7: (22.0, 48.0, 47.0), 27: b'ASCII\\x00\\x00\\x00CELLID\\x00', 29: '2025:01:09'}     | ['bière', 'canettes', 'étagère', 'magasin', 'marque']               | nan          |\n",
      "| 43 | IMG_20250110_163528.jpg        | photos_victor\\IMG_20250110_163528.jpg        | 2025:01:10 16:35:29 | {1: 'N', 2: (48.0, 24.0, 59.05), 3: 'W', 4: (71.0, 2.0, 43.08), 5: b'\\x00', 6: 60.936, 7: (21.0, 35.0, 31.0), 27: b'ASCII\\x00\\x00\\x00GPS\\x00', 29: '2025:01:10'}     | ['miroir', 'brasserie', 'intérieur', 'personnes', 'vue']            | nan          |\n",
      "| 44 | IMG_20250110_164345.jpg        | photos_victor\\IMG_20250110_164345.jpg        | 2025:01:10 16:43:46 | {1: 'N', 2: (48.0, 24.0, 59.88), 3: 'W', 4: (71.0, 2.0, 44.46), 5: b'\\x00', 6: 0.0, 7: (21.0, 43.0, 43.0), 27: b'ASCII\\x00\\x00\\x00CELLID\\x00', 29: '2025:01:10'}     | ['bière', 'verre', 'table', 'menu', 'boisson']                      | nan          |\n",
      "| 45 | IMG_20250111_152149.jpg        | photos_victor\\IMG_20250111_152149.jpg        | 2025:01:11 15:21:49 | {1: 'N', 2: (48.0, 24.0, 18.55), 3: 'W', 4: (71.0, 3.0, 24.87), 5: b'\\x00', 6: 0.0, 7: (20.0, 21.0, 33.0), 27: b'ASCII\\x00\\x00\\x00CELLID\\x00', 29: '2025:01:11'}     | ['ski', 'neige', 'groupe', 'forêt', 'loisir']                       | ski          |\n",
      "| 46 | IMG_20250111_152150.jpg        | photos_victor\\IMG_20250111_152150.jpg        | 2025:01:11 15:21:50 | {1: 'N', 2: (48.0, 24.0, 18.55), 3: 'W', 4: (71.0, 3.0, 24.87), 5: b'\\x00', 6: 0.0, 7: (20.0, 21.0, 33.0), 27: b'ASCII\\x00\\x00\\x00CELLID\\x00', 29: '2025:01:11'}     | ['ski', 'neige', 'groupe', 'forêt', 'loisir']                       | nan          |\n",
      "| 47 | IMG_20250111_154046.jpg        | photos_victor\\IMG_20250111_154046.jpg        | 2025:01:11 15:40:46 | {1: 'N', 2: (48.0, 23.0, 22.08), 3: 'W', 4: (71.0, 2.0, 40.32), 5: b'\\x00', 6: 0.0, 7: (20.0, 40.0, 32.0), 27: b'ASCII\\x00\\x00\\x00CELLID\\x00', 29: '2025:01:11'}     | ['ski', 'hiver', 'groupe', 'plein air', 'neige']                    | ski          |\n",
      "| 48 | IMG_20250113_143633.jpg        | photos_victor\\IMG_20250113_143633.jpg        | 2025:01:13 14:36:33 | {1: 'N', 2: (48.0, 23.0, 1.02), 3: 'W', 4: (71.0, 4.0, 59.88), 5: b'\\x00', 6: 116.699, 7: (19.0, 36.0, 28.0), 27: b'ASCII\\x00\\x00\\x00CELLID\\x00', 29: '2025:01:13'}  | ['course', 'chariot', 'légumes', 'fruits', 'épicerie']              | épicerie     |\n",
      "| 49 | IMG_20250113_143716.jpg        | photos_victor\\IMG_20250113_143716.jpg        | 2025:01:13 14:37:16 | {1: 'N', 2: (48.0, 23.0, 0.75), 3: 'W', 4: (71.0, 4.0, 59.58), 5: b'\\x00', 6: 116.699, 7: (19.0, 36.0, 59.0), 27: b'ASCII\\x00\\x00\\x00CELLID\\x00', 29: '2025:01:13'}  | ['épicerie', 'chariot', 'aliments', 'courses', 'fruits']            | épicerie     |\n",
      "| 50 | IMG_20250113_145037.jpg        | photos_victor\\IMG_20250113_145037.jpg        | 2025:01:13 14:50:37 | {1: 'N', 2: (48.0, 23.0, 0.4), 3: 'W', 4: (71.0, 5.0, 0.24), 5: b'\\x00', 6: 116.599, 7: (19.0, 50.0, 31.0), 27: b'ASCII\\x00\\x00\\x00CELLID\\x00', 29: '2025:01:13'}    | ['haricots', 'verts', 'congelés', 'prix', 'supermarché']            | épicerie     |\n",
      "| 51 | IMG_20250113_150228.jpg        | photos_victor\\IMG_20250113_150228.jpg        | 2025:01:13 15:02:29 | {1: 'N', 2: (48.0, 22.0, 59.35), 3: 'W', 4: (71.0, 5.0, 1.62), 5: b'\\x00', 6: 116.699, 7: (20.0, 2.0, 26.0), 27: b'ASCII\\x00\\x00\\x00CELLID\\x00', 29: '2025:01:13'}   | ['chariot', 'courses', 'épicerie', 'aliments', 'produits']          | épicerie     |\n",
      "| 52 | IMG_20250113_201010.jpg        | photos_victor\\IMG_20250113_201010.jpg        | 2025:01:13 20:10:11 | {1: 'N', 2: (48.0, 25.0, 30.81), 3: 'W', 4: (71.0, 4.0, 2.26), 5: b'\\x00', 6: 7.8, 7: (1.0, 10.0, 8.0), 27: b'ASCII\\x00\\x00\\x00CELLID\\x00', 29: '2025:01:14'}        | ['riz', 'courgettes', 'curry', 'plat', 'repas']                     | repas        |\n",
      "| 53 | IMG_20250114_193654.jpg        | photos_victor\\IMG_20250114_193654.jpg        | 2025:01:14 19:36:55 | {}                                                                                                                                                                   | ['burger', 'fromage', 'pickle', 'pain', 'repas']                    | repas        |\n",
      "| 54 | IMG_20250117_131914.jpg        | photos_victor\\IMG_20250117_131914.jpg        | 2025:01:17 13:19:15 | {}                                                                                                                                                                   | ['riz', 'légumes', 'sauce', 'assiette', 'repas']                    | repas        |\n",
      "| 55 | IMG_20250118_185321.jpg        | photos_victor\\IMG_20250118_185321.jpg        | 2025:01:18 18:53:22 | {1: 'N', 2: (48.0, 24.0, 57.28), 3: 'W', 4: (71.0, 2.0, 46.87), 5: b'\\x00', 6: 66.8, 7: (23.0, 53.0, 17.0), 27: b'ASCII\\x00\\x00\\x00CELLID\\x00', 29: '2025:01:18'}    | ['pizza', 'spaghetti', 'tomate', 'fromage', 'repas']                | repas        |\n",
      "| 56 | IMG_20250119_131124_BURST1.jpg | photos_victor\\IMG_20250119_131124_BURST1.jpg | 2025:01:19 13:11:23 | {1: 'N', 2: (48.0, 25.0, 0.36), 3: 'W', 4: (71.0, 3.0, 52.35), 5: b'\\x00', 6: 66.871, 7: (18.0, 11.0, 21.0), 27: b'ASCII\\x00\\x00\\x00GPS\\x00', 29: '2025:01:19'}      | ['neige', 'arbres', 'hiver', 'parc', 'extérieur']                   | neige        |\n",
      "| 57 | IMG_20250119_131214_BURST1.jpg | photos_victor\\IMG_20250119_131214_BURST1.jpg | 2025:01:19 13:12:13 | {1: 'N', 2: (48.0, 25.0, 3.5), 3: 'W', 4: (71.0, 3.0, 46.03), 5: b'\\x00', 6: 57.632, 7: (18.0, 12.0, 11.0), 27: b'ASCII\\x00\\x00\\x00GPS\\x00', 29: '2025:01:19'}       | ['neige', 'parc', 'hiver', 'plein air', 'calme']                    | neige        |\n",
      "| 58 | IMG_20250119_131317.jpg        | photos_victor\\IMG_20250119_131317.jpg        | 2025:01:19 13:13:18 | {1: 'N', 2: (48.0, 25.0, 5.47), 3: 'W', 4: (71.0, 3.0, 47.65), 5: b'\\x00', 6: 55.899, 7: (18.0, 13.0, 7.0), 27: b'ASCII\\x00\\x00\\x00CELLID\\x00', 29: '2025:01:19'}    | ['affiche', 'patinoire', 'horaires', 'extérieur', 'plaque']         | nan          |\n",
      "| 59 | IMG_20250119_131334_BURST1.jpg | photos_victor\\IMG_20250119_131334_BURST1.jpg | 2025:01:19 13:13:33 | {1: 'N', 2: (48.0, 25.0, 0.34), 3: 'W', 4: (71.0, 4.0, 2.87), 5: b'\\x00', 6: 51.099, 7: (18.0, 13.0, 28.0), 27: b'ASCII\\x00\\x00\\x00CELLID\\x00', 29: '2025:01:19'}    | ['neige', 'patinage', 'parc', 'enfants', 'hiver']                   | neige        |\n",
      "| 60 | IMG_20250119_131335.jpg        | photos_victor\\IMG_20250119_131335.jpg        | 2025:01:19 13:13:35 | {1: 'N', 2: (48.0, 25.0, 0.34), 3: 'W', 4: (71.0, 4.0, 2.87), 5: b'\\x00', 6: 51.099, 7: (18.0, 13.0, 28.0), 27: b'ASCII\\x00\\x00\\x00CELLID\\x00', 29: '2025:01:19'}    | ['neige', 'sentier', 'hiver', 'personnes', 'forêt']                 | neige        |\n",
      "| 61 | IMG_20250119_131815_BURST1.jpg | photos_victor\\IMG_20250119_131815_BURST1.jpg | 2025:01:19 13:18:14 | {1: 'N', 2: (48.0, 25.0, 0.86), 3: 'W', 4: (71.0, 4.0, 3.32), 5: b'\\x00', 6: 51.099, 7: (18.0, 18.0, 12.0), 27: b'ASCII\\x00\\x00\\x00CELLID\\x00', 29: '2025:01:19'}    | ['neige', 'chemin', 'arbres', 'hiver', 'calme']                     | neige        |\n",
      "| 62 | IMG_20250122_093940.jpg        | photos_victor\\IMG_20250122_093940.jpg        | 2025:01:22 09:39:41 | {1: 'N', 2: (48.0, 25.0, 30.81), 3: 'W', 4: (71.0, 4.0, 2.12), 5: b'\\x01', 6: 19.6, 7: (14.0, 39.0, 39.0), 27: b'ASCII\\x00\\x00\\x00CELLID\\x00', 29: '2025:01:22'}     | ['thermomètre', 'température', 'intérieur', 'extérieur', 'écran']   | nan          |\n",
      "| 63 | IMG_20250122_155558.jpg        | photos_victor\\IMG_20250122_155558.jpg        | 2025:01:22 15:55:59 | {1: 'N', 2: (48.0, 24.0, 22.71), 3: 'W', 4: (71.0, 3.0, 13.79), 5: b'\\x00', 6: 80.699, 7: (20.0, 55.0, 56.0), 27: b'ASCII\\x00\\x00\\x00CELLID\\x00', 29: '2025:01:22'}  | ['ticket', 'nombre', 'imprimeurs', 'noir', 'texture']               | ticket       |\n",
      "| 64 | IMG_20250122_162438.jpg        | photos_victor\\IMG_20250122_162438.jpg        | 2025:01:22 16:24:38 | {1: 'N', 2: (48.0, 24.0, 22.63), 3: 'W', 4: (71.0, 3.0, 13.63), 5: b'\\x00', 6: 81.099, 7: (21.0, 24.0, 35.0), 27: b'ASCII\\x00\\x00\\x00CELLID\\x00', 29: '2025:01:22'}  | ['ticket', 'nombre', 'imprimeurs', 'surface', 'texture']            | ticket       |\n",
      "| 65 | IMG_20250124_092053.jpg        | photos_victor\\IMG_20250124_092053.jpg        | 2025:01:24 09:20:53 | {1: 'N', 2: (48.0, 25.0, 30.42), 3: 'W', 4: (71.0, 4.0, 2.25), 5: b'\\x01', 6: 19.1, 7: (14.0, 20.0, 47.0), 27: b'ASCII\\x00\\x00\\x00CELLID\\x00', 29: '2025:01:24'}     | ['voiture', 'skis', 'pare-brise', 'hiver', 'soleil']                | voiture      |\n",
      "| 66 | IMG_20250124_092101.jpg        | photos_victor\\IMG_20250124_092101.jpg        | 2025:01:24 09:21:01 | {1: 'N', 2: (48.0, 25.0, 30.47), 3: 'W', 4: (71.0, 4.0, 2.31), 5: b'\\x01', 6: 19.1, 7: (14.0, 21.0, 0.0), 27: b'ASCII\\x00\\x00\\x00CELLID\\x00', 29: '2025:01:24'}      | ['voiture', 'intérieur', 'jeune', 'skis', 'hiver']                  | voiture      |\n",
      "| 67 | IMG_20250124_092335.jpg        | photos_victor\\IMG_20250124_092335.jpg        | 2025:01:24 09:23:35 | {1: 'N', 2: (48.0, 25.0, 30.44), 3: 'W', 4: (71.0, 4.0, 2.18), 5: b'\\x01', 6: 19.1, 7: (14.0, 23.0, 21.0), 27: b'ASCII\\x00\\x00\\x00CELLID\\x00', 29: '2025:01:24'}     | ['compteur', 'vitesse', 'voiture', 'affichage', 'voyants']          | voiture      |\n",
      "| 68 | IMG_20250124_122637.jpg        | photos_victor\\IMG_20250124_122637.jpg        | 2025:01:24 12:26:38 | {1: 'N', 2: (48.0, 24.0, 8.12), 3: 'W', 4: (71.0, 3.0, 40.32), 5: b'\\x00', 6: 76.921, 7: (17.0, 26.0, 38.0), 27: b'ASCII\\x00\\x00\\x00GPS\\x00', 29: '2025:01:24'}      | ['nourriture', 'plat', 'salade', 'boisson', 'table']                | nan          |\n",
      "| 69 | IMG_20250217_082849.jpg        | photos_victor\\IMG_20250217_082849.jpg        | 2025:02:17 08:28:49 | {1: 'N', 2: (48.0, 25.0, 27.83), 3: 'W', 4: (71.0, 3.0, 17.51), 5: b'\\x00', 6: 47.318, 7: (13.0, 28.0, 47.0), 27: b'ASCII\\x00\\x00\\x00GPS\\x00', 29: '2025:02:17'}     | ['neige', 'stationnement', 'voiture', 'bancs', 'hiver']             | neige        |\n",
      "| 70 | IMG_20250217_082926.jpg        | photos_victor\\IMG_20250217_082926.jpg        | 2025:02:17 08:29:27 | {1: 'N', 2: (48.0, 25.0, 37.42), 3: 'W', 4: (71.0, 3.0, 9.59), 5: b'\\x00', 6: 0.0, 7: (13.0, 29.0, 24.0), 27: b'ASCII\\x00\\x00\\x00CELLID\\x00', 29: '2025:02:17'}      | ['neige', 'arbres', 'hiver', 'poubelles', 'extérieur']              | neige        |\n",
      "| 71 | IMG_20250217_082952.jpg        | photos_victor\\IMG_20250217_082952.jpg        | 2025:02:17 08:29:52 | {1: 'N', 2: (48.0, 25.0, 26.61), 3: 'W', 4: (71.0, 3.0, 16.49), 5: b'\\x00', 6: 48.2, 7: (13.0, 29.0, 42.0), 27: b'ASCII\\x00\\x00\\x00CELLID\\x00', 29: '2025:02:17'}    | ['neige', 'chemin', 'hiver', 'personne', 'antenne']                 | neige        |\n",
      "| 72 | IMG_20250217_082956.jpg        | photos_victor\\IMG_20250217_082956.jpg        | 2025:02:17 08:29:56 | {1: 'N', 2: (48.0, 25.0, 26.61), 3: 'W', 4: (71.0, 3.0, 16.49), 5: b'\\x00', 6: 48.2, 7: (13.0, 29.0, 42.0), 27: b'ASCII\\x00\\x00\\x00CELLID\\x00', 29: '2025:02:17'}    | ['neige', 'personne', 'hiver', 'colline', 'antenne']                | neige        |\n",
      "| 73 | IMG_20250217_083141.jpg        | photos_victor\\IMG_20250217_083141.jpg        | 2025:02:17 08:31:42 | {1: 'N', 2: (48.0, 25.0, 26.64), 3: 'W', 4: (71.0, 3.0, 16.32), 5: b'\\x00', 6: 54.099, 7: (13.0, 31.0, 41.0), 27: b'ASCII\\x00\\x00\\x00CELLID\\x00', 29: '2025:02:17'}  | ['neige', 'personne', 'hiver', 'froid', 'plein-air']                | neige        |\n",
      "| 74 | IMG_20250218_184256.jpg        | photos_victor\\IMG_20250218_184256.jpg        | 2025:02:18 18:42:57 | {1: 'N', 2: (48.0, 25.0, 23.88), 3: 'W', 4: (71.0, 3.0, 6.67), 5: b'\\x00', 6: 49.099, 7: (23.0, 42.0, 53.0), 27: b'ASCII\\x00\\x00\\x00CELLID\\x00', 29: '2025:02:18'}   | ['neige', 'nuit', 'arbres', 'hiver', 'personne']                    | neige        |\n",
      "| 75 | IMG_20250218_184300.jpg        | photos_victor\\IMG_20250218_184300.jpg        | 2025:02:18 18:43:00 | {1: 'N', 2: (48.0, 25.0, 23.88), 3: 'W', 4: (71.0, 3.0, 6.67), 5: b'\\x00', 6: 49.099, 7: (23.0, 42.0, 53.0), 27: b'ASCII\\x00\\x00\\x00CELLID\\x00', 29: '2025:02:18'}   | ['nuit', 'neige', 'chemin', 'arbres', 'personne']                   | neige        |\n",
      "| 76 | IMG_20250219_082942.jpg        | photos_victor\\IMG_20250219_082942.jpg        | 2025:02:19 08:29:43 | {1: 'N', 2: (48.0, 25.0, 30.45), 3: 'W', 4: (71.0, 4.0, 2.19), 5: b'\\x01', 6: 18.7, 7: (13.0, 29.0, 42.0), 27: b'ASCII\\x00\\x00\\x00CELLID\\x00', 29: '2025:02:19'}     | ['neige', 'voiture', 'hiver', 'stationnement', 'extérieur']         | neige        |\n",
      "| 77 | IMG_20250219_082954.jpg        | photos_victor\\IMG_20250219_082954.jpg        | 2025:02:19 08:29:54 | {1: 'N', 2: (48.0, 25.0, 30.45), 3: 'W', 4: (71.0, 4.0, 2.19), 5: b'\\x01', 6: 18.7, 7: (13.0, 29.0, 42.0), 27: b'ASCII\\x00\\x00\\x00CELLID\\x00', 29: '2025:02:19'}     | ['voitures', 'neige', 'hiver', 'stationnement', 'extérieur']        | neige        |\n",
      "| 78 | IMG_20250219_083342.jpg        | photos_victor\\IMG_20250219_083342.jpg        | 2025:02:19 08:33:42 | {1: 'N', 2: (48.0, 25.0, 30.29), 3: 'W', 4: (71.0, 4.0, 2.37), 5: b'\\x01', 6: 18.7, 7: (13.0, 33.0, 39.0), 27: b'ASCII\\x00\\x00\\x00CELLID\\x00', 29: '2025:02:19'}     | ['neige', 'voiture', 'stationnement', 'hiver', 'extérieur']         | neige        |\n",
      "| 79 | IMG_20250219_085328.jpg        | photos_victor\\IMG_20250219_085328.jpg        | 2025:02:19 08:53:29 | {1: 'N', 2: (48.0, 25.0, 10.4), 3: 'W', 4: (71.0, 3.0, 21.7), 5: b'\\x00', 6: 57.099, 7: (13.0, 53.0, 26.0), 27: b'ASCII\\x00\\x00\\x00CELLID\\x00', 29: '2025:02:19'}    | ['neige', 'route', 'hiver', 'stationnement', 'amas']                | neige        |\n",
      "| 80 | IMG_20250220_085521.jpg        | photos_victor\\IMG_20250220_085521.jpg        | 2025:02:20 08:55:21 | {1: 'N', 2: (48.0, 25.0, 26.68), 3: 'W', 4: (71.0, 3.0, 14.99), 5: b'\\x00', 6: 54.099, 7: (13.0, 55.0, 19.0), 27: b'ASCII\\x00\\x00\\x00CELLID\\x00', 29: '2025:02:20'}  | ['neige', 'route', 'église', 'hiver', 'ville']                      | neige        |\n",
      "| 81 | IMG_20250220_085523.jpg        | photos_victor\\IMG_20250220_085523.jpg        | 2025:02:20 08:55:24 | {1: 'N', 2: (48.0, 25.0, 26.68), 3: 'W', 4: (71.0, 3.0, 14.99), 5: b'\\x00', 6: 54.099, 7: (13.0, 55.0, 19.0), 27: b'ASCII\\x00\\x00\\x00CELLID\\x00', 29: '2025:02:20'}  | ['neige', 'route', 'église', 'hiver', 'ville']                      | neige        |\n",
      "| 82 | IMG_20250220_085526.jpg        | photos_victor\\IMG_20250220_085526.jpg        | 2025:02:20 08:55:26 | {1: 'N', 2: (48.0, 25.0, 26.68), 3: 'W', 4: (71.0, 3.0, 14.99), 5: b'\\x00', 6: 54.099, 7: (13.0, 55.0, 19.0), 27: b'ASCII\\x00\\x00\\x00CELLID\\x00', 29: '2025:02:20'}  | ['neige', 'route', 'église', 'hiver', 'ville']                      | neige        |\n",
      "| 83 | IMG_20250220_162206.jpg        | photos_victor\\IMG_20250220_162206.jpg        | 2025:02:20 16:22:06 | {1: 'N', 2: (48.0, 25.0, 11.32), 3: 'W', 4: (71.0, 3.0, 9.62), 5: b'\\x00', 6: 75.099, 7: (21.0, 21.0, 51.0), 27: b'ASCII\\x00\\x00\\x00CELLID\\x00', 29: '2025:02:20'}   | ['interface', 'application', 'VS Code', 'ordinateur', 'permission'] | nan          |\n",
      "| 84 | IMG_20250221_101424.jpg        | photos_victor\\IMG_20250221_101424.jpg        | 2025:02:21 10:14:24 | {1: 'N', 2: (48.0, 25.0, 11.53), 3: 'W', 4: (71.0, 3.0, 9.94), 5: b'\\x00', 6: 74.8, 7: (15.0, 14.0, 27.0), 27: b'ASCII\\x00\\x00\\x00CELLID\\x00', 29: '2025:02:21'}     | ['tableau', 'dessin', 'calculs', 'notes', 'schémas']                | tableau      |\n",
      "| 85 | IMG_20250221_155338.jpg        | photos_victor\\IMG_20250221_155338.jpg        | 2025:02:21 15:53:38 | {1: 'N', 2: (48.0, 25.0, 13.31), 3: 'W', 4: (71.0, 3.0, 12.03), 5: b'\\x00', 6: 59.399, 7: (20.0, 53.0, 31.0), 27: b'ASCII\\x00\\x00\\x00CELLID\\x00', 29: '2025:02:21'}  | ['lait', 'produit', 'supermarché', 'Nutrimor', 'rayon']             | épicerie     |\n",
      "| 86 | IMG_20250222_113748.jpg        | photos_victor\\IMG_20250222_113748.jpg        | 2025:02:22 11:37:48 | {1: 'N', 2: (48.0, 23.0, 29.89), 3: 'W', 4: (71.0, 2.0, 58.8), 5: b'\\x00', 6: 0.0, 7: (16.0, 37.0, 47.0), 27: b'ASCII\\x00\\x00\\x00CELLID\\x00', 29: '2025:02:22'}      | ['neige', 'forêt', 'ciel', 'hiver', 'paysage']                      | neige        |\n",
      "| 87 | IMG_20250222_113756.jpg        | photos_victor\\IMG_20250222_113756.jpg        | 2025:02:22 11:37:57 | {1: 'N', 2: (48.0, 23.0, 29.89), 3: 'W', 4: (71.0, 2.0, 58.8), 5: b'\\x00', 6: 0.0, 7: (16.0, 37.0, 52.0), 27: b'ASCII\\x00\\x00\\x00CELLID\\x00', 29: '2025:02:22'}      | ['neige', 'sentier', 'forêt', 'hiver', 'paysage']                   | neige        |\n",
      "| 88 | IMG_20250222_113802.jpg        | photos_victor\\IMG_20250222_113802.jpg        | 2025:02:22 11:38:02 | {1: 'N', 2: (48.0, 23.0, 29.89), 3: 'W', 4: (71.0, 2.0, 58.8), 5: b'\\x00', 6: 0.0, 7: (16.0, 38.0, 2.0), 27: b'ASCII\\x00\\x00\\x00CELLID\\x00', 29: '2025:02:22'}       | ['ski', 'neige', 'hiver', 'équipement', 'sport']                    | ski          |\n",
      "| 89 | IMG_20250222_115044.jpg        | photos_victor\\IMG_20250222_115044.jpg        | 2025:02:22 11:50:44 | {1: 'N', 2: (48.0, 23.0, 29.89), 3: 'W', 4: (71.0, 2.0, 58.8), 5: b'\\x00', 6: 0.0, 7: (16.0, 50.0, 43.0), 27: b'ASCII\\x00\\x00\\x00CELLID\\x00', 29: '2025:02:22'}      | ['neige', 'sentier', 'hiver', 'forêt', 'paysage']                   | neige        |\n",
      "| 90 | IMG_20250222_115520.jpg        | photos_victor\\IMG_20250222_115520.jpg        | 2025:02:22 11:55:20 | {1: 'N', 2: (48.0, 23.0, 37.94), 3: 'W', 4: (71.0, 4.0, 27.04), 5: b'\\x00', 6: 0.0, 7: (16.0, 55.0, 16.0), 27: b'ASCII\\x00\\x00\\x00CELLID\\x00', 29: '2025:02:22'}     | ['neige', 'forêt', 'sentier', 'hiver', 'paysage']                   | neige        |\n",
      "| 91 | IMG_20250222_121148.jpg        | photos_victor\\IMG_20250222_121148.jpg        | 2025:02:22 12:11:48 | {1: 'N', 2: (48.0, 24.0, 5.54), 3: 'W', 4: (71.0, 3.0, 3.15), 5: b'\\x00', 6: 0.0, 7: (17.0, 11.0, 46.0), 27: b'ASCII\\x00\\x00\\x00CELLID\\x00', 29: '2025:02:22'}       | ['pont', 'neige', 'rivière', 'forêt', 'hiver']                      | neige        |\n",
      "| 92 | IMG_20250222_121156.jpg        | photos_victor\\IMG_20250222_121156.jpg        | 2025:02:22 12:11:57 | {1: 'N', 2: (48.0, 24.0, 9.7), 3: 'W', 4: (71.0, 3.0, 7.1), 5: b'\\x00', 6: 0.0, 7: (17.0, 11.0, 56.0), 27: b'ASCII\\x00\\x00\\x00CELLID\\x00', 29: '2025:02:22'}         | ['personne', 'hiver', 'forêt', 'casque', 'lunettes']                | nan          |\n",
      "| 93 | IMG_20250222_134940.jpg        | photos_victor\\IMG_20250222_134940.jpg        | 2025:02:22 13:49:40 | {1: 'N', 2: (48.0, 24.0, 57.48), 3: 'W', 4: (71.0, 2.0, 46.7), 5: b'\\x00', 6: 67.3, 7: (18.0, 49.0, 37.0), 27: b'ASCII\\x00\\x00\\x00CELLID\\x00', 29: '2025:02:22'}     | ['poutine', 'frites', 'sauce', 'fromage', 'nourriture']             | repas        |\n",
      "| 94 | IMG_20250222_171439.jpg        | photos_victor\\IMG_20250222_171439.jpg        | 2025:02:22 17:14:40 | {1: 'N', 2: (48.0, 25.0, 30.47), 3: 'W', 4: (71.0, 4.0, 2.17), 5: b'\\x01', 6: 18.7, 7: (22.0, 14.0, 35.0), 27: b'ASCII\\x00\\x00\\x00CELLID\\x00', 29: '2025:02:22'}     | ['cuisine', 'provisions', 'table', 'courses', 'intérieur']          | nan          |\n",
      "| 95 | IMG_20250222_221529.jpg        | photos_victor\\IMG_20250222_221529.jpg        | 2025:02:22 22:15:30 | {}                                                                                                                                                                   | ['couteau', 'charcuterie', 'fromage', 'pain', 'table']              | nan          |\n",
      "| 96 | IMG_20250222_221833.jpg        | photos_victor\\IMG_20250222_221833.jpg        | 2025:02:22 22:18:33 | {}                                                                                                                                                                   | ['charcuterie', 'fromage', 'pain', 'repas', 'soda']                 | repas        |\n",
      "| 97 | IMG_20250224_144236.jpg        | photos_victor\\IMG_20250224_144236.jpg        | 2025:02:24 14:42:37 | {1: 'N', 2: (48.0, 25.0, 11.0), 3: 'W', 4: (71.0, 3.0, 10.09), 5: b'\\x00', 6: 75.599, 7: (19.0, 42.0, 35.0), 27: b'ASCII\\x00\\x00\\x00CELLID\\x00', 29: '2025:02:24'}   | ['tableau', 'dessins', 'calculs', 'écriture', 'technique']          | tableau      |\n",
      "| 98 | IMG_20250228_085044.jpg        | photos_victor\\IMG_20250228_085044.jpg        | 2025:02:28 08:50:44 | {1: 'N', 2: (48.0, 25.0, 11.35), 3: 'W', 4: (71.0, 3.0, 10.04), 5: b'\\x00', 6: 74.8, 7: (13.0, 50.0, 37.0), 27: b'ASCII\\x00\\x00\\x00CELLID\\x00', 29: '2025:02:28'}    | ['routeur', 'étiquette', 'bureau', 'antennes', 'prise']             | bureau       |\n",
      "| 99 | IMG_20250228_085048.jpg        | photos_victor\\IMG_20250228_085048.jpg        | 2025:02:28 08:50:48 | {1: 'N', 2: (48.0, 25.0, 11.35), 3: 'W', 4: (71.0, 3.0, 10.04), 5: b'\\x00', 6: 74.8, 7: (13.0, 50.0, 37.0), 27: b'ASCII\\x00\\x00\\x00CELLID\\x00', 29: '2025:02:28'}    | ['routeur', 'bureau', 'antennes', 'électronique', 'étiquette']      | bureau       |\n",
      "+----+--------------------------------+----------------------------------------------+---------------------+----------------------------------------------------------------------------------------------------------------------------------------------------------------------+---------------------------------------------------------------------+--------------+\n"
     ]
    }
   ],
   "execution_count": 361
  },
  {
   "metadata": {
    "ExecuteTime": {
     "end_time": "2025-02-28T20:54:27.737386Z",
     "start_time": "2025-02-28T20:54:27.734919Z"
    }
   },
   "cell_type": "code",
   "source": "",
   "id": "3e936fe30f48a13",
   "outputs": [],
   "execution_count": null
  }
 ],
 "metadata": {
  "kernelspec": {
   "display_name": "Python (SnapSort)",
   "language": "python",
   "name": "snapsort_venv"
  },
  "language_info": {
   "codemirror_mode": {
    "name": "ipython",
    "version": 3
   },
   "file_extension": ".py",
   "mimetype": "text/x-python",
   "name": "python",
   "nbconvert_exporter": "python",
   "pygments_lexer": "ipython3",
   "version": "3.13.0"
  }
 },
 "nbformat": 4,
 "nbformat_minor": 5
}
