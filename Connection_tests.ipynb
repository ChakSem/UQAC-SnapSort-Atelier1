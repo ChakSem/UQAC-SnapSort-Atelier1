{
 "cells": [
  {
   "cell_type": "code",
   "id": "initial_id",
   "metadata": {
    "collapsed": true,
    "ExecuteTime": {
     "end_time": "2025-02-24T14:40:01.804951Z",
     "start_time": "2025-02-24T14:40:01.801912Z"
    }
   },
   "source": [
    "from openai import OpenAI\n",
    "from secret import OPENAI_API_KEY\n",
    "import base64\n",
    "import os\n",
    "import json\n",
    "import re"
   ],
   "outputs": [],
   "execution_count": 29
  },
  {
   "cell_type": "code",
   "id": "ce982c45fb8473a0",
   "metadata": {
    "ExecuteTime": {
     "end_time": "2025-02-24T14:40:02.013628Z",
     "start_time": "2025-02-24T14:40:01.815874Z"
    }
   },
   "source": [
    "client = OpenAI(api_key=OPENAI_API_KEY)\n",
    "model = \"gpt-4o-mini\""
   ],
   "outputs": [],
   "execution_count": 30
  },
  {
   "cell_type": "code",
   "id": "1f40ab4f21fdd05e",
   "metadata": {
    "ExecuteTime": {
     "end_time": "2025-02-24T14:40:02.019167Z",
     "start_time": "2025-02-24T14:40:02.015633Z"
    }
   },
   "source": [
    "def encode_image(image_path):\n",
    "    with open(image_path, \"rb\") as image_file:\n",
    "        return base64.b64encode(image_file.read()).decode(\"utf-8\")"
   ],
   "outputs": [],
   "execution_count": 31
  },
  {
   "metadata": {
    "ExecuteTime": {
     "end_time": "2025-02-24T14:42:30.452926Z",
     "start_time": "2025-02-24T14:42:30.447325Z"
    }
   },
   "cell_type": "code",
   "source": [
    "def send_chat_request(message, extracting_json=False):\n",
    "    try:\n",
    "        response = client.chat.completions.create(\n",
    "            model=model, messages=message\n",
    "        )\n",
    "\n",
    "        result = response.choices[0].message.content.strip()\n",
    "        if extracting_json:\n",
    "            result = extract_json(result)\n",
    "\n",
    "        return result\n",
    "\n",
    "    except Exception as e:\n",
    "        print(f\"Erreur OpenAI : {e}\")"
   ],
   "id": "f7cde3da756c024a",
   "outputs": [],
   "execution_count": 39
  },
  {
   "cell_type": "code",
   "id": "70c40a8c6b3ff456",
   "metadata": {
    "ExecuteTime": {
     "end_time": "2025-02-24T14:42:50.789211Z",
     "start_time": "2025-02-24T14:42:50.782687Z"
    }
   },
   "source": [
    "def chat_get_key_words(base64_images):\n",
    "\n",
    "    # Liste pour chaque image et chaque texte associé\n",
    "    content_list = []\n",
    "    for i, base64_image in enumerate(base64_images):\n",
    "        content_list.append({\n",
    "            \"type\": \"text\",\n",
    "            \"text\": f\"Décris moi toutes les images avec 5 mots-clés. Le format est le suivant Image i : [mot-clé1, mot-clé2, mot-clé3, mot-clé4, mot-clé5]\"\n",
    "        })\n",
    "        content_list.append({\n",
    "            \"type\": \"image_url\",\n",
    "            \"image_url\": {\"url\": f\"data:image/jpeg;base64,{base64_image}\"}\n",
    "        })\n",
    "\n",
    "    messages = [\n",
    "        {\n",
    "            \"role\": \"user\",\n",
    "            \"content\": content_list\n",
    "        }\n",
    "    ]\n",
    "\n",
    "    return send_chat_request(messages, extracting_json=False)\n"
   ],
   "outputs": [],
   "execution_count": 41
  },
  {
   "cell_type": "code",
   "id": "081bfdc4",
   "metadata": {
    "ExecuteTime": {
     "end_time": "2025-02-24T14:40:02.043120Z",
     "start_time": "2025-02-24T14:40:02.039313Z"
    }
   },
   "source": [
    "def extract_json(response_text):\n",
    "    \"\"\"\n",
    "    Extrait la portion JSON (délimitée par {}) de la réponse textuelle pour seulement avoir le dictionnaire et non le texte généré par l'ia.\n",
    "    \"\"\"\n",
    "    match = re.search(r'\\{.*\\}', response_text, re.DOTALL)\n",
    "    if match:\n",
    "        json_str = match.group()\n",
    "        try:\n",
    "            return json.loads(json_str)\n",
    "        except Exception as e:\n",
    "            print(f\"Erreur lors du chargement du JSON : {e}\")\n",
    "            return None\n",
    "    else:\n",
    "        print(\"Aucun JSON trouvé dans la réponse.\")\n",
    "        return None"
   ],
   "outputs": [],
   "execution_count": 34
  },
  {
   "cell_type": "code",
   "id": "88672749",
   "metadata": {
    "ExecuteTime": {
     "end_time": "2025-02-24T14:43:58.975926Z",
     "start_time": "2025-02-24T14:43:58.972875Z"
    }
   },
   "source": [
    "def chat_get_categories(keywords_output, image_paths):\n",
    "    \"\"\"\n",
    "    Utilise les mots-clés extraits pour regrouper les images similaires en catégories.\n",
    "    Les images sont identifiées par leur ordre dans la liste.\n",
    "    \"\"\"\n",
    "\n",
    "    # Préparation d'un prompt détaillé incluant le résultat des mots-clés et l'ordre des images\n",
    "    prompt = f\"\"\"Voici les listes de mots-clés obtenues pour chaque image (dans l'ordre) : {keywords_output}\n",
    "\n",
    "    L'ordre des images est le suivant : {chr(10).join([f\"Image {i} : {path}\" for i, path in enumerate(image_paths)])}\n",
    "\n",
    "    En te basant sur ces informations, regroupe les images similaires dans des catégories. Une catégorie est décrite par un seul mot-clé.\n",
    "    Retourne le résultat au format JSON en indiquant pour chaque catégorie la liste des indices des images (par exemple : \"Image 1\", \"Image 3\", etc.) qui appartiennent à cette catégorie.\n",
    "    Le format attendu est :\n",
    "    {{\n",
    "        \"categorie1\": [ \"Image 1\", \"Image 3\" ],\n",
    "        \"categorie2\": [ \"Image 2\", \"Image 4\" ],\n",
    "        ...\n",
    "    }}\n",
    "    \"\"\"\n",
    "    messages = [\n",
    "        {\n",
    "            \"role\": \"user\",\n",
    "            \"content\": prompt\n",
    "        }\n",
    "    ]\n",
    "\n",
    "    return send_chat_request(messages, extracting_json=True)"
   ],
   "outputs": [],
   "execution_count": 44
  },
  {
   "cell_type": "code",
   "id": "81f3cc2e7fc615cc",
   "metadata": {
    "ExecuteTime": {
     "end_time": "2025-02-24T14:47:32.718783Z",
     "start_time": "2025-02-24T14:47:32.704936Z"
    }
   },
   "source": [
    "directory = \"test_data\"\n",
    "allowed_extensions = {\".jpg\", \".jpeg\", \".png\"}\n",
    "image_paths = [\n",
    "    os.path.join(directory, filename)\n",
    "    for filename in os.listdir(directory)\n",
    "    if os.path.splitext(filename)[1].lower() in allowed_extensions\n",
    "]\n",
    "base64_images = [encode_image(path) for path in image_paths]"
   ],
   "outputs": [],
   "execution_count": 46
  },
  {
   "cell_type": "code",
   "id": "b4fb5c4f85a589af",
   "metadata": {
    "ExecuteTime": {
     "end_time": "2025-02-24T14:47:39.595457Z",
     "start_time": "2025-02-24T14:47:33.257073Z"
    }
   },
   "source": [
    "keywords_output = chat_get_key_words(base64_images)\n",
    "print(\"Mots-clés par image :\")\n",
    "print(keywords_output)"
   ],
   "outputs": [
    {
     "name": "stdout",
     "output_type": "stream",
     "text": [
      "Mots-clés par image :\n",
      "Image 1 : [lasagnes, plat, table, nourriture, ustensiles]\n"
     ]
    }
   ],
   "execution_count": 47
  },
  {
   "cell_type": "markdown",
   "id": "a23082d7",
   "metadata": {},
   "source": [
    "9s -> 1 image\n",
    "\n",
    "22s - 42s -> 4 images (pas constant)"
   ]
  },
  {
   "cell_type": "code",
   "id": "376366d43581ff86",
   "metadata": {
    "ExecuteTime": {
     "end_time": "2025-02-24T14:44:06.375870Z",
     "start_time": "2025-02-24T14:44:03.380564Z"
    }
   },
   "source": [
    "categories = chat_get_categories(keywords_output, image_paths)\n",
    "print(\"Catégorisation des images :\")\n",
    "print(categories)"
   ],
   "outputs": [
    {
     "name": "stdout",
     "output_type": "stream",
     "text": [
      "Catégorisation des images :\n",
      "{'travail': ['Image 1'], 'nature': ['Image 2'], 'cuisine': ['Image 3'], 'magasin': ['Image 4']}\n"
     ]
    }
   ],
   "execution_count": 45
  },
  {
   "cell_type": "code",
   "id": "a3da7edc6c2b974",
   "metadata": {
    "ExecuteTime": {
     "end_time": "2025-02-24T14:40:27.158953Z",
     "start_time": "2025-02-24T14:40:27.155732Z"
    }
   },
   "source": [],
   "outputs": [],
   "execution_count": null
  }
 ],
 "metadata": {
  "kernelspec": {
   "display_name": "myenv",
   "language": "python",
   "name": "python3"
  },
  "language_info": {
   "codemirror_mode": {
    "name": "ipython",
    "version": 3
   },
   "file_extension": ".py",
   "mimetype": "text/x-python",
   "name": "python",
   "nbconvert_exporter": "python",
   "pygments_lexer": "ipython3",
   "version": "3.13.0"
  }
 },
 "nbformat": 4,
 "nbformat_minor": 5
}
