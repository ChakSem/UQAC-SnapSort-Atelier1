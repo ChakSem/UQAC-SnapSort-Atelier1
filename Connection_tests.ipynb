{
 "cells": [
  {
   "cell_type": "code",
   "id": "initial_id",
   "metadata": {
    "collapsed": true,
    "ExecuteTime": {
     "end_time": "2025-02-24T19:50:12.388250Z",
     "start_time": "2025-02-24T19:50:12.380565Z"
    }
   },
   "source": [
    "from openai import OpenAI\n",
    "from secret import OPENAI_API_KEY\n",
    "import base64\n",
    "import os\n",
    "import json\n",
    "import re"
   ],
   "outputs": [],
   "execution_count": 11
  },
  {
   "cell_type": "code",
   "id": "ce982c45fb8473a0",
   "metadata": {
    "ExecuteTime": {
     "end_time": "2025-02-24T19:50:12.586104Z",
     "start_time": "2025-02-24T19:50:12.401492Z"
    }
   },
   "source": [
    "client = OpenAI(api_key=OPENAI_API_KEY)\n",
    "model = \"gpt-4o-mini\""
   ],
   "outputs": [],
   "execution_count": 12
  },
  {
   "cell_type": "code",
   "id": "1f40ab4f21fdd05e",
   "metadata": {
    "ExecuteTime": {
     "end_time": "2025-02-24T19:50:12.592114Z",
     "start_time": "2025-02-24T19:50:12.589108Z"
    }
   },
   "source": [
    "def encode_image(image_path):\n",
    "    with open(image_path, \"rb\") as image_file:\n",
    "        return base64.b64encode(image_file.read()).decode(\"utf-8\")"
   ],
   "outputs": [],
   "execution_count": 13
  },
  {
   "metadata": {
    "ExecuteTime": {
     "end_time": "2025-02-24T19:50:12.599084Z",
     "start_time": "2025-02-24T19:50:12.595834Z"
    }
   },
   "cell_type": "code",
   "source": [
    "def send_chat_request(message, extracting_json=False):\n",
    "    try:\n",
    "        response = client.chat.completions.create(\n",
    "            model=model, messages=message\n",
    "        )\n",
    "\n",
    "        result = response.choices[0].message.content.strip()\n",
    "        if extracting_json:\n",
    "            result = extract_json(result)\n",
    "\n",
    "        return result\n",
    "\n",
    "    except Exception as e:\n",
    "        print(f\"Erreur OpenAI : {e}\")"
   ],
   "id": "f7cde3da756c024a",
   "outputs": [],
   "execution_count": 14
  },
  {
   "cell_type": "code",
   "id": "70c40a8c6b3ff456",
   "metadata": {
    "ExecuteTime": {
     "end_time": "2025-02-24T19:50:12.605898Z",
     "start_time": "2025-02-24T19:50:12.602626Z"
    }
   },
   "source": [
    "def chat_get_key_words(base64_images, image_names):\n",
    "\n",
    "    # Liste pour chaque image et chaque texte associé\n",
    "    content_list = []\n",
    "    for i, base64_image in enumerate(base64_images):\n",
    "        content_list.append({\n",
    "            \"type\": \"text\",\n",
    "            \"text\": f\"Décris moi toutes les images avec 5 mots-clés. Le format est le suivant {image_names[i]} : [mot-clé1, mot-clé2, mot-clé3, mot-clé4, mot-clé5]\"\n",
    "        })\n",
    "        content_list.append({\n",
    "            \"type\": \"image_url\",\n",
    "            \"image_url\": {\"url\": f\"data:image/jpeg;base64,{base64_image}\"}\n",
    "        })\n",
    "\n",
    "    messages = [\n",
    "        {\n",
    "            \"role\": \"user\",\n",
    "            \"content\": content_list\n",
    "        }\n",
    "    ]\n",
    "\n",
    "    return send_chat_request(messages, extracting_json=False)\n"
   ],
   "outputs": [],
   "execution_count": 15
  },
  {
   "cell_type": "code",
   "id": "081bfdc4",
   "metadata": {
    "ExecuteTime": {
     "end_time": "2025-02-24T19:50:12.613897Z",
     "start_time": "2025-02-24T19:50:12.609587Z"
    }
   },
   "source": [
    "def extract_json(response_text):\n",
    "    \"\"\"\n",
    "    Extrait la portion JSON (délimitée par {}) de la réponse textuelle pour seulement avoir le dictionnaire et non le texte généré par l'ia.\n",
    "    \"\"\"\n",
    "    match = re.search(r'\\{.*\\}', response_text, re.DOTALL)\n",
    "    if match:\n",
    "        json_str = match.group()\n",
    "        try:\n",
    "            return json.loads(json_str)\n",
    "        except Exception as e:\n",
    "            print(f\"Erreur lors du chargement du JSON : {e}\")\n",
    "            return None\n",
    "    else:\n",
    "        print(\"Aucun JSON trouvé dans la réponse.\")\n",
    "        return None"
   ],
   "outputs": [],
   "execution_count": 16
  },
  {
   "cell_type": "code",
   "id": "88672749",
   "metadata": {
    "ExecuteTime": {
     "end_time": "2025-02-24T19:52:55.691472Z",
     "start_time": "2025-02-24T19:52:55.684712Z"
    }
   },
   "source": [
    "def chat_get_categories(keywords_output, image_names):\n",
    "    \"\"\"\n",
    "    Utilise les mots-clés extraits pour regrouper les images similaires en catégories.\n",
    "    Les images sont identifiées par leur ordre dans la liste.\n",
    "    \"\"\"\n",
    "\n",
    "    # Préparation d'un prompt détaillé incluant le résultat des mots-clés et l'ordre des images\n",
    "    prompt = f\"\"\"Voici les listes de mots-clés obtenues pour chaque image (dans l'ordre) : {keywords_output}\n",
    "\n",
    "    L'ordre et le nom des images est le suivant : {image_names}\n",
    "\n",
    "    En te basant sur ces informations, regroupe les images similaires dans des catégories. Une catégorie est décrite par un seul mot-clé.\n",
    "    Retourne le résultat au format JSON en indiquant pour chaque catégorie la liste des indices des images qui appartiennent à cette catégorie.\n",
    "    Le format attendu est :\n",
    "    {{\n",
    "        \"categorie1\": [ \"name\", \"name\" ],\n",
    "        \"categorie2\": [ \"name\", \"name\" ],\n",
    "        ...\n",
    "    }}\n",
    "    \"\"\"\n",
    "    messages = [\n",
    "        {\n",
    "            \"role\": \"user\",\n",
    "            \"content\": prompt\n",
    "        }\n",
    "    ]\n",
    "\n",
    "    return send_chat_request(messages, extracting_json=True)"
   ],
   "outputs": [],
   "execution_count": 25
  },
  {
   "cell_type": "code",
   "id": "81f3cc2e7fc615cc",
   "metadata": {
    "ExecuteTime": {
     "end_time": "2025-02-24T19:50:12.659469Z",
     "start_time": "2025-02-24T19:50:12.628505Z"
    }
   },
   "source": [
    "directory = \"test_data\"\n",
    "allowed_extensions = {\".jpg\", \".jpeg\", \".png\"}\n",
    "image_paths = [\n",
    "    os.path.join(directory, filename)\n",
    "    for filename in os.listdir(directory)\n",
    "    if os.path.splitext(filename)[1].lower() in allowed_extensions\n",
    "]\n",
    "base64_images = [encode_image(path) for path in image_paths]"
   ],
   "outputs": [],
   "execution_count": 18
  },
  {
   "metadata": {
    "ExecuteTime": {
     "end_time": "2025-02-24T19:50:32.969895Z",
     "start_time": "2025-02-24T19:50:12.664847Z"
    }
   },
   "cell_type": "code",
   "source": [
    "image_names = [os.path.basename(path) for path in image_paths]\n",
    "keywords_output = chat_get_key_words(base64_images, image_names)\n",
    "print(\"Mots-clés par image :\")\n",
    "print(keywords_output)"
   ],
   "id": "3e8b7bead79d8c6f",
   "outputs": [
    {
     "name": "stdout",
     "output_type": "stream",
     "text": [
      "Mots-clés par image :\n",
      "20240826_184159.jpg : [sentier, forêt, nature, vert, feuilles]\n",
      "\n",
      "20250213_165625.jpg : [neige, tempête, rue, visibilité, hiver]\n",
      "\n",
      "20250217_081138.jpg : [neige, voitures, accumulation, hiver, passage]\n",
      "\n",
      "20250219_084504.jpg : [circulation, neige, bus, voitures, arrêts]\n"
     ]
    }
   ],
   "execution_count": 19
  },
  {
   "cell_type": "markdown",
   "id": "a23082d7",
   "metadata": {},
   "source": [
    "9s -> 1 image\n",
    "\n",
    "22s - 42s -> 4 images (pas constant)"
   ]
  },
  {
   "metadata": {
    "ExecuteTime": {
     "end_time": "2025-02-24T19:52:59.638529Z",
     "start_time": "2025-02-24T19:52:58.738768Z"
    }
   },
   "cell_type": "code",
   "source": [
    "categories = chat_get_categories(keywords_output, image_names)\n",
    "print(\"Catégorisation des images :\")\n",
    "print(categories)"
   ],
   "id": "a0165125be1aa4c5",
   "outputs": [
    {
     "name": "stdout",
     "output_type": "stream",
     "text": [
      "Catégorisation des images :\n",
      "{'nature': ['20240826_184159.jpg'], 'hiver': ['20250213_165625.jpg', '20250217_081138.jpg', '20250219_084504.jpg']}\n"
     ]
    }
   ],
   "execution_count": 26
  },
  {
   "cell_type": "code",
   "id": "a3da7edc6c2b974",
   "metadata": {
    "ExecuteTime": {
     "end_time": "2025-02-24T19:50:32.979433Z",
     "start_time": "2025-02-24T19:50:32.975878Z"
    }
   },
   "source": [],
   "outputs": [],
   "execution_count": null
  }
 ],
 "metadata": {
  "kernelspec": {
   "display_name": "Python (SnapSort)",
   "language": "python",
   "name": "snapsort_venv"
  },
  "language_info": {
   "codemirror_mode": {
    "name": "ipython",
    "version": 3
   },
   "file_extension": ".py",
   "mimetype": "text/x-python",
   "name": "python",
   "nbconvert_exporter": "python",
   "pygments_lexer": "ipython3",
   "version": "3.13.0"
  }
 },
 "nbformat": 4,
 "nbformat_minor": 5
}
