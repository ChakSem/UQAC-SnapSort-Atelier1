{
 "cells": [
  {
   "cell_type": "code",
   "id": "initial_id",
   "metadata": {
    "collapsed": true,
    "ExecuteTime": {
     "end_time": "2025-02-20T15:59:49.078171Z",
     "start_time": "2025-02-20T15:59:49.073805Z"
    }
   },
   "source": [
    "from openai import OpenAI\n",
    "from secret import OPENAI_API_KEY\n",
    "import base64"
   ],
   "outputs": [],
   "execution_count": 71
  },
  {
   "metadata": {
    "ExecuteTime": {
     "end_time": "2025-02-20T15:59:49.290796Z",
     "start_time": "2025-02-20T15:59:49.089205Z"
    }
   },
   "cell_type": "code",
   "source": "client = OpenAI(api_key=OPENAI_API_KEY)",
   "id": "ce982c45fb8473a0",
   "outputs": [],
   "execution_count": 72
  },
  {
   "metadata": {
    "ExecuteTime": {
     "end_time": "2025-02-20T15:59:49.296761Z",
     "start_time": "2025-02-20T15:59:49.292801Z"
    }
   },
   "cell_type": "code",
   "source": [
    "def encode_image(image_path):\n",
    "    with open(image_path, \"rb\") as image_file:\n",
    "        return base64.b64encode(image_file.read()).decode(\"utf-8\")"
   ],
   "id": "1f40ab4f21fdd05e",
   "outputs": [],
   "execution_count": 73
  },
  {
   "metadata": {
    "ExecuteTime": {
     "end_time": "2025-02-20T15:59:49.303889Z",
     "start_time": "2025-02-20T15:59:49.300497Z"
    }
   },
   "cell_type": "code",
   "source": [
    "def chat(base64_image):\n",
    "    try:\n",
    "        # Messages pour le contexte\n",
    "        messages = [\n",
    "            {\n",
    "                \"role\": \"user\",\n",
    "                \"content\": [\n",
    "                    {\n",
    "                        \"type\": \"text\",\n",
    "                        \"text\": \"Décris moi cette image avec 5 mots-clés. Le format est le suivant : [mot-clé1, mot-clé2, mot-clé3, mot-clé4, mot-clé5]\",\n",
    "                    },\n",
    "                    {\n",
    "                        \"type\": \"image_url\",\n",
    "                        \"image_url\": {\"url\": f\"data:image/jpeg;base64,{base64_image}\"},\n",
    "                    },\n",
    "                ]\n",
    "            }\n",
    "        ]\n",
    "\n",
    "        chat_completion = client.chat.completions.create(\n",
    "            model=\"gpt-4o-mini\", messages=messages\n",
    "        )\n",
    "\n",
    "        return chat_completion.choices[0].message.content.strip()\n",
    "\n",
    "    except Exception as e:\n",
    "        print(f\"Erreur OpenAI : {e}\")"
   ],
   "id": "70c40a8c6b3ff456",
   "outputs": [],
   "execution_count": 74
  },
  {
   "metadata": {
    "ExecuteTime": {
     "end_time": "2025-02-20T15:59:49.322478Z",
     "start_time": "2025-02-20T15:59:49.307940Z"
    }
   },
   "cell_type": "code",
   "source": [
    "image_path = \"test_data/20240826_184159.jpg\"\n",
    "base64_image  = encode_image(image_path)"
   ],
   "id": "81f3cc2e7fc615cc",
   "outputs": [],
   "execution_count": 75
  },
  {
   "metadata": {
    "ExecuteTime": {
     "end_time": "2025-02-20T15:59:56.923615Z",
     "start_time": "2025-02-20T15:59:49.331318Z"
    }
   },
   "cell_type": "code",
   "source": "result = chat(base64_image)",
   "id": "b4fb5c4f85a589af",
   "outputs": [],
   "execution_count": 76
  },
  {
   "metadata": {
    "ExecuteTime": {
     "end_time": "2025-02-20T15:59:56.938314Z",
     "start_time": "2025-02-20T15:59:56.933181Z"
    }
   },
   "cell_type": "code",
   "source": "print(result)",
   "id": "376366d43581ff86",
   "outputs": [
    {
     "name": "stdout",
     "output_type": "stream",
     "text": [
      "[sentier, forêt, nature, feuilles, verdure]\n"
     ]
    }
   ],
   "execution_count": 77
  },
  {
   "metadata": {
    "ExecuteTime": {
     "end_time": "2025-02-20T15:59:56.955794Z",
     "start_time": "2025-02-20T15:59:56.953344Z"
    }
   },
   "cell_type": "code",
   "source": "",
   "id": "a3da7edc6c2b974",
   "outputs": [],
   "execution_count": null
  }
 ],
 "metadata": {
  "kernelspec": {
   "display_name": "Python (SnapSort)",
   "language": "python",
   "name": "snapsort_venv"
  },
  "language_info": {
   "codemirror_mode": {
    "name": "ipython",
    "version": 2
   },
   "file_extension": ".py",
   "mimetype": "text/x-python",
   "name": "python",
   "nbconvert_exporter": "python",
   "pygments_lexer": "ipython2",
   "version": "2.7.6"
  }
 },
 "nbformat": 4,
 "nbformat_minor": 5
}
