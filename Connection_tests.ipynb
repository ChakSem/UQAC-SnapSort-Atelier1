{
 "cells": [
  {
   "cell_type": "code",
   "id": "initial_id",
   "metadata": {
    "collapsed": true,
    "ExecuteTime": {
     "end_time": "2025-03-12T20:33:21.238129Z",
     "start_time": "2025-03-12T20:33:21.232612Z"
    }
   },
   "source": [
    "from openai import OpenAI\n",
    "from secret import OPENAI_API_KEY\n",
    "from PIL import Image\n",
    "import base64\n",
    "import os\n",
    "import json\n",
    "import re\n",
    "import pandas as pd\n",
    "import numpy as np\n",
    "import io\n",
    "from tabulate import tabulate"
   ],
   "outputs": [],
   "execution_count": 388
  },
  {
   "cell_type": "code",
   "id": "ce982c45fb8473a0",
   "metadata": {
    "ExecuteTime": {
     "end_time": "2025-03-12T20:33:21.439392Z",
     "start_time": "2025-03-12T20:33:21.255215Z"
    }
   },
   "source": [
    "client = OpenAI(api_key=OPENAI_API_KEY)\n",
    "model = \"gpt-4o-mini\""
   ],
   "outputs": [],
   "execution_count": 389
  },
  {
   "cell_type": "code",
   "id": "1f40ab4f21fdd05e",
   "metadata": {
    "ExecuteTime": {
     "end_time": "2025-03-12T20:33:21.446779Z",
     "start_time": "2025-03-12T20:33:21.439392Z"
    }
   },
   "source": [
    "def encode_image(image_path, max_size=(512, 512), quality=80):\n",
    "    image = Image.open(image_path)\n",
    "\n",
    "    # Redimensionner l'image\n",
    "    image.thumbnail(max_size)\n",
    "\n",
    "    # Convertir en bytes avec compression\n",
    "    buffer = io.BytesIO()\n",
    "    image.save(buffer, format=\"JPEG\", quality=quality)\n",
    "\n",
    "    # Encoder en Base64\n",
    "    encoded_string = base64.b64encode(buffer.getvalue()).decode(\"utf-8\")\n",
    "\n",
    "    return encoded_string"
   ],
   "outputs": [],
   "execution_count": 390
  },
  {
   "metadata": {},
   "cell_type": "raw",
   "source": [
    "def old_encode_image(image_path):\n",
    "     try:\n",
    "        with open(image_path, \"rb\") as image_file:\n",
    "            return base64.b64encode(image_file.read()).decode(\"utf-8\")\n",
    "\n",
    "     except Exception as e:\n",
    "\n",
    "        print(f\"Erreur lors de l'encodage de l'image {image_path} : {e}\")\n",
    "        return None"
   ],
   "id": "af4fab82627f88e8"
  },
  {
   "metadata": {
    "ExecuteTime": {
     "end_time": "2025-03-12T20:33:21.459676Z",
     "start_time": "2025-03-12T20:33:21.455604Z"
    }
   },
   "cell_type": "code",
   "source": [
    "def send_chat_request(message):\n",
    "    try:\n",
    "        response = client.chat.completions.create(\n",
    "            model=model, messages=message\n",
    "        )\n",
    "\n",
    "        result = response.choices[0].message.content.strip()\n",
    "        result = extract_json(result)\n",
    "\n",
    "        tokens = response.usage.total_tokens\n",
    "\n",
    "        return result, tokens\n",
    "\n",
    "\n",
    "    except Exception as e:\n",
    "        print(f\"Erreur OpenAI : {e}\")\n",
    "        return -1, None"
   ],
   "id": "f7cde3da756c024a",
   "outputs": [],
   "execution_count": 391
  },
  {
   "cell_type": "code",
   "id": "70c40a8c6b3ff456",
   "metadata": {
    "ExecuteTime": {
     "end_time": "2025-03-12T20:33:21.472443Z",
     "start_time": "2025-03-12T20:33:21.468293Z"
    }
   },
   "source": [
    "def chat_get_key_words(image_paths):\n",
    "\n",
    "    # Liste pour chaque image et chaque texte associé\n",
    "    content_list = []\n",
    "    for image_path in image_paths:\n",
    "        base64_image = encode_image(image_path)\n",
    "        image_name = os.path.basename(image_path)\n",
    "        content_list.append({\n",
    "            \"type\": \"text\",\n",
    "            \"text\": f\"\"\"Décris moi l'image avec 5 mots-clés. Les mots-clés doivent en priorité inclure des actions, des objets et un lieu si identifiables.\n",
    "            Retourne le résultat au format JSON : {{ {image_name} : [mot-clé1, mot-clé2, mot-clé3, mot-clé4, mot-clé5] }}\n",
    "            \"\"\"\n",
    "        })\n",
    "        content_list.append({\n",
    "            \"type\": \"image_url\",\n",
    "            \"image_url\": {\"url\": f\"data:image/jpeg;base64,{base64_image}\"}\n",
    "        })\n",
    "\n",
    "    messages = [\n",
    "        {\n",
    "            \"role\": \"user\",\n",
    "            \"content\": content_list\n",
    "        }\n",
    "    ]\n",
    "\n",
    "    return send_chat_request(messages)\n"
   ],
   "outputs": [],
   "execution_count": 392
  },
  {
   "cell_type": "code",
   "id": "081bfdc4",
   "metadata": {
    "ExecuteTime": {
     "end_time": "2025-03-12T20:33:21.485571Z",
     "start_time": "2025-03-12T20:33:21.482Z"
    }
   },
   "source": [
    "def extract_json(response_text):\n",
    "    \"\"\"\n",
    "    Extrait la portion JSON (délimitée par {}) de la réponse textuelle pour seulement avoir le dictionnaire et non le texte généré par l'ia.\n",
    "    \"\"\"\n",
    "    match = re.search(r'\\{.*\\}', response_text, re.DOTALL)\n",
    "    if match:\n",
    "        json_str = match.group()\n",
    "        try:\n",
    "            return json.loads(json_str)\n",
    "        except Exception as e:\n",
    "            print(f\"Erreur lors du chargement du JSON : {e}\")\n",
    "            return None\n",
    "    else:\n",
    "        print(\"Aucun JSON trouvé dans la réponse.\")\n",
    "        return None"
   ],
   "outputs": [],
   "execution_count": 393
  },
  {
   "metadata": {},
   "cell_type": "raw",
   "source": [
    "old_prompt = f\"\"\"Voici les listes de mots-clés obtenues pour chaque image (dans l'ordre) : {keywords_output}\n",
    "    Regroupe les images similaires dans des catégories d'actions. Une catégorie est décrite par un seul mot-clé. Une image ne peut appartenir qu'à une seule catégorie. Retourne le résultat au format JSON : {{ \"categorie1\": [ \"name\", \"name\" ], \"categorie2\": [ \"name\", \"name\" ],...}}\"\"\"\n"
   ],
   "id": "3c3af77ed664610a"
  },
  {
   "cell_type": "code",
   "id": "88672749",
   "metadata": {
    "ExecuteTime": {
     "end_time": "2025-03-12T20:51:50.880663Z",
     "start_time": "2025-03-12T20:51:50.873875Z"
    }
   },
   "source": [
    "def chat_get_categories(keywords_output, cat_list):\n",
    "    \"\"\"\n",
    "    Utilise les mots-clés extraits pour regrouper les images similaires en catégories.\n",
    "    Les images sont identifiées par leur ordre dans la liste.\n",
    "    \"\"\"\n",
    "\n",
    "    # Préparation d'un prompt détaillé incluant le résultat des mots-clés et l'ordre des images\n",
    "    prompt = f\"\"\"Tu es un agent intelligent spécialisé dans le tri et l'organisation d'images provenant d'une galerie d'un téléphone portable.\n",
    "            L'objectif est de **classer un maximum de photos dans des catégories appropriées** afin de faciliter la gestion de la galerie.\n",
    "\n",
    "            1. Regroupe les images en fonction de l'action, évènement ou de l'activité qu'elles représentent.\n",
    "            2. Chaque catégorie est définie par un seul mot-clé descriptif.\n",
    "            3. Une image ne peut appartenir qu'à une seule catégorie.\n",
    "            4. Priorise les catégories existantes : {cat_list}. Si une image correspond à l'une d'elles, classe-la dedans.\n",
    "            5. Si aucune catégorie existante ne convient, crée une nouvelle catégorie proche d’une activité de voyage ou une catégorie plus générique (ex: \"Nature\", \"Repas\", \"Loisirs\")\n",
    "            6. Réduis autant que possible la catégorie \"Autres\". N’y mets une image que si elle est vraiment impossible à classer ailleurs.\n",
    "\n",
    "            - Listes de mots-clés détectés pour chaque image (dans l'ordre) : {keywords_output}\n",
    "\n",
    "            Retourne le résultat au format JSON : {{ \"categorie1\": [ \"name\", \"name\" ], \"categorie2\": [ \"name\", \"name\" ],...}}\"\"\"\n",
    "\n",
    "    messages = [\n",
    "        {\n",
    "            \"role\": \"user\",\n",
    "            \"content\": prompt\n",
    "        }\n",
    "    ]\n",
    "\n",
    "    return send_chat_request(messages)"
   ],
   "outputs": [],
   "execution_count": 425
  },
  {
   "cell_type": "code",
   "id": "81f3cc2e7fc615cc",
   "metadata": {
    "ExecuteTime": {
     "end_time": "2025-03-12T20:33:21.509763Z",
     "start_time": "2025-03-12T20:33:21.505860Z"
    }
   },
   "source": [
    "directory = \"photos_victor\"\n",
    "allowed_extensions = {\".jpg\", \".jpeg\", \".png\"}\n",
    "image_paths = [\n",
    "    os.path.join(directory, filename)\n",
    "    for filename in os.listdir(directory)\n",
    "    if os.path.splitext(filename)[1].lower() in allowed_extensions\n",
    "]"
   ],
   "outputs": [],
   "execution_count": 395
  },
  {
   "metadata": {},
   "cell_type": "raw",
   "source": [
    "keywords_output, tokens_keywords = chat_get_key_words(image_paths)\n",
    "print(\"Mots-clés par image :\")\n",
    "print(keywords_output)\n",
    "print(tokens_keywords)"
   ],
   "id": "906f23564b3acac4"
  },
  {
   "metadata": {},
   "cell_type": "raw",
   "source": [
    "categories_output, tokens_categories = chat_get_categories(keywords_output)\n",
    "print(\"Catégorisation des images :\")\n",
    "print(categories_output)\n",
    "print(tokens_categories)"
   ],
   "id": "dd28a19504306b02"
  },
  {
   "metadata": {},
   "cell_type": "raw",
   "source": [
    "total_tokens = tokens_keywords + tokens_categories\n",
    "total_tokens"
   ],
   "id": "ba560112a2582625"
  },
  {
   "metadata": {},
   "cell_type": "markdown",
   "source": "## Ajout des données au DataFrame",
   "id": "c81b0975cdb5e8a5"
  },
  {
   "metadata": {
    "ExecuteTime": {
     "end_time": "2025-03-12T20:33:21.522226Z",
     "start_time": "2025-03-12T20:33:21.518119Z"
    }
   },
   "cell_type": "code",
   "source": [
    "def create_df(image_paths):\n",
    "    image_list = []\n",
    "    for path in image_paths:\n",
    "        image = Image.open(path)\n",
    "        image_name = os.path.basename(path)\n",
    "        exifdata = image._getexif()\n",
    "        date_time, localisation = None, None\n",
    "        if exifdata:\n",
    "            for tag_id, value in exifdata.items():\n",
    "                tag = Image.ExifTags.TAGS.get(tag_id, tag_id)\n",
    "                if tag == \"DateTime\":\n",
    "                    date_time = value\n",
    "                elif tag == \"GPSInfo\":\n",
    "                    localisation = value\n",
    "\n",
    "            image_list.append((image_name, path, date_time, localisation))\n",
    "\n",
    "        else:\n",
    "            print(\"Aucune donnée EXIF trouvée.\")\n",
    "\n",
    "    df = pd.DataFrame(image_list, columns=[\"image_name\", \"path\", \"date_time\", \"localisation\"])\n",
    "    df[\"keywords\"] = \"\"\n",
    "    df[\"categories\"] = \"\"\n",
    "\n",
    "    return df"
   ],
   "id": "bb1f1aa40bd23944",
   "outputs": [],
   "execution_count": 396
  },
  {
   "metadata": {
    "ExecuteTime": {
     "end_time": "2025-03-12T20:33:21.534036Z",
     "start_time": "2025-03-12T20:33:21.530037Z"
    }
   },
   "cell_type": "code",
   "source": [
    "def add_keywords_to_df(image_data, keywords_output):\n",
    "    if keywords_output:\n",
    "        # Mise à jour uniquement pour les images présentes dans keywords_output\n",
    "        image_data[\"keywords\"] = image_data.apply(\n",
    "            lambda row: keywords_output[row[\"image_name\"]]\n",
    "            if row[\"image_name\"] in keywords_output else row[\"keywords\"], axis=1\n",
    "        )\n",
    "    else:\n",
    "        print(\"Aucun mot clé fourni ! \")\n",
    "    return image_data\n"
   ],
   "id": "96e1f2b510c0411a",
   "outputs": [],
   "execution_count": 397
  },
  {
   "metadata": {
    "ExecuteTime": {
     "end_time": "2025-03-12T20:33:21.545232Z",
     "start_time": "2025-03-12T20:33:21.541788Z"
    }
   },
   "cell_type": "code",
   "source": [
    "def add_categories_to_df(image_data, categories_output):\n",
    "    if categories_output:\n",
    "        #Inversion du dict : on associe une categorie a chaque image\n",
    "        image_to_categories = {img: cat for cat, images in categories_output.items() for img in images}\n",
    "\n",
    "        image_data.loc[image_data[\"image_name\"].isin(image_to_categories.keys()), \"categories\"] = image_data[\"image_name\"].map(image_to_categories)\n",
    "    else:\n",
    "        print(\"Aucune catégorisation trouvée !\")\n",
    "\n",
    "    return image_data"
   ],
   "id": "26fd4a27adc7d223",
   "outputs": [],
   "execution_count": 398
  },
  {
   "metadata": {
    "ExecuteTime": {
     "end_time": "2025-03-12T20:33:21.556496Z",
     "start_time": "2025-03-12T20:33:21.552831Z"
    }
   },
   "cell_type": "code",
   "source": [
    "def get_missing_values(dictionnary):\n",
    "    missing_values = {}\n",
    "    for key, value in dictionnary.items():\n",
    "        if value is None or value == \"\" or value == \"nan\" or value == \"None\":\n",
    "            missing_values.update({key: value})\n",
    "\n",
    "    return missing_values"
   ],
   "id": "9d9dd707ebf57f51",
   "outputs": [],
   "execution_count": 399
  },
  {
   "metadata": {
    "ExecuteTime": {
     "end_time": "2025-03-12T20:33:21.568496Z",
     "start_time": "2025-03-12T20:33:21.564994Z"
    }
   },
   "cell_type": "code",
   "source": [
    "def get_missing_path(paths, dictionnary):\n",
    "    missing_paths = []\n",
    "    for path in paths:\n",
    "        image_name = os.path.split(path)[-1]\n",
    "        #print(f\"image_name : {image_name}\")\n",
    "        if image_name in dictionnary.keys() or path in dictionnary.keys():\n",
    "            missing_paths.append(path)\n",
    "\n",
    "    return missing_paths"
   ],
   "id": "9fedf899d9476b87",
   "outputs": [],
   "execution_count": 400
  },
  {
   "metadata": {
    "ExecuteTime": {
     "end_time": "2025-03-12T20:33:21.580517Z",
     "start_time": "2025-03-12T20:33:21.576906Z"
    }
   },
   "cell_type": "code",
   "source": [
    "def get_missing_values_path(paths, dictionnary):\n",
    "    missing_values = get_missing_values(dictionnary)\n",
    "    missing_paths = get_missing_path(paths, missing_values)\n",
    "    print(f\"Images détectées avec valeurs manquantes : {missing_values.keys()}\")\n",
    "    print(f\"Chemins renvoyés pour traitement : {missing_paths}\")\n",
    "    return missing_paths"
   ],
   "id": "73579f00f47caa21",
   "outputs": [],
   "execution_count": 401
  },
  {
   "metadata": {
    "ExecuteTime": {
     "end_time": "2025-03-12T20:33:21.592810Z",
     "start_time": "2025-03-12T20:33:21.588926Z"
    }
   },
   "cell_type": "code",
   "source": [
    "def checking_all_keywords(df):\n",
    "    path_images_empty = []\n",
    "    none_possibilities = [None, \"\", [], \"None\", [\"None\"]]\n",
    "    for row in df.itertuples():\n",
    "        keywords = row.keywords\n",
    "        if isinstance(keywords, float) and pd.isna(keywords):\n",
    "            path_images_empty.append(row.path)\n",
    "\n",
    "        elif keywords in none_possibilities:\n",
    "            path_images_empty.append(row.path)\n",
    "\n",
    "    return path_images_empty"
   ],
   "id": "aa1e8789bf4613e1",
   "outputs": [],
   "execution_count": 402
  },
  {
   "metadata": {
    "ExecuteTime": {
     "end_time": "2025-03-12T20:33:21.605315Z",
     "start_time": "2025-03-12T20:33:21.601222Z"
    }
   },
   "cell_type": "code",
   "source": [
    "def keywords_call(df, image_paths, limit_size):\n",
    "    total_keywords_tokens = 0\n",
    "    for i in range(0, len(image_paths), limit_size):\n",
    "        interval = [i, min(i + limit_size, len(image_paths))]\n",
    "        subset_image_paths = image_paths[interval[0]:interval[1]]\n",
    "        print(f\"Image paths : {subset_image_paths}\")\n",
    "\n",
    "        keywords_output, keywords_tokens = chat_get_key_words(subset_image_paths)\n",
    "        print(f\"Keywords : {keywords_output}\")\n",
    "        total_keywords_tokens += keywords_tokens\n",
    "\n",
    "        df = add_keywords_to_df(df, keywords_output)\n",
    "\n",
    "        print(f\"Total tokens : {total_keywords_tokens}\")\n",
    "\n",
    "    return df, total_keywords_tokens"
   ],
   "id": "ed08851b80d5e7eb",
   "outputs": [],
   "execution_count": 403
  },
  {
   "metadata": {
    "ExecuteTime": {
     "end_time": "2025-03-12T20:33:21.617464Z",
     "start_time": "2025-03-12T20:33:21.613678Z"
    }
   },
   "cell_type": "code",
   "source": [
    "def pipeline_keywords(image_paths, limit_size=10):\n",
    "    image_data = create_df(image_paths)\n",
    "    new_image_paths = image_paths[:]\n",
    "    total_keywords_tokens = 0\n",
    "\n",
    "    all_keywords = False\n",
    "    only_once = False\n",
    "\n",
    "    while not all_keywords :\n",
    "        print(\"Entree dans le while\")\n",
    "        image_data, keywords_tokens = keywords_call(image_data, new_image_paths, limit_size)\n",
    "        total_keywords_tokens += keywords_tokens\n",
    "\n",
    "        if only_once:\n",
    "            new_row = pd.DataFrame([{\"image_name\" : \"IMG_20241228_132157.jpg\",\"path\": \"photos_victor/IMG_20241228_132157.jpg\"}])\n",
    "            image_data = pd.concat([image_data, new_row], ignore_index=True)\n",
    "            only_once = False\n",
    "\n",
    "        new_image_paths = checking_all_keywords(image_data)\n",
    "        print(f\"Images à traiter après le premier passage : {new_image_paths}\")\n",
    "\n",
    "        if not new_image_paths:\n",
    "            all_keywords = True\n",
    "\n",
    "    return image_data, total_keywords_tokens"
   ],
   "id": "945914c5ece8a46e",
   "outputs": [],
   "execution_count": 404
  },
  {
   "metadata": {
    "ExecuteTime": {
     "end_time": "2025-03-12T20:36:28.295260Z",
     "start_time": "2025-03-12T20:33:21.625258Z"
    }
   },
   "cell_type": "code",
   "source": "image_data, keywords_tokens = pipeline_keywords(image_paths, 1)",
   "id": "a4496ec0f27068e6",
   "outputs": [
    {
     "name": "stdout",
     "output_type": "stream",
     "text": [
      "Entree dans le while\n",
      "Image paths : ['photos_victor\\\\IMG_20241228_124125_1.jpg']\n",
      "Keywords : {'IMG_20241228_124125_1.jpg': ['circulation', 'pluie', 'bande cyclable', 'personnes', 'bâtiments']}\n",
      "Total tokens : 8634\n",
      "Image paths : ['photos_victor\\\\IMG_20241228_124128.jpg']\n",
      "Keywords : {'IMG_20241228_124128.jpg': ['pluie', 'véhicules', 'piste cyclable', 'bâtiments', 'piétons']}\n",
      "Total tokens : 17266\n",
      "Image paths : ['photos_victor\\\\IMG_20241228_124135.jpg']\n",
      "Keywords : {'IMG_20241228_124135.jpg': ['cycliste', 'voie cyclable', 'pluie', 'bâtiments', 'rue']}\n",
      "Total tokens : 25895\n",
      "Image paths : ['photos_victor\\\\IMG_20241228_124137.jpg']\n",
      "Keywords : {'IMG_20241228_124137.jpg': ['faire du vélo', 'route', 'pluie', 'bâtiments', 'circulation']}\n",
      "Total tokens : 34523\n",
      "Image paths : ['photos_victor\\\\IMG_20241228_124140.jpg']\n",
      "Keywords : {'IMG_20241228_124140.jpg': ['vélos', 'cyclistes', 'pluie', 'bâtiments', 'piste cyclable']}\n",
      "Total tokens : 43154\n",
      "Image paths : ['photos_victor\\\\IMG_20241228_124648.jpg']\n",
      "Keywords : {'IMG_20241228_124648.jpg': ['restaurant', 'déjeuner', 'vitrine', 'panneau', 'rue']}\n",
      "Total tokens : 51781\n",
      "Image paths : ['photos_victor\\\\IMG_20241228_132157.jpg']\n",
      "Keywords : {'IMG_20241228_132157.jpg': ['manger', 'dessert', 'glace', 'chocolat', 'assiette']}\n",
      "Total tokens : 60409\n",
      "Image paths : ['photos_victor\\\\IMG_20241228_141921.jpg']\n",
      "Keywords : {'IMG_20241228_141921.jpg': ['sourire', 'scaffolding', 'photo', 'rue', 'visiteurs']}\n",
      "Total tokens : 69037\n",
      "Image paths : ['photos_victor\\\\IMG_20241229_123811.jpg']\n",
      "Keywords : {'IMG_20241229_123811.jpg': ['avion', 'exposition', 'musée', 'documents', 'jouet']}\n",
      "Total tokens : 77663\n",
      "Image paths : ['photos_victor\\\\IMG_20241229_123828.jpg']\n",
      "Keywords : {'IMG_20241229_123828.jpg': ['maintenance', 'avion', 'moteur', 'réparation', 'hangar']}\n",
      "Total tokens : 86290\n",
      "Image paths : ['photos_victor\\\\IMG_20241229_123844.jpg']\n",
      "Keywords : {'IMG_20241229_123844.jpg': ['avion', 'exposition', 'musée', 'militaire', 'décoller']}\n",
      "Total tokens : 94918\n",
      "Image paths : ['photos_victor\\\\IMG_20241229_124813.jpg']\n",
      "Keywords : {'IMG_20241229_124813.jpg': ['arme', 'montage', 'rotation', 'plaque', 'navire']}\n",
      "Total tokens : 103543\n",
      "Image paths : ['photos_victor\\\\IMG_20241229_124828.jpg']\n",
      "Keywords : {'IMG_20241229_124828.jpg': ['éviter', 'système', 'satellite', 'navire', 'port']}\n",
      "Total tokens : 112169\n",
      "Image paths : ['photos_victor\\\\IMG_20241229_125737.jpg']\n",
      "Keywords : {'IMG_20241229_125737.jpg': ['avion', 'stationner', 'toit', 'vue urbain', 'extérieur']}\n",
      "Total tokens : 120796\n",
      "Image paths : ['photos_victor\\\\IMG_20241229_125929.jpg']\n",
      "Keywords : {'IMG_20241229_125929.jpg': ['navire', 'visiteurs', 'escaliers', 'exposition', 'panorama']}\n",
      "Total tokens : 129423\n",
      "Image paths : ['photos_victor\\\\IMG_20241229_130006.jpg']\n",
      "Keywords : {'IMG_20241229_130006.jpg': ['éluder', 'afficher', 'élévateur', 'port', 'vues']}\n",
      "Total tokens : 138050\n",
      "Image paths : ['photos_victor\\\\IMG_20241229_130244.jpg']\n",
      "Keywords : {'IMG_20241229_130244.jpg': ['avion', 'musée', 'visiteurs', 'naval', 'exposition']}\n",
      "Total tokens : 146677\n",
      "Image paths : ['photos_victor\\\\IMG_20241229_130249.jpg']\n",
      "Keywords : {'IMG_20241229_130249.jpg': ['visiteurs', 'avions', 'pluie', 'ville', 'musée']}\n",
      "Total tokens : 155303\n",
      "Image paths : ['photos_victor\\\\IMG_20241229_130430.jpg']\n",
      "Keywords : {'IMG_20241229_130430.jpg': ['avion', 'décollage', 'mer', 'navire', 'information']}\n",
      "Total tokens : 163930\n",
      "Image paths : ['photos_victor\\\\IMG_20241229_130435.jpg']\n",
      "Keywords : {'IMG_20241229_130435.jpg': ['avion', 'visiteurs', 'plaque-forme', 'skyline', 'paysage']}\n",
      "Total tokens : 172560\n",
      "Image paths : ['photos_victor\\\\IMG_20241229_130635.jpg']\n",
      "Keywords : {'IMG_20241229_130635.jpg': ['avion', 'moteur', 'entretien', 'aéroport', 'réparation']}\n",
      "Total tokens : 181188\n",
      "Image paths : ['photos_victor\\\\IMG_20241229_130721.jpg']\n",
      "Keywords : {'IMG_20241229_130721.jpg': ['avion', 'exposition', 'manœuvre', 'urbain', 'installations']}\n",
      "Total tokens : 189816\n",
      "Image paths : ['photos_victor\\\\IMG_20250105_142604.jpg']\n",
      "Keywords : {'IMG_20250105_142604.jpg': ['décoration', 'sapin', 'cheminée', 'salon', 'chandelier']}\n",
      "Total tokens : 198445\n",
      "Image paths : ['photos_victor\\\\IMG_20250105_142818.jpg']\n",
      "Keywords : {'IMG_20250105_142818.jpg': ['chanter', 'jouer', 'chambre', 'sapin', 'costume']}\n",
      "Total tokens : 207072\n",
      "Image paths : ['photos_victor\\\\IMG_20250105_144147.jpg']\n",
      "Keywords : {'IMG_20250105_144147.jpg': ['intérieur', 'mobilier', 'lumière', 'plantes', 'espace']}\n",
      "Total tokens : 215700\n",
      "Image paths : ['photos_victor\\\\IMG_20250105_144436.jpg']\n",
      "Keywords : {'IMG_20250105_144436.jpg': ['luminaires', 'balcon', 'décoration', 'chambre', 'visiteurs']}\n",
      "Total tokens : 224329\n",
      "Image paths : ['photos_victor\\\\IMG_20250105_144540.jpg']\n",
      "Keywords : {'IMG_20250105_144540.jpg': ['marcher', 'discuter', 'salle', 'chandeliers', 'écran']}\n",
      "Total tokens : 232958\n",
      "Image paths : ['photos_victor\\\\IMG_20250105_144750.jpg']\n",
      "Keywords : {'IMG_20250105_144750.jpg': ['suspension', 'cristaux', 'lumière', 'architectural', 'fenêtres']}\n",
      "Total tokens : 241588\n",
      "Image paths : ['photos_victor\\\\IMG_20250105_145543_BURST1.jpg']\n",
      "Keywords : {'IMG_20250105_145543_BURST1.jpg': ['regarder', 'plafond', 'lustre', 'décoration', 'salon']}\n",
      "Total tokens : 250225\n",
      "Image paths : ['photos_victor\\\\IMG_20250105_150144.jpg']\n",
      "Keywords : {'IMG_20250105_150144.jpg': ['pendant', 'lumière', 'drapeaux', 'balustrade', 'plafond']}\n",
      "Total tokens : 258856\n",
      "Image paths : ['photos_victor\\\\IMG_20250105_150831.jpg']\n",
      "Keywords : {'IMG_20250105_150831.jpg': ['exposition', 'assiettes', 'historique', 'musée', 'dîner']}\n",
      "Total tokens : 267484\n",
      "Image paths : ['photos_victor\\\\IMG_20250105_150850.jpg']\n",
      "Keywords : {'IMG_20250105_150850.jpg': ['exposition', 'objets', 'textes', 'table', 'histoire']}\n",
      "Total tokens : 276111\n",
      "Image paths : ['photos_victor\\\\IMG_20250105_151136.jpg']\n",
      "Keywords : {'IMG_20250105_151136.jpg': ['lister', 'vins', 'menu', 'écrire', 'découvrir']}\n",
      "Total tokens : 284738\n",
      "Image paths : ['photos_victor\\\\IMG_20250105_151214.jpg']\n",
      "Keywords : {'IMG_20250105_151214.jpg': ['escalier', 'arbres', 'décoration', 'lumières', 'entrée']}\n",
      "Total tokens : 293367\n",
      "Image paths : ['photos_victor\\\\IMG_20250105_151457.jpg']\n",
      "Keywords : {'IMG_20250105_151457.jpg': ['peinture', 'fleurs', 'couleurs', 'mur', 'décoration']}\n",
      "Total tokens : 301994\n",
      "Image paths : ['photos_victor\\\\IMG_20250105_151458.jpg']\n",
      "Keywords : {'IMG_20250105_151458.jpg': ['peinture', 'fleurs', 'couleurs', 'mur', 'art']}\n",
      "Total tokens : 310619\n",
      "Image paths : ['photos_victor\\\\IMG_20250105_161636.jpg']\n",
      "Keywords : {'IMG_20250105_161636.jpg': ['glisser', 'traîneau', 'neige', 'ville', 'moniteur']}\n",
      "Total tokens : 319246\n",
      "Image paths : ['photos_victor\\\\IMG_20250105_165438.jpg']\n",
      "Keywords : {'IMG_20250105_165438.jpg': ['marcher', 'décoration', 'noël', 'rue', 'lumières']}\n",
      "Total tokens : 327875\n",
      "Image paths : ['photos_victor\\\\IMG_20250105_165450.jpg']\n",
      "Keywords : {'IMG_20250105_165450.jpg': ['illumination', 'neige', 'décoration', 'restaurant', 'nuit']}\n",
      "Total tokens : 336502\n",
      "Image paths : ['photos_victor\\\\IMG_20250105_165457.jpg']\n",
      "Keywords : {'IMG_20250105_165457.jpg': ['personne', 'décoration', 'neige', 'magasin', 'nuit']}\n",
      "Total tokens : 345130\n",
      "Image paths : ['photos_victor\\\\IMG_20250107_180316.jpg']\n",
      "Keywords : {'IMG_20250107_180316.jpg': ['neige', 'chemin', 'arbre', 'nuit', 'traces']}\n",
      "Total tokens : 353757\n",
      "Image paths : ['photos_victor\\\\IMG_20250108_143517.jpg']\n",
      "Keywords : {'IMG_20250108_143517.jpg': ['manger', 'hamburger', 'frites', 'salade', 'boisson']}\n",
      "Total tokens : 362384\n",
      "Image paths : ['photos_victor\\\\IMG_20250109_174849.jpg']\n",
      "Keywords : {'IMG_20250109_174849.jpg': ['canettes', 'bière', 'étagère', 'magasin', 'étiquettes']}\n",
      "Total tokens : 371013\n",
      "Image paths : ['photos_victor\\\\IMG_20250110_163528.jpg']\n",
      "Keywords : {'IMG_20250110_163528.jpg': ['reflet', 'micro-brasserie', 'personnes', 'photo', 'porte']}\n",
      "Total tokens : 379639\n",
      "Image paths : ['photos_victor\\\\IMG_20250110_164345.jpg']\n",
      "Keywords : {'IMG_20250110_164345.jpg': ['verre', 'bière', 'table', 'boisson', 'menu']}\n",
      "Total tokens : 388264\n",
      "Image paths : ['photos_victor\\\\IMG_20250111_152149.jpg']\n",
      "Keywords : {'IMG_20250111_152149.jpg': ['skier', 'neige', 'piste', 'groupe', 'bâtons']}\n",
      "Total tokens : 396892\n",
      "Image paths : ['photos_victor\\\\IMG_20250111_152150.jpg']\n",
      "Keywords : {'IMG_20250111_152150.jpg': ['ski', 'groupe', 'neige', 'randonnée', 'nature']}\n",
      "Total tokens : 405517\n",
      "Image paths : ['photos_victor\\\\IMG_20250111_154046.jpg']\n",
      "Keywords : {'IMG_20250111_154046.jpg': ['ski', 'groupe', 'neige', 'extérieur', 'sourire']}\n",
      "Total tokens : 414143\n",
      "Image paths : ['photos_victor\\\\IMG_20250113_143633.jpg']\n",
      "Keywords : {'IMG_20250113_143633.jpg': ['faire des courses', 'chariot', 'fruits', 'sac', 'légumes']}\n",
      "Total tokens : 422772\n",
      "Image paths : ['photos_victor\\\\IMG_20250113_143716.jpg']\n",
      "Keywords : {'IMG_20250113_143716.jpg': ['faire des courses', 'panier', 'fruits', 'sac', 'supermarché']}\n",
      "Total tokens : 431401\n",
      "Image paths : ['photos_victor\\\\IMG_20250113_145037.jpg']\n",
      "Keywords : {'IMG_20250113_145037.jpg': ['prix', 'haricots', 'bio', 'surgelés', 'magasin']}\n",
      "Total tokens : 440029\n",
      "Image paths : ['photos_victor\\\\IMG_20250113_150228.jpg']\n",
      "Keywords : {'IMG_20250113_150228.jpg': ['faire des courses', 'chariot', 'aliments', 'supermarché', 'acheter']}\n",
      "Total tokens : 448657\n",
      "Image paths : ['photos_victor\\\\IMG_20250113_201010.jpg']\n",
      "Keywords : {'IMG_20250113_201010.jpg': ['manger', 'riz', 'courgettes', 'plat', 'table']}\n",
      "Total tokens : 457282\n",
      "Image paths : ['photos_victor\\\\IMG_20250114_193654.jpg']\n",
      "Keywords : {'IMG_20250114_193654.jpg': ['manger', 'hamburger', 'fromage', 'cornichons', 'assiette']}\n",
      "Total tokens : 465910\n",
      "Image paths : ['photos_victor\\\\IMG_20250117_131914.jpg']\n",
      "Keywords : {'IMG_20250117_131914.jpg': ['manger', 'riz', 'légumes', 'viande', 'assiette']}\n",
      "Total tokens : 474537\n",
      "Image paths : ['photos_victor\\\\IMG_20250118_185321.jpg']\n",
      "Keywords : {'IMG_20250118_185321.jpg': ['manger', 'pizza', 'spaghetti', 'sauce', 'restaurant']}\n",
      "Total tokens : 483162\n",
      "Image paths : ['photos_victor\\\\IMG_20250119_131124_BURST1.jpg']\n",
      "Keywords : {'IMG_20250119_131124_BURST1.jpg': ['neige', 'arbres', 'parc', 'lampadaire', 'aire de jeux']}\n",
      "Total tokens : 491798\n",
      "Image paths : ['photos_victor\\\\IMG_20250119_131214_BURST1.jpg']\n",
      "Keywords : {'IMG_20250119_131214_BURST1.jpg': ['glisser', 'neige', 'parc', 'arbres', 'aire de jeux']}\n",
      "Total tokens : 500434\n",
      "Image paths : ['photos_victor\\\\IMG_20250119_131317.jpg']\n",
      "Keywords : {'IMG_20250119_131317.jpg': ['affichage', 'enseigne', 'information', 'bâtiment', 'instructions']}\n",
      "Total tokens : 509060\n",
      "Image paths : ['photos_victor\\\\IMG_20250119_131334_BURST1.jpg']\n",
      "Keywords : {'IMG_20250119_131334_BURST1.jpg': ['patiner', 'neige', 'parc', 'répétition', 'enfants']}\n",
      "Total tokens : 517697\n",
      "Image paths : ['photos_victor\\\\IMG_20250119_131335.jpg']\n",
      "Keywords : {'IMG_20250119_131335.jpg': ['patiner', 'neige', 'parc', 'enfants', 'lampadaire']}\n",
      "Total tokens : 526324\n",
      "Image paths : ['photos_victor\\\\IMG_20250119_131815_BURST1.jpg']\n",
      "Keywords : {'IMG_20250119_131815_BURST1.jpg': ['marcher', 'neige', 'sentier', 'arbres', 'hiver']}\n",
      "Total tokens : 534959\n",
      "Image paths : ['photos_victor\\\\IMG_20250122_093940.jpg']\n",
      "Keywords : {'IMG_20250122_093940.jpg': ['afficher', 'température', 'intérieur', 'extérieur', 'horloge']}\n",
      "Total tokens : 543585\n",
      "Image paths : ['photos_victor\\\\IMG_20250122_155558.jpg']\n",
      "Keywords : {'IMG_20250122_155558.jpg': ['numéro', 'ticket', 'impression', 'papier', 'sol']}\n",
      "Total tokens : 552209\n",
      "Image paths : ['photos_victor\\\\IMG_20250122_162438.jpg']\n",
      "Keywords : {'IMG_20250122_162438.jpg': ['étiquette', 'numéro', 'impression', 'sol', 'métal']}\n",
      "Total tokens : 560836\n",
      "Image paths : ['photos_victor\\\\IMG_20250124_092053.jpg']\n",
      "Keywords : {'IMG_20250124_092053.jpg': ['skis', 'voiture', 'montagne', 'neige', 'soleil']}\n",
      "Total tokens : 569463\n",
      "Image paths : ['photos_victor\\\\IMG_20250124_092101.jpg']\n",
      "Keywords : {'IMG_20250124_092101.jpg': ['conduire', 'skis', 'voiture', 'intérieur', 'voyage']}\n",
      "Total tokens : 578091\n",
      "Image paths : ['photos_victor\\\\IMG_20250124_092335.jpg']\n",
      "Keywords : {'IMG_20250124_092335.jpg': ['écran', 'voiture', 'tachymètre', 'indicateurs', 'heure']}\n",
      "Total tokens : 586719\n",
      "Image paths : ['photos_victor\\\\IMG_20250124_122637.jpg']\n",
      "Keywords : {'IMG_20250124_122637.jpg': ['manger', 'salade', 'poulet', 'boisson', 'restaurant']}\n",
      "Total tokens : 595346\n",
      "Image paths : ['photos_victor\\\\IMG_20250217_082849.jpg']\n",
      "Keywords : {'IMG_20250217_082849.jpg': ['neige', 'voiture', 'route', 'piles de neige', 'tempête']}\n",
      "Total tokens : 603974\n",
      "Image paths : ['photos_victor\\\\IMG_20250217_082926.jpg']\n",
      "Keywords : {'IMG_20250217_082926.jpg': ['neige', 'arbres', 'bennes', 'hiver', 'paysage']}\n",
      "Total tokens : 612602\n",
      "Image paths : ['photos_victor\\\\IMG_20250217_082952.jpg']\n",
      "Keywords : {'IMG_20250217_082952.jpg': ['marcher', 'neige', 'route', 'monticule', 'télécommunications']}\n",
      "Total tokens : 621230\n",
      "Image paths : ['photos_victor\\\\IMG_20250217_082956.jpg']\n",
      "Keywords : {'IMG_20250217_082956.jpg': ['marcher', 'neige', 'téléphone', 'signal', 'arbre']}\n",
      "Total tokens : 629860\n",
      "Image paths : ['photos_victor\\\\IMG_20250217_083141.jpg']\n",
      "Keywords : {'IMG_20250217_083141.jpg': ['femme', 'se tenir', 'neige', 'photographier', 'hiver']}\n",
      "Total tokens : 638488\n",
      "Image paths : ['photos_victor\\\\IMG_20250218_184256.jpg']\n",
      "Keywords : {'IMG_20250218_184256.jpg': ['neige', 'marcher', 'arbres', 'nuit', 'chemin']}\n",
      "Total tokens : 647115\n",
      "Image paths : ['photos_victor\\\\IMG_20250218_184300.jpg']\n",
      "Keywords : {'IMG_20250218_184300.jpg': ['marcher', 'neige', 'forêt', 'sentier', 'nuit']}\n",
      "Total tokens : 655742\n",
      "Image paths : ['photos_victor\\\\IMG_20250219_082942.jpg']\n",
      "Keywords : {'IMG_20250219_082942.jpg': ['neige', 'voitures', 'couverts', 'jardin', 'hiver']}\n",
      "Total tokens : 664370\n",
      "Image paths : ['photos_victor\\\\IMG_20250219_082954.jpg']\n",
      "Keywords : {'IMG_20250219_082954.jpg': ['neige', 'voitures', 'couvrir', 'gel', 'hiver']}\n",
      "Total tokens : 672996\n",
      "Image paths : ['photos_victor\\\\IMG_20250219_083342.jpg']\n",
      "Keywords : {'IMG_20250219_083342.jpg': ['neige', 'voiture', 'gel', 'stationnement', 'obstacle']}\n",
      "Total tokens : 681623\n",
      "Image paths : ['photos_victor\\\\IMG_20250219_085328.jpg']\n",
      "Keywords : {'IMG_20250219_085328.jpg': ['neige', 'stationnement', 'voitures', 'route', 'bâtiment']}\n",
      "Total tokens : 690250\n",
      "Image paths : ['photos_victor\\\\IMG_20250220_085521.jpg']\n",
      "Keywords : {'IMG_20250220_085521.jpg': ['neige', 'route', 'personne', 'église', 'hiver']}\n",
      "Total tokens : 698876\n",
      "Image paths : ['photos_victor\\\\IMG_20250220_085523.jpg']\n",
      "Keywords : {'IMG_20250220_085523.jpg': ['neige', 'balayage', 'route', 'église', 'hiver']}\n",
      "Total tokens : 707503\n",
      "Image paths : ['photos_victor\\\\IMG_20250220_085526.jpg']\n",
      "Keywords : {'IMG_20250220_085526.jpg': ['pelleteuse', 'neige', 'rue', 'église', 'personne']}\n",
      "Total tokens : 716131\n",
      "Image paths : ['photos_victor\\\\IMG_20250221_101424.jpg']\n",
      "Keywords : {'IMG_20250221_101424.jpg': ['écriture', 'tableau', 'concepts', 'schémas', 'calculs']}\n",
      "Total tokens : 724759\n",
      "Image paths : ['photos_victor\\\\IMG_20250221_155338.jpg']\n",
      "Keywords : {'IMG_20250221_155338.jpg': ['acheter', 'lait', 'réfrigérateur', 'produits', 'consommer']}\n",
      "Total tokens : 733386\n",
      "Image paths : ['photos_victor\\\\IMG_20250222_113748.jpg']\n",
      "Keywords : {'IMG_20250222_113748.jpg': ['neige', 'forêt', 'ciel', 'rivière', 'soleil']}\n",
      "Total tokens : 742013\n",
      "Image paths : ['photos_victor\\\\IMG_20250222_113756.jpg']\n",
      "Keywords : {'IMG_20250222_113756.jpg': ['neige', 'piste', 'arbre', 'ciel', 'traces']}\n",
      "Total tokens : 750640\n",
      "Image paths : ['photos_victor\\\\IMG_20250222_113802.jpg']\n",
      "Keywords : {'IMG_20250222_113802.jpg': ['skis', 'bâtons', 'neige', 'randonnée', \"sports d'hiver\"]}\n",
      "Total tokens : 759269\n",
      "Image paths : ['photos_victor\\\\IMG_20250222_115044.jpg']\n",
      "Keywords : {'IMG_20250222_115044.jpg': ['ski', 'neige', 'forêt', 'piste', 'hiver']}\n",
      "Total tokens : 767895\n",
      "Image paths : ['photos_victor\\\\IMG_20250222_115520.jpg']\n",
      "Keywords : {'IMG_20250222_115520.jpg': ['neige', 'piste', 'arbre', 'détente', 'hiver']}\n",
      "Total tokens : 776523\n",
      "Image paths : ['photos_victor\\\\IMG_20250222_121148.jpg']\n",
      "Keywords : {'IMG_20250222_121148.jpg': ['observer', 'neige', 'rivière', 'pont', 'nature']}\n",
      "Total tokens : 785147\n",
      "Image paths : ['photos_victor\\\\IMG_20250222_121156.jpg']\n",
      "Keywords : {'IMG_20250222_121156.jpg': ['marcher', 'photographier', 'neige', 'casque', 'nature']}\n",
      "Total tokens : 793774\n",
      "Image paths : ['photos_victor\\\\IMG_20250222_134940.jpg']\n",
      "Keywords : {'IMG_20250222_134940.jpg': ['manger', 'poutine', 'frites', 'fromage', 'restaurant']}\n",
      "Total tokens : 802400\n",
      "Image paths : ['photos_victor\\\\IMG_20250222_171439.jpg']\n",
      "Keywords : {'IMG_20250222_171439.jpg': ['déballer', 'courses', 'cuisine', 'table', 'organiser']}\n",
      "Total tokens : 811026\n",
      "Image paths : ['photos_victor\\\\IMG_20250222_221529.jpg']\n",
      "Keywords : {'IMG_20250222_221529.jpg': ['couper', 'saucisse', 'fromage', 'pain', 'table']}\n",
      "Total tokens : 819652\n",
      "Image paths : ['photos_victor\\\\IMG_20250222_221833.jpg']\n",
      "Keywords : {'IMG_20250222_221833.jpg': ['découper', 'fromage', 'saucisson', 'table', 'collation']}\n",
      "Total tokens : 828281\n",
      "Image paths : ['photos_victor\\\\IMG_20250224_144236.jpg']\n",
      "Keywords : {'IMG_20250224_144236.jpg': ['écriture', 'tableau blanc', 'schéma', 'mathématiques', 'équations']}\n",
      "Total tokens : 836909\n",
      "Image paths : ['photos_victor\\\\IMG_20250228_085044.jpg']\n",
      "Keywords : {'IMG_20250228_085044.jpg': ['routeur', 'écran', 'câble', 'bureau', 'avertissement']}\n",
      "Total tokens : 845537\n",
      "Image paths : ['photos_victor\\\\IMG_20250228_085048.jpg']\n",
      "Keywords : {'IMG_20250228_085048.jpg': ['routeur', 'antenne', 'câble', 'bureau', 'connectivité']}\n",
      "Total tokens : 854164\n",
      "Images à traiter après le premier passage : []\n"
     ]
    }
   ],
   "execution_count": 405
  },
  {
   "metadata": {
    "ExecuteTime": {
     "end_time": "2025-03-12T20:36:28.354925Z",
     "start_time": "2025-03-12T20:36:28.341360Z"
    }
   },
   "cell_type": "code",
   "source": "print(tabulate(image_data, headers=\"keys\", tablefmt=\"psql\"))",
   "id": "45ae9e48232a4aa6",
   "outputs": [
    {
     "name": "stdout",
     "output_type": "stream",
     "text": [
      "+----+--------------------------------+----------------------------------------------+---------------------+----------------------------------------------------------------------------------------------------------------------------------------------------------------------+------------------------------------------------------------------------+--------------+\n",
      "|    | image_name                     | path                                         | date_time           | localisation                                                                                                                                                         | keywords                                                               | categories   |\n",
      "|----+--------------------------------+----------------------------------------------+---------------------+----------------------------------------------------------------------------------------------------------------------------------------------------------------------+------------------------------------------------------------------------+--------------|\n",
      "|  0 | IMG_20241228_124125_1.jpg      | photos_victor\\IMG_20241228_124125_1.jpg      | 2024:12:28 12:41:25 | {1: 'N', 2: (40.0, 44.0, 10.13), 3: 'W', 4: (73.0, 59.0, 21.91), 5: b'\\x01', 6: 19.1, 7: (17.0, 41.0, 19.0), 27: b'ASCII\\x00\\x00\\x00CELLID\\x00', 29: '2024:12:28'}   | ['circulation', 'pluie', 'bande cyclable', 'personnes', 'bâtiments']   |              |\n",
      "|  1 | IMG_20241228_124128.jpg        | photos_victor\\IMG_20241228_124128.jpg        | 2024:12:28 12:41:29 | {1: 'N', 2: (40.0, 44.0, 9.92), 3: 'W', 4: (73.0, 59.0, 21.88), 5: b'\\x01', 6: 19.1, 7: (17.0, 41.0, 24.0), 27: b'ASCII\\x00\\x00\\x00CELLID\\x00', 29: '2024:12:28'}    | ['pluie', 'véhicules', 'piste cyclable', 'bâtiments', 'piétons']       |              |\n",
      "|  2 | IMG_20241228_124135.jpg        | photos_victor\\IMG_20241228_124135.jpg        | 2024:12:28 12:41:36 | {1: 'N', 2: (40.0, 44.0, 9.92), 3: 'W', 4: (73.0, 59.0, 21.88), 5: b'\\x01', 6: 19.1, 7: (17.0, 41.0, 24.0), 27: b'ASCII\\x00\\x00\\x00CELLID\\x00', 29: '2024:12:28'}    | ['cycliste', 'voie cyclable', 'pluie', 'bâtiments', 'rue']             |              |\n",
      "|  3 | IMG_20241228_124137.jpg        | photos_victor\\IMG_20241228_124137.jpg        | 2024:12:28 12:41:37 | {1: 'N', 2: (40.0, 44.0, 9.92), 3: 'W', 4: (73.0, 59.0, 21.88), 5: b'\\x01', 6: 19.1, 7: (17.0, 41.0, 24.0), 27: b'ASCII\\x00\\x00\\x00CELLID\\x00', 29: '2024:12:28'}    | ['faire du vélo', 'route', 'pluie', 'bâtiments', 'circulation']        |              |\n",
      "|  4 | IMG_20241228_124140.jpg        | photos_victor\\IMG_20241228_124140.jpg        | 2024:12:28 12:41:40 | {1: 'N', 2: (40.0, 44.0, 9.85), 3: 'W', 4: (73.0, 59.0, 22.09), 5: b'\\x01', 6: 19.1, 7: (17.0, 41.0, 37.0), 27: b'ASCII\\x00\\x00\\x00CELLID\\x00', 29: '2024:12:28'}    | ['vélos', 'cyclistes', 'pluie', 'bâtiments', 'piste cyclable']         |              |\n",
      "|  5 | IMG_20241228_124648.jpg        | photos_victor\\IMG_20241228_124648.jpg        | 2024:12:28 12:46:48 | {1: 'N', 2: (40.0, 44.0, 6.82), 3: 'W', 4: (73.0, 59.0, 9.61), 5: b'\\x01', 6: 29.234, 7: (17.0, 46.0, 47.0), 27: b'ASCII\\x00\\x00\\x00GPS\\x00', 29: '2024:12:28'}      | ['restaurant', 'déjeuner', 'vitrine', 'panneau', 'rue']                |              |\n",
      "|  6 | IMG_20241228_132157.jpg        | photos_victor\\IMG_20241228_132157.jpg        | 2024:12:28 13:21:57 | {1: 'N', 2: (40.0, 44.0, 7.19), 3: 'W', 4: (73.0, 59.0, 9.85), 5: b'\\x01', 6: 22.2, 7: (18.0, 21.0, 53.0), 27: b'ASCII\\x00\\x00\\x00CELLID\\x00', 29: '2024:12:28'}     | ['manger', 'dessert', 'glace', 'chocolat', 'assiette']                 |              |\n",
      "|  7 | IMG_20241228_141921.jpg        | photos_victor\\IMG_20241228_141921.jpg        | 2024:12:28 14:19:22 | {1: 'N', 2: (40.0, 44.0, 6.6), 3: 'W', 4: (73.0, 59.0, 9.79), 5: b'\\x01', 6: 22.0, 7: (19.0, 19.0, 8.0), 27: b'ASCII\\x00\\x00\\x00CELLID\\x00', 29: '2024:12:28'}       | ['sourire', 'scaffolding', 'photo', 'rue', 'visiteurs']                |              |\n",
      "|  8 | IMG_20241229_123811.jpg        | photos_victor\\IMG_20241229_123811.jpg        | 2024:12:29 12:38:11 | {1: 'N', 2: (40.0, 46.0, 9.54), 3: 'W', 4: (74.0, 0.0, 29.38), 5: b'\\x00', 6: 0.0, 7: (17.0, 38.0, 8.0), 27: b'ASCII\\x00\\x00\\x00CELLID\\x00', 29: '2024:12:29'}       | ['avion', 'exposition', 'musée', 'documents', 'jouet']                 |              |\n",
      "|  9 | IMG_20241229_123828.jpg        | photos_victor\\IMG_20241229_123828.jpg        | 2024:12:29 12:38:28 | {1: 'N', 2: (40.0, 46.0, 9.54), 3: 'W', 4: (74.0, 0.0, 29.38), 5: b'\\x00', 6: 0.0, 7: (17.0, 38.0, 28.0), 27: b'ASCII\\x00\\x00\\x00CELLID\\x00', 29: '2024:12:29'}      | ['maintenance', 'avion', 'moteur', 'réparation', 'hangar']             |              |\n",
      "| 10 | IMG_20241229_123844.jpg        | photos_victor\\IMG_20241229_123844.jpg        | 2024:12:29 12:38:44 | {1: 'N', 2: (40.0, 46.0, 9.54), 3: 'W', 4: (74.0, 0.0, 29.38), 5: b'\\x00', 6: 0.0, 7: (17.0, 38.0, 28.0), 27: b'ASCII\\x00\\x00\\x00CELLID\\x00', 29: '2024:12:29'}      | ['avion', 'exposition', 'musée', 'militaire', 'décoller']              |              |\n",
      "| 11 | IMG_20241229_124813.jpg        | photos_victor\\IMG_20241229_124813.jpg        | 2024:12:29 12:48:14 | {1: 'N', 2: (40.0, 46.0, 4.46), 3: 'W', 4: (73.0, 59.0, 45.75), 5: b'\\x00', 6: 0.0, 7: (17.0, 48.0, 9.0), 27: b'ASCII\\x00\\x00\\x00CELLID\\x00', 29: '2024:12:29'}      | ['arme', 'montage', 'rotation', 'plaque', 'navire']                    |              |\n",
      "| 12 | IMG_20241229_124828.jpg        | photos_victor\\IMG_20241229_124828.jpg        | 2024:12:29 12:48:29 | {1: 'N', 2: (40.0, 46.0, 4.46), 3: 'W', 4: (73.0, 59.0, 45.75), 5: b'\\x00', 6: 0.0, 7: (17.0, 48.0, 9.0), 27: b'ASCII\\x00\\x00\\x00CELLID\\x00', 29: '2024:12:29'}      | ['éviter', 'système', 'satellite', 'navire', 'port']                   |              |\n",
      "| 13 | IMG_20241229_125737.jpg        | photos_victor\\IMG_20241229_125737.jpg        | 2024:12:29 12:57:38 | {1: 'N', 2: (40.0, 46.0, 4.46), 3: 'W', 4: (73.0, 59.0, 45.75), 5: b'\\x00', 6: 0.0, 7: (17.0, 57.0, 28.0), 27: b'ASCII\\x00\\x00\\x00CELLID\\x00', 29: '2024:12:29'}     | ['avion', 'stationner', 'toit', 'vue urbain', 'extérieur']             |              |\n",
      "| 14 | IMG_20241229_125929.jpg        | photos_victor\\IMG_20241229_125929.jpg        | 2024:12:29 12:59:30 | {1: 'N', 2: (40.0, 46.0, 4.46), 3: 'W', 4: (73.0, 59.0, 45.75), 5: b'\\x00', 6: 0.0, 7: (17.0, 59.0, 18.0), 27: b'ASCII\\x00\\x00\\x00CELLID\\x00', 29: '2024:12:29'}     | ['navire', 'visiteurs', 'escaliers', 'exposition', 'panorama']         |              |\n",
      "| 15 | IMG_20241229_130006.jpg        | photos_victor\\IMG_20241229_130006.jpg        | 2024:12:29 13:00:06 | {1: 'N', 2: (40.0, 46.0, 4.46), 3: 'W', 4: (73.0, 59.0, 45.75), 5: b'\\x00', 6: 0.0, 7: (17.0, 59.0, 58.0), 27: b'ASCII\\x00\\x00\\x00CELLID\\x00', 29: '2024:12:29'}     | ['éluder', 'afficher', 'élévateur', 'port', 'vues']                    |              |\n",
      "| 16 | IMG_20241229_130244.jpg        | photos_victor\\IMG_20241229_130244.jpg        | 2024:12:29 13:02:45 | {1: 'N', 2: (40.0, 45.0, 45.05), 3: 'W', 4: (74.0, 0.0, 5.58), 5: b'\\x00', 6: 0.0, 7: (18.0, 2.0, 44.0), 27: b'ASCII\\x00\\x00\\x00CELLID\\x00', 29: '2024:12:29'}       | ['avion', 'musée', 'visiteurs', 'naval', 'exposition']                 |              |\n",
      "| 17 | IMG_20241229_130249.jpg        | photos_victor\\IMG_20241229_130249.jpg        | 2024:12:29 13:02:50 | {1: 'N', 2: (40.0, 45.0, 45.05), 3: 'W', 4: (74.0, 0.0, 5.58), 5: b'\\x00', 6: 0.0, 7: (18.0, 2.0, 44.0), 27: b'ASCII\\x00\\x00\\x00CELLID\\x00', 29: '2024:12:29'}       | ['visiteurs', 'avions', 'pluie', 'ville', 'musée']                     |              |\n",
      "| 18 | IMG_20241229_130430.jpg        | photos_victor\\IMG_20241229_130430.jpg        | 2024:12:29 13:04:30 | {1: 'N', 2: (40.0, 45.0, 45.05), 3: 'W', 4: (74.0, 0.0, 5.58), 5: b'\\x00', 6: 0.0, 7: (18.0, 4.0, 18.0), 27: b'ASCII\\x00\\x00\\x00CELLID\\x00', 29: '2024:12:29'}       | ['avion', 'décollage', 'mer', 'navire', 'information']                 |              |\n",
      "| 19 | IMG_20241229_130435.jpg        | photos_victor\\IMG_20241229_130435.jpg        | 2024:12:29 13:04:35 | {1: 'N', 2: (40.0, 45.0, 45.05), 3: 'W', 4: (74.0, 0.0, 5.58), 5: b'\\x00', 6: 0.0, 7: (18.0, 4.0, 18.0), 27: b'ASCII\\x00\\x00\\x00CELLID\\x00', 29: '2024:12:29'}       | ['avion', 'visiteurs', 'plaque-forme', 'skyline', 'paysage']           |              |\n",
      "| 20 | IMG_20241229_130635.jpg        | photos_victor\\IMG_20241229_130635.jpg        | 2024:12:29 13:06:35 | {1: 'N', 2: (40.0, 45.0, 45.05), 3: 'W', 4: (74.0, 0.0, 5.58), 5: b'\\x00', 6: 0.0, 7: (18.0, 6.0, 18.0), 27: b'ASCII\\x00\\x00\\x00CELLID\\x00', 29: '2024:12:29'}       | ['avion', 'moteur', 'entretien', 'aéroport', 'réparation']             |              |\n",
      "| 21 | IMG_20241229_130721.jpg        | photos_victor\\IMG_20241229_130721.jpg        | 2024:12:29 13:07:22 | {1: 'N', 2: (40.0, 46.0, 4.46), 3: 'W', 4: (73.0, 59.0, 45.75), 5: b'\\x00', 6: 0.0, 7: (18.0, 7.0, 19.0), 27: b'ASCII\\x00\\x00\\x00CELLID\\x00', 29: '2024:12:29'}      | ['avion', 'exposition', 'manœuvre', 'urbain', 'installations']         |              |\n",
      "| 22 | IMG_20250105_142604.jpg        | photos_victor\\IMG_20250105_142604.jpg        | 2025:01:05 14:26:05 | {1: 'N', 2: (46.0, 48.0, 43.69), 3: 'W', 4: (71.0, 12.0, 17.52), 5: b'\\x00', 6: 37.599, 7: (19.0, 25.0, 46.0), 27: b'ASCII\\x00\\x00\\x00CELLID\\x00', 29: '2025:01:05'} | ['décoration', 'sapin', 'cheminée', 'salon', 'chandelier']             |              |\n",
      "| 23 | IMG_20250105_142818.jpg        | photos_victor\\IMG_20250105_142818.jpg        | 2025:01:05 14:28:18 | {1: 'N', 2: (46.0, 48.0, 43.74), 3: 'W', 4: (71.0, 12.0, 17.6), 5: b'\\x00', 6: 37.599, 7: (19.0, 28.0, 6.0), 27: b'ASCII\\x00\\x00\\x00CELLID\\x00', 29: '2025:01:05'}   | ['chanter', 'jouer', 'chambre', 'sapin', 'costume']                    |              |\n",
      "| 24 | IMG_20250105_144147.jpg        | photos_victor\\IMG_20250105_144147.jpg        | 2025:01:05 14:41:47 | {1: 'N', 2: (46.0, 48.0, 43.43), 3: 'W', 4: (71.0, 12.0, 19.53), 5: b'\\x00', 6: 33.7, 7: (19.0, 41.0, 48.0), 27: b'ASCII\\x00\\x00\\x00CELLID\\x00', 29: '2025:01:05'}   | ['intérieur', 'mobilier', 'lumière', 'plantes', 'espace']              |              |\n",
      "| 25 | IMG_20250105_144436.jpg        | photos_victor\\IMG_20250105_144436.jpg        | 2025:01:05 14:44:36 | {1: 'N', 2: (46.0, 48.0, 43.43), 3: 'W', 4: (71.0, 12.0, 19.53), 5: b'\\x00', 6: 34.5, 7: (19.0, 44.0, 36.0), 27: b'ASCII\\x00\\x00\\x00CELLID\\x00', 29: '2025:01:05'}   | ['luminaires', 'balcon', 'décoration', 'chambre', 'visiteurs']         |              |\n",
      "| 26 | IMG_20250105_144540.jpg        | photos_victor\\IMG_20250105_144540.jpg        | 2025:01:05 14:45:40 | {1: 'N', 2: (46.0, 48.0, 43.31), 3: 'W', 4: (71.0, 12.0, 20.08), 5: b'\\x00', 6: 35.099, 7: (19.0, 45.0, 29.0), 27: b'ASCII\\x00\\x00\\x00CELLID\\x00', 29: '2025:01:05'} | ['marcher', 'discuter', 'salle', 'chandeliers', 'écran']               |              |\n",
      "| 27 | IMG_20250105_144750.jpg        | photos_victor\\IMG_20250105_144750.jpg        | 2025:01:05 14:47:50 | {1: 'N', 2: (46.0, 48.0, 43.31), 3: 'W', 4: (71.0, 12.0, 20.25), 5: b'\\x00', 6: 35.099, 7: (19.0, 47.0, 30.0), 27: b'ASCII\\x00\\x00\\x00CELLID\\x00', 29: '2025:01:05'} | ['suspension', 'cristaux', 'lumière', 'architectural', 'fenêtres']     |              |\n",
      "| 28 | IMG_20250105_145543_BURST1.jpg | photos_victor\\IMG_20250105_145543_BURST1.jpg | 2025:01:05 14:55:42 | {1: 'N', 2: (46.0, 48.0, 43.17), 3: 'W', 4: (71.0, 12.0, 19.66), 5: b'\\x00', 6: 34.2, 7: (19.0, 55.0, 42.0), 27: b'ASCII\\x00\\x00\\x00CELLID\\x00', 29: '2025:01:05'}   | ['regarder', 'plafond', 'lustre', 'décoration', 'salon']               |              |\n",
      "| 29 | IMG_20250105_150144.jpg        | photos_victor\\IMG_20250105_150144.jpg        | 2025:01:05 15:01:45 | {1: 'N', 2: (46.0, 48.0, 43.33), 3: 'W', 4: (71.0, 12.0, 19.84), 5: b'\\x00', 6: 33.4, 7: (20.0, 1.0, 44.0), 27: b'ASCII\\x00\\x00\\x00CELLID\\x00', 29: '2025:01:05'}    | ['pendant', 'lumière', 'drapeaux', 'balustrade', 'plafond']            |              |\n",
      "| 30 | IMG_20250105_150831.jpg        | photos_victor\\IMG_20250105_150831.jpg        | 2025:01:05 15:08:32 | {1: 'N', 2: (46.0, 48.0, 43.99), 3: 'W', 4: (71.0, 12.0, 18.26), 5: b'\\x00', 6: 30.3, 7: (20.0, 8.0, 28.0), 27: b'ASCII\\x00\\x00\\x00CELLID\\x00', 29: '2025:01:05'}    | ['exposition', 'assiettes', 'historique', 'musée', 'dîner']            |              |\n",
      "| 31 | IMG_20250105_150850.jpg        | photos_victor\\IMG_20250105_150850.jpg        | 2025:01:05 15:08:50 | {1: 'N', 2: (46.0, 48.0, 43.9), 3: 'W', 4: (71.0, 12.0, 18.06), 5: b'\\x00', 6: 30.3, 7: (20.0, 8.0, 48.0), 27: b'ASCII\\x00\\x00\\x00CELLID\\x00', 29: '2025:01:05'}     | ['exposition', 'objets', 'textes', 'table', 'histoire']                |              |\n",
      "| 32 | IMG_20250105_151136.jpg        | photos_victor\\IMG_20250105_151136.jpg        | 2025:01:05 15:11:36 | {1: 'N', 2: (46.0, 48.0, 43.89), 3: 'W', 4: (71.0, 12.0, 17.85), 5: b'\\x00', 6: 30.3, 7: (20.0, 11.0, 29.0), 27: b'ASCII\\x00\\x00\\x00CELLID\\x00', 29: '2025:01:05'}   | ['lister', 'vins', 'menu', 'écrire', 'découvrir']                      |              |\n",
      "| 33 | IMG_20250105_151214.jpg        | photos_victor\\IMG_20250105_151214.jpg        | 2025:01:05 15:12:14 | {1: 'N', 2: (46.0, 48.0, 43.36), 3: 'W', 4: (71.0, 12.0, 17.58), 5: b'\\x00', 6: 30.3, 7: (20.0, 12.0, 9.0), 27: b'ASCII\\x00\\x00\\x00CELLID\\x00', 29: '2025:01:05'}    | ['escalier', 'arbres', 'décoration', 'lumières', 'entrée']             |              |\n",
      "| 34 | IMG_20250105_151457.jpg        | photos_victor\\IMG_20250105_151457.jpg        | 2025:01:05 15:14:57 | {1: 'N', 2: (46.0, 48.0, 43.47), 3: 'W', 4: (71.0, 12.0, 17.83), 5: b'\\x00', 6: 33.2, 7: (20.0, 14.0, 50.0), 27: b'ASCII\\x00\\x00\\x00CELLID\\x00', 29: '2025:01:05'}   | ['peinture', 'fleurs', 'couleurs', 'mur', 'décoration']                |              |\n",
      "| 35 | IMG_20250105_151458.jpg        | photos_victor\\IMG_20250105_151458.jpg        | 2025:01:05 15:14:58 | {1: 'N', 2: (46.0, 48.0, 43.47), 3: 'W', 4: (71.0, 12.0, 17.83), 5: b'\\x00', 6: 33.2, 7: (20.0, 14.0, 50.0), 27: b'ASCII\\x00\\x00\\x00CELLID\\x00', 29: '2025:01:05'}   | ['peinture', 'fleurs', 'couleurs', 'mur', 'art']                       |              |\n",
      "| 36 | IMG_20250105_161636.jpg        | photos_victor\\IMG_20250105_161636.jpg        | 2025:01:05 16:16:36 | {1: 'N', 2: (46.0, 48.0, 48.99), 3: 'W', 4: (71.0, 12.0, 11.3), 5: b'\\x01', 6: 14.5, 7: (21.0, 16.0, 31.0), 27: b'ASCII\\x00\\x00\\x00CELLID\\x00', 29: '2025:01:05'}    | ['glisser', 'traîneau', 'neige', 'ville', 'moniteur']                  |              |\n",
      "| 37 | IMG_20250105_165438.jpg        | photos_victor\\IMG_20250105_165438.jpg        | 2025:01:05 16:54:39 | {1: 'N', 2: (46.0, 48.0, 44.34), 3: 'W', 4: (71.0, 12.0, 12.05), 5: b'\\x01', 6: 21.2, 7: (21.0, 54.0, 41.0), 27: b'ASCII\\x00\\x00\\x00CELLID\\x00', 29: '2025:01:05'}   | ['marcher', 'décoration', 'noël', 'rue', 'lumières']                   |              |\n",
      "| 38 | IMG_20250105_165450.jpg        | photos_victor\\IMG_20250105_165450.jpg        | 2025:01:05 16:54:51 | {1: 'N', 2: (46.0, 48.0, 44.58), 3: 'W', 4: (71.0, 12.0, 11.98), 5: b'\\x01', 6: 20.4, 7: (21.0, 54.0, 52.0), 27: b'ASCII\\x00\\x00\\x00CELLID\\x00', 29: '2025:01:05'}   | ['illumination', 'neige', 'décoration', 'restaurant', 'nuit']          |              |\n",
      "| 39 | IMG_20250105_165457.jpg        | photos_victor\\IMG_20250105_165457.jpg        | 2025:01:05 16:54:58 | {1: 'N', 2: (46.0, 48.0, 44.62), 3: 'W', 4: (71.0, 12.0, 12.01), 5: b'\\x01', 6: 17.5, 7: (21.0, 54.0, 57.0), 27: b'ASCII\\x00\\x00\\x00CELLID\\x00', 29: '2025:01:05'}   | ['personne', 'décoration', 'neige', 'magasin', 'nuit']                 |              |\n",
      "| 40 | IMG_20250107_180316.jpg        | photos_victor\\IMG_20250107_180316.jpg        | 2025:01:07 18:03:17 | {1: 'N', 2: (48.0, 25.0, 18.32), 3: 'W', 4: (71.0, 3.0, 14.16), 5: b'\\x00', 6: 56.899, 7: (23.0, 3.0, 15.0), 27: b'ASCII\\x00\\x00\\x00CELLID\\x00', 29: '2025:01:07'}   | ['neige', 'chemin', 'arbre', 'nuit', 'traces']                         |              |\n",
      "| 41 | IMG_20250108_143517.jpg        | photos_victor\\IMG_20250108_143517.jpg        | 2025:01:08 14:35:18 | {1: 'N', 2: (48.0, 24.0, 57.39), 3: 'W', 4: (71.0, 2.0, 46.71), 5: b'\\x00', 6: 66.5, 7: (19.0, 35.0, 21.0), 27: b'ASCII\\x00\\x00\\x00CELLID\\x00', 29: '2025:01:08'}    | ['manger', 'hamburger', 'frites', 'salade', 'boisson']                 |              |\n",
      "| 42 | IMG_20250109_174849.jpg        | photos_victor\\IMG_20250109_174849.jpg        | 2025:01:09 17:48:49 | {1: 'N', 2: (48.0, 25.0, 33.31), 3: 'W', 4: (71.0, 4.0, 13.44), 5: b'\\x00', 6: 0.0, 7: (22.0, 48.0, 47.0), 27: b'ASCII\\x00\\x00\\x00CELLID\\x00', 29: '2025:01:09'}     | ['canettes', 'bière', 'étagère', 'magasin', 'étiquettes']              |              |\n",
      "| 43 | IMG_20250110_163528.jpg        | photos_victor\\IMG_20250110_163528.jpg        | 2025:01:10 16:35:29 | {1: 'N', 2: (48.0, 24.0, 59.05), 3: 'W', 4: (71.0, 2.0, 43.08), 5: b'\\x00', 6: 60.936, 7: (21.0, 35.0, 31.0), 27: b'ASCII\\x00\\x00\\x00GPS\\x00', 29: '2025:01:10'}     | ['reflet', 'micro-brasserie', 'personnes', 'photo', 'porte']           |              |\n",
      "| 44 | IMG_20250110_164345.jpg        | photos_victor\\IMG_20250110_164345.jpg        | 2025:01:10 16:43:46 | {1: 'N', 2: (48.0, 24.0, 59.88), 3: 'W', 4: (71.0, 2.0, 44.46), 5: b'\\x00', 6: 0.0, 7: (21.0, 43.0, 43.0), 27: b'ASCII\\x00\\x00\\x00CELLID\\x00', 29: '2025:01:10'}     | ['verre', 'bière', 'table', 'boisson', 'menu']                         |              |\n",
      "| 45 | IMG_20250111_152149.jpg        | photos_victor\\IMG_20250111_152149.jpg        | 2025:01:11 15:21:49 | {1: 'N', 2: (48.0, 24.0, 18.55), 3: 'W', 4: (71.0, 3.0, 24.87), 5: b'\\x00', 6: 0.0, 7: (20.0, 21.0, 33.0), 27: b'ASCII\\x00\\x00\\x00CELLID\\x00', 29: '2025:01:11'}     | ['skier', 'neige', 'piste', 'groupe', 'bâtons']                        |              |\n",
      "| 46 | IMG_20250111_152150.jpg        | photos_victor\\IMG_20250111_152150.jpg        | 2025:01:11 15:21:50 | {1: 'N', 2: (48.0, 24.0, 18.55), 3: 'W', 4: (71.0, 3.0, 24.87), 5: b'\\x00', 6: 0.0, 7: (20.0, 21.0, 33.0), 27: b'ASCII\\x00\\x00\\x00CELLID\\x00', 29: '2025:01:11'}     | ['ski', 'groupe', 'neige', 'randonnée', 'nature']                      |              |\n",
      "| 47 | IMG_20250111_154046.jpg        | photos_victor\\IMG_20250111_154046.jpg        | 2025:01:11 15:40:46 | {1: 'N', 2: (48.0, 23.0, 22.08), 3: 'W', 4: (71.0, 2.0, 40.32), 5: b'\\x00', 6: 0.0, 7: (20.0, 40.0, 32.0), 27: b'ASCII\\x00\\x00\\x00CELLID\\x00', 29: '2025:01:11'}     | ['ski', 'groupe', 'neige', 'extérieur', 'sourire']                     |              |\n",
      "| 48 | IMG_20250113_143633.jpg        | photos_victor\\IMG_20250113_143633.jpg        | 2025:01:13 14:36:33 | {1: 'N', 2: (48.0, 23.0, 1.02), 3: 'W', 4: (71.0, 4.0, 59.88), 5: b'\\x00', 6: 116.699, 7: (19.0, 36.0, 28.0), 27: b'ASCII\\x00\\x00\\x00CELLID\\x00', 29: '2025:01:13'}  | ['faire des courses', 'chariot', 'fruits', 'sac', 'légumes']           |              |\n",
      "| 49 | IMG_20250113_143716.jpg        | photos_victor\\IMG_20250113_143716.jpg        | 2025:01:13 14:37:16 | {1: 'N', 2: (48.0, 23.0, 0.75), 3: 'W', 4: (71.0, 4.0, 59.58), 5: b'\\x00', 6: 116.699, 7: (19.0, 36.0, 59.0), 27: b'ASCII\\x00\\x00\\x00CELLID\\x00', 29: '2025:01:13'}  | ['faire des courses', 'panier', 'fruits', 'sac', 'supermarché']        |              |\n",
      "| 50 | IMG_20250113_145037.jpg        | photos_victor\\IMG_20250113_145037.jpg        | 2025:01:13 14:50:37 | {1: 'N', 2: (48.0, 23.0, 0.4), 3: 'W', 4: (71.0, 5.0, 0.24), 5: b'\\x00', 6: 116.599, 7: (19.0, 50.0, 31.0), 27: b'ASCII\\x00\\x00\\x00CELLID\\x00', 29: '2025:01:13'}    | ['prix', 'haricots', 'bio', 'surgelés', 'magasin']                     |              |\n",
      "| 51 | IMG_20250113_150228.jpg        | photos_victor\\IMG_20250113_150228.jpg        | 2025:01:13 15:02:29 | {1: 'N', 2: (48.0, 22.0, 59.35), 3: 'W', 4: (71.0, 5.0, 1.62), 5: b'\\x00', 6: 116.699, 7: (20.0, 2.0, 26.0), 27: b'ASCII\\x00\\x00\\x00CELLID\\x00', 29: '2025:01:13'}   | ['faire des courses', 'chariot', 'aliments', 'supermarché', 'acheter'] |              |\n",
      "| 52 | IMG_20250113_201010.jpg        | photos_victor\\IMG_20250113_201010.jpg        | 2025:01:13 20:10:11 | {1: 'N', 2: (48.0, 25.0, 30.81), 3: 'W', 4: (71.0, 4.0, 2.26), 5: b'\\x00', 6: 7.8, 7: (1.0, 10.0, 8.0), 27: b'ASCII\\x00\\x00\\x00CELLID\\x00', 29: '2025:01:14'}        | ['manger', 'riz', 'courgettes', 'plat', 'table']                       |              |\n",
      "| 53 | IMG_20250114_193654.jpg        | photos_victor\\IMG_20250114_193654.jpg        | 2025:01:14 19:36:55 | {}                                                                                                                                                                   | ['manger', 'hamburger', 'fromage', 'cornichons', 'assiette']           |              |\n",
      "| 54 | IMG_20250117_131914.jpg        | photos_victor\\IMG_20250117_131914.jpg        | 2025:01:17 13:19:15 | {}                                                                                                                                                                   | ['manger', 'riz', 'légumes', 'viande', 'assiette']                     |              |\n",
      "| 55 | IMG_20250118_185321.jpg        | photos_victor\\IMG_20250118_185321.jpg        | 2025:01:18 18:53:22 | {1: 'N', 2: (48.0, 24.0, 57.28), 3: 'W', 4: (71.0, 2.0, 46.87), 5: b'\\x00', 6: 66.8, 7: (23.0, 53.0, 17.0), 27: b'ASCII\\x00\\x00\\x00CELLID\\x00', 29: '2025:01:18'}    | ['manger', 'pizza', 'spaghetti', 'sauce', 'restaurant']                |              |\n",
      "| 56 | IMG_20250119_131124_BURST1.jpg | photos_victor\\IMG_20250119_131124_BURST1.jpg | 2025:01:19 13:11:23 | {1: 'N', 2: (48.0, 25.0, 0.36), 3: 'W', 4: (71.0, 3.0, 52.35), 5: b'\\x00', 6: 66.871, 7: (18.0, 11.0, 21.0), 27: b'ASCII\\x00\\x00\\x00GPS\\x00', 29: '2025:01:19'}      | ['neige', 'arbres', 'parc', 'lampadaire', 'aire de jeux']              |              |\n",
      "| 57 | IMG_20250119_131214_BURST1.jpg | photos_victor\\IMG_20250119_131214_BURST1.jpg | 2025:01:19 13:12:13 | {1: 'N', 2: (48.0, 25.0, 3.5), 3: 'W', 4: (71.0, 3.0, 46.03), 5: b'\\x00', 6: 57.632, 7: (18.0, 12.0, 11.0), 27: b'ASCII\\x00\\x00\\x00GPS\\x00', 29: '2025:01:19'}       | ['glisser', 'neige', 'parc', 'arbres', 'aire de jeux']                 |              |\n",
      "| 58 | IMG_20250119_131317.jpg        | photos_victor\\IMG_20250119_131317.jpg        | 2025:01:19 13:13:18 | {1: 'N', 2: (48.0, 25.0, 5.47), 3: 'W', 4: (71.0, 3.0, 47.65), 5: b'\\x00', 6: 55.899, 7: (18.0, 13.0, 7.0), 27: b'ASCII\\x00\\x00\\x00CELLID\\x00', 29: '2025:01:19'}    | ['affichage', 'enseigne', 'information', 'bâtiment', 'instructions']   |              |\n",
      "| 59 | IMG_20250119_131334_BURST1.jpg | photos_victor\\IMG_20250119_131334_BURST1.jpg | 2025:01:19 13:13:33 | {1: 'N', 2: (48.0, 25.0, 0.34), 3: 'W', 4: (71.0, 4.0, 2.87), 5: b'\\x00', 6: 51.099, 7: (18.0, 13.0, 28.0), 27: b'ASCII\\x00\\x00\\x00CELLID\\x00', 29: '2025:01:19'}    | ['patiner', 'neige', 'parc', 'répétition', 'enfants']                  |              |\n",
      "| 60 | IMG_20250119_131335.jpg        | photos_victor\\IMG_20250119_131335.jpg        | 2025:01:19 13:13:35 | {1: 'N', 2: (48.0, 25.0, 0.34), 3: 'W', 4: (71.0, 4.0, 2.87), 5: b'\\x00', 6: 51.099, 7: (18.0, 13.0, 28.0), 27: b'ASCII\\x00\\x00\\x00CELLID\\x00', 29: '2025:01:19'}    | ['patiner', 'neige', 'parc', 'enfants', 'lampadaire']                  |              |\n",
      "| 61 | IMG_20250119_131815_BURST1.jpg | photos_victor\\IMG_20250119_131815_BURST1.jpg | 2025:01:19 13:18:14 | {1: 'N', 2: (48.0, 25.0, 0.86), 3: 'W', 4: (71.0, 4.0, 3.32), 5: b'\\x00', 6: 51.099, 7: (18.0, 18.0, 12.0), 27: b'ASCII\\x00\\x00\\x00CELLID\\x00', 29: '2025:01:19'}    | ['marcher', 'neige', 'sentier', 'arbres', 'hiver']                     |              |\n",
      "| 62 | IMG_20250122_093940.jpg        | photos_victor\\IMG_20250122_093940.jpg        | 2025:01:22 09:39:41 | {1: 'N', 2: (48.0, 25.0, 30.81), 3: 'W', 4: (71.0, 4.0, 2.12), 5: b'\\x01', 6: 19.6, 7: (14.0, 39.0, 39.0), 27: b'ASCII\\x00\\x00\\x00CELLID\\x00', 29: '2025:01:22'}     | ['afficher', 'température', 'intérieur', 'extérieur', 'horloge']       |              |\n",
      "| 63 | IMG_20250122_155558.jpg        | photos_victor\\IMG_20250122_155558.jpg        | 2025:01:22 15:55:59 | {1: 'N', 2: (48.0, 24.0, 22.71), 3: 'W', 4: (71.0, 3.0, 13.79), 5: b'\\x00', 6: 80.699, 7: (20.0, 55.0, 56.0), 27: b'ASCII\\x00\\x00\\x00CELLID\\x00', 29: '2025:01:22'}  | ['numéro', 'ticket', 'impression', 'papier', 'sol']                    |              |\n",
      "| 64 | IMG_20250122_162438.jpg        | photos_victor\\IMG_20250122_162438.jpg        | 2025:01:22 16:24:38 | {1: 'N', 2: (48.0, 24.0, 22.63), 3: 'W', 4: (71.0, 3.0, 13.63), 5: b'\\x00', 6: 81.099, 7: (21.0, 24.0, 35.0), 27: b'ASCII\\x00\\x00\\x00CELLID\\x00', 29: '2025:01:22'}  | ['étiquette', 'numéro', 'impression', 'sol', 'métal']                  |              |\n",
      "| 65 | IMG_20250124_092053.jpg        | photos_victor\\IMG_20250124_092053.jpg        | 2025:01:24 09:20:53 | {1: 'N', 2: (48.0, 25.0, 30.42), 3: 'W', 4: (71.0, 4.0, 2.25), 5: b'\\x01', 6: 19.1, 7: (14.0, 20.0, 47.0), 27: b'ASCII\\x00\\x00\\x00CELLID\\x00', 29: '2025:01:24'}     | ['skis', 'voiture', 'montagne', 'neige', 'soleil']                     |              |\n",
      "| 66 | IMG_20250124_092101.jpg        | photos_victor\\IMG_20250124_092101.jpg        | 2025:01:24 09:21:01 | {1: 'N', 2: (48.0, 25.0, 30.47), 3: 'W', 4: (71.0, 4.0, 2.31), 5: b'\\x01', 6: 19.1, 7: (14.0, 21.0, 0.0), 27: b'ASCII\\x00\\x00\\x00CELLID\\x00', 29: '2025:01:24'}      | ['conduire', 'skis', 'voiture', 'intérieur', 'voyage']                 |              |\n",
      "| 67 | IMG_20250124_092335.jpg        | photos_victor\\IMG_20250124_092335.jpg        | 2025:01:24 09:23:35 | {1: 'N', 2: (48.0, 25.0, 30.44), 3: 'W', 4: (71.0, 4.0, 2.18), 5: b'\\x01', 6: 19.1, 7: (14.0, 23.0, 21.0), 27: b'ASCII\\x00\\x00\\x00CELLID\\x00', 29: '2025:01:24'}     | ['écran', 'voiture', 'tachymètre', 'indicateurs', 'heure']             |              |\n",
      "| 68 | IMG_20250124_122637.jpg        | photos_victor\\IMG_20250124_122637.jpg        | 2025:01:24 12:26:38 | {1: 'N', 2: (48.0, 24.0, 8.12), 3: 'W', 4: (71.0, 3.0, 40.32), 5: b'\\x00', 6: 76.921, 7: (17.0, 26.0, 38.0), 27: b'ASCII\\x00\\x00\\x00GPS\\x00', 29: '2025:01:24'}      | ['manger', 'salade', 'poulet', 'boisson', 'restaurant']                |              |\n",
      "| 69 | IMG_20250217_082849.jpg        | photos_victor\\IMG_20250217_082849.jpg        | 2025:02:17 08:28:49 | {1: 'N', 2: (48.0, 25.0, 27.83), 3: 'W', 4: (71.0, 3.0, 17.51), 5: b'\\x00', 6: 47.318, 7: (13.0, 28.0, 47.0), 27: b'ASCII\\x00\\x00\\x00GPS\\x00', 29: '2025:02:17'}     | ['neige', 'voiture', 'route', 'piles de neige', 'tempête']             |              |\n",
      "| 70 | IMG_20250217_082926.jpg        | photos_victor\\IMG_20250217_082926.jpg        | 2025:02:17 08:29:27 | {1: 'N', 2: (48.0, 25.0, 37.42), 3: 'W', 4: (71.0, 3.0, 9.59), 5: b'\\x00', 6: 0.0, 7: (13.0, 29.0, 24.0), 27: b'ASCII\\x00\\x00\\x00CELLID\\x00', 29: '2025:02:17'}      | ['neige', 'arbres', 'bennes', 'hiver', 'paysage']                      |              |\n",
      "| 71 | IMG_20250217_082952.jpg        | photos_victor\\IMG_20250217_082952.jpg        | 2025:02:17 08:29:52 | {1: 'N', 2: (48.0, 25.0, 26.61), 3: 'W', 4: (71.0, 3.0, 16.49), 5: b'\\x00', 6: 48.2, 7: (13.0, 29.0, 42.0), 27: b'ASCII\\x00\\x00\\x00CELLID\\x00', 29: '2025:02:17'}    | ['marcher', 'neige', 'route', 'monticule', 'télécommunications']       |              |\n",
      "| 72 | IMG_20250217_082956.jpg        | photos_victor\\IMG_20250217_082956.jpg        | 2025:02:17 08:29:56 | {1: 'N', 2: (48.0, 25.0, 26.61), 3: 'W', 4: (71.0, 3.0, 16.49), 5: b'\\x00', 6: 48.2, 7: (13.0, 29.0, 42.0), 27: b'ASCII\\x00\\x00\\x00CELLID\\x00', 29: '2025:02:17'}    | ['marcher', 'neige', 'téléphone', 'signal', 'arbre']                   |              |\n",
      "| 73 | IMG_20250217_083141.jpg        | photos_victor\\IMG_20250217_083141.jpg        | 2025:02:17 08:31:42 | {1: 'N', 2: (48.0, 25.0, 26.64), 3: 'W', 4: (71.0, 3.0, 16.32), 5: b'\\x00', 6: 54.099, 7: (13.0, 31.0, 41.0), 27: b'ASCII\\x00\\x00\\x00CELLID\\x00', 29: '2025:02:17'}  | ['femme', 'se tenir', 'neige', 'photographier', 'hiver']               |              |\n",
      "| 74 | IMG_20250218_184256.jpg        | photos_victor\\IMG_20250218_184256.jpg        | 2025:02:18 18:42:57 | {1: 'N', 2: (48.0, 25.0, 23.88), 3: 'W', 4: (71.0, 3.0, 6.67), 5: b'\\x00', 6: 49.099, 7: (23.0, 42.0, 53.0), 27: b'ASCII\\x00\\x00\\x00CELLID\\x00', 29: '2025:02:18'}   | ['neige', 'marcher', 'arbres', 'nuit', 'chemin']                       |              |\n",
      "| 75 | IMG_20250218_184300.jpg        | photos_victor\\IMG_20250218_184300.jpg        | 2025:02:18 18:43:00 | {1: 'N', 2: (48.0, 25.0, 23.88), 3: 'W', 4: (71.0, 3.0, 6.67), 5: b'\\x00', 6: 49.099, 7: (23.0, 42.0, 53.0), 27: b'ASCII\\x00\\x00\\x00CELLID\\x00', 29: '2025:02:18'}   | ['marcher', 'neige', 'forêt', 'sentier', 'nuit']                       |              |\n",
      "| 76 | IMG_20250219_082942.jpg        | photos_victor\\IMG_20250219_082942.jpg        | 2025:02:19 08:29:43 | {1: 'N', 2: (48.0, 25.0, 30.45), 3: 'W', 4: (71.0, 4.0, 2.19), 5: b'\\x01', 6: 18.7, 7: (13.0, 29.0, 42.0), 27: b'ASCII\\x00\\x00\\x00CELLID\\x00', 29: '2025:02:19'}     | ['neige', 'voitures', 'couverts', 'jardin', 'hiver']                   |              |\n",
      "| 77 | IMG_20250219_082954.jpg        | photos_victor\\IMG_20250219_082954.jpg        | 2025:02:19 08:29:54 | {1: 'N', 2: (48.0, 25.0, 30.45), 3: 'W', 4: (71.0, 4.0, 2.19), 5: b'\\x01', 6: 18.7, 7: (13.0, 29.0, 42.0), 27: b'ASCII\\x00\\x00\\x00CELLID\\x00', 29: '2025:02:19'}     | ['neige', 'voitures', 'couvrir', 'gel', 'hiver']                       |              |\n",
      "| 78 | IMG_20250219_083342.jpg        | photos_victor\\IMG_20250219_083342.jpg        | 2025:02:19 08:33:42 | {1: 'N', 2: (48.0, 25.0, 30.29), 3: 'W', 4: (71.0, 4.0, 2.37), 5: b'\\x01', 6: 18.7, 7: (13.0, 33.0, 39.0), 27: b'ASCII\\x00\\x00\\x00CELLID\\x00', 29: '2025:02:19'}     | ['neige', 'voiture', 'gel', 'stationnement', 'obstacle']               |              |\n",
      "| 79 | IMG_20250219_085328.jpg        | photos_victor\\IMG_20250219_085328.jpg        | 2025:02:19 08:53:29 | {1: 'N', 2: (48.0, 25.0, 10.4), 3: 'W', 4: (71.0, 3.0, 21.7), 5: b'\\x00', 6: 57.099, 7: (13.0, 53.0, 26.0), 27: b'ASCII\\x00\\x00\\x00CELLID\\x00', 29: '2025:02:19'}    | ['neige', 'stationnement', 'voitures', 'route', 'bâtiment']            |              |\n",
      "| 80 | IMG_20250220_085521.jpg        | photos_victor\\IMG_20250220_085521.jpg        | 2025:02:20 08:55:21 | {1: 'N', 2: (48.0, 25.0, 26.68), 3: 'W', 4: (71.0, 3.0, 14.99), 5: b'\\x00', 6: 54.099, 7: (13.0, 55.0, 19.0), 27: b'ASCII\\x00\\x00\\x00CELLID\\x00', 29: '2025:02:20'}  | ['neige', 'route', 'personne', 'église', 'hiver']                      |              |\n",
      "| 81 | IMG_20250220_085523.jpg        | photos_victor\\IMG_20250220_085523.jpg        | 2025:02:20 08:55:24 | {1: 'N', 2: (48.0, 25.0, 26.68), 3: 'W', 4: (71.0, 3.0, 14.99), 5: b'\\x00', 6: 54.099, 7: (13.0, 55.0, 19.0), 27: b'ASCII\\x00\\x00\\x00CELLID\\x00', 29: '2025:02:20'}  | ['neige', 'balayage', 'route', 'église', 'hiver']                      |              |\n",
      "| 82 | IMG_20250220_085526.jpg        | photos_victor\\IMG_20250220_085526.jpg        | 2025:02:20 08:55:26 | {1: 'N', 2: (48.0, 25.0, 26.68), 3: 'W', 4: (71.0, 3.0, 14.99), 5: b'\\x00', 6: 54.099, 7: (13.0, 55.0, 19.0), 27: b'ASCII\\x00\\x00\\x00CELLID\\x00', 29: '2025:02:20'}  | ['pelleteuse', 'neige', 'rue', 'église', 'personne']                   |              |\n",
      "| 83 | IMG_20250221_101424.jpg        | photos_victor\\IMG_20250221_101424.jpg        | 2025:02:21 10:14:24 | {1: 'N', 2: (48.0, 25.0, 11.53), 3: 'W', 4: (71.0, 3.0, 9.94), 5: b'\\x00', 6: 74.8, 7: (15.0, 14.0, 27.0), 27: b'ASCII\\x00\\x00\\x00CELLID\\x00', 29: '2025:02:21'}     | ['écriture', 'tableau', 'concepts', 'schémas', 'calculs']              |              |\n",
      "| 84 | IMG_20250221_155338.jpg        | photos_victor\\IMG_20250221_155338.jpg        | 2025:02:21 15:53:38 | {1: 'N', 2: (48.0, 25.0, 13.31), 3: 'W', 4: (71.0, 3.0, 12.03), 5: b'\\x00', 6: 59.399, 7: (20.0, 53.0, 31.0), 27: b'ASCII\\x00\\x00\\x00CELLID\\x00', 29: '2025:02:21'}  | ['acheter', 'lait', 'réfrigérateur', 'produits', 'consommer']          |              |\n",
      "| 85 | IMG_20250222_113748.jpg        | photos_victor\\IMG_20250222_113748.jpg        | 2025:02:22 11:37:48 | {1: 'N', 2: (48.0, 23.0, 29.89), 3: 'W', 4: (71.0, 2.0, 58.8), 5: b'\\x00', 6: 0.0, 7: (16.0, 37.0, 47.0), 27: b'ASCII\\x00\\x00\\x00CELLID\\x00', 29: '2025:02:22'}      | ['neige', 'forêt', 'ciel', 'rivière', 'soleil']                        |              |\n",
      "| 86 | IMG_20250222_113756.jpg        | photos_victor\\IMG_20250222_113756.jpg        | 2025:02:22 11:37:57 | {1: 'N', 2: (48.0, 23.0, 29.89), 3: 'W', 4: (71.0, 2.0, 58.8), 5: b'\\x00', 6: 0.0, 7: (16.0, 37.0, 52.0), 27: b'ASCII\\x00\\x00\\x00CELLID\\x00', 29: '2025:02:22'}      | ['neige', 'piste', 'arbre', 'ciel', 'traces']                          |              |\n",
      "| 87 | IMG_20250222_113802.jpg        | photos_victor\\IMG_20250222_113802.jpg        | 2025:02:22 11:38:02 | {1: 'N', 2: (48.0, 23.0, 29.89), 3: 'W', 4: (71.0, 2.0, 58.8), 5: b'\\x00', 6: 0.0, 7: (16.0, 38.0, 2.0), 27: b'ASCII\\x00\\x00\\x00CELLID\\x00', 29: '2025:02:22'}       | ['skis', 'bâtons', 'neige', 'randonnée', \"sports d'hiver\"]             |              |\n",
      "| 88 | IMG_20250222_115044.jpg        | photos_victor\\IMG_20250222_115044.jpg        | 2025:02:22 11:50:44 | {1: 'N', 2: (48.0, 23.0, 29.89), 3: 'W', 4: (71.0, 2.0, 58.8), 5: b'\\x00', 6: 0.0, 7: (16.0, 50.0, 43.0), 27: b'ASCII\\x00\\x00\\x00CELLID\\x00', 29: '2025:02:22'}      | ['ski', 'neige', 'forêt', 'piste', 'hiver']                            |              |\n",
      "| 89 | IMG_20250222_115520.jpg        | photos_victor\\IMG_20250222_115520.jpg        | 2025:02:22 11:55:20 | {1: 'N', 2: (48.0, 23.0, 37.94), 3: 'W', 4: (71.0, 4.0, 27.04), 5: b'\\x00', 6: 0.0, 7: (16.0, 55.0, 16.0), 27: b'ASCII\\x00\\x00\\x00CELLID\\x00', 29: '2025:02:22'}     | ['neige', 'piste', 'arbre', 'détente', 'hiver']                        |              |\n",
      "| 90 | IMG_20250222_121148.jpg        | photos_victor\\IMG_20250222_121148.jpg        | 2025:02:22 12:11:48 | {1: 'N', 2: (48.0, 24.0, 5.54), 3: 'W', 4: (71.0, 3.0, 3.15), 5: b'\\x00', 6: 0.0, 7: (17.0, 11.0, 46.0), 27: b'ASCII\\x00\\x00\\x00CELLID\\x00', 29: '2025:02:22'}       | ['observer', 'neige', 'rivière', 'pont', 'nature']                     |              |\n",
      "| 91 | IMG_20250222_121156.jpg        | photos_victor\\IMG_20250222_121156.jpg        | 2025:02:22 12:11:57 | {1: 'N', 2: (48.0, 24.0, 9.7), 3: 'W', 4: (71.0, 3.0, 7.1), 5: b'\\x00', 6: 0.0, 7: (17.0, 11.0, 56.0), 27: b'ASCII\\x00\\x00\\x00CELLID\\x00', 29: '2025:02:22'}         | ['marcher', 'photographier', 'neige', 'casque', 'nature']              |              |\n",
      "| 92 | IMG_20250222_134940.jpg        | photos_victor\\IMG_20250222_134940.jpg        | 2025:02:22 13:49:40 | {1: 'N', 2: (48.0, 24.0, 57.48), 3: 'W', 4: (71.0, 2.0, 46.7), 5: b'\\x00', 6: 67.3, 7: (18.0, 49.0, 37.0), 27: b'ASCII\\x00\\x00\\x00CELLID\\x00', 29: '2025:02:22'}     | ['manger', 'poutine', 'frites', 'fromage', 'restaurant']               |              |\n",
      "| 93 | IMG_20250222_171439.jpg        | photos_victor\\IMG_20250222_171439.jpg        | 2025:02:22 17:14:40 | {1: 'N', 2: (48.0, 25.0, 30.47), 3: 'W', 4: (71.0, 4.0, 2.17), 5: b'\\x01', 6: 18.7, 7: (22.0, 14.0, 35.0), 27: b'ASCII\\x00\\x00\\x00CELLID\\x00', 29: '2025:02:22'}     | ['déballer', 'courses', 'cuisine', 'table', 'organiser']               |              |\n",
      "| 94 | IMG_20250222_221529.jpg        | photos_victor\\IMG_20250222_221529.jpg        | 2025:02:22 22:15:30 | {}                                                                                                                                                                   | ['couper', 'saucisse', 'fromage', 'pain', 'table']                     |              |\n",
      "| 95 | IMG_20250222_221833.jpg        | photos_victor\\IMG_20250222_221833.jpg        | 2025:02:22 22:18:33 | {}                                                                                                                                                                   | ['découper', 'fromage', 'saucisson', 'table', 'collation']             |              |\n",
      "| 96 | IMG_20250224_144236.jpg        | photos_victor\\IMG_20250224_144236.jpg        | 2025:02:24 14:42:37 | {1: 'N', 2: (48.0, 25.0, 11.0), 3: 'W', 4: (71.0, 3.0, 10.09), 5: b'\\x00', 6: 75.599, 7: (19.0, 42.0, 35.0), 27: b'ASCII\\x00\\x00\\x00CELLID\\x00', 29: '2025:02:24'}   | ['écriture', 'tableau blanc', 'schéma', 'mathématiques', 'équations']  |              |\n",
      "| 97 | IMG_20250228_085044.jpg        | photos_victor\\IMG_20250228_085044.jpg        | 2025:02:28 08:50:44 | {1: 'N', 2: (48.0, 25.0, 11.35), 3: 'W', 4: (71.0, 3.0, 10.04), 5: b'\\x00', 6: 74.8, 7: (13.0, 50.0, 37.0), 27: b'ASCII\\x00\\x00\\x00CELLID\\x00', 29: '2025:02:28'}    | ['routeur', 'écran', 'câble', 'bureau', 'avertissement']               |              |\n",
      "| 98 | IMG_20250228_085048.jpg        | photos_victor\\IMG_20250228_085048.jpg        | 2025:02:28 08:50:48 | {1: 'N', 2: (48.0, 25.0, 11.35), 3: 'W', 4: (71.0, 3.0, 10.04), 5: b'\\x00', 6: 74.8, 7: (13.0, 50.0, 37.0), 27: b'ASCII\\x00\\x00\\x00CELLID\\x00', 29: '2025:02:28'}    | ['routeur', 'antenne', 'câble', 'bureau', 'connectivité']              |              |\n",
      "+----+--------------------------------+----------------------------------------------+---------------------+----------------------------------------------------------------------------------------------------------------------------------------------------------------------+------------------------------------------------------------------------+--------------+\n"
     ]
    }
   ],
   "execution_count": 406
  },
  {
   "metadata": {
    "ExecuteTime": {
     "end_time": "2025-03-12T20:51:58.419680Z",
     "start_time": "2025-03-12T20:51:58.413093Z"
    }
   },
   "cell_type": "code",
   "source": "copy_image_data = image_data.copy()",
   "id": "e02aab71493f884f",
   "outputs": [],
   "execution_count": 426
  },
  {
   "metadata": {
    "ExecuteTime": {
     "end_time": "2025-03-12T20:51:58.708521Z",
     "start_time": "2025-03-12T20:51:58.700129Z"
    }
   },
   "cell_type": "code",
   "source": [
    "def checking_all_categories(df):\n",
    "    keywords_empty_categories = {}\n",
    "    none_possibilities = [None, \"\", [], \"None\", [\"None\"]]\n",
    "    for row in df.itertuples():\n",
    "        check = row.categories\n",
    "        if isinstance(check, float) and pd.isna(check):\n",
    "            keywords_empty_categories.update({row.image_name: row.keywords})\n",
    "        elif check in none_possibilities:\n",
    "            keywords_empty_categories.update({row.image_name: row.keywords})\n",
    "\n",
    "    return keywords_empty_categories"
   ],
   "id": "171fc11fb643ea9d",
   "outputs": [],
   "execution_count": 427
  },
  {
   "metadata": {
    "ExecuteTime": {
     "end_time": "2025-03-12T20:51:59.082742Z",
     "start_time": "2025-03-12T20:51:59.076780Z"
    }
   },
   "cell_type": "code",
   "source": [
    "def get_cat_list(df):\n",
    "    cat_list = []\n",
    "    for row in df.itertuples():\n",
    "        if row.categories not in cat_list:\n",
    "            cat_list.append(row.categories)\n",
    "\n",
    "    return cat_list"
   ],
   "id": "ac2412fa53f62e51",
   "outputs": [],
   "execution_count": 428
  },
  {
   "metadata": {
    "ExecuteTime": {
     "end_time": "2025-03-12T20:51:59.860399Z",
     "start_time": "2025-03-12T20:51:59.853915Z"
    }
   },
   "cell_type": "code",
   "source": [
    "def categories_call(df, keywords, limit_size, cat_list):\n",
    "    total_categories_tokens = 0\n",
    "    for i in range(0, len(keywords), limit_size):\n",
    "        interval = [i, min(i + limit_size, len(df))]\n",
    "        subset_keys = list(keywords.keys())[interval[0]:interval[1]]\n",
    "\n",
    "        subset_keywords = {key: keywords[key] for key in subset_keys}\n",
    "        #print(f\"Keywords : {subset_keywords}\")\n",
    "\n",
    "        categories_output, categories_tokens = chat_get_categories(subset_keywords, cat_list)\n",
    "\n",
    "        print(f\"Categories : {categories_output}\")\n",
    "        total_categories_tokens += categories_tokens\n",
    "\n",
    "        df = add_categories_to_df(df, categories_output)\n",
    "        cat_list = get_cat_list(df)\n",
    "        print(f\"Liste des categories : {cat_list}\")\n",
    "\n",
    "    return df, total_categories_tokens"
   ],
   "id": "f4a41e329178a26d",
   "outputs": [],
   "execution_count": 429
  },
  {
   "metadata": {
    "ExecuteTime": {
     "end_time": "2025-03-12T20:53:17.757981Z",
     "start_time": "2025-03-12T20:53:17.753628Z"
    }
   },
   "cell_type": "code",
   "source": [
    "def pipeline_categories(image_data, limit_size=200):\n",
    "    new_keywords = image_data.set_index(\"image_name\")[\"keywords\"].to_dict()\n",
    "    #print(new_keywords)\n",
    "    total_categories_tokens = 0\n",
    "    cat_list = [\"Paysage\", \"Ville\", \"Plage\", \"Randonnée\", \"Sport\", \"Musée\", \"Restaurant\"]\n",
    "\n",
    "    all_categories = False\n",
    "    only_once = True\n",
    "\n",
    "    while not all_categories:\n",
    "        image_data, categories_tokens = categories_call(image_data, new_keywords, limit_size, cat_list)\n",
    "        total_categories_tokens += categories_tokens\n",
    "\n",
    "        if only_once:\n",
    "            image_data.loc[1, \"categories\"] = None\n",
    "            only_once = False\n",
    "\n",
    "\n",
    "        new_keywords = checking_all_categories(image_data)\n",
    "        print(f\"Kewords à repasser après checking : {new_keywords}\")\n",
    "        cat_list = get_cat_list(image_data)\n",
    "\n",
    "        if not new_keywords:\n",
    "            all_categories = True\n",
    "\n",
    "\n",
    "    return image_data, total_categories_tokens"
   ],
   "id": "f0fa26ead8957b75",
   "outputs": [],
   "execution_count": 432
  },
  {
   "metadata": {
    "ExecuteTime": {
     "end_time": "2025-03-12T20:53:19.752891Z",
     "start_time": "2025-03-12T20:53:18.091690Z"
    }
   },
   "cell_type": "code",
   "source": "copy_image_data, categories_tokens = pipeline_categories(copy_image_data, 50)",
   "id": "6b9eaa330ea7cd2d",
   "outputs": [
    {
     "name": "stdout",
     "output_type": "stream",
     "text": [
      "Erreur OpenAI : Error code: 429 - {'error': {'message': 'You exceeded your current quota, please check your plan and billing details. For more information on this error, read the docs: https://platform.openai.com/docs/guides/error-codes/api-errors.', 'type': 'insufficient_quota', 'param': None, 'code': 'insufficient_quota'}}\n",
      "Categories : -1\n"
     ]
    },
    {
     "ename": "TypeError",
     "evalue": "unsupported operand type(s) for +=: 'int' and 'NoneType'",
     "output_type": "error",
     "traceback": [
      "\u001B[1;31m---------------------------------------------------------------------------\u001B[0m",
      "\u001B[1;31mTypeError\u001B[0m                                 Traceback (most recent call last)",
      "Cell \u001B[1;32mIn[433], line 1\u001B[0m\n\u001B[1;32m----> 1\u001B[0m copy_image_data, categories_tokens \u001B[38;5;241m=\u001B[39m \u001B[43mpipeline_categories\u001B[49m\u001B[43m(\u001B[49m\u001B[43mcopy_image_data\u001B[49m\u001B[43m,\u001B[49m\u001B[43m \u001B[49m\u001B[38;5;241;43m50\u001B[39;49m\u001B[43m)\u001B[49m\n",
      "Cell \u001B[1;32mIn[432], line 11\u001B[0m, in \u001B[0;36mpipeline_categories\u001B[1;34m(image_data, limit_size)\u001B[0m\n\u001B[0;32m      8\u001B[0m only_once \u001B[38;5;241m=\u001B[39m \u001B[38;5;28;01mTrue\u001B[39;00m\n\u001B[0;32m     10\u001B[0m \u001B[38;5;28;01mwhile\u001B[39;00m \u001B[38;5;129;01mnot\u001B[39;00m all_categories:\n\u001B[1;32m---> 11\u001B[0m     image_data, categories_tokens \u001B[38;5;241m=\u001B[39m \u001B[43mcategories_call\u001B[49m\u001B[43m(\u001B[49m\u001B[43mimage_data\u001B[49m\u001B[43m,\u001B[49m\u001B[43m \u001B[49m\u001B[43mnew_keywords\u001B[49m\u001B[43m,\u001B[49m\u001B[43m \u001B[49m\u001B[43mlimit_size\u001B[49m\u001B[43m,\u001B[49m\u001B[43m \u001B[49m\u001B[43mcat_list\u001B[49m\u001B[43m)\u001B[49m\n\u001B[0;32m     12\u001B[0m     total_categories_tokens \u001B[38;5;241m+\u001B[39m\u001B[38;5;241m=\u001B[39m categories_tokens\n\u001B[0;32m     14\u001B[0m     \u001B[38;5;28;01mif\u001B[39;00m only_once:\n",
      "Cell \u001B[1;32mIn[429], line 13\u001B[0m, in \u001B[0;36mcategories_call\u001B[1;34m(df, keywords, limit_size, cat_list)\u001B[0m\n\u001B[0;32m     10\u001B[0m categories_output, categories_tokens \u001B[38;5;241m=\u001B[39m chat_get_categories(subset_keywords, cat_list)\n\u001B[0;32m     12\u001B[0m \u001B[38;5;28mprint\u001B[39m(\u001B[38;5;124mf\u001B[39m\u001B[38;5;124m\"\u001B[39m\u001B[38;5;124mCategories : \u001B[39m\u001B[38;5;132;01m{\u001B[39;00mcategories_output\u001B[38;5;132;01m}\u001B[39;00m\u001B[38;5;124m\"\u001B[39m)\n\u001B[1;32m---> 13\u001B[0m \u001B[43mtotal_categories_tokens\u001B[49m\u001B[43m \u001B[49m\u001B[38;5;241;43m+\u001B[39;49m\u001B[38;5;241;43m=\u001B[39;49m\u001B[43m \u001B[49m\u001B[43mcategories_tokens\u001B[49m\n\u001B[0;32m     15\u001B[0m df \u001B[38;5;241m=\u001B[39m add_categories_to_df(df, categories_output)\n\u001B[0;32m     16\u001B[0m cat_list \u001B[38;5;241m=\u001B[39m get_cat_list(df)\n",
      "\u001B[1;31mTypeError\u001B[0m: unsupported operand type(s) for +=: 'int' and 'NoneType'"
     ]
    }
   ],
   "execution_count": 433
  },
  {
   "metadata": {
    "ExecuteTime": {
     "end_time": "2025-03-12T20:36:55.555975Z",
     "start_time": "2025-03-12T20:36:55.543458Z"
    }
   },
   "cell_type": "code",
   "source": "print(tabulate(copy_image_data, headers=\"keys\", tablefmt=\"psql\"))",
   "id": "b4aee09bd551e549",
   "outputs": [
    {
     "name": "stdout",
     "output_type": "stream",
     "text": [
      "+----+--------------------------------+----------------------------------------------+---------------------+----------------------------------------------------------------------------------------------------------------------------------------------------------------------+------------------------------------------------------------------------+--------------+\n",
      "|    | image_name                     | path                                         | date_time           | localisation                                                                                                                                                         | keywords                                                               | categories   |\n",
      "|----+--------------------------------+----------------------------------------------+---------------------+----------------------------------------------------------------------------------------------------------------------------------------------------------------------+------------------------------------------------------------------------+--------------|\n",
      "|  0 | IMG_20241228_124125_1.jpg      | photos_victor\\IMG_20241228_124125_1.jpg      | 2024:12:28 12:41:25 | {1: 'N', 2: (40.0, 44.0, 10.13), 3: 'W', 4: (73.0, 59.0, 21.91), 5: b'\\x01', 6: 19.1, 7: (17.0, 41.0, 19.0), 27: b'ASCII\\x00\\x00\\x00CELLID\\x00', 29: '2024:12:28'}   | ['circulation', 'pluie', 'bande cyclable', 'personnes', 'bâtiments']   | Ville        |\n",
      "|  1 | IMG_20241228_124128.jpg        | photos_victor\\IMG_20241228_124128.jpg        | 2024:12:28 12:41:29 | {1: 'N', 2: (40.0, 44.0, 9.92), 3: 'W', 4: (73.0, 59.0, 21.88), 5: b'\\x01', 6: 19.1, 7: (17.0, 41.0, 24.0), 27: b'ASCII\\x00\\x00\\x00CELLID\\x00', 29: '2024:12:28'}    | ['pluie', 'véhicules', 'piste cyclable', 'bâtiments', 'piétons']       | Ville        |\n",
      "|  2 | IMG_20241228_124135.jpg        | photos_victor\\IMG_20241228_124135.jpg        | 2024:12:28 12:41:36 | {1: 'N', 2: (40.0, 44.0, 9.92), 3: 'W', 4: (73.0, 59.0, 21.88), 5: b'\\x01', 6: 19.1, 7: (17.0, 41.0, 24.0), 27: b'ASCII\\x00\\x00\\x00CELLID\\x00', 29: '2024:12:28'}    | ['cycliste', 'voie cyclable', 'pluie', 'bâtiments', 'rue']             | Ville        |\n",
      "|  3 | IMG_20241228_124137.jpg        | photos_victor\\IMG_20241228_124137.jpg        | 2024:12:28 12:41:37 | {1: 'N', 2: (40.0, 44.0, 9.92), 3: 'W', 4: (73.0, 59.0, 21.88), 5: b'\\x01', 6: 19.1, 7: (17.0, 41.0, 24.0), 27: b'ASCII\\x00\\x00\\x00CELLID\\x00', 29: '2024:12:28'}    | ['faire du vélo', 'route', 'pluie', 'bâtiments', 'circulation']        | Ville        |\n",
      "|  4 | IMG_20241228_124140.jpg        | photos_victor\\IMG_20241228_124140.jpg        | 2024:12:28 12:41:40 | {1: 'N', 2: (40.0, 44.0, 9.85), 3: 'W', 4: (73.0, 59.0, 22.09), 5: b'\\x01', 6: 19.1, 7: (17.0, 41.0, 37.0), 27: b'ASCII\\x00\\x00\\x00CELLID\\x00', 29: '2024:12:28'}    | ['vélos', 'cyclistes', 'pluie', 'bâtiments', 'piste cyclable']         | Ville        |\n",
      "|  5 | IMG_20241228_124648.jpg        | photos_victor\\IMG_20241228_124648.jpg        | 2024:12:28 12:46:48 | {1: 'N', 2: (40.0, 44.0, 6.82), 3: 'W', 4: (73.0, 59.0, 9.61), 5: b'\\x01', 6: 29.234, 7: (17.0, 46.0, 47.0), 27: b'ASCII\\x00\\x00\\x00GPS\\x00', 29: '2024:12:28'}      | ['restaurant', 'déjeuner', 'vitrine', 'panneau', 'rue']                | Restaurant   |\n",
      "|  6 | IMG_20241228_132157.jpg        | photos_victor\\IMG_20241228_132157.jpg        | 2024:12:28 13:21:57 | {1: 'N', 2: (40.0, 44.0, 7.19), 3: 'W', 4: (73.0, 59.0, 9.85), 5: b'\\x01', 6: 22.2, 7: (18.0, 21.0, 53.0), 27: b'ASCII\\x00\\x00\\x00CELLID\\x00', 29: '2024:12:28'}     | ['manger', 'dessert', 'glace', 'chocolat', 'assiette']                 | Restaurant   |\n",
      "|  7 | IMG_20241228_141921.jpg        | photos_victor\\IMG_20241228_141921.jpg        | 2024:12:28 14:19:22 | {1: 'N', 2: (40.0, 44.0, 6.6), 3: 'W', 4: (73.0, 59.0, 9.79), 5: b'\\x01', 6: 22.0, 7: (19.0, 19.0, 8.0), 27: b'ASCII\\x00\\x00\\x00CELLID\\x00', 29: '2024:12:28'}       | ['sourire', 'scaffolding', 'photo', 'rue', 'visiteurs']                | Ville        |\n",
      "|  8 | IMG_20241229_123811.jpg        | photos_victor\\IMG_20241229_123811.jpg        | 2024:12:29 12:38:11 | {1: 'N', 2: (40.0, 46.0, 9.54), 3: 'W', 4: (74.0, 0.0, 29.38), 5: b'\\x00', 6: 0.0, 7: (17.0, 38.0, 8.0), 27: b'ASCII\\x00\\x00\\x00CELLID\\x00', 29: '2024:12:29'}       | ['avion', 'exposition', 'musée', 'documents', 'jouet']                 | Musée        |\n",
      "|  9 | IMG_20241229_123828.jpg        | photos_victor\\IMG_20241229_123828.jpg        | 2024:12:29 12:38:28 | {1: 'N', 2: (40.0, 46.0, 9.54), 3: 'W', 4: (74.0, 0.0, 29.38), 5: b'\\x00', 6: 0.0, 7: (17.0, 38.0, 28.0), 27: b'ASCII\\x00\\x00\\x00CELLID\\x00', 29: '2024:12:29'}      | ['maintenance', 'avion', 'moteur', 'réparation', 'hangar']             | Autres       |\n",
      "| 10 | IMG_20241229_123844.jpg        | photos_victor\\IMG_20241229_123844.jpg        | 2024:12:29 12:38:44 | {1: 'N', 2: (40.0, 46.0, 9.54), 3: 'W', 4: (74.0, 0.0, 29.38), 5: b'\\x00', 6: 0.0, 7: (17.0, 38.0, 28.0), 27: b'ASCII\\x00\\x00\\x00CELLID\\x00', 29: '2024:12:29'}      | ['avion', 'exposition', 'musée', 'militaire', 'décoller']              | Musée        |\n",
      "| 11 | IMG_20241229_124813.jpg        | photos_victor\\IMG_20241229_124813.jpg        | 2024:12:29 12:48:14 | {1: 'N', 2: (40.0, 46.0, 4.46), 3: 'W', 4: (73.0, 59.0, 45.75), 5: b'\\x00', 6: 0.0, 7: (17.0, 48.0, 9.0), 27: b'ASCII\\x00\\x00\\x00CELLID\\x00', 29: '2024:12:29'}      | ['arme', 'montage', 'rotation', 'plaque', 'navire']                    | Autres       |\n",
      "| 12 | IMG_20241229_124828.jpg        | photos_victor\\IMG_20241229_124828.jpg        | 2024:12:29 12:48:29 | {1: 'N', 2: (40.0, 46.0, 4.46), 3: 'W', 4: (73.0, 59.0, 45.75), 5: b'\\x00', 6: 0.0, 7: (17.0, 48.0, 9.0), 27: b'ASCII\\x00\\x00\\x00CELLID\\x00', 29: '2024:12:29'}      | ['éviter', 'système', 'satellite', 'navire', 'port']                   | Autres       |\n",
      "| 13 | IMG_20241229_125737.jpg        | photos_victor\\IMG_20241229_125737.jpg        | 2024:12:29 12:57:38 | {1: 'N', 2: (40.0, 46.0, 4.46), 3: 'W', 4: (73.0, 59.0, 45.75), 5: b'\\x00', 6: 0.0, 7: (17.0, 57.0, 28.0), 27: b'ASCII\\x00\\x00\\x00CELLID\\x00', 29: '2024:12:29'}     | ['avion', 'stationner', 'toit', 'vue urbain', 'extérieur']             | Autres       |\n",
      "| 14 | IMG_20241229_125929.jpg        | photos_victor\\IMG_20241229_125929.jpg        | 2024:12:29 12:59:30 | {1: 'N', 2: (40.0, 46.0, 4.46), 3: 'W', 4: (73.0, 59.0, 45.75), 5: b'\\x00', 6: 0.0, 7: (17.0, 59.0, 18.0), 27: b'ASCII\\x00\\x00\\x00CELLID\\x00', 29: '2024:12:29'}     | ['navire', 'visiteurs', 'escaliers', 'exposition', 'panorama']         | Autres       |\n",
      "| 15 | IMG_20241229_130006.jpg        | photos_victor\\IMG_20241229_130006.jpg        | 2024:12:29 13:00:06 | {1: 'N', 2: (40.0, 46.0, 4.46), 3: 'W', 4: (73.0, 59.0, 45.75), 5: b'\\x00', 6: 0.0, 7: (17.0, 59.0, 58.0), 27: b'ASCII\\x00\\x00\\x00CELLID\\x00', 29: '2024:12:29'}     | ['éluder', 'afficher', 'élévateur', 'port', 'vues']                    | Musée        |\n",
      "| 16 | IMG_20241229_130244.jpg        | photos_victor\\IMG_20241229_130244.jpg        | 2024:12:29 13:02:45 | {1: 'N', 2: (40.0, 45.0, 45.05), 3: 'W', 4: (74.0, 0.0, 5.58), 5: b'\\x00', 6: 0.0, 7: (18.0, 2.0, 44.0), 27: b'ASCII\\x00\\x00\\x00CELLID\\x00', 29: '2024:12:29'}       | ['avion', 'musée', 'visiteurs', 'naval', 'exposition']                 | Musée        |\n",
      "| 17 | IMG_20241229_130249.jpg        | photos_victor\\IMG_20241229_130249.jpg        | 2024:12:29 13:02:50 | {1: 'N', 2: (40.0, 45.0, 45.05), 3: 'W', 4: (74.0, 0.0, 5.58), 5: b'\\x00', 6: 0.0, 7: (18.0, 2.0, 44.0), 27: b'ASCII\\x00\\x00\\x00CELLID\\x00', 29: '2024:12:29'}       | ['visiteurs', 'avions', 'pluie', 'ville', 'musée']                     | Musée        |\n",
      "| 18 | IMG_20241229_130430.jpg        | photos_victor\\IMG_20241229_130430.jpg        | 2024:12:29 13:04:30 | {1: 'N', 2: (40.0, 45.0, 45.05), 3: 'W', 4: (74.0, 0.0, 5.58), 5: b'\\x00', 6: 0.0, 7: (18.0, 4.0, 18.0), 27: b'ASCII\\x00\\x00\\x00CELLID\\x00', 29: '2024:12:29'}       | ['avion', 'décollage', 'mer', 'navire', 'information']                 | Autres       |\n",
      "| 19 | IMG_20241229_130435.jpg        | photos_victor\\IMG_20241229_130435.jpg        | 2024:12:29 13:04:35 | {1: 'N', 2: (40.0, 45.0, 45.05), 3: 'W', 4: (74.0, 0.0, 5.58), 5: b'\\x00', 6: 0.0, 7: (18.0, 4.0, 18.0), 27: b'ASCII\\x00\\x00\\x00CELLID\\x00', 29: '2024:12:29'}       | ['avion', 'visiteurs', 'plaque-forme', 'skyline', 'paysage']           | Musée        |\n",
      "| 20 | IMG_20241229_130635.jpg        | photos_victor\\IMG_20241229_130635.jpg        | 2024:12:29 13:06:35 | {1: 'N', 2: (40.0, 45.0, 45.05), 3: 'W', 4: (74.0, 0.0, 5.58), 5: b'\\x00', 6: 0.0, 7: (18.0, 6.0, 18.0), 27: b'ASCII\\x00\\x00\\x00CELLID\\x00', 29: '2024:12:29'}       | ['avion', 'moteur', 'entretien', 'aéroport', 'réparation']             | Autres       |\n",
      "| 21 | IMG_20241229_130721.jpg        | photos_victor\\IMG_20241229_130721.jpg        | 2024:12:29 13:07:22 | {1: 'N', 2: (40.0, 46.0, 4.46), 3: 'W', 4: (73.0, 59.0, 45.75), 5: b'\\x00', 6: 0.0, 7: (18.0, 7.0, 19.0), 27: b'ASCII\\x00\\x00\\x00CELLID\\x00', 29: '2024:12:29'}      | ['avion', 'exposition', 'manœuvre', 'urbain', 'installations']         | Autres       |\n",
      "| 22 | IMG_20250105_142604.jpg        | photos_victor\\IMG_20250105_142604.jpg        | 2025:01:05 14:26:05 | {1: 'N', 2: (46.0, 48.0, 43.69), 3: 'W', 4: (71.0, 12.0, 17.52), 5: b'\\x00', 6: 37.599, 7: (19.0, 25.0, 46.0), 27: b'ASCII\\x00\\x00\\x00CELLID\\x00', 29: '2025:01:05'} | ['décoration', 'sapin', 'cheminée', 'salon', 'chandelier']             | Autres       |\n",
      "| 23 | IMG_20250105_142818.jpg        | photos_victor\\IMG_20250105_142818.jpg        | 2025:01:05 14:28:18 | {1: 'N', 2: (46.0, 48.0, 43.74), 3: 'W', 4: (71.0, 12.0, 17.6), 5: b'\\x00', 6: 37.599, 7: (19.0, 28.0, 6.0), 27: b'ASCII\\x00\\x00\\x00CELLID\\x00', 29: '2025:01:05'}   | ['chanter', 'jouer', 'chambre', 'sapin', 'costume']                    | Autres       |\n",
      "| 24 | IMG_20250105_144147.jpg        | photos_victor\\IMG_20250105_144147.jpg        | 2025:01:05 14:41:47 | {1: 'N', 2: (46.0, 48.0, 43.43), 3: 'W', 4: (71.0, 12.0, 19.53), 5: b'\\x00', 6: 33.7, 7: (19.0, 41.0, 48.0), 27: b'ASCII\\x00\\x00\\x00CELLID\\x00', 29: '2025:01:05'}   | ['intérieur', 'mobilier', 'lumière', 'plantes', 'espace']              | Autres       |\n",
      "| 25 | IMG_20250105_144436.jpg        | photos_victor\\IMG_20250105_144436.jpg        | 2025:01:05 14:44:36 | {1: 'N', 2: (46.0, 48.0, 43.43), 3: 'W', 4: (71.0, 12.0, 19.53), 5: b'\\x00', 6: 34.5, 7: (19.0, 44.0, 36.0), 27: b'ASCII\\x00\\x00\\x00CELLID\\x00', 29: '2025:01:05'}   | ['luminaires', 'balcon', 'décoration', 'chambre', 'visiteurs']         | Autres       |\n",
      "| 26 | IMG_20250105_144540.jpg        | photos_victor\\IMG_20250105_144540.jpg        | 2025:01:05 14:45:40 | {1: 'N', 2: (46.0, 48.0, 43.31), 3: 'W', 4: (71.0, 12.0, 20.08), 5: b'\\x00', 6: 35.099, 7: (19.0, 45.0, 29.0), 27: b'ASCII\\x00\\x00\\x00CELLID\\x00', 29: '2025:01:05'} | ['marcher', 'discuter', 'salle', 'chandeliers', 'écran']               | Autres       |\n",
      "| 27 | IMG_20250105_144750.jpg        | photos_victor\\IMG_20250105_144750.jpg        | 2025:01:05 14:47:50 | {1: 'N', 2: (46.0, 48.0, 43.31), 3: 'W', 4: (71.0, 12.0, 20.25), 5: b'\\x00', 6: 35.099, 7: (19.0, 47.0, 30.0), 27: b'ASCII\\x00\\x00\\x00CELLID\\x00', 29: '2025:01:05'} | ['suspension', 'cristaux', 'lumière', 'architectural', 'fenêtres']     | Autres       |\n",
      "| 28 | IMG_20250105_145543_BURST1.jpg | photos_victor\\IMG_20250105_145543_BURST1.jpg | 2025:01:05 14:55:42 | {1: 'N', 2: (46.0, 48.0, 43.17), 3: 'W', 4: (71.0, 12.0, 19.66), 5: b'\\x00', 6: 34.2, 7: (19.0, 55.0, 42.0), 27: b'ASCII\\x00\\x00\\x00CELLID\\x00', 29: '2025:01:05'}   | ['regarder', 'plafond', 'lustre', 'décoration', 'salon']               | Autres       |\n",
      "| 29 | IMG_20250105_150144.jpg        | photos_victor\\IMG_20250105_150144.jpg        | 2025:01:05 15:01:45 | {1: 'N', 2: (46.0, 48.0, 43.33), 3: 'W', 4: (71.0, 12.0, 19.84), 5: b'\\x00', 6: 33.4, 7: (20.0, 1.0, 44.0), 27: b'ASCII\\x00\\x00\\x00CELLID\\x00', 29: '2025:01:05'}    | ['pendant', 'lumière', 'drapeaux', 'balustrade', 'plafond']            | Autres       |\n",
      "| 30 | IMG_20250105_150831.jpg        | photos_victor\\IMG_20250105_150831.jpg        | 2025:01:05 15:08:32 | {1: 'N', 2: (46.0, 48.0, 43.99), 3: 'W', 4: (71.0, 12.0, 18.26), 5: b'\\x00', 6: 30.3, 7: (20.0, 8.0, 28.0), 27: b'ASCII\\x00\\x00\\x00CELLID\\x00', 29: '2025:01:05'}    | ['exposition', 'assiettes', 'historique', 'musée', 'dîner']            | Autres       |\n",
      "| 31 | IMG_20250105_150850.jpg        | photos_victor\\IMG_20250105_150850.jpg        | 2025:01:05 15:08:50 | {1: 'N', 2: (46.0, 48.0, 43.9), 3: 'W', 4: (71.0, 12.0, 18.06), 5: b'\\x00', 6: 30.3, 7: (20.0, 8.0, 48.0), 27: b'ASCII\\x00\\x00\\x00CELLID\\x00', 29: '2025:01:05'}     | ['exposition', 'objets', 'textes', 'table', 'histoire']                | Autres       |\n",
      "| 32 | IMG_20250105_151136.jpg        | photos_victor\\IMG_20250105_151136.jpg        | 2025:01:05 15:11:36 | {1: 'N', 2: (46.0, 48.0, 43.89), 3: 'W', 4: (71.0, 12.0, 17.85), 5: b'\\x00', 6: 30.3, 7: (20.0, 11.0, 29.0), 27: b'ASCII\\x00\\x00\\x00CELLID\\x00', 29: '2025:01:05'}   | ['lister', 'vins', 'menu', 'écrire', 'découvrir']                      | Autres       |\n",
      "| 33 | IMG_20250105_151214.jpg        | photos_victor\\IMG_20250105_151214.jpg        | 2025:01:05 15:12:14 | {1: 'N', 2: (46.0, 48.0, 43.36), 3: 'W', 4: (71.0, 12.0, 17.58), 5: b'\\x00', 6: 30.3, 7: (20.0, 12.0, 9.0), 27: b'ASCII\\x00\\x00\\x00CELLID\\x00', 29: '2025:01:05'}    | ['escalier', 'arbres', 'décoration', 'lumières', 'entrée']             | Autres       |\n",
      "| 34 | IMG_20250105_151457.jpg        | photos_victor\\IMG_20250105_151457.jpg        | 2025:01:05 15:14:57 | {1: 'N', 2: (46.0, 48.0, 43.47), 3: 'W', 4: (71.0, 12.0, 17.83), 5: b'\\x00', 6: 33.2, 7: (20.0, 14.0, 50.0), 27: b'ASCII\\x00\\x00\\x00CELLID\\x00', 29: '2025:01:05'}   | ['peinture', 'fleurs', 'couleurs', 'mur', 'décoration']                | Autres       |\n",
      "| 35 | IMG_20250105_151458.jpg        | photos_victor\\IMG_20250105_151458.jpg        | 2025:01:05 15:14:58 | {1: 'N', 2: (46.0, 48.0, 43.47), 3: 'W', 4: (71.0, 12.0, 17.83), 5: b'\\x00', 6: 33.2, 7: (20.0, 14.0, 50.0), 27: b'ASCII\\x00\\x00\\x00CELLID\\x00', 29: '2025:01:05'}   | ['peinture', 'fleurs', 'couleurs', 'mur', 'art']                       | Autres       |\n",
      "| 36 | IMG_20250105_161636.jpg        | photos_victor\\IMG_20250105_161636.jpg        | 2025:01:05 16:16:36 | {1: 'N', 2: (46.0, 48.0, 48.99), 3: 'W', 4: (71.0, 12.0, 11.3), 5: b'\\x01', 6: 14.5, 7: (21.0, 16.0, 31.0), 27: b'ASCII\\x00\\x00\\x00CELLID\\x00', 29: '2025:01:05'}    | ['glisser', 'traîneau', 'neige', 'ville', 'moniteur']                  | Autres       |\n",
      "| 37 | IMG_20250105_165438.jpg        | photos_victor\\IMG_20250105_165438.jpg        | 2025:01:05 16:54:39 | {1: 'N', 2: (46.0, 48.0, 44.34), 3: 'W', 4: (71.0, 12.0, 12.05), 5: b'\\x01', 6: 21.2, 7: (21.0, 54.0, 41.0), 27: b'ASCII\\x00\\x00\\x00CELLID\\x00', 29: '2025:01:05'}   | ['marcher', 'décoration', 'noël', 'rue', 'lumières']                   | Autres       |\n",
      "| 38 | IMG_20250105_165450.jpg        | photos_victor\\IMG_20250105_165450.jpg        | 2025:01:05 16:54:51 | {1: 'N', 2: (46.0, 48.0, 44.58), 3: 'W', 4: (71.0, 12.0, 11.98), 5: b'\\x01', 6: 20.4, 7: (21.0, 54.0, 52.0), 27: b'ASCII\\x00\\x00\\x00CELLID\\x00', 29: '2025:01:05'}   | ['illumination', 'neige', 'décoration', 'restaurant', 'nuit']          | Autres       |\n",
      "| 39 | IMG_20250105_165457.jpg        | photos_victor\\IMG_20250105_165457.jpg        | 2025:01:05 16:54:58 | {1: 'N', 2: (46.0, 48.0, 44.62), 3: 'W', 4: (71.0, 12.0, 12.01), 5: b'\\x01', 6: 17.5, 7: (21.0, 54.0, 57.0), 27: b'ASCII\\x00\\x00\\x00CELLID\\x00', 29: '2025:01:05'}   | ['personne', 'décoration', 'neige', 'magasin', 'nuit']                 | Autres       |\n",
      "| 40 | IMG_20250107_180316.jpg        | photos_victor\\IMG_20250107_180316.jpg        | 2025:01:07 18:03:17 | {1: 'N', 2: (48.0, 25.0, 18.32), 3: 'W', 4: (71.0, 3.0, 14.16), 5: b'\\x00', 6: 56.899, 7: (23.0, 3.0, 15.0), 27: b'ASCII\\x00\\x00\\x00CELLID\\x00', 29: '2025:01:07'}   | ['neige', 'chemin', 'arbre', 'nuit', 'traces']                         | Autres       |\n",
      "| 41 | IMG_20250108_143517.jpg        | photos_victor\\IMG_20250108_143517.jpg        | 2025:01:08 14:35:18 | {1: 'N', 2: (48.0, 24.0, 57.39), 3: 'W', 4: (71.0, 2.0, 46.71), 5: b'\\x00', 6: 66.5, 7: (19.0, 35.0, 21.0), 27: b'ASCII\\x00\\x00\\x00CELLID\\x00', 29: '2025:01:08'}    | ['manger', 'hamburger', 'frites', 'salade', 'boisson']                 | Autres       |\n",
      "| 42 | IMG_20250109_174849.jpg        | photos_victor\\IMG_20250109_174849.jpg        | 2025:01:09 17:48:49 | {1: 'N', 2: (48.0, 25.0, 33.31), 3: 'W', 4: (71.0, 4.0, 13.44), 5: b'\\x00', 6: 0.0, 7: (22.0, 48.0, 47.0), 27: b'ASCII\\x00\\x00\\x00CELLID\\x00', 29: '2025:01:09'}     | ['canettes', 'bière', 'étagère', 'magasin', 'étiquettes']              | Autres       |\n",
      "| 43 | IMG_20250110_163528.jpg        | photos_victor\\IMG_20250110_163528.jpg        | 2025:01:10 16:35:29 | {1: 'N', 2: (48.0, 24.0, 59.05), 3: 'W', 4: (71.0, 2.0, 43.08), 5: b'\\x00', 6: 60.936, 7: (21.0, 35.0, 31.0), 27: b'ASCII\\x00\\x00\\x00GPS\\x00', 29: '2025:01:10'}     | ['reflet', 'micro-brasserie', 'personnes', 'photo', 'porte']           | Autres       |\n",
      "| 44 | IMG_20250110_164345.jpg        | photos_victor\\IMG_20250110_164345.jpg        | 2025:01:10 16:43:46 | {1: 'N', 2: (48.0, 24.0, 59.88), 3: 'W', 4: (71.0, 2.0, 44.46), 5: b'\\x00', 6: 0.0, 7: (21.0, 43.0, 43.0), 27: b'ASCII\\x00\\x00\\x00CELLID\\x00', 29: '2025:01:10'}     | ['verre', 'bière', 'table', 'boisson', 'menu']                         | Autres       |\n",
      "| 45 | IMG_20250111_152149.jpg        | photos_victor\\IMG_20250111_152149.jpg        | 2025:01:11 15:21:49 | {1: 'N', 2: (48.0, 24.0, 18.55), 3: 'W', 4: (71.0, 3.0, 24.87), 5: b'\\x00', 6: 0.0, 7: (20.0, 21.0, 33.0), 27: b'ASCII\\x00\\x00\\x00CELLID\\x00', 29: '2025:01:11'}     | ['skier', 'neige', 'piste', 'groupe', 'bâtons']                        | Sport        |\n",
      "| 46 | IMG_20250111_152150.jpg        | photos_victor\\IMG_20250111_152150.jpg        | 2025:01:11 15:21:50 | {1: 'N', 2: (48.0, 24.0, 18.55), 3: 'W', 4: (71.0, 3.0, 24.87), 5: b'\\x00', 6: 0.0, 7: (20.0, 21.0, 33.0), 27: b'ASCII\\x00\\x00\\x00CELLID\\x00', 29: '2025:01:11'}     | ['ski', 'groupe', 'neige', 'randonnée', 'nature']                      | Sport        |\n",
      "| 47 | IMG_20250111_154046.jpg        | photos_victor\\IMG_20250111_154046.jpg        | 2025:01:11 15:40:46 | {1: 'N', 2: (48.0, 23.0, 22.08), 3: 'W', 4: (71.0, 2.0, 40.32), 5: b'\\x00', 6: 0.0, 7: (20.0, 40.0, 32.0), 27: b'ASCII\\x00\\x00\\x00CELLID\\x00', 29: '2025:01:11'}     | ['ski', 'groupe', 'neige', 'extérieur', 'sourire']                     | Sport        |\n",
      "| 48 | IMG_20250113_143633.jpg        | photos_victor\\IMG_20250113_143633.jpg        | 2025:01:13 14:36:33 | {1: 'N', 2: (48.0, 23.0, 1.02), 3: 'W', 4: (71.0, 4.0, 59.88), 5: b'\\x00', 6: 116.699, 7: (19.0, 36.0, 28.0), 27: b'ASCII\\x00\\x00\\x00CELLID\\x00', 29: '2025:01:13'}  | ['faire des courses', 'chariot', 'fruits', 'sac', 'légumes']           | Autres       |\n",
      "| 49 | IMG_20250113_143716.jpg        | photos_victor\\IMG_20250113_143716.jpg        | 2025:01:13 14:37:16 | {1: 'N', 2: (48.0, 23.0, 0.75), 3: 'W', 4: (71.0, 4.0, 59.58), 5: b'\\x00', 6: 116.699, 7: (19.0, 36.0, 59.0), 27: b'ASCII\\x00\\x00\\x00CELLID\\x00', 29: '2025:01:13'}  | ['faire des courses', 'panier', 'fruits', 'sac', 'supermarché']        | Autres       |\n",
      "| 50 | IMG_20250113_145037.jpg        | photos_victor\\IMG_20250113_145037.jpg        | 2025:01:13 14:50:37 | {1: 'N', 2: (48.0, 23.0, 0.4), 3: 'W', 4: (71.0, 5.0, 0.24), 5: b'\\x00', 6: 116.599, 7: (19.0, 50.0, 31.0), 27: b'ASCII\\x00\\x00\\x00CELLID\\x00', 29: '2025:01:13'}    | ['prix', 'haricots', 'bio', 'surgelés', 'magasin']                     | Magasin      |\n",
      "| 51 | IMG_20250113_150228.jpg        | photos_victor\\IMG_20250113_150228.jpg        | 2025:01:13 15:02:29 | {1: 'N', 2: (48.0, 22.0, 59.35), 3: 'W', 4: (71.0, 5.0, 1.62), 5: b'\\x00', 6: 116.699, 7: (20.0, 2.0, 26.0), 27: b'ASCII\\x00\\x00\\x00CELLID\\x00', 29: '2025:01:13'}   | ['faire des courses', 'chariot', 'aliments', 'supermarché', 'acheter'] | Magasin      |\n",
      "| 52 | IMG_20250113_201010.jpg        | photos_victor\\IMG_20250113_201010.jpg        | 2025:01:13 20:10:11 | {1: 'N', 2: (48.0, 25.0, 30.81), 3: 'W', 4: (71.0, 4.0, 2.26), 5: b'\\x00', 6: 7.8, 7: (1.0, 10.0, 8.0), 27: b'ASCII\\x00\\x00\\x00CELLID\\x00', 29: '2025:01:14'}        | ['manger', 'riz', 'courgettes', 'plat', 'table']                       | Manger       |\n",
      "| 53 | IMG_20250114_193654.jpg        | photos_victor\\IMG_20250114_193654.jpg        | 2025:01:14 19:36:55 | {}                                                                                                                                                                   | ['manger', 'hamburger', 'fromage', 'cornichons', 'assiette']           | Manger       |\n",
      "| 54 | IMG_20250117_131914.jpg        | photos_victor\\IMG_20250117_131914.jpg        | 2025:01:17 13:19:15 | {}                                                                                                                                                                   | ['manger', 'riz', 'légumes', 'viande', 'assiette']                     | Manger       |\n",
      "| 55 | IMG_20250118_185321.jpg        | photos_victor\\IMG_20250118_185321.jpg        | 2025:01:18 18:53:22 | {1: 'N', 2: (48.0, 24.0, 57.28), 3: 'W', 4: (71.0, 2.0, 46.87), 5: b'\\x00', 6: 66.8, 7: (23.0, 53.0, 17.0), 27: b'ASCII\\x00\\x00\\x00CELLID\\x00', 29: '2025:01:18'}    | ['manger', 'pizza', 'spaghetti', 'sauce', 'restaurant']                | Restaurant   |\n",
      "| 56 | IMG_20250119_131124_BURST1.jpg | photos_victor\\IMG_20250119_131124_BURST1.jpg | 2025:01:19 13:11:23 | {1: 'N', 2: (48.0, 25.0, 0.36), 3: 'W', 4: (71.0, 3.0, 52.35), 5: b'\\x00', 6: 66.871, 7: (18.0, 11.0, 21.0), 27: b'ASCII\\x00\\x00\\x00GPS\\x00', 29: '2025:01:19'}      | ['neige', 'arbres', 'parc', 'lampadaire', 'aire de jeux']              | Neige        |\n",
      "| 57 | IMG_20250119_131214_BURST1.jpg | photos_victor\\IMG_20250119_131214_BURST1.jpg | 2025:01:19 13:12:13 | {1: 'N', 2: (48.0, 25.0, 3.5), 3: 'W', 4: (71.0, 3.0, 46.03), 5: b'\\x00', 6: 57.632, 7: (18.0, 12.0, 11.0), 27: b'ASCII\\x00\\x00\\x00GPS\\x00', 29: '2025:01:19'}       | ['glisser', 'neige', 'parc', 'arbres', 'aire de jeux']                 | Neige        |\n",
      "| 58 | IMG_20250119_131317.jpg        | photos_victor\\IMG_20250119_131317.jpg        | 2025:01:19 13:13:18 | {1: 'N', 2: (48.0, 25.0, 5.47), 3: 'W', 4: (71.0, 3.0, 47.65), 5: b'\\x00', 6: 55.899, 7: (18.0, 13.0, 7.0), 27: b'ASCII\\x00\\x00\\x00CELLID\\x00', 29: '2025:01:19'}    | ['affichage', 'enseigne', 'information', 'bâtiment', 'instructions']   | Autres       |\n",
      "| 59 | IMG_20250119_131334_BURST1.jpg | photos_victor\\IMG_20250119_131334_BURST1.jpg | 2025:01:19 13:13:33 | {1: 'N', 2: (48.0, 25.0, 0.34), 3: 'W', 4: (71.0, 4.0, 2.87), 5: b'\\x00', 6: 51.099, 7: (18.0, 13.0, 28.0), 27: b'ASCII\\x00\\x00\\x00CELLID\\x00', 29: '2025:01:19'}    | ['patiner', 'neige', 'parc', 'répétition', 'enfants']                  | Neige        |\n",
      "| 60 | IMG_20250119_131335.jpg        | photos_victor\\IMG_20250119_131335.jpg        | 2025:01:19 13:13:35 | {1: 'N', 2: (48.0, 25.0, 0.34), 3: 'W', 4: (71.0, 4.0, 2.87), 5: b'\\x00', 6: 51.099, 7: (18.0, 13.0, 28.0), 27: b'ASCII\\x00\\x00\\x00CELLID\\x00', 29: '2025:01:19'}    | ['patiner', 'neige', 'parc', 'enfants', 'lampadaire']                  | Neige        |\n",
      "| 61 | IMG_20250119_131815_BURST1.jpg | photos_victor\\IMG_20250119_131815_BURST1.jpg | 2025:01:19 13:18:14 | {1: 'N', 2: (48.0, 25.0, 0.86), 3: 'W', 4: (71.0, 4.0, 3.32), 5: b'\\x00', 6: 51.099, 7: (18.0, 18.0, 12.0), 27: b'ASCII\\x00\\x00\\x00CELLID\\x00', 29: '2025:01:19'}    | ['marcher', 'neige', 'sentier', 'arbres', 'hiver']                     | Neige        |\n",
      "| 62 | IMG_20250122_093940.jpg        | photos_victor\\IMG_20250122_093940.jpg        | 2025:01:22 09:39:41 | {1: 'N', 2: (48.0, 25.0, 30.81), 3: 'W', 4: (71.0, 4.0, 2.12), 5: b'\\x01', 6: 19.6, 7: (14.0, 39.0, 39.0), 27: b'ASCII\\x00\\x00\\x00CELLID\\x00', 29: '2025:01:22'}     | ['afficher', 'température', 'intérieur', 'extérieur', 'horloge']       | Autres       |\n",
      "| 63 | IMG_20250122_155558.jpg        | photos_victor\\IMG_20250122_155558.jpg        | 2025:01:22 15:55:59 | {1: 'N', 2: (48.0, 24.0, 22.71), 3: 'W', 4: (71.0, 3.0, 13.79), 5: b'\\x00', 6: 80.699, 7: (20.0, 55.0, 56.0), 27: b'ASCII\\x00\\x00\\x00CELLID\\x00', 29: '2025:01:22'}  | ['numéro', 'ticket', 'impression', 'papier', 'sol']                    | Autres       |\n",
      "| 64 | IMG_20250122_162438.jpg        | photos_victor\\IMG_20250122_162438.jpg        | 2025:01:22 16:24:38 | {1: 'N', 2: (48.0, 24.0, 22.63), 3: 'W', 4: (71.0, 3.0, 13.63), 5: b'\\x00', 6: 81.099, 7: (21.0, 24.0, 35.0), 27: b'ASCII\\x00\\x00\\x00CELLID\\x00', 29: '2025:01:22'}  | ['étiquette', 'numéro', 'impression', 'sol', 'métal']                  | Autres       |\n",
      "| 65 | IMG_20250124_092053.jpg        | photos_victor\\IMG_20250124_092053.jpg        | 2025:01:24 09:20:53 | {1: 'N', 2: (48.0, 25.0, 30.42), 3: 'W', 4: (71.0, 4.0, 2.25), 5: b'\\x01', 6: 19.1, 7: (14.0, 20.0, 47.0), 27: b'ASCII\\x00\\x00\\x00CELLID\\x00', 29: '2025:01:24'}     | ['skis', 'voiture', 'montagne', 'neige', 'soleil']                     | Sport        |\n",
      "| 66 | IMG_20250124_092101.jpg        | photos_victor\\IMG_20250124_092101.jpg        | 2025:01:24 09:21:01 | {1: 'N', 2: (48.0, 25.0, 30.47), 3: 'W', 4: (71.0, 4.0, 2.31), 5: b'\\x01', 6: 19.1, 7: (14.0, 21.0, 0.0), 27: b'ASCII\\x00\\x00\\x00CELLID\\x00', 29: '2025:01:24'}      | ['conduire', 'skis', 'voiture', 'intérieur', 'voyage']                 | Sport        |\n",
      "| 67 | IMG_20250124_092335.jpg        | photos_victor\\IMG_20250124_092335.jpg        | 2025:01:24 09:23:35 | {1: 'N', 2: (48.0, 25.0, 30.44), 3: 'W', 4: (71.0, 4.0, 2.18), 5: b'\\x01', 6: 19.1, 7: (14.0, 23.0, 21.0), 27: b'ASCII\\x00\\x00\\x00CELLID\\x00', 29: '2025:01:24'}     | ['écran', 'voiture', 'tachymètre', 'indicateurs', 'heure']             | Autres       |\n",
      "| 68 | IMG_20250124_122637.jpg        | photos_victor\\IMG_20250124_122637.jpg        | 2025:01:24 12:26:38 | {1: 'N', 2: (48.0, 24.0, 8.12), 3: 'W', 4: (71.0, 3.0, 40.32), 5: b'\\x00', 6: 76.921, 7: (17.0, 26.0, 38.0), 27: b'ASCII\\x00\\x00\\x00GPS\\x00', 29: '2025:01:24'}      | ['manger', 'salade', 'poulet', 'boisson', 'restaurant']                | Restaurant   |\n",
      "| 69 | IMG_20250217_082849.jpg        | photos_victor\\IMG_20250217_082849.jpg        | 2025:02:17 08:28:49 | {1: 'N', 2: (48.0, 25.0, 27.83), 3: 'W', 4: (71.0, 3.0, 17.51), 5: b'\\x00', 6: 47.318, 7: (13.0, 28.0, 47.0), 27: b'ASCII\\x00\\x00\\x00GPS\\x00', 29: '2025:02:17'}     | ['neige', 'voiture', 'route', 'piles de neige', 'tempête']             | Neige        |\n",
      "| 70 | IMG_20250217_082926.jpg        | photos_victor\\IMG_20250217_082926.jpg        | 2025:02:17 08:29:27 | {1: 'N', 2: (48.0, 25.0, 37.42), 3: 'W', 4: (71.0, 3.0, 9.59), 5: b'\\x00', 6: 0.0, 7: (13.0, 29.0, 24.0), 27: b'ASCII\\x00\\x00\\x00CELLID\\x00', 29: '2025:02:17'}      | ['neige', 'arbres', 'bennes', 'hiver', 'paysage']                      | Neige        |\n",
      "| 71 | IMG_20250217_082952.jpg        | photos_victor\\IMG_20250217_082952.jpg        | 2025:02:17 08:29:52 | {1: 'N', 2: (48.0, 25.0, 26.61), 3: 'W', 4: (71.0, 3.0, 16.49), 5: b'\\x00', 6: 48.2, 7: (13.0, 29.0, 42.0), 27: b'ASCII\\x00\\x00\\x00CELLID\\x00', 29: '2025:02:17'}    | ['marcher', 'neige', 'route', 'monticule', 'télécommunications']       | Neige        |\n",
      "| 72 | IMG_20250217_082956.jpg        | photos_victor\\IMG_20250217_082956.jpg        | 2025:02:17 08:29:56 | {1: 'N', 2: (48.0, 25.0, 26.61), 3: 'W', 4: (71.0, 3.0, 16.49), 5: b'\\x00', 6: 48.2, 7: (13.0, 29.0, 42.0), 27: b'ASCII\\x00\\x00\\x00CELLID\\x00', 29: '2025:02:17'}    | ['marcher', 'neige', 'téléphone', 'signal', 'arbre']                   | Neige        |\n",
      "| 73 | IMG_20250217_083141.jpg        | photos_victor\\IMG_20250217_083141.jpg        | 2025:02:17 08:31:42 | {1: 'N', 2: (48.0, 25.0, 26.64), 3: 'W', 4: (71.0, 3.0, 16.32), 5: b'\\x00', 6: 54.099, 7: (13.0, 31.0, 41.0), 27: b'ASCII\\x00\\x00\\x00CELLID\\x00', 29: '2025:02:17'}  | ['femme', 'se tenir', 'neige', 'photographier', 'hiver']               | Neige        |\n",
      "| 74 | IMG_20250218_184256.jpg        | photos_victor\\IMG_20250218_184256.jpg        | 2025:02:18 18:42:57 | {1: 'N', 2: (48.0, 25.0, 23.88), 3: 'W', 4: (71.0, 3.0, 6.67), 5: b'\\x00', 6: 49.099, 7: (23.0, 42.0, 53.0), 27: b'ASCII\\x00\\x00\\x00CELLID\\x00', 29: '2025:02:18'}   | ['neige', 'marcher', 'arbres', 'nuit', 'chemin']                       | Neige        |\n",
      "| 75 | IMG_20250218_184300.jpg        | photos_victor\\IMG_20250218_184300.jpg        | 2025:02:18 18:43:00 | {1: 'N', 2: (48.0, 25.0, 23.88), 3: 'W', 4: (71.0, 3.0, 6.67), 5: b'\\x00', 6: 49.099, 7: (23.0, 42.0, 53.0), 27: b'ASCII\\x00\\x00\\x00CELLID\\x00', 29: '2025:02:18'}   | ['marcher', 'neige', 'forêt', 'sentier', 'nuit']                       | Neige        |\n",
      "| 76 | IMG_20250219_082942.jpg        | photos_victor\\IMG_20250219_082942.jpg        | 2025:02:19 08:29:43 | {1: 'N', 2: (48.0, 25.0, 30.45), 3: 'W', 4: (71.0, 4.0, 2.19), 5: b'\\x01', 6: 18.7, 7: (13.0, 29.0, 42.0), 27: b'ASCII\\x00\\x00\\x00CELLID\\x00', 29: '2025:02:19'}     | ['neige', 'voitures', 'couverts', 'jardin', 'hiver']                   | Neige        |\n",
      "| 77 | IMG_20250219_082954.jpg        | photos_victor\\IMG_20250219_082954.jpg        | 2025:02:19 08:29:54 | {1: 'N', 2: (48.0, 25.0, 30.45), 3: 'W', 4: (71.0, 4.0, 2.19), 5: b'\\x01', 6: 18.7, 7: (13.0, 29.0, 42.0), 27: b'ASCII\\x00\\x00\\x00CELLID\\x00', 29: '2025:02:19'}     | ['neige', 'voitures', 'couvrir', 'gel', 'hiver']                       | Neige        |\n",
      "| 78 | IMG_20250219_083342.jpg        | photos_victor\\IMG_20250219_083342.jpg        | 2025:02:19 08:33:42 | {1: 'N', 2: (48.0, 25.0, 30.29), 3: 'W', 4: (71.0, 4.0, 2.37), 5: b'\\x01', 6: 18.7, 7: (13.0, 33.0, 39.0), 27: b'ASCII\\x00\\x00\\x00CELLID\\x00', 29: '2025:02:19'}     | ['neige', 'voiture', 'gel', 'stationnement', 'obstacle']               | Neige        |\n",
      "| 79 | IMG_20250219_085328.jpg        | photos_victor\\IMG_20250219_085328.jpg        | 2025:02:19 08:53:29 | {1: 'N', 2: (48.0, 25.0, 10.4), 3: 'W', 4: (71.0, 3.0, 21.7), 5: b'\\x00', 6: 57.099, 7: (13.0, 53.0, 26.0), 27: b'ASCII\\x00\\x00\\x00CELLID\\x00', 29: '2025:02:19'}    | ['neige', 'stationnement', 'voitures', 'route', 'bâtiment']            | Neige        |\n",
      "| 80 | IMG_20250220_085521.jpg        | photos_victor\\IMG_20250220_085521.jpg        | 2025:02:20 08:55:21 | {1: 'N', 2: (48.0, 25.0, 26.68), 3: 'W', 4: (71.0, 3.0, 14.99), 5: b'\\x00', 6: 54.099, 7: (13.0, 55.0, 19.0), 27: b'ASCII\\x00\\x00\\x00CELLID\\x00', 29: '2025:02:20'}  | ['neige', 'route', 'personne', 'église', 'hiver']                      | Neige        |\n",
      "| 81 | IMG_20250220_085523.jpg        | photos_victor\\IMG_20250220_085523.jpg        | 2025:02:20 08:55:24 | {1: 'N', 2: (48.0, 25.0, 26.68), 3: 'W', 4: (71.0, 3.0, 14.99), 5: b'\\x00', 6: 54.099, 7: (13.0, 55.0, 19.0), 27: b'ASCII\\x00\\x00\\x00CELLID\\x00', 29: '2025:02:20'}  | ['neige', 'balayage', 'route', 'église', 'hiver']                      | Neige        |\n",
      "| 82 | IMG_20250220_085526.jpg        | photos_victor\\IMG_20250220_085526.jpg        | 2025:02:20 08:55:26 | {1: 'N', 2: (48.0, 25.0, 26.68), 3: 'W', 4: (71.0, 3.0, 14.99), 5: b'\\x00', 6: 54.099, 7: (13.0, 55.0, 19.0), 27: b'ASCII\\x00\\x00\\x00CELLID\\x00', 29: '2025:02:20'}  | ['pelleteuse', 'neige', 'rue', 'église', 'personne']                   | Neige        |\n",
      "| 83 | IMG_20250221_101424.jpg        | photos_victor\\IMG_20250221_101424.jpg        | 2025:02:21 10:14:24 | {1: 'N', 2: (48.0, 25.0, 11.53), 3: 'W', 4: (71.0, 3.0, 9.94), 5: b'\\x00', 6: 74.8, 7: (15.0, 14.0, 27.0), 27: b'ASCII\\x00\\x00\\x00CELLID\\x00', 29: '2025:02:21'}     | ['écriture', 'tableau', 'concepts', 'schémas', 'calculs']              | Autres       |\n",
      "| 84 | IMG_20250221_155338.jpg        | photos_victor\\IMG_20250221_155338.jpg        | 2025:02:21 15:53:38 | {1: 'N', 2: (48.0, 25.0, 13.31), 3: 'W', 4: (71.0, 3.0, 12.03), 5: b'\\x00', 6: 59.399, 7: (20.0, 53.0, 31.0), 27: b'ASCII\\x00\\x00\\x00CELLID\\x00', 29: '2025:02:21'}  | ['acheter', 'lait', 'réfrigérateur', 'produits', 'consommer']          | Magasin      |\n",
      "| 85 | IMG_20250222_113748.jpg        | photos_victor\\IMG_20250222_113748.jpg        | 2025:02:22 11:37:48 | {1: 'N', 2: (48.0, 23.0, 29.89), 3: 'W', 4: (71.0, 2.0, 58.8), 5: b'\\x00', 6: 0.0, 7: (16.0, 37.0, 47.0), 27: b'ASCII\\x00\\x00\\x00CELLID\\x00', 29: '2025:02:22'}      | ['neige', 'forêt', 'ciel', 'rivière', 'soleil']                        | Neige        |\n",
      "| 86 | IMG_20250222_113756.jpg        | photos_victor\\IMG_20250222_113756.jpg        | 2025:02:22 11:37:57 | {1: 'N', 2: (48.0, 23.0, 29.89), 3: 'W', 4: (71.0, 2.0, 58.8), 5: b'\\x00', 6: 0.0, 7: (16.0, 37.0, 52.0), 27: b'ASCII\\x00\\x00\\x00CELLID\\x00', 29: '2025:02:22'}      | ['neige', 'piste', 'arbre', 'ciel', 'traces']                          | Neige        |\n",
      "| 87 | IMG_20250222_113802.jpg        | photos_victor\\IMG_20250222_113802.jpg        | 2025:02:22 11:38:02 | {1: 'N', 2: (48.0, 23.0, 29.89), 3: 'W', 4: (71.0, 2.0, 58.8), 5: b'\\x00', 6: 0.0, 7: (16.0, 38.0, 2.0), 27: b'ASCII\\x00\\x00\\x00CELLID\\x00', 29: '2025:02:22'}       | ['skis', 'bâtons', 'neige', 'randonnée', \"sports d'hiver\"]             | Sport        |\n",
      "| 88 | IMG_20250222_115044.jpg        | photos_victor\\IMG_20250222_115044.jpg        | 2025:02:22 11:50:44 | {1: 'N', 2: (48.0, 23.0, 29.89), 3: 'W', 4: (71.0, 2.0, 58.8), 5: b'\\x00', 6: 0.0, 7: (16.0, 50.0, 43.0), 27: b'ASCII\\x00\\x00\\x00CELLID\\x00', 29: '2025:02:22'}      | ['ski', 'neige', 'forêt', 'piste', 'hiver']                            | Sport        |\n",
      "| 89 | IMG_20250222_115520.jpg        | photos_victor\\IMG_20250222_115520.jpg        | 2025:02:22 11:55:20 | {1: 'N', 2: (48.0, 23.0, 37.94), 3: 'W', 4: (71.0, 4.0, 27.04), 5: b'\\x00', 6: 0.0, 7: (16.0, 55.0, 16.0), 27: b'ASCII\\x00\\x00\\x00CELLID\\x00', 29: '2025:02:22'}     | ['neige', 'piste', 'arbre', 'détente', 'hiver']                        | Neige        |\n",
      "| 90 | IMG_20250222_121148.jpg        | photos_victor\\IMG_20250222_121148.jpg        | 2025:02:22 12:11:48 | {1: 'N', 2: (48.0, 24.0, 5.54), 3: 'W', 4: (71.0, 3.0, 3.15), 5: b'\\x00', 6: 0.0, 7: (17.0, 11.0, 46.0), 27: b'ASCII\\x00\\x00\\x00CELLID\\x00', 29: '2025:02:22'}       | ['observer', 'neige', 'rivière', 'pont', 'nature']                     | Neige        |\n",
      "| 91 | IMG_20250222_121156.jpg        | photos_victor\\IMG_20250222_121156.jpg        | 2025:02:22 12:11:57 | {1: 'N', 2: (48.0, 24.0, 9.7), 3: 'W', 4: (71.0, 3.0, 7.1), 5: b'\\x00', 6: 0.0, 7: (17.0, 11.0, 56.0), 27: b'ASCII\\x00\\x00\\x00CELLID\\x00', 29: '2025:02:22'}         | ['marcher', 'photographier', 'neige', 'casque', 'nature']              | Neige        |\n",
      "| 92 | IMG_20250222_134940.jpg        | photos_victor\\IMG_20250222_134940.jpg        | 2025:02:22 13:49:40 | {1: 'N', 2: (48.0, 24.0, 57.48), 3: 'W', 4: (71.0, 2.0, 46.7), 5: b'\\x00', 6: 67.3, 7: (18.0, 49.0, 37.0), 27: b'ASCII\\x00\\x00\\x00CELLID\\x00', 29: '2025:02:22'}     | ['manger', 'poutine', 'frites', 'fromage', 'restaurant']               | Restaurant   |\n",
      "| 93 | IMG_20250222_171439.jpg        | photos_victor\\IMG_20250222_171439.jpg        | 2025:02:22 17:14:40 | {1: 'N', 2: (48.0, 25.0, 30.47), 3: 'W', 4: (71.0, 4.0, 2.17), 5: b'\\x01', 6: 18.7, 7: (22.0, 14.0, 35.0), 27: b'ASCII\\x00\\x00\\x00CELLID\\x00', 29: '2025:02:22'}     | ['déballer', 'courses', 'cuisine', 'table', 'organiser']               | Organiser    |\n",
      "| 94 | IMG_20250222_221529.jpg        | photos_victor\\IMG_20250222_221529.jpg        | 2025:02:22 22:15:30 | {}                                                                                                                                                                   | ['couper', 'saucisse', 'fromage', 'pain', 'table']                     | Découper     |\n",
      "| 95 | IMG_20250222_221833.jpg        | photos_victor\\IMG_20250222_221833.jpg        | 2025:02:22 22:18:33 | {}                                                                                                                                                                   | ['découper', 'fromage', 'saucisson', 'table', 'collation']             | Découper     |\n",
      "| 96 | IMG_20250224_144236.jpg        | photos_victor\\IMG_20250224_144236.jpg        | 2025:02:24 14:42:37 | {1: 'N', 2: (48.0, 25.0, 11.0), 3: 'W', 4: (71.0, 3.0, 10.09), 5: b'\\x00', 6: 75.599, 7: (19.0, 42.0, 35.0), 27: b'ASCII\\x00\\x00\\x00CELLID\\x00', 29: '2025:02:24'}   | ['écriture', 'tableau blanc', 'schéma', 'mathématiques', 'équations']  | Autres       |\n",
      "| 97 | IMG_20250228_085044.jpg        | photos_victor\\IMG_20250228_085044.jpg        | 2025:02:28 08:50:44 | {1: 'N', 2: (48.0, 25.0, 11.35), 3: 'W', 4: (71.0, 3.0, 10.04), 5: b'\\x00', 6: 74.8, 7: (13.0, 50.0, 37.0), 27: b'ASCII\\x00\\x00\\x00CELLID\\x00', 29: '2025:02:28'}    | ['routeur', 'écran', 'câble', 'bureau', 'avertissement']               | Autres       |\n",
      "| 98 | IMG_20250228_085048.jpg        | photos_victor\\IMG_20250228_085048.jpg        | 2025:02:28 08:50:48 | {1: 'N', 2: (48.0, 25.0, 11.35), 3: 'W', 4: (71.0, 3.0, 10.04), 5: b'\\x00', 6: 74.8, 7: (13.0, 50.0, 37.0), 27: b'ASCII\\x00\\x00\\x00CELLID\\x00', 29: '2025:02:28'}    | ['routeur', 'antenne', 'câble', 'bureau', 'connectivité']              | Autres       |\n",
      "+----+--------------------------------+----------------------------------------------+---------------------+----------------------------------------------------------------------------------------------------------------------------------------------------------------------+------------------------------------------------------------------------+--------------+\n"
     ]
    }
   ],
   "execution_count": 413
  },
  {
   "metadata": {
    "ExecuteTime": {
     "end_time": "2025-03-12T20:36:55.567682Z",
     "start_time": "2025-03-12T20:36:55.564858Z"
    }
   },
   "cell_type": "code",
   "source": "",
   "id": "3e936fe30f48a13",
   "outputs": [],
   "execution_count": null
  }
 ],
 "metadata": {
  "kernelspec": {
   "display_name": "Python (SnapSort)",
   "language": "python",
   "name": "snapsort_venv"
  },
  "language_info": {
   "codemirror_mode": {
    "name": "ipython",
    "version": 3
   },
   "file_extension": ".py",
   "mimetype": "text/x-python",
   "name": "python",
   "nbconvert_exporter": "python",
   "pygments_lexer": "ipython3",
   "version": "3.13.0"
  }
 },
 "nbformat": 4,
 "nbformat_minor": 5
}
