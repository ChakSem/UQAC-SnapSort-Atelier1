{
 "cells": [
  {
   "cell_type": "code",
   "id": "initial_id",
   "metadata": {
    "collapsed": true,
    "ExecuteTime": {
     "end_time": "2025-02-27T22:56:15.689844Z",
     "start_time": "2025-02-27T22:56:15.682652Z"
    }
   },
   "source": [
    "from openai import OpenAI\n",
    "from secret import OPENAI_API_KEY\n",
    "from PIL import Image\n",
    "import base64\n",
    "import os\n",
    "import json\n",
    "import re\n",
    "import pandas as pd\n",
    "import io"
   ],
   "outputs": [],
   "execution_count": 116
  },
  {
   "cell_type": "code",
   "id": "ce982c45fb8473a0",
   "metadata": {
    "ExecuteTime": {
     "end_time": "2025-02-27T22:56:15.882817Z",
     "start_time": "2025-02-27T22:56:15.698555Z"
    }
   },
   "source": [
    "client = OpenAI(api_key=OPENAI_API_KEY)\n",
    "model = \"gpt-4o-mini\""
   ],
   "outputs": [],
   "execution_count": 117
  },
  {
   "cell_type": "code",
   "id": "1f40ab4f21fdd05e",
   "metadata": {
    "ExecuteTime": {
     "end_time": "2025-02-27T22:56:15.902935Z",
     "start_time": "2025-02-27T22:56:15.899544Z"
    }
   },
   "source": [
    "def encode_image(image_path, max_size=(512, 512), quality=80):\n",
    "    image = Image.open(image_path)\n",
    "\n",
    "    # Redimensionner l'image\n",
    "    image.thumbnail(max_size)\n",
    "\n",
    "    # Convertir en bytes avec compression\n",
    "    buffer = io.BytesIO()\n",
    "    image.save(buffer, format=\"JPEG\", quality=quality)\n",
    "\n",
    "    # Encoder en Base64\n",
    "    encoded_string = base64.b64encode(buffer.getvalue()).decode(\"utf-8\")\n",
    "\n",
    "    print(f\"Encoded image: {image_path}\")\n",
    "\n",
    "    return encoded_string"
   ],
   "outputs": [],
   "execution_count": 119
  },
  {
   "metadata": {
    "ExecuteTime": {
     "end_time": "2025-02-27T22:56:15.911616Z",
     "start_time": "2025-02-27T22:56:15.908143Z"
    }
   },
   "cell_type": "code",
   "source": [
    "def send_chat_request(message, extracting_json=False):\n",
    "    try:\n",
    "        response = client.chat.completions.create(\n",
    "            model=model, messages=message\n",
    "        )\n",
    "\n",
    "        result = response.choices[0].message.content.strip()\n",
    "\n",
    "        return extract_json(result)\n",
    "\n",
    "\n",
    "    except Exception as e:\n",
    "        print(f\"Erreur OpenAI : {e}\")"
   ],
   "id": "f7cde3da756c024a",
   "outputs": [],
   "execution_count": 120
  },
  {
   "cell_type": "code",
   "id": "70c40a8c6b3ff456",
   "metadata": {
    "ExecuteTime": {
     "end_time": "2025-02-27T22:56:15.920579Z",
     "start_time": "2025-02-27T22:56:15.916834Z"
    }
   },
   "source": [
    "def chat_get_key_words(base64_images, image_names):\n",
    "\n",
    "    # Liste pour chaque image et chaque texte associé\n",
    "    content_list = []\n",
    "    for i, base64_image in enumerate(base64_images):\n",
    "        content_list.append({\n",
    "            \"type\": \"text\",\n",
    "            \"text\": f\"\"\"Décris moi toutes les images avec 5 mots-clés.\n",
    "                        Retourne le résultat au format JSON comme ceci :\n",
    "                        {{\n",
    "                            {image_names[i]} : [mot-clé1, mot-clé2, mot-clé3, mot-clé4, mot-clé5]\n",
    "                            ...\n",
    "\n",
    "                        }}\n",
    "                        \"\"\"\n",
    "        })\n",
    "        content_list.append({\n",
    "            \"type\": \"image_url\",\n",
    "            \"image_url\": {\"url\": f\"data:image/jpeg;base64,{base64_image}\"}\n",
    "        })\n",
    "\n",
    "    messages = [\n",
    "        {\n",
    "            \"role\": \"user\",\n",
    "            \"content\": content_list\n",
    "        }\n",
    "    ]\n",
    "\n",
    "    return send_chat_request(messages)\n"
   ],
   "outputs": [],
   "execution_count": 121
  },
  {
   "cell_type": "code",
   "id": "081bfdc4",
   "metadata": {
    "ExecuteTime": {
     "end_time": "2025-02-27T22:56:15.934166Z",
     "start_time": "2025-02-27T22:56:15.931008Z"
    }
   },
   "source": [
    "def extract_json(response_text):\n",
    "    \"\"\"\n",
    "    Extrait la portion JSON (délimitée par {}) de la réponse textuelle pour seulement avoir le dictionnaire et non le texte généré par l'ia.\n",
    "    \"\"\"\n",
    "    match = re.search(r'\\{.*\\}', response_text, re.DOTALL)\n",
    "    if match:\n",
    "        json_str = match.group()\n",
    "        try:\n",
    "            return json.loads(json_str)\n",
    "        except Exception as e:\n",
    "            print(f\"Erreur lors du chargement du JSON : {e}\")\n",
    "            return None\n",
    "    else:\n",
    "        print(\"Aucun JSON trouvé dans la réponse.\")\n",
    "        return None"
   ],
   "outputs": [],
   "execution_count": 122
  },
  {
   "cell_type": "code",
   "id": "88672749",
   "metadata": {
    "ExecuteTime": {
     "end_time": "2025-02-27T22:56:15.941002Z",
     "start_time": "2025-02-27T22:56:15.934166Z"
    }
   },
   "source": [
    "def chat_get_categories(keywords_output):\n",
    "    \"\"\"\n",
    "    Utilise les mots-clés extraits pour regrouper les images similaires en catégories.\n",
    "    Les images sont identifiées par leur ordre dans la liste.\n",
    "    \"\"\"\n",
    "\n",
    "    # Préparation d'un prompt détaillé incluant le résultat des mots-clés et l'ordre des images\n",
    "    prompt = f\"\"\"Voici les listes de mots-clés obtenues pour chaque image (dans l'ordre) : {keywords_output}\n",
    "\n",
    "    En te basant sur ces informations, regroupe les images similaires dans des catégories. Une catégorie est décrite par un seul mot-clé. Une image ne peut appartenir qu'à une seule catégorie.\n",
    "    Retourne le résultat au format JSON comme tel :\n",
    "    {{\n",
    "        \"categorie1\": [ \"name\", \"name\" ],\n",
    "        \"categorie2\": [ \"name\", \"name\" ],\n",
    "        ...\n",
    "    }}\n",
    "    \"\"\"\n",
    "    messages = [\n",
    "        {\n",
    "            \"role\": \"user\",\n",
    "            \"content\": prompt\n",
    "        }\n",
    "    ]\n",
    "\n",
    "    return send_chat_request(messages)"
   ],
   "outputs": [],
   "execution_count": 123
  },
  {
   "cell_type": "code",
   "id": "81f3cc2e7fc615cc",
   "metadata": {
    "ExecuteTime": {
     "end_time": "2025-02-27T22:56:16.082691Z",
     "start_time": "2025-02-27T22:56:15.946393Z"
    }
   },
   "source": [
    "directory = \"test_data\"\n",
    "allowed_extensions = {\".jpg\", \".jpeg\", \".png\"}\n",
    "image_paths = [\n",
    "    os.path.join(directory, filename)\n",
    "    for filename in os.listdir(directory)\n",
    "    if os.path.splitext(filename)[1].lower() in allowed_extensions\n",
    "]\n",
    "base64_images = [encode_image(path) for path in image_paths]"
   ],
   "outputs": [
    {
     "name": "stdout",
     "output_type": "stream",
     "text": [
      "Encoded image: test_data\\20240826_184159.jpg\n",
      "Encoded image: test_data\\20250213_165625.jpg\n",
      "Encoded image: test_data\\20250217_081138.jpg\n",
      "Encoded image: test_data\\20250219_084504.jpg\n"
     ]
    }
   ],
   "execution_count": 124
  },
  {
   "metadata": {
    "ExecuteTime": {
     "end_time": "2025-02-27T22:56:19.454485Z",
     "start_time": "2025-02-27T22:56:16.088261Z"
    }
   },
   "cell_type": "code",
   "source": [
    "image_names = [os.path.basename(path) for path in image_paths]\n",
    "keywords_output = chat_get_key_words(base64_images, image_names)\n",
    "print(\"Mots-clés par image :\")\n",
    "print(keywords_output)"
   ],
   "id": "3e8b7bead79d8c6f",
   "outputs": [
    {
     "name": "stdout",
     "output_type": "stream",
     "text": [
      "Mots-clés par image :\n",
      "{'20240826_184159.jpg': ['chemin', 'forêt', 'nature', 'feuilles', 'détente'], '20250213_165625.jpg': ['neige', 'tempête', 'route', 'visibilité', 'hiver'], '20250217_081138.jpg': ['neige', 'voiture', 'gel', 'hiver', 'paysage'], '20250219_084504.jpg': ['traffic', 'neige', 'autobus', 'hiver', 'route']}\n"
     ]
    }
   ],
   "execution_count": 125
  },
  {
   "cell_type": "markdown",
   "id": "a23082d7",
   "metadata": {},
   "source": [
    "9s -> 1 image\n",
    "\n",
    "22s - 42s -> 4 images (pas constant)"
   ]
  },
  {
   "metadata": {
    "ExecuteTime": {
     "end_time": "2025-02-27T22:56:20.840641Z",
     "start_time": "2025-02-27T22:56:19.461222Z"
    }
   },
   "cell_type": "code",
   "source": [
    "categories_output = chat_get_categories(keywords_output)\n",
    "print(\"Catégorisation des images :\")\n",
    "print(categories_output)"
   ],
   "id": "4c09c8d9d9cd7835",
   "outputs": [
    {
     "name": "stdout",
     "output_type": "stream",
     "text": [
      "Catégorisation des images :\n",
      "{'nature': ['20240826_184159.jpg'], 'hiver': ['20250213_165625.jpg', '20250217_081138.jpg', '20250219_084504.jpg']}\n"
     ]
    }
   ],
   "execution_count": 126
  },
  {
   "metadata": {},
   "cell_type": "markdown",
   "source": "## Ajout des données au DataFrame",
   "id": "c81b0975cdb5e8a5"
  },
  {
   "cell_type": "code",
   "id": "a3da7edc6c2b974",
   "metadata": {
    "ExecuteTime": {
     "end_time": "2025-02-27T22:56:20.853554Z",
     "start_time": "2025-02-27T22:56:20.848163Z"
    }
   },
   "source": [
    "image_data = pd.read_csv(\"test_data.csv\")\n",
    "image_data"
   ],
   "outputs": [
    {
     "data": {
      "text/plain": [
       "                 Image                           Path                 Date  \\\n",
       "0  20240826_184159.jpg  test_data\\20240826_184159.jpg  2024:08:26 18:41:59   \n",
       "1  20250213_165625.jpg  test_data\\20250213_165625.jpg  2025:02:13 16:56:25   \n",
       "2  20250217_081138.jpg  test_data\\20250217_081138.jpg  2025:02:17 08:11:38   \n",
       "3  20250219_084504.jpg  test_data\\20250219_084504.jpg  2025:02:19 08:45:04   \n",
       "\n",
       "                                               Place  \n",
       "0                                                NaN  \n",
       "1                                                NaN  \n",
       "2                                                NaN  \n",
       "3  {1: 'N', 2: (48.0, 24.0, 43.5582), 3: 'W', 4: ...  "
      ],
      "text/html": [
       "<div>\n",
       "<style scoped>\n",
       "    .dataframe tbody tr th:only-of-type {\n",
       "        vertical-align: middle;\n",
       "    }\n",
       "\n",
       "    .dataframe tbody tr th {\n",
       "        vertical-align: top;\n",
       "    }\n",
       "\n",
       "    .dataframe thead th {\n",
       "        text-align: right;\n",
       "    }\n",
       "</style>\n",
       "<table border=\"1\" class=\"dataframe\">\n",
       "  <thead>\n",
       "    <tr style=\"text-align: right;\">\n",
       "      <th></th>\n",
       "      <th>Image</th>\n",
       "      <th>Path</th>\n",
       "      <th>Date</th>\n",
       "      <th>Place</th>\n",
       "    </tr>\n",
       "  </thead>\n",
       "  <tbody>\n",
       "    <tr>\n",
       "      <th>0</th>\n",
       "      <td>20240826_184159.jpg</td>\n",
       "      <td>test_data\\20240826_184159.jpg</td>\n",
       "      <td>2024:08:26 18:41:59</td>\n",
       "      <td>NaN</td>\n",
       "    </tr>\n",
       "    <tr>\n",
       "      <th>1</th>\n",
       "      <td>20250213_165625.jpg</td>\n",
       "      <td>test_data\\20250213_165625.jpg</td>\n",
       "      <td>2025:02:13 16:56:25</td>\n",
       "      <td>NaN</td>\n",
       "    </tr>\n",
       "    <tr>\n",
       "      <th>2</th>\n",
       "      <td>20250217_081138.jpg</td>\n",
       "      <td>test_data\\20250217_081138.jpg</td>\n",
       "      <td>2025:02:17 08:11:38</td>\n",
       "      <td>NaN</td>\n",
       "    </tr>\n",
       "    <tr>\n",
       "      <th>3</th>\n",
       "      <td>20250219_084504.jpg</td>\n",
       "      <td>test_data\\20250219_084504.jpg</td>\n",
       "      <td>2025:02:19 08:45:04</td>\n",
       "      <td>{1: 'N', 2: (48.0, 24.0, 43.5582), 3: 'W', 4: ...</td>\n",
       "    </tr>\n",
       "  </tbody>\n",
       "</table>\n",
       "</div>"
      ]
     },
     "execution_count": 127,
     "metadata": {},
     "output_type": "execute_result"
    }
   ],
   "execution_count": 127
  },
  {
   "metadata": {
    "ExecuteTime": {
     "end_time": "2025-02-27T22:56:20.975686Z",
     "start_time": "2025-02-27T22:56:20.972439Z"
    }
   },
   "cell_type": "code",
   "source": [
    "def add_keywords_to_df(image_data, keywords_output):\n",
    "    if keywords_output:\n",
    "        image_data[\"Keywords\"] = image_data[\"Image\"].apply(lambda img: keywords_output.get(img, None))\n",
    "    return image_data"
   ],
   "id": "96e1f2b510c0411a",
   "outputs": [],
   "execution_count": 128
  },
  {
   "metadata": {
    "ExecuteTime": {
     "end_time": "2025-02-27T22:56:21.008324Z",
     "start_time": "2025-02-27T22:56:21.002145Z"
    }
   },
   "cell_type": "code",
   "source": [
    "image_data = add_keywords_to_df(image_data, keywords_output)\n",
    "\n",
    "image_data"
   ],
   "id": "751153dae4ff559a",
   "outputs": [
    {
     "data": {
      "text/plain": [
       "                 Image                           Path                 Date  \\\n",
       "0  20240826_184159.jpg  test_data\\20240826_184159.jpg  2024:08:26 18:41:59   \n",
       "1  20250213_165625.jpg  test_data\\20250213_165625.jpg  2025:02:13 16:56:25   \n",
       "2  20250217_081138.jpg  test_data\\20250217_081138.jpg  2025:02:17 08:11:38   \n",
       "3  20250219_084504.jpg  test_data\\20250219_084504.jpg  2025:02:19 08:45:04   \n",
       "\n",
       "                                               Place  \\\n",
       "0                                                NaN   \n",
       "1                                                NaN   \n",
       "2                                                NaN   \n",
       "3  {1: 'N', 2: (48.0, 24.0, 43.5582), 3: 'W', 4: ...   \n",
       "\n",
       "                                     Keywords  \n",
       "0  [chemin, forêt, nature, feuilles, détente]  \n",
       "1  [neige, tempête, route, visibilité, hiver]  \n",
       "2       [neige, voiture, gel, hiver, paysage]  \n",
       "3     [traffic, neige, autobus, hiver, route]  "
      ],
      "text/html": [
       "<div>\n",
       "<style scoped>\n",
       "    .dataframe tbody tr th:only-of-type {\n",
       "        vertical-align: middle;\n",
       "    }\n",
       "\n",
       "    .dataframe tbody tr th {\n",
       "        vertical-align: top;\n",
       "    }\n",
       "\n",
       "    .dataframe thead th {\n",
       "        text-align: right;\n",
       "    }\n",
       "</style>\n",
       "<table border=\"1\" class=\"dataframe\">\n",
       "  <thead>\n",
       "    <tr style=\"text-align: right;\">\n",
       "      <th></th>\n",
       "      <th>Image</th>\n",
       "      <th>Path</th>\n",
       "      <th>Date</th>\n",
       "      <th>Place</th>\n",
       "      <th>Keywords</th>\n",
       "    </tr>\n",
       "  </thead>\n",
       "  <tbody>\n",
       "    <tr>\n",
       "      <th>0</th>\n",
       "      <td>20240826_184159.jpg</td>\n",
       "      <td>test_data\\20240826_184159.jpg</td>\n",
       "      <td>2024:08:26 18:41:59</td>\n",
       "      <td>NaN</td>\n",
       "      <td>[chemin, forêt, nature, feuilles, détente]</td>\n",
       "    </tr>\n",
       "    <tr>\n",
       "      <th>1</th>\n",
       "      <td>20250213_165625.jpg</td>\n",
       "      <td>test_data\\20250213_165625.jpg</td>\n",
       "      <td>2025:02:13 16:56:25</td>\n",
       "      <td>NaN</td>\n",
       "      <td>[neige, tempête, route, visibilité, hiver]</td>\n",
       "    </tr>\n",
       "    <tr>\n",
       "      <th>2</th>\n",
       "      <td>20250217_081138.jpg</td>\n",
       "      <td>test_data\\20250217_081138.jpg</td>\n",
       "      <td>2025:02:17 08:11:38</td>\n",
       "      <td>NaN</td>\n",
       "      <td>[neige, voiture, gel, hiver, paysage]</td>\n",
       "    </tr>\n",
       "    <tr>\n",
       "      <th>3</th>\n",
       "      <td>20250219_084504.jpg</td>\n",
       "      <td>test_data\\20250219_084504.jpg</td>\n",
       "      <td>2025:02:19 08:45:04</td>\n",
       "      <td>{1: 'N', 2: (48.0, 24.0, 43.5582), 3: 'W', 4: ...</td>\n",
       "      <td>[traffic, neige, autobus, hiver, route]</td>\n",
       "    </tr>\n",
       "  </tbody>\n",
       "</table>\n",
       "</div>"
      ]
     },
     "execution_count": 129,
     "metadata": {},
     "output_type": "execute_result"
    }
   ],
   "execution_count": 129
  },
  {
   "metadata": {
    "ExecuteTime": {
     "end_time": "2025-02-27T22:56:21.048363Z",
     "start_time": "2025-02-27T22:56:21.045718Z"
    }
   },
   "cell_type": "code",
   "source": [
    "def add_categories_to_df(image_data, categories_output):\n",
    "    if categories_output:\n",
    "        image_data[\"Category\"] = image_data[\"Image\"].map(lambda image: next((cat for cat in categories_output if image in categories_output[cat]), None))\n",
    "    else:\n",
    "        print(\"Aucune catégorisation trouvée !\")\n",
    "\n",
    "    return image_data"
   ],
   "id": "26fd4a27adc7d223",
   "outputs": [],
   "execution_count": 130
  },
  {
   "metadata": {
    "ExecuteTime": {
     "end_time": "2025-02-27T22:56:21.087947Z",
     "start_time": "2025-02-27T22:56:21.084467Z"
    }
   },
   "cell_type": "code",
   "source": [
    "image_data = add_keywords_to_df(image_data, keywords_output)\n",
    "image_data = add_categories_to_df(image_data, categories_output)"
   ],
   "id": "fbbe114fa4ae4f54",
   "outputs": [],
   "execution_count": 131
  },
  {
   "metadata": {
    "ExecuteTime": {
     "end_time": "2025-02-27T22:56:21.118371Z",
     "start_time": "2025-02-27T22:56:21.112273Z"
    }
   },
   "cell_type": "code",
   "source": "image_data",
   "id": "c5669509e9c4d236",
   "outputs": [
    {
     "data": {
      "text/plain": [
       "                 Image                           Path                 Date  \\\n",
       "0  20240826_184159.jpg  test_data\\20240826_184159.jpg  2024:08:26 18:41:59   \n",
       "1  20250213_165625.jpg  test_data\\20250213_165625.jpg  2025:02:13 16:56:25   \n",
       "2  20250217_081138.jpg  test_data\\20250217_081138.jpg  2025:02:17 08:11:38   \n",
       "3  20250219_084504.jpg  test_data\\20250219_084504.jpg  2025:02:19 08:45:04   \n",
       "\n",
       "                                               Place  \\\n",
       "0                                                NaN   \n",
       "1                                                NaN   \n",
       "2                                                NaN   \n",
       "3  {1: 'N', 2: (48.0, 24.0, 43.5582), 3: 'W', 4: ...   \n",
       "\n",
       "                                     Keywords Category  \n",
       "0  [chemin, forêt, nature, feuilles, détente]   nature  \n",
       "1  [neige, tempête, route, visibilité, hiver]    hiver  \n",
       "2       [neige, voiture, gel, hiver, paysage]    hiver  \n",
       "3     [traffic, neige, autobus, hiver, route]    hiver  "
      ],
      "text/html": [
       "<div>\n",
       "<style scoped>\n",
       "    .dataframe tbody tr th:only-of-type {\n",
       "        vertical-align: middle;\n",
       "    }\n",
       "\n",
       "    .dataframe tbody tr th {\n",
       "        vertical-align: top;\n",
       "    }\n",
       "\n",
       "    .dataframe thead th {\n",
       "        text-align: right;\n",
       "    }\n",
       "</style>\n",
       "<table border=\"1\" class=\"dataframe\">\n",
       "  <thead>\n",
       "    <tr style=\"text-align: right;\">\n",
       "      <th></th>\n",
       "      <th>Image</th>\n",
       "      <th>Path</th>\n",
       "      <th>Date</th>\n",
       "      <th>Place</th>\n",
       "      <th>Keywords</th>\n",
       "      <th>Category</th>\n",
       "    </tr>\n",
       "  </thead>\n",
       "  <tbody>\n",
       "    <tr>\n",
       "      <th>0</th>\n",
       "      <td>20240826_184159.jpg</td>\n",
       "      <td>test_data\\20240826_184159.jpg</td>\n",
       "      <td>2024:08:26 18:41:59</td>\n",
       "      <td>NaN</td>\n",
       "      <td>[chemin, forêt, nature, feuilles, détente]</td>\n",
       "      <td>nature</td>\n",
       "    </tr>\n",
       "    <tr>\n",
       "      <th>1</th>\n",
       "      <td>20250213_165625.jpg</td>\n",
       "      <td>test_data\\20250213_165625.jpg</td>\n",
       "      <td>2025:02:13 16:56:25</td>\n",
       "      <td>NaN</td>\n",
       "      <td>[neige, tempête, route, visibilité, hiver]</td>\n",
       "      <td>hiver</td>\n",
       "    </tr>\n",
       "    <tr>\n",
       "      <th>2</th>\n",
       "      <td>20250217_081138.jpg</td>\n",
       "      <td>test_data\\20250217_081138.jpg</td>\n",
       "      <td>2025:02:17 08:11:38</td>\n",
       "      <td>NaN</td>\n",
       "      <td>[neige, voiture, gel, hiver, paysage]</td>\n",
       "      <td>hiver</td>\n",
       "    </tr>\n",
       "    <tr>\n",
       "      <th>3</th>\n",
       "      <td>20250219_084504.jpg</td>\n",
       "      <td>test_data\\20250219_084504.jpg</td>\n",
       "      <td>2025:02:19 08:45:04</td>\n",
       "      <td>{1: 'N', 2: (48.0, 24.0, 43.5582), 3: 'W', 4: ...</td>\n",
       "      <td>[traffic, neige, autobus, hiver, route]</td>\n",
       "      <td>hiver</td>\n",
       "    </tr>\n",
       "  </tbody>\n",
       "</table>\n",
       "</div>"
      ]
     },
     "execution_count": 132,
     "metadata": {},
     "output_type": "execute_result"
    }
   ],
   "execution_count": 132
  },
  {
   "metadata": {
    "ExecuteTime": {
     "end_time": "2025-02-27T22:56:21.158555Z",
     "start_time": "2025-02-27T22:56:21.156543Z"
    }
   },
   "cell_type": "code",
   "source": "",
   "id": "f0fa26ead8957b75",
   "outputs": [],
   "execution_count": null
  }
 ],
 "metadata": {
  "kernelspec": {
   "display_name": "Python (SnapSort)",
   "language": "python",
   "name": "snapsort_venv"
  },
  "language_info": {
   "codemirror_mode": {
    "name": "ipython",
    "version": 3
   },
   "file_extension": ".py",
   "mimetype": "text/x-python",
   "name": "python",
   "nbconvert_exporter": "python",
   "pygments_lexer": "ipython3",
   "version": "3.13.0"
  }
 },
 "nbformat": 4,
 "nbformat_minor": 5
}
