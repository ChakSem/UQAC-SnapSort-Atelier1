{
 "cells": [
  {
   "cell_type": "code",
   "id": "initial_id",
   "metadata": {
    "collapsed": true,
    "ExecuteTime": {
     "end_time": "2025-03-21T14:54:54.794187Z",
     "start_time": "2025-03-21T14:54:54.790082Z"
    }
   },
   "source": [
    "from langchain_ollama import ChatOllama, OllamaEmbeddings\n",
    "from langchain_core.messages import SystemMessage, HumanMessage\n",
    "from langchain.schema import AIMessage\n",
    "import json\n",
    "import re\n",
    "from langchain_core.runnables import RunnableLambda\n",
    "import base64\n",
    "from PIL import Image\n",
    "import io\n",
    "import os\n",
    "import pandas as pd\n",
    "from tabulate import tabulate"
   ],
   "outputs": [],
   "execution_count": 429
  },
  {
   "metadata": {
    "ExecuteTime": {
     "end_time": "2025-03-21T14:54:55.206862Z",
     "start_time": "2025-03-21T14:54:54.824290Z"
    }
   },
   "cell_type": "code",
   "source": [
    "llm = ChatOllama(model=\"gemma3\")\n",
    "directory = \"test_data\""
   ],
   "id": "e55ff35b0ee7a5da",
   "outputs": [],
   "execution_count": 430
  },
  {
   "metadata": {},
   "cell_type": "raw",
   "source": "llm.invoke(\"Y a t il une limite à la taille du prompt que je peux t'envoyer?\")",
   "id": "6e71e43847ca5d02"
  },
  {
   "metadata": {
    "ExecuteTime": {
     "end_time": "2025-03-21T14:54:55.212243Z",
     "start_time": "2025-03-21T14:54:55.208872Z"
    }
   },
   "cell_type": "code",
   "source": [
    "def encode_image(image_path, max_size=(512, 512), quality=80):\n",
    "    image = Image.open(image_path)\n",
    "\n",
    "    # Redimensionner l'image\n",
    "    image.thumbnail(max_size)\n",
    "\n",
    "    # Convertir en bytes avec compression\n",
    "    buffer = io.BytesIO()\n",
    "    image.save(buffer, format=\"JPEG\", quality=quality)\n",
    "\n",
    "    # Encoder en Base64\n",
    "    encoded_string = base64.b64encode(buffer.getvalue()).decode(\"utf-8\")\n",
    "\n",
    "    return encoded_string"
   ],
   "id": "ba9dbc3662262eb7",
   "outputs": [],
   "execution_count": 431
  },
  {
   "metadata": {},
   "cell_type": "raw",
   "source": [
    "def get_system_message():\n",
    "    system_message_text = '''\n",
    "    Tu es un expert en analyse d'images et de photos.\n",
    "    Tu es très perspicace dans l'analyse des images et des photos.\n",
    "    Tu as une excellente vision.\n",
    "    Tu ne lis aucun texte à moins qu'il ne soit le plus proéminent dans l'image.\n",
    "    Tu dois toujours produire tes résultats en langue française\n",
    "    '''\n",
    "    return system_message_text"
   ],
   "id": "f09c237a6b237272"
  },
  {
   "metadata": {
    "ExecuteTime": {
     "end_time": "2025-03-21T14:54:55.222305Z",
     "start_time": "2025-03-21T14:54:55.219762Z"
    }
   },
   "cell_type": "code",
   "source": [
    "def extract_json(response_text):\n",
    "    \"\"\"\n",
    "    Extrait la portion JSON (délimitée par {}) de la réponse textuelle pour seulement avoir le dictionnaire et non le texte généré par l'ia.\n",
    "    \"\"\"\n",
    "    match = re.search(r'\\{.*\\}', response_text, re.DOTALL)\n",
    "    if match:\n",
    "        json_str = match.group()\n",
    "        try:\n",
    "            return json.loads(json_str)\n",
    "        except Exception as e:\n",
    "            print(f\"Erreur lors du chargement du JSON : {e}\")\n",
    "            return None\n",
    "    else:\n",
    "        print(\"Aucun JSON trouvé dans la réponse.\")\n",
    "        return None"
   ],
   "id": "100997060be3ad5a",
   "outputs": [],
   "execution_count": 432
  },
  {
   "metadata": {
    "ExecuteTime": {
     "end_time": "2025-03-21T14:54:55.237571Z",
     "start_time": "2025-03-21T14:54:55.234454Z"
    }
   },
   "cell_type": "code",
   "source": [
    "def prompt_func(data):\n",
    "    type_ = data[\"type\"]\n",
    "    text = data[\"text\"]\n",
    "    content_parts = []\n",
    "\n",
    "    if type_ == \"keywords\":\n",
    "        image = data[\"image\"]\n",
    "        image_part = {\n",
    "            \"type\": \"image_url\",\n",
    "            \"image_url\": f\"data:image/jpeg;base64,{image}\",\n",
    "        }\n",
    "        content_parts.append(image_part)\n",
    "\n",
    "    #system_message = SystemMessage(content=data[\"system_message_text\"])\n",
    "\n",
    "    text_part = {\"type\": \"text\", \"text\": text}\n",
    "\n",
    "    content_parts.append(text_part)\n",
    "\n",
    "    human_message = HumanMessage(content=content_parts)\n",
    "\n",
    "    #return [system_message, human_message]\n",
    "    return [human_message]"
   ],
   "id": "7a98e309fbbefc59",
   "outputs": [],
   "execution_count": 433
  },
  {
   "metadata": {
    "ExecuteTime": {
     "end_time": "2025-03-21T14:54:55.243771Z",
     "start_time": "2025-03-21T14:54:55.240582Z"
    }
   },
   "cell_type": "code",
   "source": [
    "def call_func(chain, prompt):\n",
    "    try:\n",
    "        response = chain.invoke(prompt)\n",
    "\n",
    "        if isinstance(response, AIMessage):\n",
    "            response_text = response.content\n",
    "        else:\n",
    "            response_text = str(response)  # Conversion en string si nécessaire\n",
    "\n",
    "        #print(f\"Reponse du llm : {response_text}\")\n",
    "\n",
    "        return extract_json(response_text)\n",
    "\n",
    "    except Exception as e:\n",
    "        print(f\"Erreur de parsing JSON : {e}. Nouvelle tentative...\")\n",
    "        return -1"
   ],
   "id": "c49d447d4cd3615",
   "outputs": [],
   "execution_count": 434
  },
  {
   "metadata": {
    "ExecuteTime": {
     "end_time": "2025-03-21T14:54:55.253924Z",
     "start_time": "2025-03-21T14:54:55.250805Z"
    }
   },
   "cell_type": "code",
   "source": [
    "def get_image_paths(directory):\n",
    "    allowed_extensions = {\".jpg\", \".jpeg\", \".png\"}\n",
    "    image_paths = [os.path.join(directory, filename) for filename in os.listdir(directory) if os.path.splitext(filename)[1].lower() in allowed_extensions]\n",
    "    return image_paths"
   ],
   "id": "d024734a798d4921",
   "outputs": [],
   "execution_count": 435
  },
  {
   "metadata": {
    "ExecuteTime": {
     "end_time": "2025-03-21T14:54:55.263408Z",
     "start_time": "2025-03-21T14:54:55.259718Z"
    }
   },
   "cell_type": "code",
   "source": [
    "def create_df(image_paths):\n",
    "    image_list = []\n",
    "    for path in image_paths:\n",
    "        image = Image.open(path)\n",
    "        image_name = os.path.basename(path)\n",
    "        exifdata = image._getexif()\n",
    "        date_time, localisation = None, None\n",
    "        if exifdata:\n",
    "            for tag_id, value in exifdata.items():\n",
    "                tag = Image.ExifTags.TAGS.get(tag_id, tag_id)\n",
    "                if tag == \"DateTime\":\n",
    "                    date_time = value\n",
    "                elif tag == \"GPSInfo\":\n",
    "                    localisation = value\n",
    "\n",
    "            image_list.append((image_name, path, date_time, localisation))\n",
    "\n",
    "        else:\n",
    "            print(\"Aucune donnée EXIF trouvée.\")\n",
    "\n",
    "    df = pd.DataFrame(image_list, columns=[\"image_name\", \"path\", \"date_time\", \"localisation\"])\n",
    "    df[\"keywords\"] = \"\"\n",
    "    df[\"categories\"] = \"\"\n",
    "\n",
    "    return df"
   ],
   "id": "8ac81c92589d79a9",
   "outputs": [],
   "execution_count": 436
  },
  {
   "metadata": {
    "ExecuteTime": {
     "end_time": "2025-03-21T14:54:55.273056Z",
     "start_time": "2025-03-21T14:54:55.269935Z"
    }
   },
   "cell_type": "code",
   "source": [
    "def add_keywords_to_df(image_data, keywords_output):\n",
    "    if keywords_output:\n",
    "        # Mise à jour uniquement pour les images présentes dans keywords_output\n",
    "        image_data[\"keywords\"] = image_data.apply(\n",
    "            lambda row: keywords_output[row[\"image_name\"]]\n",
    "            if row[\"image_name\"] in keywords_output else row[\"keywords\"], axis=1\n",
    "        )\n",
    "    else:\n",
    "        print(\"Aucun mot clé fourni ! \")\n",
    "    return image_data"
   ],
   "id": "7235eab71a0acee6",
   "outputs": [],
   "execution_count": 437
  },
  {
   "metadata": {
    "ExecuteTime": {
     "end_time": "2025-03-21T14:54:55.282204Z",
     "start_time": "2025-03-21T14:54:55.278875Z"
    }
   },
   "cell_type": "code",
   "source": [
    "def add_categories_to_df(image_data, categories_output):\n",
    "    if categories_output:\n",
    "        #Inversion du dict : on associe une categorie a chaque image\n",
    "        image_to_categories = {img: cat for cat, images in categories_output.items() for img in images}\n",
    "\n",
    "        image_data.loc[image_data[\"image_name\"].isin(image_to_categories.keys()), \"categories\"] = image_data[\"image_name\"].map(image_to_categories)\n",
    "    else:\n",
    "        print(\"Aucune catégorisation trouvée !\")\n",
    "\n",
    "    return image_data"
   ],
   "id": "554ea0d80a8ac07d",
   "outputs": [],
   "execution_count": 438
  },
  {
   "metadata": {
    "ExecuteTime": {
     "end_time": "2025-03-21T14:54:55.290920Z",
     "start_time": "2025-03-21T14:54:55.287717Z"
    }
   },
   "cell_type": "code",
   "source": [
    "def get_missing_values(dictionnary):\n",
    "    missing_values = {}\n",
    "    for key, value in dictionnary.items():\n",
    "        if value is None or value == \"\" or value == \"nan\" or value == \"None\":\n",
    "            missing_values.update({key: value})\n",
    "\n",
    "    return missing_values"
   ],
   "id": "e6a4dfb04611b469",
   "outputs": [],
   "execution_count": 439
  },
  {
   "metadata": {
    "ExecuteTime": {
     "end_time": "2025-03-21T14:54:55.300498Z",
     "start_time": "2025-03-21T14:54:55.297592Z"
    }
   },
   "cell_type": "code",
   "source": [
    "def get_missing_path(paths, dictionnary):\n",
    "    missing_paths = []\n",
    "    for path in paths:\n",
    "        image_name = os.path.split(path)[-1]\n",
    "        #print(f\"image_name : {image_name}\")\n",
    "        if image_name in dictionnary.keys() or path in dictionnary.keys():\n",
    "            missing_paths.append(path)\n",
    "\n",
    "    return missing_paths"
   ],
   "id": "cc6c729477b4f454",
   "outputs": [],
   "execution_count": 440
  },
  {
   "metadata": {
    "ExecuteTime": {
     "end_time": "2025-03-21T14:54:55.309054Z",
     "start_time": "2025-03-21T14:54:55.306058Z"
    }
   },
   "cell_type": "code",
   "source": [
    "def get_missing_values_path(paths, dictionnary):\n",
    "    missing_values = get_missing_values(dictionnary)\n",
    "    missing_paths = get_missing_path(paths, missing_values)\n",
    "    print(f\"Images détectées avec valeurs manquantes : {missing_values.keys()}\")\n",
    "    print(f\"Chemins renvoyés pour traitement : {missing_paths}\")\n",
    "    return missing_paths"
   ],
   "id": "79e858afe38a1a74",
   "outputs": [],
   "execution_count": 441
  },
  {
   "metadata": {
    "ExecuteTime": {
     "end_time": "2025-03-21T14:54:55.318212Z",
     "start_time": "2025-03-21T14:54:55.315878Z"
    }
   },
   "cell_type": "code",
   "source": [
    "def checking_all_keywords(df):\n",
    "    path_images_empty = []\n",
    "    none_possibilities = [None, \"\", [], \"None\", [\"None\"]]\n",
    "    for row in df.itertuples():\n",
    "        keywords = row.keywords\n",
    "        if isinstance(keywords, float) and pd.isna(keywords):\n",
    "            path_images_empty.append(row.path)\n",
    "\n",
    "        elif keywords in none_possibilities:\n",
    "            path_images_empty.append(row.path)\n",
    "\n",
    "    return path_images_empty"
   ],
   "id": "97f98af2af712c43",
   "outputs": [],
   "execution_count": 442
  },
  {
   "metadata": {
    "ExecuteTime": {
     "end_time": "2025-03-21T14:54:55.328322Z",
     "start_time": "2025-03-21T14:54:55.325266Z"
    }
   },
   "cell_type": "code",
   "source": [
    "def keywords_call(df, image_paths, keywords_chain):\n",
    "    for i in range(0, len(image_paths)):\n",
    "        print(f\"Image {i} : {image_paths[i]}\")\n",
    "        image_b64 = encode_image(image_paths[i])\n",
    "        image_name = os.path.basename(image_paths[i])\n",
    "        #print(\"Image name donnée au model : \", image_name)\n",
    "\n",
    "        wrong_json = True\n",
    "        max_iter = 100\n",
    "        while wrong_json and max_iter > 0:\n",
    "            prompt = {\n",
    "                \"type\": \"keywords\",\n",
    "                \"text\": f\"\"\"Décris-moi l'image avec 5 mots-clés. Les mots-clés doivent en priorité inclure des actions, des objets et un lieu si identifiables. Les mots-clés doivent être en français et peuvent être des mots composés.\n",
    "                Retourne le résultat au format JSON suivant: {{ \"{image_name}\" : [\"mot-clé1\", \"mot-clé2\", \"mot-clé3\", \"mot-clé4\", \"mot-clé5\"] }}\"\"\",\n",
    "                \"image\": image_b64\n",
    "            }\n",
    "\n",
    "            keywords_output = call_func(keywords_chain, prompt)\n",
    "            print(f\"Keywords : {keywords_output}\\n\")\n",
    "\n",
    "            if keywords_output is None:\n",
    "                max_iter -= 1\n",
    "                print(f\"On re-essaie avec au maximum : {max_iter}\\n\")\n",
    "            else:\n",
    "                df = add_keywords_to_df(df, keywords_output)\n",
    "                wrong_json = False\n",
    "\n",
    "    return df"
   ],
   "id": "e6944e583d5e6daa",
   "outputs": [],
   "execution_count": 443
  },
  {
   "metadata": {
    "ExecuteTime": {
     "end_time": "2025-03-21T14:54:55.337490Z",
     "start_time": "2025-03-21T14:54:55.333960Z"
    }
   },
   "cell_type": "code",
   "source": [
    "def pipeline_keywords(image_paths):\n",
    "    image_data = create_df(image_paths)\n",
    "    new_image_paths = image_paths\n",
    "\n",
    "    prompt_chain = RunnableLambda(prompt_func)\n",
    "    keyword_chain = prompt_chain | llm\n",
    "\n",
    "    all_keywords = False\n",
    "    only_once = False\n",
    "\n",
    "    while not all_keywords :\n",
    "        print(\"Entree dans le while\")\n",
    "        image_data = keywords_call(image_data, new_image_paths, keyword_chain)\n",
    "\n",
    "        if only_once:\n",
    "            new_row = pd.DataFrame([{\"image_name\" : \"IMG_20241228_132157.jpg\",\"path\": \"photos_victor/IMG_20241228_132157.jpg\"}])\n",
    "            image_data = pd.concat([image_data, new_row], ignore_index=True)\n",
    "            only_once = False\n",
    "\n",
    "        new_image_paths = checking_all_keywords(image_data)\n",
    "        print(f\"Images à traiter après le passage : {new_image_paths}\")\n",
    "\n",
    "        if not new_image_paths:\n",
    "            all_keywords = True\n",
    "\n",
    "    return image_data"
   ],
   "id": "e0b11d3724df1fee",
   "outputs": [],
   "execution_count": 444
  },
  {
   "metadata": {
    "ExecuteTime": {
     "end_time": "2025-03-21T14:55:45.590978Z",
     "start_time": "2025-03-21T14:54:55.344164Z"
    }
   },
   "cell_type": "code",
   "source": [
    "image_paths = get_image_paths(directory)\n",
    "image_data = pipeline_keywords(image_paths)"
   ],
   "id": "a6a3c4b8092e3702",
   "outputs": [
    {
     "name": "stdout",
     "output_type": "stream",
     "text": [
      "Entree dans le while\n",
      "Image 0 : test_data\\20240822_142034.jpg\n",
      "Keywords : {'20240822_142034.jpg': ['immeuble', 'façade', 'rue', 'architecture', 'perspective']}\n",
      "\n",
      "Image 1 : test_data\\20240822_142036.jpg\n",
      "Keywords : {'20240822_142036.jpg': ['Bâtiment', 'Vitres', 'Rue', 'Brique', 'Éclair']}\n",
      "\n",
      "Image 2 : test_data\\20240822_142048.jpg\n",
      "Keywords : {'20240822_142048.jpg': ['Architecture', 'Ville', 'Voiture', 'Reflets', 'Pluie']}\n",
      "\n",
      "Image 3 : test_data\\20240825_121144.jpg\n",
      "Keywords : {'20240825_121144.jpg': ['Pot', 'Beurre', 'Marché', 'Texture', 'Smooth']}\n",
      "\n",
      "Image 4 : test_data\\20240826_184159.jpg\n",
      "Keywords : {'20240826_184159.jpg': ['Chemin', 'Forêt', 'Ombre', 'Arbres', 'Sentier']}\n",
      "\n",
      "Image 5 : test_data\\20240827_084810.jpg\n",
      "Keywords : {'20240827_084810.jpg': ['Bâtiments', 'Pelouse', 'Ombre', 'Ciel', 'Terrasse']}\n",
      "\n",
      "Image 6 : test_data\\20240827_084914.jpg\n",
      "Keywords : {'20240827_084914.jpg': ['Tentes', 'Allée', 'Événement', 'Plat', 'Éclairage']}\n",
      "\n",
      "Image 7 : test_data\\20240827_092136.jpg\n",
      "Keywords : {'20240827_092136.jpg': ['Bâtiment', 'Panneau', 'Ville', 'Herbe', 'Arc-en-ciel']}\n",
      "\n",
      "Image 8 : test_data\\20240828_141857.jpg\n",
      "Keywords : {'20240828_141857.jpg': ['références', 'bonbons', 'réfrigérateur', 'Mars', 'colorés']}\n",
      "\n",
      "Image 9 : test_data\\20240828_174310.jpg\n",
      "Keywords : {'20240828_174310.jpg': ['Boîtes', 'Postes', 'Gazon', 'Rue', 'Perspective']}\n",
      "\n",
      "Image 10 : test_data\\20240828_211839.jpg\n",
      "Keywords : {'20240828_211839.jpg': ['contenants', 'plat', 'four', 'cuisson', 'cuisine']}\n",
      "\n",
      "Image 11 : test_data\\20240830_104749.jpg\n",
      "Keywords : {'20240830_104749.jpg': ['paquets', 'carton', 'étagère', 'bois', 'table']}\n",
      "\n",
      "Image 12 : test_data\\20240831_160656.jpg\n",
      "Keywords : {'20240831_160656.jpg': ['Chaussures', 'Seringues', 'Étagères', 'Couleurs', 'Magasin']}\n",
      "\n",
      "Image 13 : test_data\\20240831_161613.jpg\n",
      "Keywords : {'20240831_161613.jpg': ['Vitrine', 'Chaussures', 'Éclairage', 'Centre commercial', 'Reflet']}\n",
      "\n",
      "Image 14 : test_data\\20240831_180654.jpg\n",
      "Keywords : {'20240831_180654.jpg': ['carte', 'thé', 'main', 'jouet', 'théière']}\n",
      "\n",
      "Image 15 : test_data\\20240831_194108.jpg\n",
      "Keywords : {'20240831_194108.jpg': ['table', 'assiette', 'yaourt', 'plat', 'nourriture']}\n",
      "\n",
      "Image 16 : test_data\\20240902_150137.jpg\n",
      "Keywords : {'20240902_150137.jpg': ['Forêt', 'Prairie', 'Rocaille', 'Ombre', 'Arbres']}\n",
      "\n",
      "Image 17 : test_data\\20240902_152654.jpg\n",
      "Keywords : {'20240902_152654.jpg': ['Arbre', 'Feuilles', 'Ciel', 'Bleu', 'Branche']}\n",
      "\n",
      "Image 18 : test_data\\20240902_162507.jpg\n",
      "Keywords : {'20240902_162507.jpg': ['Chemin pavé', 'Clôture bois', 'Sentier forestier', 'Vallée verdoyante', 'Randonnée']}\n",
      "\n",
      "Image 19 : test_data\\20250213_165625.jpg\n",
      "Keywords : {'20250213_165625.jpg': ['Neige', 'Câbles', 'Montagne', 'Chute', 'Sombre']}\n",
      "\n",
      "Image 20 : test_data\\20250217_081138.jpg\n",
      "Keywords : {'20250217_081138.jpg': ['Neige', 'Montagne', 'Téléphérique', 'Reflet', 'Blanc']}\n",
      "\n",
      "Image 21 : test_data\\20250219_084504.jpg\n",
      "Keywords : {'20250219_084504.jpg': ['Neige', 'Route', 'Bus', 'Reflet', 'Hiver']}\n",
      "\n",
      "Images à traiter après le passage : []\n"
     ]
    }
   ],
   "execution_count": 445
  },
  {
   "metadata": {
    "ExecuteTime": {
     "end_time": "2025-03-21T14:55:45.602357Z",
     "start_time": "2025-03-21T14:55:45.597100Z"
    }
   },
   "cell_type": "code",
   "source": "print(tabulate(image_data, headers=\"keys\", tablefmt=\"psql\"))",
   "id": "e8b17ccda2b43218",
   "outputs": [
    {
     "name": "stdout",
     "output_type": "stream",
     "text": [
      "+----+---------------------+-------------------------------+---------------------+---------------------------------------------------------------------+----------------------------------------------------------------------------------------+--------------+\n",
      "|    | image_name          | path                          | date_time           | localisation                                                        | keywords                                                                               | categories   |\n",
      "|----+---------------------+-------------------------------+---------------------+---------------------------------------------------------------------+----------------------------------------------------------------------------------------+--------------|\n",
      "|  0 | 20240822_142034.jpg | test_data\\20240822_142034.jpg | 2024:08:22 14:20:34 |                                                                     | ['immeuble', 'façade', 'rue', 'architecture', 'perspective']                           |              |\n",
      "|  1 | 20240822_142036.jpg | test_data\\20240822_142036.jpg | 2024:08:22 14:20:37 |                                                                     | ['Bâtiment', 'Vitres', 'Rue', 'Brique', 'Éclair']                                      |              |\n",
      "|  2 | 20240822_142048.jpg | test_data\\20240822_142048.jpg | 2024:08:22 14:20:48 |                                                                     | ['Architecture', 'Ville', 'Voiture', 'Reflets', 'Pluie']                               |              |\n",
      "|  3 | 20240825_121144.jpg | test_data\\20240825_121144.jpg | 2024:08:25 12:11:44 |                                                                     | ['Pot', 'Beurre', 'Marché', 'Texture', 'Smooth']                                       |              |\n",
      "|  4 | 20240826_184159.jpg | test_data\\20240826_184159.jpg | 2024:08:26 18:41:59 |                                                                     | ['Chemin', 'Forêt', 'Ombre', 'Arbres', 'Sentier']                                      |              |\n",
      "|  5 | 20240827_084810.jpg | test_data\\20240827_084810.jpg | 2024:08:27 08:48:10 |                                                                     | ['Bâtiments', 'Pelouse', 'Ombre', 'Ciel', 'Terrasse']                                  |              |\n",
      "|  6 | 20240827_084914.jpg | test_data\\20240827_084914.jpg | 2024:08:27 08:49:14 |                                                                     | ['Tentes', 'Allée', 'Événement', 'Plat', 'Éclairage']                                  |              |\n",
      "|  7 | 20240827_092136.jpg | test_data\\20240827_092136.jpg | 2024:08:27 09:21:36 |                                                                     | ['Bâtiment', 'Panneau', 'Ville', 'Herbe', 'Arc-en-ciel']                               |              |\n",
      "|  8 | 20240828_141857.jpg | test_data\\20240828_141857.jpg | 2024:08:28 14:18:58 |                                                                     | ['références', 'bonbons', 'réfrigérateur', 'Mars', 'colorés']                          |              |\n",
      "|  9 | 20240828_174310.jpg | test_data\\20240828_174310.jpg | 2024:08:28 17:43:11 |                                                                     | ['Boîtes', 'Postes', 'Gazon', 'Rue', 'Perspective']                                    |              |\n",
      "| 10 | 20240828_211839.jpg | test_data\\20240828_211839.jpg | 2024:08:28 21:18:39 |                                                                     | ['contenants', 'plat', 'four', 'cuisson', 'cuisine']                                   |              |\n",
      "| 11 | 20240830_104749.jpg | test_data\\20240830_104749.jpg | 2024:08:30 10:47:50 |                                                                     | ['paquets', 'carton', 'étagère', 'bois', 'table']                                      |              |\n",
      "| 12 | 20240831_160656.jpg | test_data\\20240831_160656.jpg | 2024:08:31 16:06:57 |                                                                     | ['Chaussures', 'Seringues', 'Étagères', 'Couleurs', 'Magasin']                         |              |\n",
      "| 13 | 20240831_161613.jpg | test_data\\20240831_161613.jpg | 2024:08:31 16:16:13 |                                                                     | ['Vitrine', 'Chaussures', 'Éclairage', 'Centre commercial', 'Reflet']                  |              |\n",
      "| 14 | 20240831_180654.jpg | test_data\\20240831_180654.jpg | 2024:08:31 18:06:55 |                                                                     | ['carte', 'thé', 'main', 'jouet', 'théière']                                           |              |\n",
      "| 15 | 20240831_194108.jpg | test_data\\20240831_194108.jpg | 2024:08:31 19:41:08 |                                                                     | ['table', 'assiette', 'yaourt', 'plat', 'nourriture']                                  |              |\n",
      "| 16 | 20240902_150137.jpg | test_data\\20240902_150137.jpg | 2024:09:02 15:01:38 |                                                                     | ['Forêt', 'Prairie', 'Rocaille', 'Ombre', 'Arbres']                                    |              |\n",
      "| 17 | 20240902_152654.jpg | test_data\\20240902_152654.jpg | 2024:09:02 15:26:54 |                                                                     | ['Arbre', 'Feuilles', 'Ciel', 'Bleu', 'Branche']                                       |              |\n",
      "| 18 | 20240902_162507.jpg | test_data\\20240902_162507.jpg | 2024:09:02 16:25:07 |                                                                     | ['Chemin pavé', 'Clôture bois', 'Sentier forestier', 'Vallée verdoyante', 'Randonnée'] |              |\n",
      "| 19 | 20250213_165625.jpg | test_data\\20250213_165625.jpg | 2025:02:13 16:56:25 |                                                                     | ['Neige', 'Câbles', 'Montagne', 'Chute', 'Sombre']                                     |              |\n",
      "| 20 | 20250217_081138.jpg | test_data\\20250217_081138.jpg | 2025:02:17 08:11:38 |                                                                     | ['Neige', 'Montagne', 'Téléphérique', 'Reflet', 'Blanc']                               |              |\n",
      "| 21 | 20250219_084504.jpg | test_data\\20250219_084504.jpg | 2025:02:19 08:45:04 | {1: 'N', 2: (48.0, 24.0, 43.5582), 3: 'W', 4: (71.0, 3.0, 4.06764)} | ['Neige', 'Route', 'Bus', 'Reflet', 'Hiver']                                           |              |\n",
      "+----+---------------------+-------------------------------+---------------------+---------------------------------------------------------------------+----------------------------------------------------------------------------------------+--------------+\n"
     ]
    }
   ],
   "execution_count": 446
  },
  {
   "metadata": {
    "ExecuteTime": {
     "end_time": "2025-03-21T14:55:45.621808Z",
     "start_time": "2025-03-21T14:55:45.618532Z"
    }
   },
   "cell_type": "code",
   "source": [
    "def checking_all_categories(df):\n",
    "    keywords_empty_categories = {}\n",
    "    none_possibilities = [None, \"\", [], \"None\", [\"None\"]]\n",
    "    for row in df.itertuples():\n",
    "        check = row.categories\n",
    "        if isinstance(check, float) and pd.isna(check):\n",
    "            keywords_empty_categories.update({row.image_name: row.keywords})\n",
    "        elif check in none_possibilities:\n",
    "            keywords_empty_categories.update({row.image_name: row.keywords})\n",
    "\n",
    "    return keywords_empty_categories"
   ],
   "id": "88f50257ee209d0b",
   "outputs": [],
   "execution_count": 447
  },
  {
   "metadata": {
    "ExecuteTime": {
     "end_time": "2025-03-21T14:55:45.654368Z",
     "start_time": "2025-03-21T14:55:45.651369Z"
    }
   },
   "cell_type": "code",
   "source": [
    "def get_cat_list(df, initial_cat_list):\n",
    "    cat_list = initial_cat_list\n",
    "    for row in df.itertuples():\n",
    "        if row.categories not in cat_list:\n",
    "            cat_list.append(row.categories)\n",
    "\n",
    "    return cat_list"
   ],
   "id": "186272608bb5ea7e",
   "outputs": [],
   "execution_count": 448
  },
  {
   "metadata": {
    "ExecuteTime": {
     "end_time": "2025-03-21T14:55:45.703488Z",
     "start_time": "2025-03-21T14:55:45.699163Z"
    }
   },
   "cell_type": "code",
   "source": [
    "def categories_call(df, keywords, limit_size, cat_list, cat_chain):\n",
    "    for i in range(0, len(keywords), limit_size):\n",
    "        interval = [i, min(i + limit_size, len(df))]\n",
    "\n",
    "        subset_keys = list(keywords.keys())[interval[0]:interval[1]]\n",
    "\n",
    "        subset_keywords = {key: keywords[key] for key in subset_keys}\n",
    "        print(f\"Keywords : {subset_keywords}\")\n",
    "\n",
    "        wrong_json = True\n",
    "        max_iter = 100\n",
    "        while wrong_json and max_iter > 0:\n",
    "            prompt = {\"type\":\"categories\", \"text\":f\"\"\"\n",
    "                1. Regroupe les images en fonction de l'action, évènement ou de l'activité qu'elles représentent.\n",
    "                2. Chaque catégorie est définie par un seul mot-clé descriptif.\n",
    "                3. Une image ne peut appartenir qu'à une seule catégorie.\n",
    "                4. Priorise les catégories existantes : {cat_list}. Si une image correspond à l'une d'elles, classe-la dedans.\n",
    "                5. Si aucune catégorie existante ne convient, crée une nouvelle catégorie proche d’une activité de voyage ou une catégorie plus générique (ex: \"Nature\", \"Repas\", \"Loisirs\")\n",
    "                6. Réduis autant que possible la catégorie \"Autres\". N’y mets une image que si elle est vraiment impossible à classer ailleurs.\n",
    "\n",
    "                - Listes de mots-clés détectés pour chaque image dans le format dict = \"image_name\": [mots-cles] : {subset_keywords}\n",
    "\n",
    "                Retourne uniquement le résultat et au format JSON : {{ \"categorie1\": [ \"image_name\", \"image_name\" ], \"categorie2\": [ \"image_name\", \"image_name\" ],...}}\"\"\"\n",
    "            }\n",
    "\n",
    "            categories_output = call_func(cat_chain, prompt)\n",
    "            print(f\"Categories : {categories_output}\\n\")\n",
    "\n",
    "            if categories_output is None:\n",
    "                max_iter -= 1\n",
    "                print(f\"On re-essaie avec au maximum : {max_iter}\\n\")\n",
    "            else:\n",
    "                df = add_categories_to_df(df, categories_output)\n",
    "                cat_list = get_cat_list(df, cat_list)\n",
    "                print(f\"Nouvelle liste des categories : {cat_list}\")\n",
    "                wrong_json = False\n",
    "\n",
    "    return df"
   ],
   "id": "4bb966e9491ba8be",
   "outputs": [],
   "execution_count": 449
  },
  {
   "metadata": {
    "ExecuteTime": {
     "end_time": "2025-03-21T14:55:45.724968Z",
     "start_time": "2025-03-21T14:55:45.720626Z"
    }
   },
   "cell_type": "code",
   "source": [
    "def pipeline_categories(image_data, limit_size=20):\n",
    "    new_keywords = image_data.set_index(\"image_name\")[\"keywords\"].to_dict()\n",
    "    #print(new_keywords)\n",
    "    cat_list = [\"Paysage\", \"Ville\", \"Plage\", \"Randonnée\", \"Sport\", \"Musée\", \"Restaurant\", \"Autres\"]\n",
    "\n",
    "    prompt_chain = RunnableLambda(prompt_func)\n",
    "    cat_chain = prompt_chain | llm\n",
    "\n",
    "    all_categories = False\n",
    "    only_once = False\n",
    "\n",
    "    while not all_categories:\n",
    "        image_data = categories_call(image_data, new_keywords, limit_size, cat_list, cat_chain)\n",
    "\n",
    "        if only_once:\n",
    "            image_data.loc[1, \"categories\"] = None\n",
    "            only_once = False\n",
    "\n",
    "\n",
    "        new_keywords = checking_all_categories(image_data)\n",
    "        print(f\"Kewords à repasser après checking : {new_keywords}\")\n",
    "        cat_list = get_cat_list(image_data, cat_list)\n",
    "\n",
    "        if not new_keywords:\n",
    "            all_categories = True\n",
    "\n",
    "    return image_data"
   ],
   "id": "8afb4c5dbb0ffa3d",
   "outputs": [],
   "execution_count": 450
  },
  {
   "metadata": {
    "ExecuteTime": {
     "end_time": "2025-03-21T14:56:08.211223Z",
     "start_time": "2025-03-21T14:55:45.733165Z"
    }
   },
   "cell_type": "code",
   "source": "copy_image_data = pipeline_categories(image_data, limit_size=22)",
   "id": "7b77397eb7820b22",
   "outputs": [
    {
     "name": "stdout",
     "output_type": "stream",
     "text": [
      "Keywords : {'20240822_142034.jpg': ['immeuble', 'façade', 'rue', 'architecture', 'perspective'], '20240822_142036.jpg': ['Bâtiment', 'Vitres', 'Rue', 'Brique', 'Éclair'], '20240822_142048.jpg': ['Architecture', 'Ville', 'Voiture', 'Reflets', 'Pluie'], '20240825_121144.jpg': ['Pot', 'Beurre', 'Marché', 'Texture', 'Smooth'], '20240826_184159.jpg': ['Chemin', 'Forêt', 'Ombre', 'Arbres', 'Sentier'], '20240827_084810.jpg': ['Bâtiments', 'Pelouse', 'Ombre', 'Ciel', 'Terrasse'], '20240827_084914.jpg': ['Tentes', 'Allée', 'Événement', 'Plat', 'Éclairage'], '20240827_092136.jpg': ['Bâtiment', 'Panneau', 'Ville', 'Herbe', 'Arc-en-ciel'], '20240828_141857.jpg': ['références', 'bonbons', 'réfrigérateur', 'Mars', 'colorés'], '20240828_174310.jpg': ['Boîtes', 'Postes', 'Gazon', 'Rue', 'Perspective'], '20240828_211839.jpg': ['contenants', 'plat', 'four', 'cuisson', 'cuisine'], '20240830_104749.jpg': ['paquets', 'carton', 'étagère', 'bois', 'table'], '20240831_160656.jpg': ['Chaussures', 'Seringues', 'Étagères', 'Couleurs', 'Magasin'], '20240831_161613.jpg': ['Vitrine', 'Chaussures', 'Éclairage', 'Centre commercial', 'Reflet'], '20240831_180654.jpg': ['carte', 'thé', 'main', 'jouet', 'théière'], '20240831_194108.jpg': ['table', 'assiette', 'yaourt', 'plat', 'nourriture'], '20240902_150137.jpg': ['Forêt', 'Prairie', 'Rocaille', 'Ombre', 'Arbres'], '20240902_152654.jpg': ['Arbre', 'Feuilles', 'Ciel', 'Bleu', 'Branche'], '20240902_162507.jpg': ['Chemin pavé', 'Clôture bois', 'Sentier forestier', 'Vallée verdoyante', 'Randonnée'], '20250213_165625.jpg': ['Neige', 'Câbles', 'Montagne', 'Chute', 'Sombre'], '20250217_081138.jpg': ['Neige', 'Montagne', 'Téléphérique', 'Reflet', 'Blanc'], '20250219_084504.jpg': ['Neige', 'Route', 'Bus', 'Reflet', 'Hiver']}\n",
      "Categories : {'Ville': ['20240822_142034.jpg', '20240822_142036.jpg', '20240822_142048.jpg', '20240828_141857.jpg', '20240828_211839.jpg', '20240828_174310.jpg'], 'Nature': ['20240826_184159.jpg', '20240827_084810.jpg', '20240827_084914.jpg', '20240827_092136.jpg', '20240828_141857.jpg', '20240828_211839.jpg', '20240829_150137.jpg', '20240829_152654.jpg', '20240829_162507.jpg', '20250213_165625.jpg', '20250217_081138.jpg', '20250219_084504.jpg'], 'Repas': ['20240825_121144.jpg', '20240828_141857.jpg', '20240828_211839.jpg', '20240829_150137.jpg', '20240829_152654.jpg', '20240829_162507.jpg', '20240829_194108.jpg'], 'Randonnée': ['20240827_092136.jpg', '20240829_162507.jpg'], 'Autres': ['20240826_184159.jpg', '20240828_174310.jpg', '20240828_211839.jpg', '20240829_194108.jpg', '20240830_104749.jpg', '20240831_160654.jpg', '20240831_161613.jpg', '20240831_180654.jpg', '20240831_194108.jpg'], 'Magasin': ['20240831_160654.jpg', '20240831_161613.jpg', '20240831_180654.jpg']}\n",
      "\n",
      "Nouvelle liste des categories : ['Paysage', 'Ville', 'Plage', 'Randonnée', 'Sport', 'Musée', 'Restaurant', 'Autres', 'Repas', 'Nature', '', 'Magasin']\n",
      "Kewords à repasser après checking : {'20240831_160656.jpg': ['Chaussures', 'Seringues', 'Étagères', 'Couleurs', 'Magasin'], '20240902_150137.jpg': ['Forêt', 'Prairie', 'Rocaille', 'Ombre', 'Arbres'], '20240902_152654.jpg': ['Arbre', 'Feuilles', 'Ciel', 'Bleu', 'Branche'], '20240902_162507.jpg': ['Chemin pavé', 'Clôture bois', 'Sentier forestier', 'Vallée verdoyante', 'Randonnée']}\n",
      "Keywords : {'20240831_160656.jpg': ['Chaussures', 'Seringues', 'Étagères', 'Couleurs', 'Magasin'], '20240902_150137.jpg': ['Forêt', 'Prairie', 'Rocaille', 'Ombre', 'Arbres'], '20240902_152654.jpg': ['Arbre', 'Feuilles', 'Ciel', 'Bleu', 'Branche'], '20240902_162507.jpg': ['Chemin pavé', 'Clôture bois', 'Sentier forestier', 'Vallée verdoyante', 'Randonnée']}\n",
      "Categories : {'Paysage': ['20240902_152654.jpg', '20240902_162507.jpg'], 'Nature': ['20240902_150137.jpg'], 'Randonnée': ['20240902_162507.jpg'], 'Ville': ['20240831_160656.jpg'], 'Autres': ['20240831_160656.jpg']}\n",
      "\n",
      "Nouvelle liste des categories : ['Paysage', 'Ville', 'Plage', 'Randonnée', 'Sport', 'Musée', 'Restaurant', 'Autres', 'Repas', 'Nature', '', 'Magasin']\n",
      "Kewords à repasser après checking : {}\n"
     ]
    }
   ],
   "execution_count": 451
  },
  {
   "metadata": {
    "ExecuteTime": {
     "end_time": "2025-03-21T14:56:08.221599Z",
     "start_time": "2025-03-21T14:56:08.216841Z"
    }
   },
   "cell_type": "code",
   "source": "print(tabulate(copy_image_data, headers=\"keys\", tablefmt=\"psql\"))",
   "id": "4a9c575ea743e9b8",
   "outputs": [
    {
     "name": "stdout",
     "output_type": "stream",
     "text": [
      "+----+---------------------+-------------------------------+---------------------+---------------------------------------------------------------------+----------------------------------------------------------------------------------------+--------------+\n",
      "|    | image_name          | path                          | date_time           | localisation                                                        | keywords                                                                               | categories   |\n",
      "|----+---------------------+-------------------------------+---------------------+---------------------------------------------------------------------+----------------------------------------------------------------------------------------+--------------|\n",
      "|  0 | 20240822_142034.jpg | test_data\\20240822_142034.jpg | 2024:08:22 14:20:34 |                                                                     | ['immeuble', 'façade', 'rue', 'architecture', 'perspective']                           | Ville        |\n",
      "|  1 | 20240822_142036.jpg | test_data\\20240822_142036.jpg | 2024:08:22 14:20:37 |                                                                     | ['Bâtiment', 'Vitres', 'Rue', 'Brique', 'Éclair']                                      | Ville        |\n",
      "|  2 | 20240822_142048.jpg | test_data\\20240822_142048.jpg | 2024:08:22 14:20:48 |                                                                     | ['Architecture', 'Ville', 'Voiture', 'Reflets', 'Pluie']                               | Ville        |\n",
      "|  3 | 20240825_121144.jpg | test_data\\20240825_121144.jpg | 2024:08:25 12:11:44 |                                                                     | ['Pot', 'Beurre', 'Marché', 'Texture', 'Smooth']                                       | Repas        |\n",
      "|  4 | 20240826_184159.jpg | test_data\\20240826_184159.jpg | 2024:08:26 18:41:59 |                                                                     | ['Chemin', 'Forêt', 'Ombre', 'Arbres', 'Sentier']                                      | Autres       |\n",
      "|  5 | 20240827_084810.jpg | test_data\\20240827_084810.jpg | 2024:08:27 08:48:10 |                                                                     | ['Bâtiments', 'Pelouse', 'Ombre', 'Ciel', 'Terrasse']                                  | Nature       |\n",
      "|  6 | 20240827_084914.jpg | test_data\\20240827_084914.jpg | 2024:08:27 08:49:14 |                                                                     | ['Tentes', 'Allée', 'Événement', 'Plat', 'Éclairage']                                  | Nature       |\n",
      "|  7 | 20240827_092136.jpg | test_data\\20240827_092136.jpg | 2024:08:27 09:21:36 |                                                                     | ['Bâtiment', 'Panneau', 'Ville', 'Herbe', 'Arc-en-ciel']                               | Randonnée    |\n",
      "|  8 | 20240828_141857.jpg | test_data\\20240828_141857.jpg | 2024:08:28 14:18:58 |                                                                     | ['références', 'bonbons', 'réfrigérateur', 'Mars', 'colorés']                          | Repas        |\n",
      "|  9 | 20240828_174310.jpg | test_data\\20240828_174310.jpg | 2024:08:28 17:43:11 |                                                                     | ['Boîtes', 'Postes', 'Gazon', 'Rue', 'Perspective']                                    | Autres       |\n",
      "| 10 | 20240828_211839.jpg | test_data\\20240828_211839.jpg | 2024:08:28 21:18:39 |                                                                     | ['contenants', 'plat', 'four', 'cuisson', 'cuisine']                                   | Autres       |\n",
      "| 11 | 20240830_104749.jpg | test_data\\20240830_104749.jpg | 2024:08:30 10:47:50 |                                                                     | ['paquets', 'carton', 'étagère', 'bois', 'table']                                      | Autres       |\n",
      "| 12 | 20240831_160656.jpg | test_data\\20240831_160656.jpg | 2024:08:31 16:06:57 |                                                                     | ['Chaussures', 'Seringues', 'Étagères', 'Couleurs', 'Magasin']                         | Autres       |\n",
      "| 13 | 20240831_161613.jpg | test_data\\20240831_161613.jpg | 2024:08:31 16:16:13 |                                                                     | ['Vitrine', 'Chaussures', 'Éclairage', 'Centre commercial', 'Reflet']                  | Magasin      |\n",
      "| 14 | 20240831_180654.jpg | test_data\\20240831_180654.jpg | 2024:08:31 18:06:55 |                                                                     | ['carte', 'thé', 'main', 'jouet', 'théière']                                           | Magasin      |\n",
      "| 15 | 20240831_194108.jpg | test_data\\20240831_194108.jpg | 2024:08:31 19:41:08 |                                                                     | ['table', 'assiette', 'yaourt', 'plat', 'nourriture']                                  | Autres       |\n",
      "| 16 | 20240902_150137.jpg | test_data\\20240902_150137.jpg | 2024:09:02 15:01:38 |                                                                     | ['Forêt', 'Prairie', 'Rocaille', 'Ombre', 'Arbres']                                    | Nature       |\n",
      "| 17 | 20240902_152654.jpg | test_data\\20240902_152654.jpg | 2024:09:02 15:26:54 |                                                                     | ['Arbre', 'Feuilles', 'Ciel', 'Bleu', 'Branche']                                       | Paysage      |\n",
      "| 18 | 20240902_162507.jpg | test_data\\20240902_162507.jpg | 2024:09:02 16:25:07 |                                                                     | ['Chemin pavé', 'Clôture bois', 'Sentier forestier', 'Vallée verdoyante', 'Randonnée'] | Randonnée    |\n",
      "| 19 | 20250213_165625.jpg | test_data\\20250213_165625.jpg | 2025:02:13 16:56:25 |                                                                     | ['Neige', 'Câbles', 'Montagne', 'Chute', 'Sombre']                                     | Nature       |\n",
      "| 20 | 20250217_081138.jpg | test_data\\20250217_081138.jpg | 2025:02:17 08:11:38 |                                                                     | ['Neige', 'Montagne', 'Téléphérique', 'Reflet', 'Blanc']                               | Nature       |\n",
      "| 21 | 20250219_084504.jpg | test_data\\20250219_084504.jpg | 2025:02:19 08:45:04 | {1: 'N', 2: (48.0, 24.0, 43.5582), 3: 'W', 4: (71.0, 3.0, 4.06764)} | ['Neige', 'Route', 'Bus', 'Reflet', 'Hiver']                                           | Nature       |\n",
      "+----+---------------------+-------------------------------+---------------------+---------------------------------------------------------------------+----------------------------------------------------------------------------------------+--------------+\n"
     ]
    }
   ],
   "execution_count": 452
  },
  {
   "metadata": {
    "ExecuteTime": {
     "end_time": "2025-03-21T14:56:08.232003Z",
     "start_time": "2025-03-21T14:56:08.229852Z"
    }
   },
   "cell_type": "code",
   "source": "",
   "id": "cdb3a4d3dd939f8d",
   "outputs": [],
   "execution_count": null
  }
 ],
 "metadata": {
  "kernelspec": {
   "display_name": "Python (SnapSort)",
   "language": "python",
   "name": "snapsort_venv"
  },
  "language_info": {
   "codemirror_mode": {
    "name": "ipython",
    "version": 2
   },
   "file_extension": ".py",
   "mimetype": "text/x-python",
   "name": "python",
   "nbconvert_exporter": "python",
   "pygments_lexer": "ipython2",
   "version": "2.7.6"
  }
 },
 "nbformat": 4,
 "nbformat_minor": 5
}
