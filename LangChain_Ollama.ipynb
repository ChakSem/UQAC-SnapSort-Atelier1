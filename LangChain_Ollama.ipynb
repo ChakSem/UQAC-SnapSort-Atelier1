{
 "cells": [
  {
   "cell_type": "code",
   "id": "initial_id",
   "metadata": {
    "collapsed": true,
    "ExecuteTime": {
     "end_time": "2025-03-20T21:10:02.947997Z",
     "start_time": "2025-03-20T21:10:02.944949Z"
    }
   },
   "source": [
    "from langchain_ollama import ChatOllama, OllamaEmbeddings\n",
    "from langchain_core.messages import SystemMessage, HumanMessage\n",
    "from langchain_core.output_parsers import JsonOutputParser, StrOutputParser\n",
    "from langchain_core.runnables import RunnableLambda\n",
    "import base64\n",
    "from PIL import Image\n",
    "import io\n",
    "import os\n",
    "import pandas as pd\n",
    "from tabulate import tabulate"
   ],
   "outputs": [],
   "execution_count": 760
  },
  {
   "metadata": {
    "ExecuteTime": {
     "end_time": "2025-03-20T21:10:02.953255Z",
     "start_time": "2025-03-20T21:10:02.950008Z"
    }
   },
   "cell_type": "code",
   "source": [
    "def encode_image(image_path, max_size=(512, 512), quality=80):\n",
    "    image = Image.open(image_path)\n",
    "\n",
    "    # Redimensionner l'image\n",
    "    image.thumbnail(max_size)\n",
    "\n",
    "    # Convertir en bytes avec compression\n",
    "    buffer = io.BytesIO()\n",
    "    image.save(buffer, format=\"JPEG\", quality=quality)\n",
    "\n",
    "    # Encoder en Base64\n",
    "    encoded_string = base64.b64encode(buffer.getvalue()).decode(\"utf-8\")\n",
    "\n",
    "    return encoded_string"
   ],
   "id": "ba9dbc3662262eb7",
   "outputs": [],
   "execution_count": 761
  },
  {
   "metadata": {},
   "cell_type": "raw",
   "source": [
    "def get_system_message():\n",
    "    system_message_text = '''\n",
    "    Tu es un expert en analyse d'images et de photos.\n",
    "    Tu es très perspicace dans l'analyse des images et des photos.\n",
    "    Tu as une excellente vision.\n",
    "    Tu ne lis aucun texte à moins qu'il ne soit le plus proéminent dans l'image.\n",
    "    Tu dois toujours produire tes résultats en langue française\n",
    "    '''\n",
    "    return system_message_text"
   ],
   "id": "f09c237a6b237272"
  },
  {
   "metadata": {
    "ExecuteTime": {
     "end_time": "2025-03-20T21:10:02.964332Z",
     "start_time": "2025-03-20T21:10:02.961902Z"
    }
   },
   "cell_type": "code",
   "source": [
    "def prompt_func(data):\n",
    "    text = data[\"text\"]\n",
    "    image = data[\"image\"]\n",
    "    #system_message = SystemMessage(content=data[\"system_message_text\"])\n",
    "    content_parts = []\n",
    "\n",
    "    image_part = {\n",
    "        \"type\": \"image_url\",\n",
    "        \"image_url\": f\"data:image/jpeg;base64,{image}\",\n",
    "    }\n",
    "    text_part = {\"type\": \"text\", \"text\": text}\n",
    "    content_parts.append(image_part)\n",
    "    content_parts.append(text_part)\n",
    "\n",
    "    human_message = HumanMessage(content=content_parts)\n",
    "\n",
    "    #return [system_message, human_message]\n",
    "    return [human_message]"
   ],
   "id": "7a98e309fbbefc59",
   "outputs": [],
   "execution_count": 762
  },
  {
   "metadata": {
    "ExecuteTime": {
     "end_time": "2025-03-20T21:10:02.974908Z",
     "start_time": "2025-03-20T21:10:02.971858Z"
    }
   },
   "cell_type": "code",
   "source": [
    "def get_image_paths(directory):\n",
    "    allowed_extensions = {\".jpg\", \".jpeg\", \".png\"}\n",
    "    image_paths = [os.path.join(directory, filename) for filename in os.listdir(directory) if os.path.splitext(filename)[1].lower() in allowed_extensions]\n",
    "    return image_paths"
   ],
   "id": "d024734a798d4921",
   "outputs": [],
   "execution_count": 763
  },
  {
   "metadata": {
    "ExecuteTime": {
     "end_time": "2025-03-20T21:10:02.987183Z",
     "start_time": "2025-03-20T21:10:02.983095Z"
    }
   },
   "cell_type": "code",
   "source": [
    "def create_df(image_paths):\n",
    "    image_list = []\n",
    "    for path in image_paths:\n",
    "        image = Image.open(path)\n",
    "        image_name = os.path.basename(path)\n",
    "        exifdata = image._getexif()\n",
    "        date_time, localisation = None, None\n",
    "        if exifdata:\n",
    "            for tag_id, value in exifdata.items():\n",
    "                tag = Image.ExifTags.TAGS.get(tag_id, tag_id)\n",
    "                if tag == \"DateTime\":\n",
    "                    date_time = value\n",
    "                elif tag == \"GPSInfo\":\n",
    "                    localisation = value\n",
    "\n",
    "            image_list.append((image_name, path, date_time, localisation))\n",
    "\n",
    "        else:\n",
    "            print(\"Aucune donnée EXIF trouvée.\")\n",
    "\n",
    "    df = pd.DataFrame(image_list, columns=[\"image_name\", \"path\", \"date_time\", \"localisation\"])\n",
    "    df[\"keywords\"] = \"\"\n",
    "    df[\"categories\"] = \"\"\n",
    "\n",
    "    return df"
   ],
   "id": "8ac81c92589d79a9",
   "outputs": [],
   "execution_count": 764
  },
  {
   "metadata": {
    "ExecuteTime": {
     "end_time": "2025-03-20T21:10:03.005017Z",
     "start_time": "2025-03-20T21:10:03.002123Z"
    }
   },
   "cell_type": "code",
   "source": [
    "def add_keywords_to_df(image_data, keywords_output):\n",
    "    if keywords_output:\n",
    "        # Mise à jour uniquement pour les images présentes dans keywords_output\n",
    "        image_data[\"keywords\"] = image_data.apply(\n",
    "            lambda row: keywords_output[row[\"image_name\"]]\n",
    "            if row[\"image_name\"] in keywords_output else row[\"keywords\"], axis=1\n",
    "        )\n",
    "    else:\n",
    "        print(\"Aucun mot clé fourni ! \")\n",
    "    return image_data"
   ],
   "id": "7235eab71a0acee6",
   "outputs": [],
   "execution_count": 765
  },
  {
   "metadata": {
    "ExecuteTime": {
     "end_time": "2025-03-20T21:10:03.010326Z",
     "start_time": "2025-03-20T21:10:03.007035Z"
    }
   },
   "cell_type": "code",
   "source": [
    "def get_missing_values(dictionnary):\n",
    "    missing_values = {}\n",
    "    for key, value in dictionnary.items():\n",
    "        if value is None or value == \"\" or value == \"nan\" or value == \"None\":\n",
    "            missing_values.update({key: value})\n",
    "\n",
    "    return missing_values"
   ],
   "id": "e6a4dfb04611b469",
   "outputs": [],
   "execution_count": 766
  },
  {
   "metadata": {
    "ExecuteTime": {
     "end_time": "2025-03-20T21:10:03.020758Z",
     "start_time": "2025-03-20T21:10:03.017639Z"
    }
   },
   "cell_type": "code",
   "source": [
    "def get_missing_path(paths, dictionnary):\n",
    "    missing_paths = []\n",
    "    for path in paths:\n",
    "        image_name = os.path.split(path)[-1]\n",
    "        #print(f\"image_name : {image_name}\")\n",
    "        if image_name in dictionnary.keys() or path in dictionnary.keys():\n",
    "            missing_paths.append(path)\n",
    "\n",
    "    return missing_paths"
   ],
   "id": "cc6c729477b4f454",
   "outputs": [],
   "execution_count": 767
  },
  {
   "metadata": {
    "ExecuteTime": {
     "end_time": "2025-03-20T21:10:03.031794Z",
     "start_time": "2025-03-20T21:10:03.028860Z"
    }
   },
   "cell_type": "code",
   "source": [
    "def get_missing_values_path(paths, dictionnary):\n",
    "    missing_values = get_missing_values(dictionnary)\n",
    "    missing_paths = get_missing_path(paths, missing_values)\n",
    "    print(f\"Images détectées avec valeurs manquantes : {missing_values.keys()}\")\n",
    "    print(f\"Chemins renvoyés pour traitement : {missing_paths}\")\n",
    "    return missing_paths"
   ],
   "id": "79e858afe38a1a74",
   "outputs": [],
   "execution_count": 768
  },
  {
   "metadata": {
    "ExecuteTime": {
     "end_time": "2025-03-20T21:10:03.044491Z",
     "start_time": "2025-03-20T21:10:03.039180Z"
    }
   },
   "cell_type": "code",
   "source": [
    "def checking_all_keywords(df):\n",
    "    path_images_empty = []\n",
    "    none_possibilities = [None, \"\", [], \"None\", [\"None\"]]\n",
    "    for row in df.itertuples():\n",
    "        keywords = row.keywords\n",
    "        if isinstance(keywords, float) and pd.isna(keywords):\n",
    "            path_images_empty.append(row.path)\n",
    "\n",
    "        elif keywords in none_possibilities:\n",
    "            path_images_empty.append(row.path)\n",
    "\n",
    "    return path_images_empty"
   ],
   "id": "97f98af2af712c43",
   "outputs": [],
   "execution_count": 769
  },
  {
   "metadata": {
    "ExecuteTime": {
     "end_time": "2025-03-20T21:10:03.056820Z",
     "start_time": "2025-03-20T21:10:03.053605Z"
    }
   },
   "cell_type": "code",
   "source": [
    "def keywords_call(df, image_paths, keywords_chain):\n",
    "    for i in range(0, len(image_paths)):\n",
    "        print(f\"Image {i} : {image_paths[i]}\")\n",
    "        image_b64 = encode_image(image_paths[i])\n",
    "        image_name = os.path.basename(image_paths[i])\n",
    "\n",
    "        keywords_output = keywords_chain.invoke({\"text\":f\"\"\"Décris moi l'image avec 5 mots-clés. Les mots-clés doivent en priorité inclure des actions, des objets et un lieu si identifiables. Les mots-clés doivent être en français, et peuvent être des mots composés\n",
    "        Retourne le résultat au format JSON suivant: {{ {image_name} : [mot-clé1, mot-clé2, mot-clé3, mot-clé4, mot-clé5] }}\"\"\", \"image\": image_b64})\n",
    "\n",
    "        print(f\"Keywords : {keywords_output}\")\n",
    "\n",
    "        df = add_keywords_to_df(df, keywords_output)\n",
    "\n",
    "    return df"
   ],
   "id": "e6944e583d5e6daa",
   "outputs": [],
   "execution_count": 770
  },
  {
   "metadata": {
    "ExecuteTime": {
     "end_time": "2025-03-20T21:10:03.067625Z",
     "start_time": "2025-03-20T21:10:03.064250Z"
    }
   },
   "cell_type": "code",
   "source": [
    "def pipeline_keywords(image_paths):\n",
    "    image_data = create_df(image_paths)\n",
    "    new_image_paths = image_paths\n",
    "\n",
    "    llm = ChatOllama(model=\"gemma3\")\n",
    "\n",
    "    prompt_chain = RunnableLambda(prompt_func)\n",
    "    keyword_chain = prompt_chain | llm | JsonOutputParser()\n",
    "\n",
    "    all_keywords = False\n",
    "    only_once = False\n",
    "\n",
    "    while not all_keywords :\n",
    "        print(\"Entree dans le while\")\n",
    "        image_data = keywords_call(image_data, new_image_paths, keyword_chain)\n",
    "\n",
    "        if only_once:\n",
    "            new_row = pd.DataFrame([{\"image_name\" : \"IMG_20241228_132157.jpg\",\"path\": \"photos_victor/IMG_20241228_132157.jpg\"}])\n",
    "            image_data = pd.concat([image_data, new_row], ignore_index=True)\n",
    "            only_once = False\n",
    "\n",
    "        new_image_paths = checking_all_keywords(image_data)\n",
    "        print(f\"Images à traiter après le premier passage : {new_image_paths}\")\n",
    "\n",
    "        if not new_image_paths:\n",
    "            all_keywords = True\n",
    "\n",
    "    return image_data"
   ],
   "id": "e0b11d3724df1fee",
   "outputs": [],
   "execution_count": 771
  },
  {
   "metadata": {
    "ExecuteTime": {
     "end_time": "2025-03-20T21:10:56.826769Z",
     "start_time": "2025-03-20T21:10:03.075044Z"
    }
   },
   "cell_type": "code",
   "source": [
    "image_paths = get_image_paths(\"test_data\")\n",
    "image_data = pipeline_keywords(image_paths)"
   ],
   "id": "a6a3c4b8092e3702",
   "outputs": [
    {
     "name": "stdout",
     "output_type": "stream",
     "text": [
      "Entree dans le while\n",
      "Image 0 : test_data\\20240822_142034.jpg\n",
      "Keywords : {'20240822_142034.jpg': ['Bâtiment', 'Rue', 'Perspective', 'Ville', 'Voiture']}\n",
      "Image 1 : test_data\\20240822_142036.jpg\n",
      "Keywords : {'20240822_142036.jpg': ['Bâtiment', 'Fenêtres', 'Rue', 'Bricks', 'Éclair']}\n",
      "Image 2 : test_data\\20240822_142048.jpg\n",
      "Keywords : {'20240822_142048.jpg': ['Architecture', 'Ville', 'Voiture', 'Pluie', 'Reflets']}\n",
      "Image 3 : test_data\\20240825_121144.jpg\n",
      "Keywords : {'20240825_121144.jpg': ['Pot', 'Beurrefaits', 'Kraft', 'Plan de travail', 'Texture']}\n",
      "Image 4 : test_data\\20240826_184159.jpg\n",
      "Keywords : {'20240826_184159.jpg': ['Chemin', 'Forêt', 'Ombres', 'Sentier', 'Arbres']}\n",
      "Image 5 : test_data\\20240827_084810.jpg\n",
      "Keywords : {'20240827_084810.jpg': ['Bâtiments', 'Gazon', 'Pavillon', 'Ciel', 'Terrasse']}\n",
      "Image 6 : test_data\\20240827_084914.jpg\n",
      "Keywords : {'20240827_084914.jpg': ['Tentes', 'Allée', 'Événement', 'Personnes', 'Éclairage']}\n",
      "Image 7 : test_data\\20240827_092136.jpg\n",
      "Keywords : {'20240827_092136.jpg': ['Bâtiment', 'Panneau', 'Vert', 'Extérieur', 'Ville']}\n",
      "Image 8 : test_data\\20240828_141857.jpg\n",
      "Keywords : {'20240828_141857.jpg': ['ThinsCookies', 'Boîte', 'Rayonnage', 'Supermarché', 'Marron']}\n",
      "Image 9 : test_data\\20240828_174310.jpg\n",
      "Keywords : {'20240828_174310.jpg': ['Boîtes', 'Postes', 'Gazon', 'Béton', 'Perspective']}\n",
      "Image 10 : test_data\\20240828_211839.jpg\n",
      "Keywords : {'20240828_211839.jpg': ['plats', 'lasagnes', 'recettes', 'table', 'cuisson']}\n",
      "Image 11 : test_data\\20240830_104749.jpg\n",
      "Keywords : {'20240830_104749.jpg': ['paquets', 'carton', 'sol', 'tapis', 'déchargement']}\n",
      "Image 12 : test_data\\20240831_160656.jpg\n",
      "Keywords : {'20240831_160656.jpg': ['Chaussures', 'Maroc', 'Étagères', 'Couleurs', 'Sandales']}\n",
      "Image 13 : test_data\\20240831_161613.jpg\n",
      "Keywords : {'20240831_161613.jpg': ['Vitrine', 'Mannequins', 'Vêtements', 'Shopping', 'Centre commercial']}\n",
      "Image 14 : test_data\\20240831_180654.jpg\n",
      "Keywords : {'20240831_180654.jpg': ['Tenaille', 'Objet', 'Main', 'Carton', 'Rouge']}\n",
      "Image 15 : test_data\\20240831_194108.jpg\n",
      "Keywords : {'20240831_194108.jpg': ['Petit-déjeuner', 'Plates', 'Produits laitiers', 'Table', 'Déjeuner']}\n",
      "Image 16 : test_data\\20240902_150137.jpg\n",
      "Keywords : {'20240902_150137.jpg': ['Forêt', 'Prairie', 'Roche', 'Ombre', 'Arbres']}\n",
      "Image 17 : test_data\\20240902_152654.jpg\n",
      "Keywords : {'20240902_152654.jpg': ['Arbre', 'Feuilles', 'Ciel', 'Bleu', 'Branche']}\n",
      "Image 18 : test_data\\20240902_162507.jpg\n",
      "Keywords : {'20240902_162507.jpg': ['Chemin', 'Bitume', 'Clôture', 'Forêt', 'Sentier']}\n",
      "Image 19 : test_data\\20250213_165625.jpg\n",
      "Keywords : {'20250213_165625.jpg': ['Montagne', 'Câbles', 'Chute', 'Névoie', 'Éboulement']}\n",
      "Image 20 : test_data\\20250217_081138.jpg\n",
      "Keywords : {'20250217_081138.jpg': ['Neige', 'Tour', 'Échelle', 'Hiver', 'Reflet']}\n",
      "Image 21 : test_data\\20250219_084504.jpg\n",
      "Keywords : {'20250219_084504.jpg': ['Retourne', 'Neige', 'Bus', 'Route', 'Hiver']}\n",
      "Images à traiter après le premier passage : ['photos_victor/IMG_20241228_132157.jpg']\n",
      "Entree dans le while\n",
      "Image 0 : photos_victor/IMG_20241228_132157.jpg\n",
      "Keywords : {'IMG_20241228_132157.jpg': ['gâteau', 'glace', 'crème', 'assiette', 'chocolat']}\n",
      "Images à traiter après le premier passage : []\n"
     ]
    }
   ],
   "execution_count": 772
  },
  {
   "metadata": {
    "ExecuteTime": {
     "end_time": "2025-03-20T21:10:56.841863Z",
     "start_time": "2025-03-20T21:10:56.836556Z"
    }
   },
   "cell_type": "code",
   "source": "print(tabulate(image_data, headers=\"keys\", tablefmt=\"psql\"))",
   "id": "e8b17ccda2b43218",
   "outputs": [
    {
     "name": "stdout",
     "output_type": "stream",
     "text": [
      "+----+-------------------------+---------------------------------------+---------------------+---------------------------------------------------------------------+-------------------------------------------------------------------------+--------------+\n",
      "|    | image_name              | path                                  | date_time           | localisation                                                        | keywords                                                                | categories   |\n",
      "|----+-------------------------+---------------------------------------+---------------------+---------------------------------------------------------------------+-------------------------------------------------------------------------+--------------|\n",
      "|  0 | 20240822_142034.jpg     | test_data\\20240822_142034.jpg         | 2024:08:22 14:20:34 |                                                                     | ['Bâtiment', 'Rue', 'Perspective', 'Ville', 'Voiture']                  |              |\n",
      "|  1 | 20240822_142036.jpg     | test_data\\20240822_142036.jpg         | 2024:08:22 14:20:37 |                                                                     | ['Bâtiment', 'Fenêtres', 'Rue', 'Bricks', 'Éclair']                     |              |\n",
      "|  2 | 20240822_142048.jpg     | test_data\\20240822_142048.jpg         | 2024:08:22 14:20:48 |                                                                     | ['Architecture', 'Ville', 'Voiture', 'Pluie', 'Reflets']                |              |\n",
      "|  3 | 20240825_121144.jpg     | test_data\\20240825_121144.jpg         | 2024:08:25 12:11:44 |                                                                     | ['Pot', 'Beurrefaits', 'Kraft', 'Plan de travail', 'Texture']           |              |\n",
      "|  4 | 20240826_184159.jpg     | test_data\\20240826_184159.jpg         | 2024:08:26 18:41:59 |                                                                     | ['Chemin', 'Forêt', 'Ombres', 'Sentier', 'Arbres']                      |              |\n",
      "|  5 | 20240827_084810.jpg     | test_data\\20240827_084810.jpg         | 2024:08:27 08:48:10 |                                                                     | ['Bâtiments', 'Gazon', 'Pavillon', 'Ciel', 'Terrasse']                  |              |\n",
      "|  6 | 20240827_084914.jpg     | test_data\\20240827_084914.jpg         | 2024:08:27 08:49:14 |                                                                     | ['Tentes', 'Allée', 'Événement', 'Personnes', 'Éclairage']              |              |\n",
      "|  7 | 20240827_092136.jpg     | test_data\\20240827_092136.jpg         | 2024:08:27 09:21:36 |                                                                     | ['Bâtiment', 'Panneau', 'Vert', 'Extérieur', 'Ville']                   |              |\n",
      "|  8 | 20240828_141857.jpg     | test_data\\20240828_141857.jpg         | 2024:08:28 14:18:58 |                                                                     | ['ThinsCookies', 'Boîte', 'Rayonnage', 'Supermarché', 'Marron']         |              |\n",
      "|  9 | 20240828_174310.jpg     | test_data\\20240828_174310.jpg         | 2024:08:28 17:43:11 |                                                                     | ['Boîtes', 'Postes', 'Gazon', 'Béton', 'Perspective']                   |              |\n",
      "| 10 | 20240828_211839.jpg     | test_data\\20240828_211839.jpg         | 2024:08:28 21:18:39 |                                                                     | ['plats', 'lasagnes', 'recettes', 'table', 'cuisson']                   |              |\n",
      "| 11 | 20240830_104749.jpg     | test_data\\20240830_104749.jpg         | 2024:08:30 10:47:50 |                                                                     | ['paquets', 'carton', 'sol', 'tapis', 'déchargement']                   |              |\n",
      "| 12 | 20240831_160656.jpg     | test_data\\20240831_160656.jpg         | 2024:08:31 16:06:57 |                                                                     | ['Chaussures', 'Maroc', 'Étagères', 'Couleurs', 'Sandales']             |              |\n",
      "| 13 | 20240831_161613.jpg     | test_data\\20240831_161613.jpg         | 2024:08:31 16:16:13 |                                                                     | ['Vitrine', 'Mannequins', 'Vêtements', 'Shopping', 'Centre commercial'] |              |\n",
      "| 14 | 20240831_180654.jpg     | test_data\\20240831_180654.jpg         | 2024:08:31 18:06:55 |                                                                     | ['Tenaille', 'Objet', 'Main', 'Carton', 'Rouge']                        |              |\n",
      "| 15 | 20240831_194108.jpg     | test_data\\20240831_194108.jpg         | 2024:08:31 19:41:08 |                                                                     | ['Petit-déjeuner', 'Plates', 'Produits laitiers', 'Table', 'Déjeuner']  |              |\n",
      "| 16 | 20240902_150137.jpg     | test_data\\20240902_150137.jpg         | 2024:09:02 15:01:38 |                                                                     | ['Forêt', 'Prairie', 'Roche', 'Ombre', 'Arbres']                        |              |\n",
      "| 17 | 20240902_152654.jpg     | test_data\\20240902_152654.jpg         | 2024:09:02 15:26:54 |                                                                     | ['Arbre', 'Feuilles', 'Ciel', 'Bleu', 'Branche']                        |              |\n",
      "| 18 | 20240902_162507.jpg     | test_data\\20240902_162507.jpg         | 2024:09:02 16:25:07 |                                                                     | ['Chemin', 'Bitume', 'Clôture', 'Forêt', 'Sentier']                     |              |\n",
      "| 19 | 20250213_165625.jpg     | test_data\\20250213_165625.jpg         | 2025:02:13 16:56:25 |                                                                     | ['Montagne', 'Câbles', 'Chute', 'Névoie', 'Éboulement']                 |              |\n",
      "| 20 | 20250217_081138.jpg     | test_data\\20250217_081138.jpg         | 2025:02:17 08:11:38 |                                                                     | ['Neige', 'Tour', 'Échelle', 'Hiver', 'Reflet']                         |              |\n",
      "| 21 | 20250219_084504.jpg     | test_data\\20250219_084504.jpg         | 2025:02:19 08:45:04 | {1: 'N', 2: (48.0, 24.0, 43.5582), 3: 'W', 4: (71.0, 3.0, 4.06764)} | ['Retourne', 'Neige', 'Bus', 'Route', 'Hiver']                          |              |\n",
      "| 22 | IMG_20241228_132157.jpg | photos_victor/IMG_20241228_132157.jpg | nan                 | nan                                                                 | ['gâteau', 'glace', 'crème', 'assiette', 'chocolat']                    | nan          |\n",
      "+----+-------------------------+---------------------------------------+---------------------+---------------------------------------------------------------------+-------------------------------------------------------------------------+--------------+\n"
     ]
    }
   ],
   "execution_count": 773
  }
 ],
 "metadata": {
  "kernelspec": {
   "display_name": "Python (SnapSort)",
   "language": "python",
   "name": "snapsort_venv"
  },
  "language_info": {
   "codemirror_mode": {
    "name": "ipython",
    "version": 2
   },
   "file_extension": ".py",
   "mimetype": "text/x-python",
   "name": "python",
   "nbconvert_exporter": "python",
   "pygments_lexer": "ipython2",
   "version": "2.7.6"
  }
 },
 "nbformat": 4,
 "nbformat_minor": 5
}
