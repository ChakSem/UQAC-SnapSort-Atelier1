{
 "cells": [
  {
   "cell_type": "code",
   "id": "initial_id",
   "metadata": {
    "collapsed": true,
    "ExecuteTime": {
     "end_time": "2025-03-20T19:20:11.458989Z",
     "start_time": "2025-03-20T19:20:11.453541Z"
    }
   },
   "source": [
    "from langchain_ollama import ChatOllama, OllamaEmbeddings\n",
    "from langchain_core.messages import SystemMessage, HumanMessage\n",
    "from langchain_core.output_parsers import JsonOutputParser, StrOutputParser\n",
    "from langchain_core.runnables import RunnableLambda\n",
    "import base64\n",
    "from PIL import Image\n",
    "import io\n",
    "import os"
   ],
   "outputs": [],
   "execution_count": 198
  },
  {
   "metadata": {
    "ExecuteTime": {
     "end_time": "2025-03-20T19:20:11.466742Z",
     "start_time": "2025-03-20T19:20:11.462996Z"
    }
   },
   "cell_type": "code",
   "source": [
    "def encode_image(image_path, max_size=(512, 512), quality=80):\n",
    "    image = Image.open(image_path)\n",
    "\n",
    "    # Redimensionner l'image\n",
    "    image.thumbnail(max_size)\n",
    "\n",
    "    # Convertir en bytes avec compression\n",
    "    buffer = io.BytesIO()\n",
    "    image.save(buffer, format=\"JPEG\", quality=quality)\n",
    "\n",
    "    # Encoder en Base64\n",
    "    encoded_string = base64.b64encode(buffer.getvalue()).decode(\"utf-8\")\n",
    "\n",
    "    return encoded_string"
   ],
   "id": "a2ba6640b393d13a",
   "outputs": [],
   "execution_count": 199
  },
  {
   "metadata": {
    "ExecuteTime": {
     "end_time": "2025-03-20T19:20:11.480408Z",
     "start_time": "2025-03-20T19:20:11.475284Z"
    }
   },
   "cell_type": "code",
   "source": [
    "def get_vision_system_message():\n",
    "    system_message_text = '''\n",
    "You're an expert image and photo analyzer.\n",
    "You are very perceptive in analyzing images and photos.\n",
    "You possess excelent vision.\n",
    "Do not read any text unless it is the most prominent in the image.\n",
    "Your description should be neutral in tone.\n",
    "'''\n",
    "    return system_message_text"
   ],
   "id": "2b1ee42d0a2b9e52",
   "outputs": [],
   "execution_count": 200
  },
  {
   "metadata": {
    "ExecuteTime": {
     "end_time": "2025-03-20T19:20:11.492524Z",
     "start_time": "2025-03-20T19:20:11.488024Z"
    }
   },
   "cell_type": "code",
   "source": [
    "def get_object_system_message():\n",
    "    system_message_text = '''\n",
    "You're an expert image and photo analyzer.\n",
    "You are very perceptive in analyzing images and photos.\n",
    "You possess excelent vision.\n",
    "Do not read any text unless it is the most prominent in the image.\n",
    "You should always output your results in json format, for example:\n",
    "\n",
    "[\n",
    " {'name': 'a detected object', 'description': 'the detected object's description'},\n",
    " {'name': 'another detected object', 'description': 'the other detected object's description'}\n",
    "]\n",
    "'''\n",
    "    return system_message_text"
   ],
   "id": "c178aa02fe9d0673",
   "outputs": [],
   "execution_count": 201
  },
  {
   "metadata": {
    "ExecuteTime": {
     "end_time": "2025-03-20T19:20:11.503428Z",
     "start_time": "2025-03-20T19:20:11.498143Z"
    }
   },
   "cell_type": "code",
   "source": [
    "def prompt_func(data):\n",
    "    text = data[\"text\"]\n",
    "    image = data[\"image\"]\n",
    "    system_message = SystemMessage(content=data[\"system_message_text\"])\n",
    "    content_parts = []\n",
    "\n",
    "    image_part = {\n",
    "        \"type\": \"image_url\",\n",
    "        \"image_url\": f\"data:image/jpeg;base64,{image}\",\n",
    "    }\n",
    "    text_part = {\"type\": \"text\", \"text\": text}\n",
    "    content_parts.append(image_part)\n",
    "    content_parts.append(text_part)\n",
    "\n",
    "    human_message = HumanMessage(content=content_parts)\n",
    "\n",
    "    return [system_message, human_message]"
   ],
   "id": "1e736ad1aa9cfae0",
   "outputs": [],
   "execution_count": 202
  },
  {
   "metadata": {
    "ExecuteTime": {
     "end_time": "2025-03-20T19:20:11.516895Z",
     "start_time": "2025-03-20T19:20:11.513095Z"
    }
   },
   "cell_type": "code",
   "source": [
    "def analyze_image(image_file, vision_chain, object_chain):\n",
    "\n",
    "    print(f'PROCESSING FILE: {image_file}')\n",
    "    print('CONVERTING TO B64...')\n",
    "    image_b64 = encode_image(image_file)\n",
    "    print('OK')\n",
    "\n",
    "    print('DETECTING OBJECTS...')\n",
    "    detected_objects = object_chain.invoke({\"text\":\"Identify objects in the image. Return a json list of json items of the detected objects. Include only the names of each object and a short description of the object. The field names should be 'name' and 'description' respectively.\", \"image\": image_b64, \"system_message_text\":get_object_system_message()})\n",
    "    print('OK')\n",
    "\n",
    "    print('GENERATING DESCRIPTION...')\n",
    "    image_description = vision_chain.invoke({\"text\": \"Describe the image in as much detail as possible. Do not try to read any text.\", \"image\": image_b64, \"system_message_text\":get_vision_system_message()})\n",
    "    print('OK')\n",
    "\n",
    "    image_details = {\"image_description\": image_description, \"detected_objects\": detected_objects}\n",
    "\n",
    "    return image_details"
   ],
   "id": "2e062c884b2505b0",
   "outputs": [],
   "execution_count": 203
  },
  {
   "metadata": {
    "ExecuteTime": {
     "end_time": "2025-03-20T19:20:11.929761Z",
     "start_time": "2025-03-20T19:20:11.522146Z"
    }
   },
   "cell_type": "code",
   "source": [
    "image_path = r\"test_data/20240828_174310.jpg\"\n",
    "\n",
    "llm = ChatOllama(model=\"llava\")\n",
    "\n",
    "prompt_chain = RunnableLambda(prompt_func)\n",
    "\n",
    "vision_chain = prompt_chain | llm | StrOutputParser()\n",
    "object_chain = prompt_chain | llm | JsonOutputParser()"
   ],
   "id": "8d7346926180ed51",
   "outputs": [],
   "execution_count": 204
  },
  {
   "metadata": {
    "ExecuteTime": {
     "end_time": "2025-03-20T19:20:21.201006Z",
     "start_time": "2025-03-20T19:20:11.937856Z"
    }
   },
   "cell_type": "code",
   "source": "image_details = analyze_image(image_path, vision_chain, object_chain)",
   "id": "53aecd73ba69d829",
   "outputs": [
    {
     "name": "stdout",
     "output_type": "stream",
     "text": [
      "PROCESSING FILE: test_data/20240828_174310.jpg\n",
      "CONVERTING TO B64...\n",
      "OK\n",
      "DETECTING OBJECTS...\n",
      "OK\n",
      "GENERATING DESCRIPTION...\n",
      "OK\n"
     ]
    }
   ],
   "execution_count": 205
  },
  {
   "metadata": {
    "ExecuteTime": {
     "end_time": "2025-03-20T19:20:21.223318Z",
     "start_time": "2025-03-20T19:20:21.221052Z"
    }
   },
   "cell_type": "code",
   "source": "print(image_details)",
   "id": "50ac0ece2fe70b22",
   "outputs": [
    {
     "name": "stdout",
     "output_type": "stream",
     "text": [
      "{'image_description': \" The image depicts an outdoor scene during daylight, with a focus on a mailbox. There are two distinct areas in the photo: the foreground and the background.\\n\\nIn the foreground, there is a metal mailbox standing alone on grass that appears to be cut short. The mailbox has a traditional design with a curved top and a flat base, painted in a dark color that matches the background environment.\\n\\nThe background shows a pathway made of paving stones leading towards the camera. The ground surrounding this path is covered with fallen leaves, indicating it might be autumn. On the left side of the image, partially obscured by the mailbox, there's a patch of grass that contrasts with the leaf-covered ground.\\n\\nThe sun is shining brightly in the background, creating a lens flare effect across the image. This gives the photo an artistic quality with beams of light streaking diagonally from the bottom left to the top right corner.\\n\\nThe overall tone of the image is neutral, with no prominent text visible. The style of the image suggests it was taken casually and may have been intended for informal or non-professional use, such as sharing on social media or personal documentation. \", 'detected_objects': [{'name': 'Mailboxes', 'description': 'Group of mailboxes on a stone surface'}, {'name': 'Sunlight', 'description': 'Direct sunlight from the sun'}]}\n"
     ]
    }
   ],
   "execution_count": 206
  },
  {
   "metadata": {
    "ExecuteTime": {
     "end_time": "2025-03-20T19:20:21.239005Z",
     "start_time": "2025-03-20T19:20:21.237363Z"
    }
   },
   "cell_type": "code",
   "source": "",
   "id": "252995d98e4f3263",
   "outputs": [],
   "execution_count": null
  }
 ],
 "metadata": {
  "kernelspec": {
   "display_name": "Python (SnapSort)",
   "language": "python",
   "name": "snapsort_venv"
  },
  "language_info": {
   "codemirror_mode": {
    "name": "ipython",
    "version": 2
   },
   "file_extension": ".py",
   "mimetype": "text/x-python",
   "name": "python",
   "nbconvert_exporter": "python",
   "pygments_lexer": "ipython2",
   "version": "2.7.6"
  }
 },
 "nbformat": 4,
 "nbformat_minor": 5
}
