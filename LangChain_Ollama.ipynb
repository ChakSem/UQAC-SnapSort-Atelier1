{
 "cells": [
  {
   "cell_type": "code",
   "id": "initial_id",
   "metadata": {
    "collapsed": true,
    "ExecuteTime": {
     "end_time": "2025-03-14T15:46:34.232511Z",
     "start_time": "2025-03-14T15:46:34.229395Z"
    }
   },
   "source": "from langchain_ollama.llms import OllamaLLM",
   "outputs": [],
   "execution_count": 9
  },
  {
   "metadata": {
    "ExecuteTime": {
     "end_time": "2025-03-14T15:46:34.680288Z",
     "start_time": "2025-03-14T15:46:34.240515Z"
    }
   },
   "cell_type": "code",
   "source": "model = OllamaLLM(model=\"llava\")",
   "id": "788eec4af726eb38",
   "outputs": [],
   "execution_count": 10
  },
  {
   "metadata": {
    "ExecuteTime": {
     "end_time": "2025-03-14T15:47:29.987091Z",
     "start_time": "2025-03-14T15:47:28.802230Z"
    }
   },
   "cell_type": "code",
   "source": "model.invoke(\"Peux-tu me décrire cette image présente sur mon ordinateur : C:\\\\Users\\elise\\Documents\\GitHub\\SnapSort-Atelier1\\\\test_data\\\\20240822_142048.jpg\")",
   "id": "b5f42a0ee969dc95",
   "outputs": [
    {
     "name": "stderr",
     "output_type": "stream",
     "text": [
      "<>:1: SyntaxWarning: invalid escape sequence '\\e'\n",
      "<>:1: SyntaxWarning: invalid escape sequence '\\e'\n",
      "C:\\Users\\elise\\AppData\\Local\\Temp\\ipykernel_17596\\388634348.py:1: SyntaxWarning: invalid escape sequence '\\e'\n",
      "  model.invoke(\"Peux-tu me décrire cette image présente sur mon ordinateur : C:\\\\Users\\elise\\Documents\\GitHub\\SnapSort-Atelier1\\\\test_data\\\\20240822_142048.jpg\")\n"
     ]
    },
    {
     "data": {
      "text/plain": [
       "\" Je n'ai pas accès à votre ordinateur, mais si vous pouvez me transmettre une description de l'image en question, je serais ravi de vous aider à la comprendre ! \""
      ]
     },
     "execution_count": 12,
     "metadata": {},
     "output_type": "execute_result"
    }
   ],
   "execution_count": 12
  },
  {
   "metadata": {
    "ExecuteTime": {
     "end_time": "2025-03-14T15:46:41.349539Z",
     "start_time": "2025-03-14T15:46:41.348169Z"
    }
   },
   "cell_type": "code",
   "source": "",
   "id": "45a34f5e1b81027d",
   "outputs": [],
   "execution_count": null
  }
 ],
 "metadata": {
  "kernelspec": {
   "display_name": "Python (SnapSort)",
   "language": "python",
   "name": "snapsort_venv"
  },
  "language_info": {
   "codemirror_mode": {
    "name": "ipython",
    "version": 2
   },
   "file_extension": ".py",
   "mimetype": "text/x-python",
   "name": "python",
   "nbconvert_exporter": "python",
   "pygments_lexer": "ipython2",
   "version": "2.7.6"
  }
 },
 "nbformat": 4,
 "nbformat_minor": 5
}
