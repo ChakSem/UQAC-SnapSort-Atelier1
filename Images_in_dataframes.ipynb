{
 "cells": [
  {
   "cell_type": "code",
   "id": "initial_id",
   "metadata": {
    "collapsed": true,
    "ExecuteTime": {
     "end_time": "2025-02-24T21:08:38.841330Z",
     "start_time": "2025-02-24T21:08:38.837327Z"
    }
   },
   "source": [
    "from PIL import Image\n",
    "import pandas as pd\n",
    "import os"
   ],
   "outputs": [],
   "execution_count": 6
  },
  {
   "metadata": {
    "ExecuteTime": {
     "end_time": "2025-02-24T21:08:38.857254Z",
     "start_time": "2025-02-24T21:08:38.854877Z"
    }
   },
   "cell_type": "code",
   "source": "image_file = \"test_data\"",
   "id": "8eac684139c33c29",
   "outputs": [],
   "execution_count": 7
  },
  {
   "metadata": {
    "ExecuteTime": {
     "end_time": "2025-02-24T21:08:38.868824Z",
     "start_time": "2025-02-24T21:08:38.863976Z"
    }
   },
   "cell_type": "code",
   "source": [
    "all_images = os.listdir(image_file)\n",
    "\n",
    "image_files = [os.path.join(image_file, image) for image in all_images]\n",
    "\n",
    "image_files"
   ],
   "id": "9e62a063819fe34f",
   "outputs": [
    {
     "data": {
      "text/plain": [
       "['test_data\\\\20240826_184159.jpg',\n",
       " 'test_data\\\\20250213_165625.jpg',\n",
       " 'test_data\\\\20250217_081138.jpg',\n",
       " 'test_data\\\\20250219_084504.jpg']"
      ]
     },
     "execution_count": 8,
     "metadata": {},
     "output_type": "execute_result"
    }
   ],
   "execution_count": 8
  },
  {
   "metadata": {
    "ExecuteTime": {
     "end_time": "2025-02-24T21:08:38.973604Z",
     "start_time": "2025-02-24T21:08:38.963263Z"
    }
   },
   "cell_type": "code",
   "source": [
    "image_list = []\n",
    "for file in image_files:\n",
    "    image = Image.open(file)\n",
    "    image_name = os.path.basename(file)\n",
    "    exifdata = image._getexif()\n",
    "    date_time, localisation = None, None\n",
    "    if exifdata:\n",
    "        for tag_id, value in exifdata.items():\n",
    "            tag = Image.ExifTags.TAGS.get(tag_id, tag_id)\n",
    "            if tag == \"DateTime\":\n",
    "                date_time = value\n",
    "                print(\"Date et heure de la photo:\", date_time)\n",
    "            elif tag == \"GPSInfo\":\n",
    "                localisation = value\n",
    "                print(\"Localisation de la photo:\", localisation)\n",
    "\n",
    "        image_list.append((image_name, file, date_time, localisation))\n",
    "\n",
    "    else:\n",
    "        print(\"Aucune donnée EXIF trouvée.\")\n",
    "\n",
    "image_list"
   ],
   "id": "1f7e7701db662948",
   "outputs": [
    {
     "name": "stdout",
     "output_type": "stream",
     "text": [
      "Date et heure de la photo: 2024:08:26 18:41:59\n",
      "Date et heure de la photo: 2025:02:13 16:56:25\n",
      "Date et heure de la photo: 2025:02:17 08:11:38\n",
      "Localisation de la photo: {1: 'N', 2: (48.0, 24.0, 43.5582), 3: 'W', 4: (71.0, 3.0, 4.06764)}\n",
      "Date et heure de la photo: 2025:02:19 08:45:04\n"
     ]
    },
    {
     "data": {
      "text/plain": [
       "[('20240826_184159.jpg',\n",
       "  'test_data\\\\20240826_184159.jpg',\n",
       "  '2024:08:26 18:41:59',\n",
       "  None),\n",
       " ('20250213_165625.jpg',\n",
       "  'test_data\\\\20250213_165625.jpg',\n",
       "  '2025:02:13 16:56:25',\n",
       "  None),\n",
       " ('20250217_081138.jpg',\n",
       "  'test_data\\\\20250217_081138.jpg',\n",
       "  '2025:02:17 08:11:38',\n",
       "  None),\n",
       " ('20250219_084504.jpg',\n",
       "  'test_data\\\\20250219_084504.jpg',\n",
       "  '2025:02:19 08:45:04',\n",
       "  {1: 'N', 2: (48.0, 24.0, 43.5582), 3: 'W', 4: (71.0, 3.0, 4.06764)})]"
      ]
     },
     "execution_count": 9,
     "metadata": {},
     "output_type": "execute_result"
    }
   ],
   "execution_count": 9
  },
  {
   "metadata": {
    "ExecuteTime": {
     "end_time": "2025-02-24T21:08:39.085093Z",
     "start_time": "2025-02-24T21:08:39.079857Z"
    }
   },
   "cell_type": "code",
   "source": [
    "df = pd.DataFrame(list(image_list), columns=[\"Image\", \"Path\", \"Date\", \"Place\"])\n",
    "\n",
    "df"
   ],
   "id": "643eb0890dba04ef",
   "outputs": [
    {
     "data": {
      "text/plain": [
       "                 Image                           Path                 Date  \\\n",
       "0  20240826_184159.jpg  test_data\\20240826_184159.jpg  2024:08:26 18:41:59   \n",
       "1  20250213_165625.jpg  test_data\\20250213_165625.jpg  2025:02:13 16:56:25   \n",
       "2  20250217_081138.jpg  test_data\\20250217_081138.jpg  2025:02:17 08:11:38   \n",
       "3  20250219_084504.jpg  test_data\\20250219_084504.jpg  2025:02:19 08:45:04   \n",
       "\n",
       "                                               Place  \n",
       "0                                               None  \n",
       "1                                               None  \n",
       "2                                               None  \n",
       "3  {1: 'N', 2: (48.0, 24.0, 43.5582), 3: 'W', 4: ...  "
      ],
      "text/html": [
       "<div>\n",
       "<style scoped>\n",
       "    .dataframe tbody tr th:only-of-type {\n",
       "        vertical-align: middle;\n",
       "    }\n",
       "\n",
       "    .dataframe tbody tr th {\n",
       "        vertical-align: top;\n",
       "    }\n",
       "\n",
       "    .dataframe thead th {\n",
       "        text-align: right;\n",
       "    }\n",
       "</style>\n",
       "<table border=\"1\" class=\"dataframe\">\n",
       "  <thead>\n",
       "    <tr style=\"text-align: right;\">\n",
       "      <th></th>\n",
       "      <th>Image</th>\n",
       "      <th>Path</th>\n",
       "      <th>Date</th>\n",
       "      <th>Place</th>\n",
       "    </tr>\n",
       "  </thead>\n",
       "  <tbody>\n",
       "    <tr>\n",
       "      <th>0</th>\n",
       "      <td>20240826_184159.jpg</td>\n",
       "      <td>test_data\\20240826_184159.jpg</td>\n",
       "      <td>2024:08:26 18:41:59</td>\n",
       "      <td>None</td>\n",
       "    </tr>\n",
       "    <tr>\n",
       "      <th>1</th>\n",
       "      <td>20250213_165625.jpg</td>\n",
       "      <td>test_data\\20250213_165625.jpg</td>\n",
       "      <td>2025:02:13 16:56:25</td>\n",
       "      <td>None</td>\n",
       "    </tr>\n",
       "    <tr>\n",
       "      <th>2</th>\n",
       "      <td>20250217_081138.jpg</td>\n",
       "      <td>test_data\\20250217_081138.jpg</td>\n",
       "      <td>2025:02:17 08:11:38</td>\n",
       "      <td>None</td>\n",
       "    </tr>\n",
       "    <tr>\n",
       "      <th>3</th>\n",
       "      <td>20250219_084504.jpg</td>\n",
       "      <td>test_data\\20250219_084504.jpg</td>\n",
       "      <td>2025:02:19 08:45:04</td>\n",
       "      <td>{1: 'N', 2: (48.0, 24.0, 43.5582), 3: 'W', 4: ...</td>\n",
       "    </tr>\n",
       "  </tbody>\n",
       "</table>\n",
       "</div>"
      ]
     },
     "execution_count": 10,
     "metadata": {},
     "output_type": "execute_result"
    }
   ],
   "execution_count": 10
  },
  {
   "metadata": {
    "ExecuteTime": {
     "end_time": "2025-02-24T21:08:39.130014Z",
     "start_time": "2025-02-24T21:08:39.126834Z"
    }
   },
   "cell_type": "code",
   "source": "df.to_csv(\"test_data.csv\", index=False)",
   "id": "4ea7ece8087d533",
   "outputs": [],
   "execution_count": 11
  },
  {
   "metadata": {
    "ExecuteTime": {
     "end_time": "2025-02-24T21:08:39.159882Z",
     "start_time": "2025-02-24T21:08:39.157415Z"
    }
   },
   "cell_type": "code",
   "source": "",
   "id": "f9b7d836199a5fb3",
   "outputs": [],
   "execution_count": null
  }
 ],
 "metadata": {
  "kernelspec": {
   "display_name": "Python (SnapSort)",
   "language": "python",
   "name": "snapsort_venv"
  },
  "language_info": {
   "codemirror_mode": {
    "name": "ipython",
    "version": 2
   },
   "file_extension": ".py",
   "mimetype": "text/x-python",
   "name": "python",
   "nbconvert_exporter": "python",
   "pygments_lexer": "ipython2",
   "version": "2.7.6"
  }
 },
 "nbformat": 4,
 "nbformat_minor": 5
}
