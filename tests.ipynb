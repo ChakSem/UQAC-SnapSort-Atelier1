{
 "cells": [
  {
   "cell_type": "code",
   "id": "initial_id",
   "metadata": {
    "collapsed": true,
    "ExecuteTime": {
     "end_time": "2025-03-27T21:39:26.711939Z",
     "start_time": "2025-03-27T21:39:26.708675Z"
    }
   },
   "source": [
    "from langchain_ollama import ChatOllama, OllamaEmbeddings\n",
    "from langchain_core.messages import SystemMessage, HumanMessage\n",
    "from sklearn.metrics.pairwise import cosine_similarity\n",
    "from langchain.schema import AIMessage\n",
    "import json\n",
    "import re\n",
    "from langchain_core.runnables import RunnableLambda\n",
    "import base64\n",
    "from PIL import Image\n",
    "import io\n",
    "import os\n",
    "import pandas as pd\n",
    "import numpy as np\n",
    "from tabulate import tabulate\n",
    "import ast"
   ],
   "outputs": [],
   "execution_count": 75
  },
  {
   "metadata": {
    "ExecuteTime": {
     "end_time": "2025-03-27T21:39:26.726650Z",
     "start_time": "2025-03-27T21:39:26.722166Z"
    }
   },
   "cell_type": "code",
   "source": [
    "def encode_image(image_path, max_size=(512, 512), quality=80):\n",
    "    image = Image.open(image_path)\n",
    "\n",
    "    # Redimensionner l'image\n",
    "    image.thumbnail(max_size)\n",
    "\n",
    "    # Convertir en bytes avec compression\n",
    "    buffer = io.BytesIO()\n",
    "    image.save(buffer, format=\"JPEG\", quality=quality)\n",
    "\n",
    "    # Encoder en Base64\n",
    "    encoded_string = base64.b64encode(buffer.getvalue()).decode(\"utf-8\")\n",
    "\n",
    "    return encoded_string"
   ],
   "id": "a1d743430b03093e",
   "outputs": [],
   "execution_count": 76
  },
  {
   "metadata": {
    "ExecuteTime": {
     "end_time": "2025-03-27T21:39:26.734284Z",
     "start_time": "2025-03-27T21:39:26.730670Z"
    }
   },
   "cell_type": "code",
   "source": [
    "def extract_json(response_text):\n",
    "    \"\"\"\n",
    "    Extrait la portion JSON (délimitée par {}) de la réponse textuelle pour seulement avoir le dictionnaire et non le texte généré par l'ia.\n",
    "    \"\"\"\n",
    "    match = re.search(r'\\{.*\\}', response_text, re.DOTALL)\n",
    "    if match:\n",
    "        json_str = match.group()\n",
    "        try:\n",
    "            return json.loads(json_str)\n",
    "        except Exception as e:\n",
    "            print(f\"Erreur lors du chargement du JSON : {e}\")\n",
    "            return None\n",
    "    else:\n",
    "        print(\"Aucun JSON trouvé dans la réponse.\")\n",
    "        return None"
   ],
   "id": "42d8ad675392cb7c",
   "outputs": [],
   "execution_count": 77
  },
  {
   "metadata": {
    "ExecuteTime": {
     "end_time": "2025-03-27T21:39:26.744486Z",
     "start_time": "2025-03-27T21:39:26.739297Z"
    }
   },
   "cell_type": "code",
   "source": [
    "def prompt_func(data):\n",
    "    type_ = data[\"type\"]\n",
    "    text = data[\"text\"]\n",
    "    content_parts = []\n",
    "\n",
    "    if type_ == \"keywords\":\n",
    "        image = data[\"image\"]\n",
    "        image_part = {\n",
    "            \"type\": \"image_url\",\n",
    "            \"image_url\": f\"data:image/jpeg;base64,{image}\",\n",
    "        }\n",
    "        content_parts.append(image_part)\n",
    "\n",
    "    #system_message = SystemMessage(content=data[\"system_message_text\"])\n",
    "\n",
    "    text_part = {\"type\": \"text\", \"text\": text}\n",
    "\n",
    "    content_parts.append(text_part)\n",
    "\n",
    "    human_message = HumanMessage(content=content_parts)\n",
    "\n",
    "    #return [system_message, human_message]\n",
    "    return [human_message]"
   ],
   "id": "6761c7cf9eddb407",
   "outputs": [],
   "execution_count": 78
  },
  {
   "metadata": {
    "ExecuteTime": {
     "end_time": "2025-03-27T21:39:26.752792Z",
     "start_time": "2025-03-27T21:39:26.749541Z"
    }
   },
   "cell_type": "code",
   "source": [
    "def call_func(chain, prompt):\n",
    "    try:\n",
    "        response = chain.invoke(prompt)\n",
    "\n",
    "        if isinstance(response, AIMessage):\n",
    "            response_text = response.content\n",
    "        else:\n",
    "            response_text = str(response)  # Conversion en string si nécessaire\n",
    "\n",
    "        #print(f\"Reponse du llm : {response_text}\")\n",
    "\n",
    "        return extract_json(response_text)\n",
    "\n",
    "    except Exception as e:\n",
    "        print(f\"Erreur de parsing JSON : {e}. Nouvelle tentative...\")\n",
    "        return -1"
   ],
   "id": "3f334f0787b1753e",
   "outputs": [],
   "execution_count": 79
  },
  {
   "metadata": {
    "ExecuteTime": {
     "end_time": "2025-03-27T21:39:26.760689Z",
     "start_time": "2025-03-27T21:39:26.757650Z"
    }
   },
   "cell_type": "code",
   "source": [
    "def get_image_paths(directory):\n",
    "    allowed_extensions = {\".jpg\", \".jpeg\", \".png\"}\n",
    "    image_paths = [os.path.join(directory, filename) for filename in os.listdir(directory) if os.path.splitext(filename)[1].lower() in allowed_extensions]\n",
    "    return image_paths"
   ],
   "id": "6fb07d01b2d5847",
   "outputs": [],
   "execution_count": 80
  },
  {
   "metadata": {
    "ExecuteTime": {
     "end_time": "2025-03-27T21:39:26.769848Z",
     "start_time": "2025-03-27T21:39:26.766943Z"
    }
   },
   "cell_type": "code",
   "source": [
    "def create_df(image_paths):\n",
    "    image_list = []\n",
    "    for path in image_paths:\n",
    "        image = Image.open(path)\n",
    "        image_name = os.path.basename(path)\n",
    "        exifdata = image._getexif()\n",
    "        date_time, localisation = None, None\n",
    "        if exifdata:\n",
    "            for tag_id, value in exifdata.items():\n",
    "                tag = Image.ExifTags.TAGS.get(tag_id, tag_id)\n",
    "                if tag == \"DateTime\":\n",
    "                    date_time = value\n",
    "                elif tag == \"GPSInfo\":\n",
    "                    localisation = value\n",
    "\n",
    "            image_list.append((image_name, path, date_time, localisation))\n",
    "\n",
    "        else:\n",
    "            print(\"Aucune donnée EXIF trouvée.\")\n",
    "\n",
    "    df = pd.DataFrame(image_list, columns=[\"image_name\", \"path\", \"date_time\", \"localisation\"])\n",
    "    df[\"keywords\"] = \"\"\n",
    "    df[\"categories\"] = \"\"\n",
    "\n",
    "    return df"
   ],
   "id": "66911055396c2010",
   "outputs": [],
   "execution_count": 81
  },
  {
   "metadata": {
    "ExecuteTime": {
     "end_time": "2025-03-27T21:39:26.778074Z",
     "start_time": "2025-03-27T21:39:26.774933Z"
    }
   },
   "cell_type": "code",
   "source": [
    "def add_keywords_to_df(image_data, keywords_output):\n",
    "    if keywords_output:\n",
    "        # Mise à jour uniquement pour les images présentes dans keywords_output\n",
    "        image_data[\"keywords\"] = image_data.apply(\n",
    "            lambda row: keywords_output[row[\"image_name\"]]\n",
    "            if row[\"image_name\"] in keywords_output else row[\"keywords\"], axis=1\n",
    "        )\n",
    "    else:\n",
    "        print(\"Aucun mot clé fourni ! \")\n",
    "    return image_data"
   ],
   "id": "b3eeb9d2d17039f8",
   "outputs": [],
   "execution_count": 82
  },
  {
   "metadata": {
    "ExecuteTime": {
     "end_time": "2025-03-27T21:39:26.787227Z",
     "start_time": "2025-03-27T21:39:26.783161Z"
    }
   },
   "cell_type": "code",
   "source": [
    "def keywords_call(df, image_paths, keywords_chain):\n",
    "    for i in range(0, len(image_paths)):\n",
    "        print(f\"Image {i} : {image_paths[i]}\")\n",
    "        image_b64 = encode_image(image_paths[i])\n",
    "        image_name = os.path.basename(image_paths[i])\n",
    "\n",
    "        wrong_json = True\n",
    "        max_iter = 100\n",
    "        while wrong_json and max_iter > 0:\n",
    "            prompt = {\n",
    "                \"type\": \"keywords\",\n",
    "                \"text\": f\"\"\"Describe the image {image_name}. My goal is to sort my pictures in my photo albums. But I would like to get ridd of the unecessary ones. For example hte screenshots with text, shopping photos, etc. This list is not exhaustive However, I still want you to keep images of meaningful everyday events. So, tell me whether the image should go in the “others” category or the “albums” category. Give me the answer in JSON format :\"\"\",\n",
    "                \"image\": image_b64\n",
    "            }\n",
    "\n",
    "            keywords_output = call_func(keywords_chain, prompt)\n",
    "            print(f\"Output : {keywords_output}\\n\")\n",
    "\n",
    "            if keywords_output is None:\n",
    "                max_iter -= 1\n",
    "                print(f\"On re-essaie avec au maximum : {max_iter}\\n\")\n",
    "            else:\n",
    "                df = add_keywords_to_df(df, keywords_output)\n",
    "                wrong_json = False\n",
    "\n",
    "    return df"
   ],
   "id": "a91c661001c28419",
   "outputs": [],
   "execution_count": 83
  },
  {
   "metadata": {
    "ExecuteTime": {
     "end_time": "2025-03-27T21:39:26.794854Z",
     "start_time": "2025-03-27T21:39:26.791563Z"
    }
   },
   "cell_type": "code",
   "source": [
    "def pipeline_keywords(image_paths):\n",
    "    image_data = create_df(image_paths)\n",
    "    new_image_paths = image_paths\n",
    "\n",
    "    prompt_chain = RunnableLambda(prompt_func)\n",
    "    keyword_chain = prompt_chain | llm\n",
    "\n",
    "    image_data = keywords_call(image_data, new_image_paths, keyword_chain)\n",
    "\n",
    "\n",
    "    return image_data"
   ],
   "id": "7c0b70e9e92a3c41",
   "outputs": [],
   "execution_count": 84
  },
  {
   "metadata": {
    "ExecuteTime": {
     "end_time": "2025-03-27T21:39:27.232514Z",
     "start_time": "2025-03-27T21:39:26.799296Z"
    }
   },
   "cell_type": "code",
   "source": [
    "llm = ChatOllama(model=\"gemma3\")\n",
    "directory = \"test_data\""
   ],
   "id": "f2c39f7a3718937c",
   "outputs": [],
   "execution_count": 85
  },
  {
   "metadata": {
    "ExecuteTime": {
     "end_time": "2025-03-27T21:40:28.016975Z",
     "start_time": "2025-03-27T21:39:27.238227Z"
    }
   },
   "cell_type": "code",
   "source": [
    "image_paths = get_image_paths(directory)\n",
    "image_data = pipeline_keywords(image_paths)"
   ],
   "id": "36ba4ef28c2a6f00",
   "outputs": [
    {
     "name": "stdout",
     "output_type": "stream",
     "text": [
      "Image 0 : test_data\\20240822_142034.jpg\n",
      "Output : {'image_name': '20240822_142034.jpg', 'category': 'others', 'reason': \"This appears to be a street scene shot from a car's windshield. It doesn't represent a specific event or memory that would warrant inclusion in a dedicated album. It's a snapshot of a street view.\"}\n",
      "\n",
      "Image 1 : test_data\\20240822_142036.jpg\n",
      "Output : {'category': 'albums'}\n",
      "\n",
      "Image 2 : test_data\\20240822_142048.jpg\n",
      "Output : {'category': 'albums', 'reason': \"This image captures a street scene with a prominent building reflected in the wet road. It represents a typical everyday moment and has a certain aesthetic appeal. It's not a screenshot, shopping photo, or other irrelevant image.\"}\n",
      "\n",
      "Image 3 : test_data\\20240825_121144.jpg\n",
      "Output : {'category': 'albums'}\n",
      "\n",
      "Image 4 : test_data\\20240826_184159.jpg\n",
      "Output : {'image_name': '20240826_184159.jpg', 'category': 'albums', 'reason': \"This appears to be a scenic, over-the-shoulder shot of a path or trail. It's a visually interesting and potentially memorable moment, fitting the goal of preserving meaningful everyday events.\"}\n",
      "\n",
      "Image 5 : test_data\\20240827_084810.jpg\n",
      "Output : {'category': 'albums'}\n",
      "\n",
      "Image 6 : test_data\\20240827_084914.jpg\n",
      "Output : {'category': 'others', 'reason': \"This image appears to be a street scene with a green walkway, a black waste bin, and a white canopy. It doesn't represent a specific event or meaningful moment, and therefore falls into the 'others' category.\"}\n",
      "\n",
      "Image 7 : test_data\\20240827_092136.jpg\n",
      "Output : {'category': 'albums'}\n",
      "\n",
      "Image 8 : test_data\\20240828_141857.jpg\n",
      "Output : {'category': 'albums'}\n",
      "\n",
      "Image 9 : test_data\\20240828_174310.jpg\n",
      "Output : {'image_filename': '20240828_174310.jpg', 'description': 'Two mailboxes with a floral design, situated on a paved sidewalk with green grass and a concrete curb.', 'category': 'others', 'reasoning': \"This image depicts a mundane object (mailboxes) in an outdoor setting. It doesn't represent a significant event or memory. Therefore, it's best categorized as 'others' rather than being included in a personal album.\"}\n",
      "\n",
      "Image 10 : test_data\\20240828_211839.jpg\n",
      "Output : {'image_description': 'A tabletop scene featuring several clear plastic containers filled with what appears to be lasagna, a single serving of lasagna on a plate, and a dark-colored glass baking dish with a spatula resting on it. The background is a tiled floor.', 'category': 'albums', 'reason': \"This image depicts a meal preparation scenario – the containers of lasagna suggest a family dinner or meal prep.  It's a snapshot of an everyday event and therefore belongs in an album.\"}\n",
      "\n",
      "Image 11 : test_data\\20240830_104749.jpg\n",
      "Output : {'filename': '20240830_104749.jpg', 'category': 'albums'}\n",
      "\n",
      "Image 12 : test_data\\20240831_160656.jpg\n",
      "Output : {'image_description': 'A photo of a shoe rack filled with white Crocs of various colors, arranged in a rainbow gradient. The colors include red, orange, yellow, green, blue, and purple. The background is slightly blurred, suggesting a retail or storage setting.', 'category': 'albums', 'reason': \"This image appears to be a snapshot of a collection of shoes, likely taken for organizational purposes. It doesn't fall into the category of screenshots, shopping photos, or other unnecessary images. It represents a meaningful everyday event - organizing a collection of shoes.\"}\n",
      "\n",
      "Image 13 : test_data\\20240831_161613.jpg\n",
      "Output : {'category': 'albums', 'reason': \"This appears to be a photograph of a retail space, likely a department store or similar. It's a visually interesting shot of the interior, and doesn't fall into the categories of screenshots, shopping photos, or other unnecessary images. It represents a meaningful everyday event - a visit to a store.\"}\n",
      "\n",
      "Image 14 : test_data\\20240831_180654.jpg\n",
      "Output : {'category': 'others'}\n",
      "\n",
      "Image 15 : test_data\\20240831_194108.jpg\n",
      "Output : {'image_name': '20240831_194108.jpg', 'category': 'albums', 'reason': \"This image appears to be a candid shot of a table with various objects. It doesn't seem to be a specific event or a screenshot, making it suitable for inclusion in an album of everyday moments.\"}\n",
      "\n",
      "Image 16 : test_data\\20240902_150137.jpg\n",
      "Output : {'image_name': '20240902_150137.jpg', 'category': 'albums', 'reason': \"This appears to be a natural outdoor scene – a grassy field with trees. It's likely a photo capturing a pleasant, everyday moment, making it suitable for an 'albums' category.\"}\n",
      "\n",
      "Image 17 : test_data\\20240902_152654.jpg\n",
      "Output : {'image_name': '20240902_152654.jpg', 'category': 'others', 'reason': \"This appears to be a close-up shot of a branch with a single twig. It doesn't represent a specific event or memory and doesn't fall into the category of meaningful everyday events. It's a simple, isolated detail.\"}\n",
      "\n",
      "Image 18 : test_data\\20240902_162507.jpg\n",
      "Output : {'image_name': '20240902_162507.jpg', 'category': 'albums', 'reason': \"This appears to be a scenic pathway or trail, likely a recreational area. It's a visually appealing image of an everyday event (a walk/hike) and doesn't fit the criteria of screenshots or shopping photos.\"}\n",
      "\n",
      "Image 19 : test_data\\20250213_165625.jpg\n",
      "Output : {'image_name': '20250213_165625.jpg', 'category': 'albums', 'reason': \"This appears to be a photo of a ski lift or cable car, likely taken during a winter activity. It captures a meaningful everyday event and doesn't fit the criteria of screenshots, shopping photos, or other unnecessary images.\"}\n",
      "\n",
      "Image 20 : test_data\\20250217_081138.jpg\n",
      "Output : {'image_name': '20250217_081138.jpg', 'category': 'albums', 'reason': 'This appears to be a photograph of a snowplow in a snowy urban environment. It captures a meaningful everyday event (snow removal) and is likely a worthwhile addition to an album of outdoor or seasonal photographs.'}\n",
      "\n",
      "Image 21 : test_data\\20250219_084504.jpg\n",
      "Output : {'filename': '20250219_084504.jpg', 'category': 'albums', 'description': \"This image depicts a snowplow on a snowy street, likely taken during a winter weather event. It's a clear and relevant snapshot of a daily event and would be suitable for inclusion in a photo album documenting winter weather or local activities.\"}\n",
      "\n"
     ]
    }
   ],
   "execution_count": 86
  },
  {
   "metadata": {
    "ExecuteTime": {
     "end_time": "2025-03-27T21:40:28.043413Z",
     "start_time": "2025-03-27T21:40:28.040989Z"
    }
   },
   "cell_type": "code",
   "source": "",
   "id": "85e3ed4c4a6a96c1",
   "outputs": [],
   "execution_count": null
  }
 ],
 "metadata": {
  "kernelspec": {
   "display_name": "Python 3",
   "language": "python",
   "name": "python3"
  },
  "language_info": {
   "codemirror_mode": {
    "name": "ipython",
    "version": 2
   },
   "file_extension": ".py",
   "mimetype": "text/x-python",
   "name": "python",
   "nbconvert_exporter": "python",
   "pygments_lexer": "ipython2",
   "version": "2.7.6"
  }
 },
 "nbformat": 4,
 "nbformat_minor": 5
}
