{
 "cells": [
  {
   "cell_type": "code",
   "id": "initial_id",
   "metadata": {
    "collapsed": true,
    "ExecuteTime": {
     "end_time": "2025-03-20T19:43:03.745749Z",
     "start_time": "2025-03-20T19:43:03.741611Z"
    }
   },
   "source": [
    "from langchain_ollama import ChatOllama\n",
    "from langchain_core.messages import SystemMessage, HumanMessage\n",
    "from langchain_core.output_parsers import JsonOutputParser, StrOutputParser\n",
    "from langchain_core.runnables import RunnableLambda\n",
    "import base64\n",
    "from PIL import Image\n",
    "import io"
   ],
   "outputs": [],
   "execution_count": 233
  },
  {
   "metadata": {
    "ExecuteTime": {
     "end_time": "2025-03-20T19:43:03.752701Z",
     "start_time": "2025-03-20T19:43:03.748952Z"
    }
   },
   "cell_type": "code",
   "source": [
    "def encode_image(image_path, max_size=(512, 512), quality=80):\n",
    "    image = Image.open(image_path)\n",
    "\n",
    "    # Redimensionner l'image\n",
    "    image.thumbnail(max_size)\n",
    "\n",
    "    # Convertir en bytes avec compression\n",
    "    buffer = io.BytesIO()\n",
    "    image.save(buffer, format=\"JPEG\", quality=quality)\n",
    "\n",
    "    # Encoder en Base64\n",
    "    encoded_string = base64.b64encode(buffer.getvalue()).decode(\"utf-8\")\n",
    "\n",
    "    return encoded_string"
   ],
   "id": "a2ba6640b393d13a",
   "outputs": [],
   "execution_count": 234
  },
  {
   "metadata": {
    "ExecuteTime": {
     "end_time": "2025-03-20T19:43:03.763161Z",
     "start_time": "2025-03-20T19:43:03.760692Z"
    }
   },
   "cell_type": "code",
   "source": [
    "def get_vision_system_message():\n",
    "    system_message_text = '''\n",
    "You're an expert image and photo analyzer.\n",
    "You are very perceptive in analyzing images and photos.\n",
    "You possess excelent vision.\n",
    "Do not read any text unless it is the most prominent in the image.\n",
    "Your description should be neutral in tone.\n",
    "'''\n",
    "    return system_message_text"
   ],
   "id": "6ed234faf21654ef",
   "outputs": [],
   "execution_count": 235
  },
  {
   "metadata": {
    "ExecuteTime": {
     "end_time": "2025-03-20T19:43:03.771830Z",
     "start_time": "2025-03-20T19:43:03.768119Z"
    }
   },
   "cell_type": "code",
   "source": [
    "def get_object_system_message():\n",
    "    system_message_text = '''\n",
    "You're an expert image and photo analyzer.\n",
    "You are very perceptive in analyzing images and photos.\n",
    "You possess excelent vision.\n",
    "Do not read any text unless it is the most prominent in the image.\n",
    "You should always output your results in json format, for example:\n",
    "\n",
    "[\n",
    " {'name': 'a detected object', 'description': 'the detected object's description'},\n",
    " {'name': 'another detected object', 'description': 'the other detected object's description'}\n",
    "]\n",
    "'''\n",
    "    return system_message_text"
   ],
   "id": "b2a7f4c5fe2b529a",
   "outputs": [],
   "execution_count": 236
  },
  {
   "metadata": {
    "ExecuteTime": {
     "end_time": "2025-03-20T19:43:03.782696Z",
     "start_time": "2025-03-20T19:43:03.778981Z"
    }
   },
   "cell_type": "code",
   "source": [
    "def prompt_func(data):\n",
    "    text = data[\"text\"]\n",
    "    image = data[\"image\"]\n",
    "    system_message = SystemMessage(content=data[\"system_message_text\"])\n",
    "    content_parts = []\n",
    "\n",
    "    image_part = {\n",
    "        \"type\": \"image_url\",\n",
    "        \"image_url\": f\"data:image/jpeg;base64,{image}\",\n",
    "    }\n",
    "    text_part = {\"type\": \"text\", \"text\": text}\n",
    "    content_parts.append(image_part)\n",
    "    content_parts.append(text_part)\n",
    "\n",
    "    human_message = HumanMessage(content=content_parts)\n",
    "\n",
    "    return [system_message, human_message]"
   ],
   "id": "1e736ad1aa9cfae0",
   "outputs": [],
   "execution_count": 237
  },
  {
   "metadata": {
    "ExecuteTime": {
     "end_time": "2025-03-20T19:43:03.792598Z",
     "start_time": "2025-03-20T19:43:03.789975Z"
    }
   },
   "cell_type": "code",
   "source": [
    "def analyze_image(image_file, vision_chain, object_chain):\n",
    "\n",
    "    print(f'PROCESSING FILE: {image_file}')\n",
    "    print('CONVERTING TO B64...')\n",
    "    image_b64 = encode_image(image_file)\n",
    "    print('OK')\n",
    "\n",
    "    print('DETECTING OBJECTS...')\n",
    "    detected_objects = object_chain.invoke({\"text\":\"Identify objects in the image. Return a json list of json items of the detected objects. Include only the names of each object and a short description of the object. The field names should be 'name' and 'description' respectively.\", \"image\": image_b64, \"system_message_text\":get_object_system_message()})\n",
    "    print('OK')\n",
    "\n",
    "    print('GENERATING DESCRIPTION...')\n",
    "    image_description = vision_chain.invoke({\"text\": \"Describe the image in as much detail as possible. Do not try to read any text.\", \"image\": image_b64, \"system_message_text\":get_vision_system_message()})\n",
    "    print('OK')\n",
    "\n",
    "    image_details = {\"image_description\": image_description, \"detected_objects\": detected_objects}\n",
    "\n",
    "    return image_details"
   ],
   "id": "86fc8450173f4eb9",
   "outputs": [],
   "execution_count": 238
  },
  {
   "metadata": {
    "ExecuteTime": {
     "end_time": "2025-03-20T19:43:04.195299Z",
     "start_time": "2025-03-20T19:43:03.801159Z"
    }
   },
   "cell_type": "code",
   "source": [
    "image_path = r\"test_data/20240828_174310.jpg\"\n",
    "\n",
    "llm = ChatOllama(model=\"llava\")\n",
    "\n",
    "prompt_chain = RunnableLambda(prompt_func)\n",
    "\n",
    "vision_chain = prompt_chain | llm | StrOutputParser()\n",
    "object_chain = prompt_chain | llm | JsonOutputParser()"
   ],
   "id": "8d7346926180ed51",
   "outputs": [],
   "execution_count": 239
  },
  {
   "metadata": {
    "ExecuteTime": {
     "end_time": "2025-03-20T19:43:12.831235Z",
     "start_time": "2025-03-20T19:43:04.201170Z"
    }
   },
   "cell_type": "code",
   "source": "image_details = analyze_image(image_path, vision_chain, object_chain)",
   "id": "53aecd73ba69d829",
   "outputs": [
    {
     "name": "stdout",
     "output_type": "stream",
     "text": [
      "PROCESSING FILE: test_data/20240828_174310.jpg\n",
      "CONVERTING TO B64...\n",
      "OK\n",
      "DETECTING OBJECTS...\n",
      "OK\n",
      "GENERATING DESCRIPTION...\n",
      "OK\n"
     ]
    }
   ],
   "execution_count": 240
  },
  {
   "metadata": {
    "ExecuteTime": {
     "end_time": "2025-03-20T19:44:19.363506Z",
     "start_time": "2025-03-20T19:44:19.359958Z"
    }
   },
   "cell_type": "code",
   "source": "print(image_details[\"detected_objects\"])",
   "id": "50ac0ece2fe70b22",
   "outputs": [
    {
     "name": "stdout",
     "output_type": "stream",
     "text": [
      "[{'name': 'Mailbox', 'description': 'The mailboxes are on a concrete slab.'}, {'name': 'Sunbeam', 'description': 'A sunbeam is shining on the mailboxes.'}, {'name': 'Concrete Slab', 'description': 'The concrete slab holds the mailboxes and is located in a park-like setting.'}, {'name': 'Mailbox Covering', 'description': 'There are metal covers over the mailboxes for protection.'}, {'name': 'Sunlight', 'description': 'Direct sunlight is shining on the scene from behind the trees in the background.'}]\n"
     ]
    }
   ],
   "execution_count": 243
  },
  {
   "metadata": {
    "ExecuteTime": {
     "end_time": "2025-03-20T19:43:27.629018Z",
     "start_time": "2025-03-20T19:43:27.625507Z"
    }
   },
   "cell_type": "code",
   "source": "print(image_details[\"image_description\"])",
   "id": "252995d98e4f3263",
   "outputs": [
    {
     "name": "stdout",
     "output_type": "stream",
     "text": [
      " The image shows a scene with a focus on mailboxes. There are two prominent mailboxes in the photo; one is located closer to the foreground and features a red top with white lettering, while the other is situated further back and has a green top with blue lettering. Both mailboxes appear to be modern style designs, possibly for an urban or suburban setting.\n",
      "\n",
      "To the left of the mailbox in the background, there's a wooden bench facing away from the viewer. The bench has a weathered appearance, suggesting it might be located outdoors and exposed to the elements over time.\n",
      "\n",
      "In front of the mailboxes, there is a small concrete path leading towards them. This path seems to be part of a larger paved area that extends into the distance, hinting at a residential or public area.\n",
      "\n",
      "The sun shines brightly in the background, casting shadows and creating a contrast with the well-lit foreground. The angle of the photo appears to have been taken from a low perspective, looking up towards the mailboxes and bench. The overall scene suggests a quiet, peaceful moment captured on a sunny day. \n"
     ]
    }
   ],
   "execution_count": 242
  },
  {
   "metadata": {},
   "cell_type": "code",
   "outputs": [],
   "execution_count": null,
   "source": "",
   "id": "79025d5e9e46492b"
  }
 ],
 "metadata": {
  "kernelspec": {
   "display_name": "Python (SnapSort)",
   "language": "python",
   "name": "snapsort_venv"
  },
  "language_info": {
   "codemirror_mode": {
    "name": "ipython",
    "version": 2
   },
   "file_extension": ".py",
   "mimetype": "text/x-python",
   "name": "python",
   "nbconvert_exporter": "python",
   "pygments_lexer": "ipython2",
   "version": "2.7.6"
  }
 },
 "nbformat": 4,
 "nbformat_minor": 5
}
